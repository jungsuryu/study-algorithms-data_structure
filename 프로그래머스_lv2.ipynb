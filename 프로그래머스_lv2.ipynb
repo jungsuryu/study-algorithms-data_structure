{
  "nbformat": 4,
  "nbformat_minor": 0,
  "metadata": {
    "colab": {
      "provenance": [],
      "authorship_tag": "ABX9TyNF4Aq8cN+9+ZTFFYRC2s8j",
      "include_colab_link": true
    },
    "kernelspec": {
      "name": "python3",
      "display_name": "Python 3"
    },
    "language_info": {
      "name": "python"
    }
  },
  "cells": [
    {
      "cell_type": "markdown",
      "metadata": {
        "id": "view-in-github",
        "colab_type": "text"
      },
      "source": [
        "<a href=\"https://colab.research.google.com/github/jungsuryu/study-algorithms-data_structure/blob/main/%ED%94%84%EB%A1%9C%EA%B7%B8%EB%9E%98%EB%A8%B8%EC%8A%A4_lv2.ipynb\" target=\"_parent\"><img src=\"https://colab.research.google.com/assets/colab-badge.svg\" alt=\"Open In Colab\"/></a>"
      ]
    },
    {
      "cell_type": "markdown",
      "source": [
        "### (연습문제) 최대값과 최소값"
      ],
      "metadata": {
        "id": "iwrz8KgGX5S-"
      }
    },
    {
      "cell_type": "code",
      "execution_count": null,
      "metadata": {
        "id": "zF1IkkEcaUh1"
      },
      "outputs": [],
      "source": [
        "def solution(s):\n",
        "    answer = ''\n",
        "    split = [int(i) for i in s.split()]\n",
        "    answer = f\"{min(split)} {max(split)}\"\n",
        "    return answer"
      ]
    },
    {
      "cell_type": "code",
      "source": [
        "# 다른 사람 풀이\n",
        "def solution(s):\n",
        "    s = list(map(int,s.split()))\n",
        "    return str(min(s)) + \" \" + str(max(s))"
      ],
      "metadata": {
        "id": "E_QQRi-kY1NC"
      },
      "execution_count": null,
      "outputs": []
    },
    {
      "cell_type": "markdown",
      "source": [
        "### (연습문제) JaydenCase 문자열 만들기"
      ],
      "metadata": {
        "id": "DHvvIlebZBe7"
      }
    },
    {
      "cell_type": "code",
      "source": [
        "def solution(s):\n",
        "    answer = ' '\n",
        "    case = s.split(' ')\n",
        "    replace = []\n",
        "\n",
        "    for c in case:\n",
        "        if c != '':\n",
        "            replace.append(c[0].upper() + c[1:].lower())\n",
        "        else:\n",
        "            replace.append(c)\n",
        "\n",
        "    return answer.join(replace)"
      ],
      "metadata": {
        "id": "DCHDdLcsZDRr"
      },
      "execution_count": null,
      "outputs": []
    },
    {
      "cell_type": "markdown",
      "source": [
        "### (연습문제) 최솟값 만들기"
      ],
      "metadata": {
        "id": "RApJ5ugCqHFF"
      }
    },
    {
      "cell_type": "code",
      "source": [
        "def solution(A,B):\n",
        "    answer = 0\n",
        "    a = sorted(A)\n",
        "    b = sorted(B)\n",
        "    \n",
        "    for i in range(0, len(A)):\n",
        "        answer += a[0+i] * b[-1-i]\n",
        "\n",
        "    return answer"
      ],
      "metadata": {
        "id": "q8PqdeSrqJ_O"
      },
      "execution_count": null,
      "outputs": []
    },
    {
      "cell_type": "code",
      "source": [
        "# 다른 사람 풀이\n",
        "def getMinSum(A, B):\n",
        "    return sum([a * b for a, b in zip(sorted(A), sorted(B, reverse=True))])"
      ],
      "metadata": {
        "id": "y1Ii2GVWqJpJ"
      },
      "execution_count": null,
      "outputs": []
    },
    {
      "cell_type": "markdown",
      "source": [
        "### (스택/큐) 올바른 괄호"
      ],
      "metadata": {
        "id": "QSvvxZ1U7GLL"
      }
    },
    {
      "cell_type": "code",
      "source": [
        "def solution(s):\n",
        "    answer = True\n",
        "    stack = []\n",
        "    \n",
        "    if s[0] == ')':\n",
        "        answer = False\n",
        "    \n",
        "    for i in s:\n",
        "        if i == '(':\n",
        "            stack.append(i)\n",
        "        else:\n",
        "            if stack:\n",
        "                stack.pop()\n",
        "            else:\n",
        "                continue\n",
        "\n",
        "    \n",
        "    if len(stack) != 0:\n",
        "        answer = False\n",
        "    \n",
        "\n",
        "    return answer"
      ],
      "metadata": {
        "id": "VctifBjU7I-8"
      },
      "execution_count": null,
      "outputs": []
    },
    {
      "cell_type": "code",
      "source": [
        "# 다른 사람 풀이\n",
        "def is_pair(s):\n",
        "    pair = 0\n",
        "    for x in s:\n",
        "        if pair < 0: break\n",
        "        pair = pair + 1 if x == \"(\" else pair - 1 if x == \")\" else pair\n",
        "    return pair == 0"
      ],
      "metadata": {
        "id": "65XkMC3W7Nph"
      },
      "execution_count": null,
      "outputs": []
    }
  ]
}