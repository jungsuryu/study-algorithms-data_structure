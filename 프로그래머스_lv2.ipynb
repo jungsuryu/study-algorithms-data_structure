{
  "nbformat": 4,
  "nbformat_minor": 0,
  "metadata": {
    "colab": {
      "provenance": [],
      "authorship_tag": "ABX9TyPqTQ7JKlz20I5pvSr1r1AN",
      "include_colab_link": true
    },
    "kernelspec": {
      "name": "python3",
      "display_name": "Python 3"
    },
    "language_info": {
      "name": "python"
    }
  },
  "cells": [
    {
      "cell_type": "markdown",
      "metadata": {
        "id": "view-in-github",
        "colab_type": "text"
      },
      "source": [
        "<a href=\"https://colab.research.google.com/github/jungsuryu/study-algorithms-data_structure/blob/main/%ED%94%84%EB%A1%9C%EA%B7%B8%EB%9E%98%EB%A8%B8%EC%8A%A4_lv2.ipynb\" target=\"_parent\"><img src=\"https://colab.research.google.com/assets/colab-badge.svg\" alt=\"Open In Colab\"/></a>"
      ]
    },
    {
      "cell_type": "markdown",
      "source": [
        "### (연습문제) 호텔 대실"
      ],
      "metadata": {
        "id": "tJZp61idCG7B"
      }
    },
    {
      "cell_type": "code",
      "source": [
        "def solution(book_time):\n",
        "    answer = 0\n",
        "    time_slots = [0] * (60*24)\n",
        "\n",
        "    for start, end in book_time:\n",
        "        start = start.split(':')\n",
        "        end = end.split(':')\n",
        "\n",
        "        start_time = int(start[0]) * 60 + int(start[1])\n",
        "        end_time = int(end[0]) * 60 + int(end[1]) + 10\n",
        "\n",
        "        if end_time > 60 * 24:\n",
        "            end_time = 60 * 24\n",
        "\n",
        "        for i in range(start_time, end_time):\n",
        "            time_slots[i] += 1\n",
        "\n",
        "    return max(time_slots)"
      ],
      "metadata": {
        "id": "Y26jjeyLCJQ3"
      },
      "execution_count": null,
      "outputs": []
    },
    {
      "cell_type": "code",
      "source": [
        "# 다른 사람 풀이 (https://songjaekwan.tistory.com/20)\n",
        "def solution(book_time):\n",
        "\n",
        "    # 시간을 분으로 변환 (숫자형으로)\n",
        "    def change_min(str_time: str) -> int:\n",
        "        return int(str_time[0:2]) * 60 + int(str_time[3:])\n",
        "\n",
        "    # 예약 시간이 빠른 순으로 정렬하기\n",
        "    book_times = sorted([[change_min(i[0]), change_min(i[1]) + 10] for i in book_time])\n",
        "\n",
        "    # 방 배정하기\n",
        "    rooms = []\n",
        "    for book_time in book_times:\n",
        "        if not rooms:\n",
        "            rooms.append(book_time)\n",
        "            continue\n",
        "        for index, room in enumerate(rooms):\n",
        "            if book_time[0] >= room[-1]:          # 예약 시작 시간이 이전 대실 끝나는 시간보다 늦다면\n",
        "                rooms[index] = room + book_time   # 해당 방으로 대실 진행\n",
        "                break\n",
        "        else:\n",
        "            rooms.append(book_time)               # 새로운 방 배정\n",
        "    return len(rooms)"
      ],
      "metadata": {
        "id": "8kax6kxDcfE6"
      },
      "execution_count": null,
      "outputs": []
    },
    {
      "cell_type": "code",
      "source": [
        "# 다른 사람 풀이\n",
        "def solution(book_time):\n",
        "    dic = {}\n",
        "    for book in book_time:\n",
        "        st = time2val(book[0])    # 시작 시간 변환\n",
        "        en = time2val(book[1])    # 끝나는 시간 변환\n",
        "        for t in range(st,en+10):\n",
        "            if dic.get(t) == None:\n",
        "                dic[t] = 1\n",
        "            else:\n",
        "                dic[t] += 1\n",
        "\n",
        "    return max(dic.values())"
      ],
      "metadata": {
        "id": "o62C5J6vdS24"
      },
      "execution_count": null,
      "outputs": []
    },
    {
      "cell_type": "code",
      "source": [
        "# 다른 사람 풀이 (heap 사용)\n",
        "\n",
        "def convert_minute(start, end):\n",
        "    start = int(start[:2]) * 60 + int(start[-2:])\n",
        "    end = int(end[:2]) * 60 + int(end[-2:])\n",
        "    return (start, end)\n",
        "\n",
        "def solution(book_time):\n",
        "    answer = 1\n",
        "    for idx, item in enumerate(book_time):\n",
        "        book_time[idx] = convert_minute(item[0], item[1]) # 분으로 환산한 시각으로 list update\n",
        "    book_time.sort() # 입실 시각 기준 정렬\n",
        "\n",
        "    heap = []\n",
        "    for s, e, in book_time:\n",
        "        if not heap: # 최초 수행시 힙에 자료 삽입\n",
        "            heapq.heappush(heap, e+10)\n",
        "            continue\n",
        "        if heap[0] <= s: # 현제 가장 빠른 퇴실 시각이 입실 시각보다 빠르다면 기존방 할당\n",
        "            heapq.heappop(heap)\n",
        "        else:\n",
        "            answer += 1 # 그렇지 않다면 새로운방 할당\n",
        "        heapq.heappush(heap, e+10) # 퇴실 시각 기준 10분 청소후 할당\n",
        "    return answer"
      ],
      "metadata": {
        "id": "gy_zV1UvdgAx"
      },
      "execution_count": null,
      "outputs": []
    },
    {
      "cell_type": "markdown",
      "source": [
        "### (연습문제) 무인도 여행"
      ],
      "metadata": {
        "id": "lPSTBFISll5O"
      }
    },
    {
      "cell_type": "code",
      "source": [
        "from collections import deque\n",
        "\n",
        "dx, dy = [0, 0, 1, -1], [1, -1, 0, 0]   # 상,하,좌,우\n",
        "\n",
        "def bfs(maps, i, j, n, m, visited):\n",
        "    queue = deque()\n",
        "    queue.append((i, j))    # 무인도 + 방문한 적 없는 좌표\n",
        "    visited[i][j] = 1       # '방문'으로 처리\n",
        "    area = int(maps[i][j])\n",
        "\n",
        "    while queue:\n",
        "        x, y = queue.popleft()\n",
        "        for direction in range(4):\n",
        "            nx, ny = x + dx[direction], y + dy[direction]\n",
        "            if 0 <= nx < n and 0<= ny < m and maps[nx][ny] != 'X' and visited[nx][ny] == 0:\n",
        "                visited[nx][ny] = 1\n",
        "                area += int(maps[nx][ny])\n",
        "                queue.append((nx, ny))\n",
        "\n",
        "    return area\n",
        "\n",
        "\n",
        "def solution(maps):\n",
        "    answer = []\n",
        "    # 가로, 세로 길이\n",
        "    n, m = len(maps), len(maps[0])\n",
        "    visited = [[0] * m for _ in range(n)]\n",
        "\n",
        "    for i in range(n):\n",
        "        for j in range(m):\n",
        "            # 무인도 칸이고 방문한 적 없다면\n",
        "            if maps[i][j] != 'X' and visited[i][j] == 0:\n",
        "                answer.append(bfs(maps, i, j, n, m, visited))\n",
        "\n",
        "    if answer:\n",
        "        return(sorted(answer))\n",
        "    else:\n",
        "        return [-1]"
      ],
      "metadata": {
        "id": "fWKmb0OnlqxI"
      },
      "execution_count": null,
      "outputs": []
    },
    {
      "cell_type": "markdown",
      "source": [
        "### (2020 카카오 인턴) 수식 최대화"
      ],
      "metadata": {
        "id": "_kz9QXi1R6ew"
      }
    },
    {
      "cell_type": "code",
      "source": [
        "from itertools import permutations\n",
        "\n",
        "# expression: 100-200*300-500+20\n",
        "\n",
        "def solution(expression):\n",
        "    operators = [\"*\", \"+\", \"-\"]\n",
        "    answer = []\n",
        "    for o in permutations(operators, 3):              # operator 가능한 모든 경우의 수\n",
        "                                                      # 예를 들어, o가 ('-', '*', '+')라고 하면\n",
        "        tmp_list = []\n",
        "        for i in expression.split(o[0]):              # o[0] = '-'\n",
        "                                                      # expression.split(o[0]) = [100, 200*300, 500+20]\n",
        "            tmp = [f\"({j})\" for j in i.split(o[1])]   # o[1] = '*'\n",
        "                                                      # j: [(100)], [(200), (300)], [(500+20)]\n",
        "            tmp_list.append(f\"({o[1].join(tmp)})\")    # tmp_list: [((100)), ((200)*(300)), ((500+20))]\n",
        "        answer.append(abs(eval(o[0].join(tmp_list)))) # ((100)) - ((200)*(300)) - ((500+20))\n",
        "    return max(answer)"
      ],
      "metadata": {
        "id": "HJ0mwAC4R9QJ"
      },
      "execution_count": null,
      "outputs": []
    },
    {
      "cell_type": "markdown",
      "source": [
        "### (월간 코드 챌린지 시즌2) 2개 이하로 다른 비트"
      ],
      "metadata": {
        "id": "EN6OYa3pRsYc"
      }
    },
    {
      "cell_type": "code",
      "source": [
        "def solution(numbers):\n",
        "    answer = []\n",
        "    for i in numbers:\n",
        "        bin_num = list('0' + bin(i)[2:])\n",
        "        idx = ''.join(bin_num).rfind('0')\n",
        "        bin_num[idx] = '1'\n",
        "\n",
        "        if i % 2 == 1:\n",
        "            bin_num[idx+1] = '0'\n",
        "\n",
        "        answer.append(int(''.join(bin_num),2))\n",
        "    return answer"
      ],
      "metadata": {
        "id": "fc5xWRP6RxFt"
      },
      "execution_count": null,
      "outputs": []
    },
    {
      "cell_type": "code",
      "source": [
        "# 다른 사람 풀이\n",
        "def solution(numbers):\n",
        "    answer = []\n",
        "\n",
        "    for number in numbers:\n",
        "        if number % 2 == 0:\n",
        "            answer.append(number + 1)\n",
        "            continue\n",
        "\n",
        "        number_bin = '0' + bin(number)[2:]\n",
        "        number_bin = number_bin[:number_bin.rindex('0')] + '10' + number_bin[number_bin.rindex('0') + 2:]\n",
        "        answer.append(int(number_bin, 2))\n",
        "\n",
        "    return answer"
      ],
      "metadata": {
        "id": "mjzZCSrESWgR"
      },
      "execution_count": null,
      "outputs": []
    },
    {
      "cell_type": "markdown",
      "source": [
        "### (월간 코드 챌린지 시즌1) 삼각 달팽이"
      ],
      "metadata": {
        "id": "auOyqg9WO3mB"
      }
    },
    {
      "cell_type": "code",
      "source": [
        "def solution(n):\n",
        "    answer = [[0 for j in range(1, i+1)] for i in range(1, n+1)]\n",
        "\n",
        "    x, y = -1, 0\n",
        "    num = 1\n",
        "\n",
        "    for i in range(n):\n",
        "        for j in range(i, n):\n",
        "            if i % 3 == 0:\n",
        "                x += 1\n",
        "            elif i % 3 == 1:\n",
        "                y += 1\n",
        "            else:\n",
        "                x -= 1\n",
        "                y -= 1\n",
        "            answer[x][y] = num\n",
        "            num += 1\n",
        "    return sum(answer, [])"
      ],
      "metadata": {
        "id": "mxiX5RDbO6J6"
      },
      "execution_count": null,
      "outputs": []
    },
    {
      "cell_type": "markdown",
      "source": [
        "### (완전탐색) 소수 찾기"
      ],
      "metadata": {
        "id": "WUjbhh8cRQbh"
      }
    },
    {
      "cell_type": "code",
      "source": [
        "from itertools import permutations\n",
        "\n",
        "def possible(numbers):\n",
        "    p_set = set()\n",
        "    for i in range(1, len(numbers)+1):\n",
        "        comb = permutations(numbers, i)\n",
        "        p_set.update([int(''.join(c)) for c in comb if int(''.join(c)) not in [0, 1]])\n",
        "    return p_set\n",
        "\n",
        "def solution(numbers):\n",
        "    answer = 0\n",
        "    candidates = possible(numbers)\n",
        "    for c in candidates:\n",
        "        for d in range(2, int(c**0.5)+1):\n",
        "            if c % d == 0:\n",
        "                break\n",
        "        else:\n",
        "            answer += 1\n",
        "\n",
        "    return answer"
      ],
      "metadata": {
        "id": "rC-MVmkuRTwo"
      },
      "execution_count": null,
      "outputs": []
    },
    {
      "cell_type": "markdown",
      "source": [
        "### (연습문제) 숫자 변환하기"
      ],
      "metadata": {
        "id": "hZvjSmQ-ozSZ"
      }
    },
    {
      "cell_type": "code",
      "source": [
        "def solution(x, y, n):\n",
        "    answer = 0\n",
        "    trans_set = set()\n",
        "    trans_set.add(x)\n",
        "    while trans_set:\n",
        "        if y in trans_set:\n",
        "            return answer\n",
        "        else:\n",
        "            tryset = set()\n",
        "            for i in trans_set:\n",
        "                if i + n <= y:\n",
        "                    tryset.add(i+n)\n",
        "                if i * 2 <= y:\n",
        "                    tryset.add(i*2)\n",
        "                    tryset.add(i*3)\n",
        "            trans_set = tryset\n",
        "            answer += 1\n",
        "\n",
        "    return -1"
      ],
      "metadata": {
        "id": "XLJlpOy_o1c0"
      },
      "execution_count": null,
      "outputs": []
    },
    {
      "cell_type": "markdown",
      "source": [
        "### (연습문제) 2xn 타일링"
      ],
      "metadata": {
        "id": "6yn8oCa5Kmu7"
      }
    },
    {
      "cell_type": "code",
      "source": [
        "# 동적계획법\n",
        "def solution(n):\n",
        "\n",
        "    dp = [0 for i in range(n)]\n",
        "    dp[0], dp[1] = 1, 2\n",
        "    for i in range(2, n):\n",
        "        dp[i] = (dp[i-2] + dp[i-1]) % 1000000007 # 리스트에 값 저장할 때부터 나누지 않으면 효율성에서 실패\n",
        "\n",
        "    return dp[-1]"
      ],
      "metadata": {
        "id": "nCgQQh1rKqvg"
      },
      "execution_count": null,
      "outputs": []
    },
    {
      "cell_type": "markdown",
      "source": [
        "### (연습문제) 롤케이크 자르기"
      ],
      "metadata": {
        "id": "wsv9N0gh-sBI"
      }
    },
    {
      "cell_type": "code",
      "source": [
        "# 시간초과\n",
        "def solution(topping):\n",
        "    answer = 0\n",
        "    for i in range(1, len(topping)):\n",
        "        cs = topping[:i]\n",
        "        sb = topping[i:]\n",
        "        if len(set(cs)) == len(set(sb)):\n",
        "            answer += 1\n",
        "    return answer"
      ],
      "metadata": {
        "id": "KqPgaUFR-uFu"
      },
      "execution_count": null,
      "outputs": []
    },
    {
      "cell_type": "code",
      "source": [
        "from collections import Counter\n",
        "def solution(topping):\n",
        "    answer = 0\n",
        "\n",
        "    # 롤케이크 토핑 별 개수를 구한다\n",
        "    cs = Counter(topping)\n",
        "    # 동생 토핑 집합 세팅\n",
        "    sb = set()\n",
        "\n",
        "    # 토핑 순서를 돌면서\n",
        "    for t in topping:\n",
        "        # 철수 토핑에서 하나씩 빼서\n",
        "        cs[t] -= 1\n",
        "        # 동생 토핑에 더해줌\n",
        "        sb.add(t)\n",
        "        # 철수 토핑 목록에서 0으르 찍으면 count에서 제외시키기 위해 pop\n",
        "        if cs[t] == 0:\n",
        "            cs.pop(t)\n",
        "        # 철수와 동생 토핑 가지 수가 같아지면 정답에 +1\n",
        "        if len(cs) == len(sb):\n",
        "            answer += 1\n",
        "\n",
        "    return answer"
      ],
      "metadata": {
        "id": "5M9jwWPV-wIr"
      },
      "execution_count": null,
      "outputs": []
    },
    {
      "cell_type": "markdown",
      "source": [
        "### (Summer/Winter Coding(~2018)) 방문 길이"
      ],
      "metadata": {
        "id": "Hg4C-_MHGpl4"
      }
    },
    {
      "cell_type": "code",
      "source": [
        "def solution(dirs):\n",
        "    answer = 0\n",
        "    direction = {'U': (0,1), 'D':(0,-1), 'L':(-1,0), 'R':(1,0)}\n",
        "    x, y = 0, 0\n",
        "    ways = set()\n",
        "\n",
        "    for d in dirs:\n",
        "        dx, dy = direction[d]\n",
        "        nx = x + dx\n",
        "        ny = y + dy\n",
        "        if -5 <= nx <= 5 and -5 <= ny <= 5:\n",
        "            ways.add(((x, y), (nx, ny)))\n",
        "            ways.add(((nx, ny), (x, y)))\n",
        "            x = nx\n",
        "            y = ny\n",
        "\n",
        "    return len(ways)//2"
      ],
      "metadata": {
        "id": "9TcqO55lGtkt"
      },
      "execution_count": null,
      "outputs": []
    },
    {
      "cell_type": "markdown",
      "source": [
        "### (연습문제) 모음사전"
      ],
      "metadata": {
        "id": "9UgLY3UV9cg9"
      }
    },
    {
      "cell_type": "code",
      "source": [
        "from itertools import product\n",
        "def solution(word):\n",
        "    answer = []\n",
        "    alpha = ['A', 'E', 'I', 'O', 'U']\n",
        "    for i in range(1, 6):\n",
        "        for p in product(alpha, repeat=i):\n",
        "            answer.append(''.join(p))\n",
        "    answer.sort()\n",
        "\n",
        "    return answer.index(word)+1\n",
        "\n",
        "# word의 길이가 최대 5이기 때문에 product를 통해서 모두 구하고 찾는 방법 가능"
      ],
      "metadata": {
        "id": "fBJgYC069e5S"
      },
      "execution_count": null,
      "outputs": []
    },
    {
      "cell_type": "code",
      "source": [
        "# 다른 사람 풀이 (규칙)\n",
        "def solution(word):\n",
        "    answer = 0\n",
        "    dic = ['A', 'E', 'I', 'O', 'U']\n",
        "    li = [5**i for i in range(len(dic))]\n",
        "\n",
        "    for i in range(len(word)-1,-1,-1):\n",
        "        idx = dic.index(word[i])\n",
        "        for j in range(5-i):\n",
        "            answer += li[j]*idx\n",
        "        answer+=1\n",
        "    return answer"
      ],
      "metadata": {
        "id": "AosKhH9y9jvo"
      },
      "execution_count": null,
      "outputs": []
    },
    {
      "cell_type": "markdown",
      "source": [
        "-> I가 1563이라는 것에서 힌트를 찾아야한다.\n",
        "0번째 인덱스에서 A가 1, I가 1563이면, A에서 E까지 (1563-1)/2 = 781 이라는 것을 유추할 수 있다.  \n",
        "A=>1, E=>782, I=>1563  \n",
        "그리고 AAAAA와 AAAAE의 차이는 1이고 AAAA와 AAAE의 차이는 6이라는 것도 유심히 봐야한다.  \n",
        "AAAA와 AAAE의 차이는 1*5 + 1 = 6이라는 것.  \n",
        "AAA와 AAE의 차이는 6*5 + 1 = 31.  \n",
        "AA와 AE의 차이는 31*5 + 1 = 156.  \n",
        "A와 E의 차이는 156*5 + 1 = 781.  \n",
        "이런 규칙을 찾아서 알고리즘을 구현하면 된다."
      ],
      "metadata": {
        "id": "gZ88OIr0_0Db"
      }
    },
    {
      "cell_type": "markdown",
      "source": [
        "### (연습문제) 점 찍기"
      ],
      "metadata": {
        "id": "wdpiShBrJT46"
      }
    },
    {
      "cell_type": "code",
      "source": [
        "# 2중 for문은 시간초과를 일으킴\n",
        "def solution(k, d):\n",
        "    answer = 0\n",
        "\n",
        "    for a in range(0, d+1, k):\n",
        "        for b in range(0, d+1, k):\n",
        "            if a ** 2 + b ** 2 <= d ** 2:\n",
        "                answer += 1\n",
        "\n",
        "\n",
        "    return answer\n",
        "\n",
        "# 따라서, 한 축을 기준으로 가능한 점의 개수를 계산해야 함\n",
        "def solution(k, d):\n",
        "    answer = 0\n",
        "\n",
        "    for a in range(0, d+1, k):\n",
        "        dots = int((d**2 - a**2)**0.5)\n",
        "        answer += dots//k+1\n",
        "\n",
        "\n",
        "    return answer"
      ],
      "metadata": {
        "id": "3_0lJtwbJVyV"
      },
      "execution_count": null,
      "outputs": []
    },
    {
      "cell_type": "markdown",
      "source": [
        "### (Summer/Winter Coding(~2018)) 스킬트리"
      ],
      "metadata": {
        "id": "MSyNONdpI9uQ"
      }
    },
    {
      "cell_type": "code",
      "source": [
        "def solution(skill, skill_trees):\n",
        "    answer = 0\n",
        "    for tree in skill_trees:\n",
        "        stack = []\n",
        "        for i in range(len(tree)):\n",
        "            if tree[i] in skill:\n",
        "                stack.append(tree[i])\n",
        "            else:\n",
        "                pass\n",
        "        if ''.join(stack) == skill[:len(stack)]:\n",
        "            answer += 1\n",
        "\n",
        "    return answer"
      ],
      "metadata": {
        "id": "FX4sCPLLI9_M"
      },
      "execution_count": null,
      "outputs": []
    },
    {
      "cell_type": "markdown",
      "source": [
        "### (깊이/너비 우선 탐색(BFS/DFS)) 게임 맵 최단거리"
      ],
      "metadata": {
        "id": "lLlMqJJwCgRK"
      }
    },
    {
      "cell_type": "code",
      "source": [
        "from collections import deque\n",
        "def solution(maps):\n",
        "    n = len(maps)\n",
        "    m = len(maps[0])\n",
        "\n",
        "    visited = [[-1]*m for _ in range(n)]\n",
        "\n",
        "    q = deque()\n",
        "\n",
        "    q.append((0, 0))\n",
        "    visited[0][0] = 1\n",
        "\n",
        "    dx = [0,1,0,-1]\n",
        "    dy = [1,0,-1,0]\n",
        "\n",
        "    while q:\n",
        "        x, y = q.popleft()\n",
        "\n",
        "        for k in range(4):\n",
        "            nx, ny = x+dx[k], y+dy[k] # 현재 위치에서의 상하좌우 확인\n",
        "            # 상하좌우가 maps 범위 안에 있고, 벽이 없으며, 가보지 않은 곳일 때\n",
        "            if 0 <= nx < n and 0 <= ny < m and maps[nx][ny] == 1 and visited[nx][ny] == -1:\n",
        "                visited[nx][ny] = visited[x][y] + 1\n",
        "                q.append((nx, ny))\n",
        "\n",
        "\n",
        "    return visited[n-1][m-1]"
      ],
      "metadata": {
        "id": "pIXZvNpuCsfq"
      },
      "execution_count": null,
      "outputs": []
    },
    {
      "cell_type": "markdown",
      "source": [
        "### (스택/큐) 주식가격"
      ],
      "metadata": {
        "id": "0QGrPKc2GNBP"
      }
    },
    {
      "cell_type": "code",
      "source": [
        "def solution(prices):\n",
        "    answer = []\n",
        "\n",
        "    for i in range(len(prices)):\n",
        "        sec = 0\n",
        "        cur_price = prices[i]\n",
        "        for j in range(i+1, len(prices)):\n",
        "            next_price = prices[j]\n",
        "            if cur_price <= next_price:\n",
        "                sec += 1\n",
        "            else:\n",
        "                sec += 1\n",
        "                break\n",
        "\n",
        "        answer.append(sec)\n",
        "\n",
        "\n",
        "    return answer"
      ],
      "metadata": {
        "id": "6MNMEazzGPCd"
      },
      "execution_count": null,
      "outputs": []
    },
    {
      "cell_type": "markdown",
      "source": [
        "### (월간 코드 챌린지 시즌1) 쿼드압축 후 개수 세기"
      ],
      "metadata": {
        "id": "MvvfQYU9JAVm"
      }
    },
    {
      "cell_type": "code",
      "source": [
        "# 재귀 형태로 분할정복\n",
        "def solution(arr):\n",
        "    answer = [0, 0]\n",
        "    n = len(arr)\n",
        "\n",
        "    def quad(x, y, size):\n",
        "        cur = arr[x][y]\n",
        "        for i in range(x, x+size):\n",
        "            for j in range(y, y+size):\n",
        "                if arr[i][j] != cur:\n",
        "                    size //= 2\n",
        "                    quad(x, y, size)\n",
        "                    quad(x, y+size, size)\n",
        "                    quad(x+size, y, size)\n",
        "                    quad(x+size, y+size, size)\n",
        "                    return\n",
        "\n",
        "        answer[cur] += 1\n",
        "\n",
        "    quad(0, 0, n)\n",
        "\n",
        "    return answer"
      ],
      "metadata": {
        "id": "Bnkpt1I4JE-y"
      },
      "execution_count": null,
      "outputs": []
    },
    {
      "cell_type": "markdown",
      "source": [
        "### (2018 KAKAO BLIND RECRUITMENT) [3차] 방금그곡"
      ],
      "metadata": {
        "id": "VZLgSTTPm1b0"
      }
    },
    {
      "cell_type": "code",
      "source": [
        "def solution(m, musicinfos):\n",
        "    answer = []\n",
        "    # 음을 기준으로 자르기 용이하게 길이를 모두 1로 맞춰주기 위함\n",
        "    m = m.replace('C#', 'c').replace('D#', 'd').replace('F#', 'f').replace('G#', 'g').replace('A#', 'a')\n",
        "    idx = 0\n",
        "    # 재생된 길이만큼 멜로디 늘리기\n",
        "    for info in musicinfos:\n",
        "        idx += 1\n",
        "        start, end, song, notes = info.split(',')\n",
        "        # 악보도 위와 같이 문자열 길이 맞춰줌\n",
        "        notes = notes.replace('C#', 'c').replace('D#', 'd').replace('F#', 'f').replace('G#', 'g').replace('A#', 'a')\n",
        "        # 재생된 시간(분) 구하기\n",
        "        duration = (int(end[:2])*60+int(end[-2:])) - (int(start[:2])*60+int(start[-2:]))\n",
        "        print(duration)\n",
        "        # 재생된 시간동안 나온 음 찾기\n",
        "        played = str(notes*(duration//len(notes))+str(notes[:duration%len(notes)]))\n",
        "        # 음악 찾기\n",
        "        if m in played:\n",
        "            answer.append((song, duration))\n",
        "\n",
        "    if not answer:\n",
        "        return \"(None)\"\n",
        "\n",
        "    answer.sort(reverse=True, key=lambda x: x[1])\n",
        "    print(answer)\n",
        "\n",
        "    return answer[0][0]"
      ],
      "metadata": {
        "id": "czPCwGuuXSeK"
      },
      "execution_count": null,
      "outputs": []
    },
    {
      "cell_type": "markdown",
      "source": [
        "### (2022 KAKAO BLIND RECRUITMENT) 주차 요금 계산"
      ],
      "metadata": {
        "id": "gG6yGbpQSxSU"
      }
    },
    {
      "cell_type": "code",
      "source": [
        "import math\n",
        "def solution(fees, records):\n",
        "    answer = []\n",
        "\n",
        "    # 요금 정리\n",
        "    bt, bf, et, ef = fees\n",
        "\n",
        "    # 차량 별로 정리\n",
        "    fee_dict = dict()\n",
        "\n",
        "    for r in records:\n",
        "        time, plate, status = r.split()\n",
        "        h, m = time.split(':')\n",
        "        new_time = int(h) * 60 + int(m)\n",
        "\n",
        "        if plate in fee_dict:\n",
        "            fee_dict[plate].append([new_time, status])\n",
        "        else:\n",
        "            fee_dict[plate] = [[new_time, status]]\n",
        "\n",
        "    fee_list = list(fee_dict.items())\n",
        "    fee_list.sort(key=lambda x: x[0])\n",
        "\n",
        "    # 차량 별 시간, 요금 계산\n",
        "    for i in fee_list:          # 차량 별로\n",
        "        # 시간\n",
        "        total_min = 0           # 총 주차 시간\n",
        "        for action in i[1]:     # 입출차 기록 하나씩 뜯어서 보기\n",
        "            if action[1] == 'IN':\n",
        "                total_min -= action[0]\n",
        "            else:\n",
        "                total_min += action[0]\n",
        "\n",
        "        if i[1][-1][1] == 'IN': # 마지막 기록이 입차(IN)이라면\n",
        "            total_min += 23*60+59\n",
        "\n",
        "        # 요금\n",
        "        if total_min < bt:\n",
        "            answer.append(bf)\n",
        "        else:\n",
        "            answer.append(bf+math.ceil((total_min-bt)/et)*ef)\n",
        "\n",
        "\n",
        "\n",
        "    return answer"
      ],
      "metadata": {
        "id": "N6VTpxoeS3xV"
      },
      "execution_count": null,
      "outputs": []
    },
    {
      "cell_type": "markdown",
      "source": [
        "### (깊이/너비 우선 탐색(DFS/BFS)) 타겟 넘버"
      ],
      "metadata": {
        "id": "1vmU_wgjEG6q"
      }
    },
    {
      "cell_type": "code",
      "source": [
        "def solution(numbers, target):\n",
        "    answer = 0\n",
        "    stack = [[numbers[0],0], [-1*numbers[0],0]]\n",
        "\n",
        "    while stack:\n",
        "        temp, idx = stack.pop()\n",
        "        idx += 1\n",
        "        if idx < len(numbers):\n",
        "            stack.append([temp+numbers[idx], idx])\n",
        "            stack.append([temp-numbers[idx], idx])\n",
        "        else:\n",
        "            if temp == target:\n",
        "                answer += 1\n",
        "\n",
        "    return answer"
      ],
      "metadata": {
        "id": "Z2tzYWGfEMGV"
      },
      "execution_count": null,
      "outputs": []
    },
    {
      "cell_type": "markdown",
      "source": [
        "### (힙(Heap)) 더 맵게"
      ],
      "metadata": {
        "id": "m4puYkB3qw4h"
      }
    },
    {
      "cell_type": "code",
      "source": [
        "from heapq import *\n",
        "\n",
        "def solution(scoville, K):\n",
        "    count = 0\n",
        "    heapify(scoville)\n",
        "    while scoville[0] < K and len(scoville) > 1:\n",
        "        num1 = heappop(scoville)\n",
        "        num2 = heappop(scoville)\n",
        "        heappush(scoville, num1 + num2 * 2)\n",
        "        count += 1\n",
        "    return count if scoville[0] >= K else -1"
      ],
      "metadata": {
        "id": "8hO8y9iyqzm4"
      },
      "execution_count": null,
      "outputs": []
    },
    {
      "cell_type": "code",
      "source": [
        "# 다른 사람 풀이\n",
        "from collections import deque # heapq 모듈 대신 deque 구조 활용해서 더 빠르게 구현\n",
        "\n",
        "def solution(scoville, K):\n",
        "    answer = 0\n",
        "\n",
        "    new = deque() # 새로운 스코빌 지수를 따로 저장\n",
        "    scoville.sort()\n",
        "    de_scoville = deque(s for s in scoville)\n",
        "\n",
        "    while (de_scoville and de_scoville[0] < K) or (new and new[0] < K):\n",
        "        answer += 1\n",
        "\n",
        "        if len(de_scoville) + len(new) <= 1:\n",
        "            return -1\n",
        "\n",
        "        food = [0] * 2\n",
        "        for i in range(2):\n",
        "            if de_scoville and new:\n",
        "                if de_scoville[0] < new[0]:\n",
        "                    food[i] = de_scoville.popleft()\n",
        "                else:\n",
        "                    food[i] = new.popleft()\n",
        "            elif de_scoville:\n",
        "                food[i] = de_scoville.popleft()\n",
        "            else:\n",
        "                food[i] = new.popleft()\n",
        "\n",
        "        new.append(food[0]+food[1]*2)\n",
        "\n",
        "    return answer"
      ],
      "metadata": {
        "id": "yQHN6MM0uz71"
      },
      "execution_count": null,
      "outputs": []
    },
    {
      "cell_type": "markdown",
      "source": [
        "### (2018 KAKAO BLIND RECRUITMENT) [3차 파일명 정렬]"
      ],
      "metadata": {
        "id": "9yEV8zbUmk8P"
      }
    },
    {
      "cell_type": "code",
      "source": [
        "def solution(files):\n",
        "    answer = []\n",
        "    temp = []\n",
        "    head = ''\n",
        "    number = ''\n",
        "    tail = ''\n",
        "\n",
        "    for file in files:\n",
        "        for f in range(len(file)):\n",
        "            if file[f].isdigit():\n",
        "                head = file[:f]\n",
        "                number = file[f:]\n",
        "\n",
        "                for j in range(len(number)):\n",
        "                    if not number[j].isdigit():\n",
        "                        tail = number[j:]\n",
        "                        number = number[:j]\n",
        "                        break\n",
        "\n",
        "                temp.append([head, number, tail])\n",
        "                head, number, tail = '', '', ''\n",
        "                break\n",
        "\n",
        "    temp = sorted(temp, key=lambda x: (x[0].lower(), int(x[1])))\n",
        "\n",
        "    return [''.join(t) for t in temp]\n",
        "\n",
        "# 다른 사람 풀이 중엔 정규표현식 사용한 경우가 많은듯"
      ],
      "metadata": {
        "id": "ajhBKPMumrcW"
      },
      "execution_count": null,
      "outputs": []
    },
    {
      "cell_type": "markdown",
      "source": [
        "### (2020 KAKAO BLIND RECRUITMENT) 문자열 압축"
      ],
      "metadata": {
        "id": "r98G5DLRMtCv"
      }
    },
    {
      "cell_type": "code",
      "source": [
        "def solution(s):\n",
        "    answer = []\n",
        "\n",
        "    if len(s)==1:\n",
        "        return 1\n",
        "\n",
        "    for i in range(1, (len(s)//2)+1): # 몇 개 단위로 잘라서 볼지\n",
        "        s_zip = ''\n",
        "        cnt = 1\n",
        "        tmp=s[:i]\n",
        "\n",
        "        for j in range(i, len(s), i):\n",
        "            if tmp == s[j:i+j]: # 만약 전의 값이 다음 값들과 같다면\n",
        "                cnt += 1\n",
        "            else:\n",
        "                if cnt != 1:\n",
        "                    s_zip += str(cnt) + tmp\n",
        "                else:\n",
        "                    s_zip += tmp\n",
        "                tmp = s[j:i+j]  # tmp 업데이트\n",
        "                cnt = 1         # count 다시 초기화\n",
        "\n",
        "        # 전 범위에 걸쳐 해당되는 경우가 없다면\n",
        "        if cnt != 1:\n",
        "            s_zip += str(cnt) + tmp\n",
        "        else:\n",
        "            s_zip += tmp\n",
        "\n",
        "        answer.append(len(s_zip))\n",
        "\n",
        "    return min(answer)"
      ],
      "metadata": {
        "id": "Sj3AuY1UMzka"
      },
      "execution_count": null,
      "outputs": []
    },
    {
      "cell_type": "code",
      "source": [
        "# 다른 사람 풀이\n",
        "def compress(text, tok_len):\n",
        "    words = [text[i:i+tok_len] for i in range(0, len(text), tok_len)]\n",
        "    res = []\n",
        "    cur_word = words[0]\n",
        "    cur_cnt = 1\n",
        "\n",
        "    for a, b in zip(words, words[1:] + ['']):\n",
        "        if a == b:\n",
        "            cur_cnt += 1\n",
        "        else:\n",
        "            res.append([cur_word, cur_cnt])\n",
        "            cur_word = b\n",
        "            cur_cnt = 1\n",
        "\n",
        "    return sum(len(word) + (len(str(cnt)) if cnt > 1 else 0) for word, cnt in res)\n",
        "\n",
        "def solution(text):\n",
        "    return min(compress(text, tok_len) for tok_len in list(range(1, int(len(text)/2) + 1)) + [len(text)])"
      ],
      "metadata": {
        "id": "R5dlt2ZKM9ky"
      },
      "execution_count": null,
      "outputs": []
    },
    {
      "cell_type": "markdown",
      "source": [
        "### (Summer/Winter Coding(2019)) 멀쩡한 사각형"
      ],
      "metadata": {
        "id": "HXRUbclzv7J0"
      }
    },
    {
      "cell_type": "code",
      "source": [
        "def solution(w,h):\n",
        "\n",
        "    for i in range(min(w,h), 0, -1):\n",
        "        if w % i == 0 and h % i == 0:\n",
        "            break\n",
        "\n",
        "    answer = w * h - (w + h - i)\n",
        "\n",
        "    return answer"
      ],
      "metadata": {
        "id": "nfdbZNTWwCS8"
      },
      "execution_count": null,
      "outputs": []
    },
    {
      "cell_type": "markdown",
      "source": [
        "### (연습문제) 가장 큰 정사각형 찾기"
      ],
      "metadata": {
        "id": "J4G-oqWfleDb"
      }
    },
    {
      "cell_type": "code",
      "source": [
        "def solution(board):\n",
        "    # 보드 준비 (for dynamic programming)\n",
        "    dp = [[0 for m in range(len(board[0]))] for _ in range(len(board))]\n",
        "    ## 보드 초기 설정 (첫 열, 첫 행 고정)\n",
        "    dp[0] = board[0]\n",
        "    for i in range(len(board)):\n",
        "        dp[i][0] = board[i][0]\n",
        "\n",
        "    # dp 구현\n",
        "    for i in range(1, len(board)):\n",
        "        for j in range(1, len(board[0])):\n",
        "            if board[i][j]:\n",
        "                dp[i][j] = min(dp[i-1][j-1], dp[i-1][j], dp[i][j-1]) + 1\n",
        "\n",
        "    # 최대 길이 찾기\n",
        "    length = 0\n",
        "    for d in range(len(dp)):\n",
        "        if max(dp[d]) > length:\n",
        "            length = max(dp[d])\n",
        "\n",
        "\n",
        "    return length ** 2"
      ],
      "metadata": {
        "id": "nNMBIg_xlhzm"
      },
      "execution_count": null,
      "outputs": []
    },
    {
      "cell_type": "markdown",
      "source": [
        "### (연습문제) 땅따먹기"
      ],
      "metadata": {
        "id": "itgtK42SdpJ7"
      }
    },
    {
      "cell_type": "code",
      "source": [
        "def solution(land):\n",
        "    answer = 0\n",
        "\n",
        "    for i in range(1, len(land)):\n",
        "        for j in range(len(land[0])):\n",
        "            land[i][j] += max(land[i-1][:j] + land[i-1][j+1:])\n",
        "    # print(land)\n",
        "\n",
        "    return max(land[-1])"
      ],
      "metadata": {
        "id": "nRg_gsTQdrST"
      },
      "execution_count": null,
      "outputs": []
    },
    {
      "cell_type": "markdown",
      "source": [
        "### (연습문제) 연속된 부분 수열의 합"
      ],
      "metadata": {
        "id": "YQvczkwHwiEd"
      }
    },
    {
      "cell_type": "code",
      "source": [
        "# 시행착오 (시간 초과 이슈)\n",
        "# def solution(sequence, k):\n",
        "#     answer = []\n",
        "#     for i in range(len(sequence)):\n",
        "#         for j in range(i, len(sequence)):\n",
        "#             sum_k = sum(sequence[i:j+1])\n",
        "#             if sum_k == k:\n",
        "#                 answer.append([i,j])\n",
        "#                 break\n",
        "\n",
        "\n",
        "#     return min(answer, key=lambda x: x[1]-x[0])\n",
        "\n",
        "\n",
        "def solution(sequence, k):\n",
        "    answer = []\n",
        "    n = len(sequence)\n",
        "    s_sum, end = 0, 0 # 포인터 설정\n",
        "\n",
        "    for i in range(len(sequence)):\n",
        "        while s_sum < k and end < n:\n",
        "            s_sum += sequence[end]\n",
        "            end += 1\n",
        "        if s_sum == k:\n",
        "            answer.append((i,end-1))\n",
        "        s_sum -= sequence[i]\n",
        "\n",
        "    return sorted(answer,key=lambda x: x[1]-x[0])[0]"
      ],
      "metadata": {
        "id": "QDKFggkHwl15"
      },
      "execution_count": null,
      "outputs": []
    },
    {
      "cell_type": "markdown",
      "source": [
        "### (연습문제) 택배상자"
      ],
      "metadata": {
        "id": "vP2OCbebDgsM"
      }
    },
    {
      "cell_type": "code",
      "source": [
        "def solution(order):\n",
        "    answer = 0\n",
        "    original = 1    # 원래 택배상자 순서\n",
        "    temp = []       # 보조 컨테이너 벨트 (스택)\n",
        "\n",
        "    while original != len(order)+1: # 쌓인 택배상자 수만큼 순서대로 확인\n",
        "        temp.append(original)       # 일단 보조벨트에 보관\n",
        "        # 보조벨트에 상자가 존재하고, 맨 위에 보관되어 있는 박스가 현재 트럭에 실을 택배일 때\n",
        "        while temp and temp[-1] == order[answer]:\n",
        "            answer += 1             # 실을 수 있는 수 +1\n",
        "            temp.pop()              # 보조벨트에서 현재 택배 상자 제거\n",
        "        original += 1               # 다음 택배상자 확인하러\n",
        "\n",
        "    return answer"
      ],
      "metadata": {
        "id": "yaFfUJEBDiiY"
      },
      "execution_count": null,
      "outputs": []
    },
    {
      "cell_type": "markdown",
      "source": [
        "### (연습문제) 124 나라의 숫자"
      ],
      "metadata": {
        "id": "puj1Y_LJagWO"
      }
    },
    {
      "cell_type": "code",
      "source": [
        "# 정확성 테스트는 모두 통과하지만 효율성에서 시간초과\n",
        "from itertools import product\n",
        "def solution(n):\n",
        "    answer = ''\n",
        "    available = ['1', '2', '4']\n",
        "\n",
        "    s = 0\n",
        "    cnt = 0\n",
        "    prod = []\n",
        "    while s < n:\n",
        "        cnt += 1\n",
        "        s += 3 ** cnt\n",
        "        prod.extend(list(map(''.join, list(product(available, repeat=cnt)))))\n",
        "    answer = prod[n-1]\n",
        "\n",
        "\n",
        "    return answer"
      ],
      "metadata": {
        "id": "82iyO_O7aktH"
      },
      "execution_count": null,
      "outputs": []
    },
    {
      "cell_type": "code",
      "source": [
        "# 정확성 테스트, 효율성 테스트 모두 통과\n",
        "'''\n",
        "4를 제외하고 생각하면 3진법과 같은 패턴을 보인다는 점을 이용해서\n",
        "->> n이 3으로 나누어 떨어지는 경우, '4'를 쓰고 n을 n//3-1로 업데이트\n",
        "->> n이 3으로 나누어 떨어지지 않는 경우, n%3값 사용. 그 후 n은 n//3으로 업데이트\n",
        "'''\n",
        "def solution(n):\n",
        "    answer = ''\n",
        "    while n:\n",
        "        if n % 3:\n",
        "            answer += str(n % 3)\n",
        "            n //= 3\n",
        "        else:\n",
        "            answer += '4'\n",
        "            n = n//3 - 1\n",
        "\n",
        "    return answer[::-1]"
      ],
      "metadata": {
        "id": "nzcMDXywc0Ac"
      },
      "execution_count": null,
      "outputs": []
    },
    {
      "cell_type": "code",
      "source": [
        "# 다른 사람 풀이\n",
        "def solution(n):\n",
        "    num = ['1','2','4']\n",
        "    answer = \"\"\n",
        "\n",
        "    while n > 0:\n",
        "        n -= 1\n",
        "        answer = num[n % 3] + answer\n",
        "        n //= 3\n",
        "\n",
        "    return answer"
      ],
      "metadata": {
        "id": "sseJzUUBeBnc"
      },
      "execution_count": null,
      "outputs": []
    },
    {
      "cell_type": "markdown",
      "source": [
        "### (2021 카카오 채용연계형 인턴십) 거리두기 확인하기"
      ],
      "metadata": {
        "id": "PxUVO5WwdHtC"
      }
    },
    {
      "cell_type": "code",
      "source": [
        "# 다른 사람 풀이\n",
        "def solution(places):\n",
        "    answer = []\n",
        "    # 대기실 하나씩 확인\n",
        "    for place in places:\n",
        "        answer.append(checkDistance(place))\n",
        "    return answer\n",
        "\n",
        "# 거리두기를 하지 않은 사람이 있는지 체크\n",
        "# 거리 제한 조건이 2로 설정되어 있기 때문에 거리두기를 하지 않은 경우가 두가지만으로 나뉘어 해당 방식 채택\n",
        "def checkDistance(place):\n",
        "  '''\n",
        "  1. 응시자들 사이의 거리가 1인 경우\n",
        "  2. 응시자들 사이의 거리가 2인데 두 응시자 간 사이에 파티션이 없는 경우\n",
        "   - (a) 두 응시자가 세로로 앉은 경우\n",
        "   - (b) 두 응시자가 가로로 앉은 경우\n",
        "   - (c) 두 응시자가 대각선으로 앉은 경우(파티션 두 개 필요)\n",
        "  '''\n",
        "    people = []\n",
        "\n",
        "    # 사람 위치 확인\n",
        "    for i in range(5):\n",
        "        for j in range(5):\n",
        "            if place[i][j] == 'P':\n",
        "                people.append([i, j])\n",
        "\n",
        "    # 거리 체크\n",
        "    ## 두 사람씩 체크\n",
        "    for i in range(len(people)):\n",
        "        r1, c1 = people[i]\n",
        "        for j in range(i + 1, len(people)):\n",
        "            r2, c2 = people[j]\n",
        "\n",
        "            # 거리 계산\n",
        "            distance = abs(r1 - r2) + abs(c1 - c2)\n",
        "\n",
        "            # 거리가 1이면 거리두기 불가 -> 0 반환\n",
        "            if distance == 1:\n",
        "                return 0\n",
        "            # 거리가 2라면 3가지 case 존재\n",
        "            if distance == 2:\n",
        "                if r1 == r2: # 행은 같다면 (가로로 앉은 경우)\n",
        "                    if place[r1][c1+1] == 'O': # 파티션이 없다면\n",
        "                        return 0\n",
        "                elif c1 == c2: # 열은 같다면 (세로로 앉은 경우)\n",
        "                    if place[r1+1][c1] == 'O': # 파티션이 없다면\n",
        "                        return 0\n",
        "                else: # 행과 열이 다르다면 (대각선 case)\n",
        "                    if not(place[r1][c2] == 'X' and place[r2][c1] == 'X'):\n",
        "                        return 0\n",
        "\n",
        "    return 1"
      ],
      "metadata": {
        "id": "9foHapVwdNTO"
      },
      "execution_count": null,
      "outputs": []
    },
    {
      "cell_type": "markdown",
      "source": [
        "### (정렬) 가장 큰 수"
      ],
      "metadata": {
        "id": "gjoWwsI4ElWC"
      }
    },
    {
      "cell_type": "code",
      "source": [
        "def solution(numbers):\n",
        "    sort_n = sorted([str(num) for num in numbers], key=lambda x: x*3, reverse=True) # 1000이하의 숫자들로 구성되어 있기 때문에 str로 변환한 숫자에 대해 x3 한 수를 기준으로 내림차순으로 정렬\n",
        "\n",
        "    answer = [''.join(s) for s in sort_n]\n",
        "\n",
        "    return str(int(''.join(answer))) # '0000' 같은 경우는 최종 답안으로 '0'이 나와야 하기 때문에 int형으로 변환했다가 다시 str로 변환"
      ],
      "metadata": {
        "id": "FgEmqE_qEnRh"
      },
      "execution_count": null,
      "outputs": []
    },
    {
      "cell_type": "markdown",
      "source": [
        "### (2021 KAKAO BLIND RECRUITMENT) 메뉴 리뉴얼"
      ],
      "metadata": {
        "id": "6lfHo7N0j7Xx"
      }
    },
    {
      "cell_type": "code",
      "source": [
        "from itertools import combinations\n",
        "\n",
        "def solution(orders, course):\n",
        "    answer = []\n",
        "    orders = [\"\".join(sorted(o)) for o in orders]\n",
        "\n",
        "    for c in course:\n",
        "        cdict = dict()\n",
        "        for o in orders:\n",
        "            # comb_list = list(combinations(o, c))\n",
        "            comb_list = list(map(\"\".join, list(combinations(o,c))))\n",
        "            for l in comb_list:\n",
        "                if l in cdict:\n",
        "                    cdict[l] += 1\n",
        "                else:\n",
        "                    cdict[l] = 1\n",
        "        if cdict:\n",
        "            max_menu = max(cdict, key=cdict.get)\n",
        "            if cdict[max_menu] >= 2:\n",
        "                answer.extend([menu for menu, cnt in cdict.items() if cnt == cdict[max_menu]])\n",
        "\n",
        "    return sorted(answer)"
      ],
      "metadata": {
        "id": "zr-v47P1kAUE"
      },
      "execution_count": null,
      "outputs": []
    },
    {
      "cell_type": "code",
      "source": [
        "# 다른 사람 풀이\n",
        "import collections\n",
        "import itertools\n",
        "\n",
        "def solution(orders, course):\n",
        "    result = []\n",
        "\n",
        "    for course_size in course:\n",
        "        order_combinations = []\n",
        "        for order in orders:\n",
        "            order_combinations += itertools.combinations(sorted(order), course_size)\n",
        "\n",
        "        most_ordered = collections.Counter(order_combinations).most_common()\n",
        "        result += [ k for k, v in most_ordered if v > 1 and v == most_ordered[0][1] ]\n",
        "\n",
        "    return [ ''.join(v) for v in sorted(result)]"
      ],
      "metadata": {
        "id": "ktrkw7lOkGJ3"
      },
      "execution_count": null,
      "outputs": []
    },
    {
      "cell_type": "markdown",
      "source": [
        "### (2018 KAKAO BLIND RECRUITMENT) [1차]프렌즈4블록\n"
      ],
      "metadata": {
        "id": "C0LKkmEqLP9u"
      }
    },
    {
      "cell_type": "code",
      "source": [
        "# 다른 사람 풀이\n",
        "def solution(m, n, board):\n",
        "    answer = 0\n",
        "    board = [list(i) for i in board]\n",
        "\n",
        "    while True:\n",
        "        b_board = [[0 for i in range(n)] for j in range(m)]\n",
        "        # 같은 모양의 2X2 블록을 찾으면 b_board 배열에 1로 표시\n",
        "        for i in range(m-1):\n",
        "            for j in range(n-1):\n",
        "                current = board[i][j]\n",
        "                if current == 0:\n",
        "                    continue\n",
        "                elif board[i][j+1] == current and board[i+1][j] == current and board[i+1][j+1] == current:\n",
        "\n",
        "                    b_board[i][j], b_board[i][j+1], b_board[i+1][j], b_board[i+1][j+1] = 1, 1, 1, 1\n",
        "\n",
        "        # 지워진 블록 개수 세기\n",
        "        count = 0\n",
        "        for i in range(m):\n",
        "            count += sum(b_board[i])\n",
        "        answer += count\n",
        "\n",
        "        # 지워진 블록이 없을 경우 break\n",
        "        if count == 0:\n",
        "            break\n",
        "\n",
        "        # 지워진 블록을 위의 블록으로 채우기\n",
        "        for i in range(m - 1, -1, -1):\n",
        "            for j in range(n):\n",
        "                if remove[i][j] == 1:\n",
        "                    x = i - 1\n",
        "                    while x >= 0 and remove[x][j] == 1:\n",
        "                      x -= 1\n",
        "                    if x < 0:\n",
        "                        board[i][j] = 0\n",
        "                    else:\n",
        "                        board[i][j] = board[x][j]\n",
        "                        remove[x][j] = 1\n",
        "\n",
        "\n",
        "    return answer"
      ],
      "metadata": {
        "id": "X0QEaL3NLhMn"
      },
      "execution_count": null,
      "outputs": []
    },
    {
      "cell_type": "code",
      "source": [
        "# 다른 사람 풀이\n",
        "def check(m, n, board):\n",
        "    filter = [[0 for _ in range(n)] for _ in range(m)]\n",
        "    count = 0\n",
        "\n",
        "    # check can delete\n",
        "    for i in range(m-1):\n",
        "        for j in range(n-1):\n",
        "            a = board[i][j]\n",
        "            b = board[i][j+1]\n",
        "            c = board[i+1][j]\n",
        "            d = board[i+1][j+1]\n",
        "            if a == b == c == d and a != '0':\n",
        "                filter[i][j], filter[i][j+1], filter[i+1][j], filter[i+1][j+1] = 1, 1, 1, 1\n",
        "\n",
        "    for i in range(m):\n",
        "        for j in range(n):\n",
        "            if filter[i][j] == 1:\n",
        "                count += 1\n",
        "                board[i][j] = '0'\n",
        "\n",
        "    if count == 0:\n",
        "        return 0\n",
        "\n",
        "    # fill blank\n",
        "    for i in range(m-2, -1, -1):\n",
        "        for j in range(n):\n",
        "            k = i\n",
        "            while 0 <= k+1 < m and board[k+1][j] == '0':\n",
        "                k += 1\n",
        "            if k != i:\n",
        "                board[k][j] = board[i][j]\n",
        "                board[i][j] = '0'\n",
        "\n",
        "    return count\n",
        "\n",
        "def solution(m, n, board):\n",
        "    answer = 0\n",
        "    board = list(map(list, board))\n",
        "\n",
        "    while True:\n",
        "        temp = check(m, n, board)\n",
        "        if temp == 0:\n",
        "            break\n",
        "        answer += temp\n",
        "\n",
        "    return answer"
      ],
      "metadata": {
        "id": "J_GCWm1rQIdc"
      },
      "execution_count": null,
      "outputs": []
    },
    {
      "cell_type": "markdown",
      "source": [
        "### (연습문제) 뒤에 있는 큰 수 찾기"
      ],
      "metadata": {
        "id": "pgCLbq1nL4VS"
      }
    },
    {
      "cell_type": "code",
      "source": [
        "def solution(numbers):\n",
        "    answer = [-1] * len(numbers)\n",
        "    stack = []\n",
        "\n",
        "    for i in range(len(numbers)):\n",
        "        # 비교할 대상이 있고, 비교할 대상 다음에 오는 숫자 중 가장 빠른 더 큰 수가 있다면\n",
        "        while stack and numbers[stack[-1]] < numbers[i]:\n",
        "            answer[stack.pop()] = numbers[i]\n",
        "        # 비교할 대상 쌓기\n",
        "        stack.append(i)\n",
        "\n",
        "    return answer"
      ],
      "metadata": {
        "id": "W7_1UA_FL9Ow"
      },
      "execution_count": null,
      "outputs": []
    },
    {
      "cell_type": "code",
      "source": [
        "# 처음 시도한 풀이 - 시간 초과\n",
        "def solution(numbers):\n",
        "    answer = []\n",
        "\n",
        "    for i in range(len(numbers)-1):\n",
        "        add = numbers[i]\n",
        "        temp = [t for t in numbers[i+1:] if t > add]\n",
        "        if temp:\n",
        "            answer.append(temp[0])\n",
        "        else:\n",
        "            answer.append(-1)\n",
        "\n",
        "    answer.append(-1)\n",
        "\n",
        "    return answer"
      ],
      "metadata": {
        "id": "eQfYp3vuL7QP"
      },
      "execution_count": null,
      "outputs": []
    },
    {
      "cell_type": "markdown",
      "source": [
        "### (2018 KAKAO BLIND RECRUITMENT) [3차] n진수 게임"
      ],
      "metadata": {
        "id": "hi7k6-yZKVS_"
      }
    },
    {
      "cell_type": "code",
      "source": [
        "def solution(n, t, m, p):\n",
        "    answer = ''\n",
        "    numbers = '0'\n",
        "    poss = '0123456789ABCDEF' # 16진법 내 가능한 숫자\n",
        "\n",
        "    for i in range(1, m*t+1):\n",
        "        tmp = ''\n",
        "        while i > 0:\n",
        "            idx = i % n\n",
        "            tmp += poss[idx]\n",
        "            i //= n\n",
        "        # print('tmp',tmp)\n",
        "        numbers += tmp[::-1]\n",
        "        # print('numb',numbers)\n",
        "\n",
        "    for _ in range(t):\n",
        "        answer += numbers[p-1]\n",
        "        p += m\n",
        "\n",
        "\n",
        "    return answer"
      ],
      "metadata": {
        "id": "LDbgzCxaKZer"
      },
      "execution_count": null,
      "outputs": []
    },
    {
      "cell_type": "markdown",
      "source": [
        "### (2022 KAKAO BLIND RECRUITMENT) k진수에서 소수 개수 구하기"
      ],
      "metadata": {
        "id": "E4dNV4V37J4_"
      }
    },
    {
      "cell_type": "code",
      "source": [
        "def solution(n, k):\n",
        "    answer = 0\n",
        "\n",
        "    # 진수 변환\n",
        "    trf = ''\n",
        "    while n > 0:\n",
        "        trf += str(n % k)\n",
        "        n //= k\n",
        "    trf = trf[::-1]\n",
        "\n",
        "    # 판별 필요한 수 분리\n",
        "    check = [int(c) for c in trf.split('0') if c != '']\n",
        "    print(check)\n",
        "\n",
        "    # 소수 판별\n",
        "    for c in check:\n",
        "        if c == 1:\n",
        "            continue햣\n",
        "        elif c == 2:\n",
        "            answer += 1\n",
        "        else:\n",
        "            prime = True\n",
        "            for i in range(2, int(c**0.5)+1):\n",
        "                if c % i == 0:\n",
        "                    prime = False\n",
        "                else:\n",
        "                    continue\n",
        "\n",
        "            if prime:\n",
        "                answer += 1\n",
        "\n",
        "    return answer"
      ],
      "metadata": {
        "id": "AQlhBIiE7SJe"
      },
      "execution_count": null,
      "outputs": []
    },
    {
      "cell_type": "markdown",
      "source": [
        "### (코딩 기초 트레이닝) 배열 조각하기"
      ],
      "metadata": {
        "id": "AnzHIAtPqgn7"
      }
    },
    {
      "cell_type": "code",
      "source": [
        "def solution(arr, query):\n",
        "    answer = []\n",
        "    for q in range(len(query)):\n",
        "        if q % 2 == 0:\n",
        "            arr = arr[:query[q]+1]\n",
        "        else:\n",
        "            arr = arr[query[q]:]\n",
        "    answer = arr\n",
        "    return answer"
      ],
      "metadata": {
        "id": "9P6u4SJiqlnT"
      },
      "execution_count": null,
      "outputs": []
    },
    {
      "cell_type": "markdown",
      "source": [
        "### (완전탐색) 피로도"
      ],
      "metadata": {
        "id": "ZPFEt10ylNJY"
      }
    },
    {
      "cell_type": "code",
      "source": [
        "from itertools import permutations\n",
        "\n",
        "def solution(k, dungeons):\n",
        "    answer = 0\n",
        "    dun_len = len(dungeons)\n",
        "\n",
        "    for permute in permutations(dungeons, dun_len):\n",
        "        hp = k\n",
        "        count = 0\n",
        "\n",
        "        for pm in permute:\n",
        "            if hp >= pm[0]:\n",
        "                hp -= pm[1]\n",
        "                count += 1\n",
        "\n",
        "            if count > answer: # 최대 던전 수라면 answer 변경\n",
        "                answer = count\n",
        "\n",
        "    return answer"
      ],
      "metadata": {
        "id": "VfYkGAAllZaP"
      },
      "execution_count": null,
      "outputs": []
    },
    {
      "cell_type": "code",
      "source": [
        "# 다른 사람 풀이\n",
        "answer = 0\n",
        "N = 0\n",
        "visited = []\n",
        "\n",
        "def dfs(k, cnt, dungeons):\n",
        "    global answer\n",
        "    if cnt > answer:\n",
        "        answer = cnt\n",
        "\n",
        "    for j in range(N):\n",
        "        if k >= dungeons[j][0] and not visited[j]:\n",
        "            visited[j] = 1\n",
        "            dfs(k - dungeons[j][1], cnt + 1, dungeons)\n",
        "            visited[j] = 0\n",
        "\n",
        "def solution(k, dungeons):\n",
        "    global N, visited\n",
        "    N = len(dungeons)\n",
        "    visited = [0] * N\n",
        "    dfs(k, 0, dungeons)\n",
        "    return answer"
      ],
      "metadata": {
        "id": "J9ohYgcPlna_"
      },
      "execution_count": null,
      "outputs": []
    },
    {
      "cell_type": "markdown",
      "source": [
        "### (2019 카카오 개발자 겨울 인턴십) 튜플"
      ],
      "metadata": {
        "id": "nKh28IiY3r7W"
      }
    },
    {
      "cell_type": "code",
      "source": [
        "def solution(s):\n",
        "    answer = []\n",
        "    s = s[2:-2].split('},{')\n",
        "    s_order = sorted(s, key=lambda x: len(x))\n",
        "    a = [o.split(',') for o in s_order]\n",
        "\n",
        "    for i in a:\n",
        "        for j in i:\n",
        "            if int(j) not in answer:\n",
        "                answer.append(int(j))\n",
        "\n",
        "    return answer"
      ],
      "metadata": {
        "id": "qF5TymT-3wGB"
      },
      "execution_count": null,
      "outputs": []
    },
    {
      "cell_type": "code",
      "source": [
        "# 다른 사람 풀이 (정규표현식 활용)\n",
        "import re\n",
        "from collections import Counter\n",
        "\n",
        "def solution(s):\n",
        "\n",
        "    s = Counter(re.findall('\\d+', s))\n",
        "\n",
        "    return list(map(int, [k for k, v in sorted(s.items(), key=lambda x: x[1], reverse=True)]))"
      ],
      "metadata": {
        "id": "uNgUchBW30ON"
      },
      "execution_count": null,
      "outputs": []
    },
    {
      "cell_type": "markdown",
      "source": [
        "### (2018 KAKAO BLIND RECRUITMENT) [1차] 캐시"
      ],
      "metadata": {
        "id": "E5Dpo341x-CR"
      }
    },
    {
      "cell_type": "code",
      "source": [
        "def solution(cacheSize, cities):\n",
        "    answer = 0\n",
        "    cache = []\n",
        "    cities = [city.upper() for city in cities]\n",
        "\n",
        "    if cacheSize == 0:\n",
        "        answer = 5 * len(cities)\n",
        "    else:\n",
        "        for c in cities:\n",
        "            if c in cache:\n",
        "                answer += 1\n",
        "                del cache[cache.index(c)]\n",
        "                cache.append(c.upper())\n",
        "            elif c not in cache and len(cache) < cacheSize:\n",
        "                cache.append(c)\n",
        "                answer += 5\n",
        "            elif c not in cache and len(cache) >= cacheSize:\n",
        "                answer += 5\n",
        "                cache.pop(0)\n",
        "                cache.append(c)\n",
        "\n",
        "    return answer"
      ],
      "metadata": {
        "id": "wel3C_LhyFpq"
      },
      "execution_count": null,
      "outputs": []
    },
    {
      "cell_type": "code",
      "source": [
        "# 다른 사람 풀이\n",
        "def solution(cacheSize, cities):\n",
        "    import collections\n",
        "    cache = collections.deque(maxlen=cacheSize)\n",
        "    time = 0\n",
        "    for i in cities:\n",
        "        s = i.lower()\n",
        "        if s in cache:\n",
        "            cache.remove(s)\n",
        "            cache.append(s)\n",
        "            time += 1\n",
        "        else:\n",
        "            cache.append(s)\n",
        "            time += 5\n",
        "    return time"
      ],
      "metadata": {
        "id": "Oig8Cn6wydMD"
      },
      "execution_count": null,
      "outputs": []
    },
    {
      "cell_type": "markdown",
      "source": [
        "### (정렬) H-Index"
      ],
      "metadata": {
        "id": "mYrKHoOVATBR"
      }
    },
    {
      "cell_type": "code",
      "source": [
        "'''h-index는 h개의 논문이 각각 적어도 h개의 인용을 갖도록 하는 가장 큰 숫자 h 입니다.'''\n",
        "\n",
        "def solution(citations):\n",
        "    answer = 0\n",
        "    paper_cnt = len(citations)\n",
        "    lim = max(citations)\n",
        "    cite_dict = {i:len([c for c in citations if c>=i]) for i in range(lim, 1, -1)}\n",
        "    # print(cite_dict)\n",
        "    for k, v in cite_dict.items():\n",
        "        # print(k, v)\n",
        "        if v>=k:\n",
        "            answer = k\n",
        "            break\n",
        "\n",
        "    return answer"
      ],
      "metadata": {
        "id": "LtBtBHFcAXDF"
      },
      "execution_count": null,
      "outputs": []
    },
    {
      "cell_type": "code",
      "source": [
        "# 다른 사람 풀이 [3,0,6,1,5]\n",
        "def solution(citations):\n",
        "    citations = sorted(citations) # [0,1,3,5,6]\n",
        "    l = len(citations) # 5\n",
        "    for i in range(l):\n",
        "        if citations[i] >= l-i: # 0>=5(인덱스보다 크거나 같은 개수), 1>=4, 3>=3, 5>=2\n",
        "            return l-i\n",
        "    return 0"
      ],
      "metadata": {
        "id": "B1qLhirPBaBN"
      },
      "execution_count": null,
      "outputs": []
    },
    {
      "cell_type": "code",
      "source": [
        "# 다른 사람 풀이\n",
        "def solution(citations):\n",
        "    citations.sort(reverse=True)\n",
        "    answer = max(map(min, enumerate(citations, start=1)))\n",
        "    return answer"
      ],
      "metadata": {
        "id": "lOHrQkobBbQ7"
      },
      "execution_count": null,
      "outputs": []
    },
    {
      "cell_type": "markdown",
      "source": [
        "### (연습문제) 연속 부분 수열 합의 개수"
      ],
      "metadata": {
        "id": "DNR_uJLo29zm"
      }
    },
    {
      "cell_type": "code",
      "source": [
        "def solution(elements):\n",
        "    answer = set()\n",
        "    element_len = len(elements)\n",
        "    elements = elements * 2\n",
        "\n",
        "    for i in range(element_len):\n",
        "        for j in range(element_len):\n",
        "            answer.add(sum(elements[j:j+i+1]))\n",
        "\n",
        "\n",
        "    return len(answer)"
      ],
      "metadata": {
        "id": "i1S8ym6_3DGj"
      },
      "execution_count": null,
      "outputs": []
    },
    {
      "cell_type": "code",
      "source": [
        "# 다른 사람 풀이\n",
        "def solution(elements):\n",
        "    ll = len(elements)\n",
        "    res = set()\n",
        "\n",
        "    for i in range(ll):\n",
        "        ssum = elements[i]\n",
        "        res.add(ssum)\n",
        "        for j in range(i+1, i+ll):\n",
        "            ssum += elements[j%ll]\n",
        "            res.add(ssum)\n",
        "    return len(res)"
      ],
      "metadata": {
        "id": "FTZH27Yj3QoG"
      },
      "execution_count": null,
      "outputs": []
    },
    {
      "cell_type": "markdown",
      "source": [
        "### (연습문제) 귤 고르기"
      ],
      "metadata": {
        "id": "DiIn-jExz6UK"
      }
    },
    {
      "cell_type": "code",
      "source": [
        "from collections import Counter\n",
        "def solution(k, tangerine):\n",
        "    answer = 0\n",
        "\n",
        "    t_cnt = dict(Counter(tangerine))\n",
        "    t_sort = sorted(t_cnt.items(), key=lambda x: x[1], reverse=True)\n",
        "\n",
        "    for t in t_sort:\n",
        "        answer += 1\n",
        "        k -= t[1]\n",
        "        if k <= 0:\n",
        "            break\n",
        "\n",
        "    return answer"
      ],
      "metadata": {
        "id": "GQ_ZZUJCz8ee"
      },
      "execution_count": null,
      "outputs": []
    },
    {
      "cell_type": "markdown",
      "source": [
        "### (2019 KAKAO BLIND RECRUITMENT) 오픈채팅방"
      ],
      "metadata": {
        "id": "qXnVuNGL4bCz"
      }
    },
    {
      "cell_type": "code",
      "source": [
        "def solution(record):\n",
        "    answer = []\n",
        "    temp = dict()\n",
        "    message = []\n",
        "\n",
        "    for r in record:\n",
        "        r_split = r.split()\n",
        "        if r_split[0] == 'Enter' or r_split[0] == 'Change':\n",
        "            temp[r_split[1]] = r_split[2]\n",
        "\n",
        "    for r in record:\n",
        "        r_split = r.split()\n",
        "        if r_split[0] == 'Enter':\n",
        "            answer.append(f'{temp[r_split[1]]}님이 들어왔습니다.')\n",
        "        elif r_split[0] == 'Leave':\n",
        "            answer.append(f'{temp[r_split[1]]}님이 나갔습니다.')\n",
        "\n",
        "\n",
        "    return answer\n",
        "\n",
        "'''\n",
        "처음엔 {user_id:nickname} 딕셔너리 만들면서 닉네임 대신 user_id를 넣은 메세지 생성하고 나중에 메세지마다 user_id를 최종 nickname으로 replace하는 방법으로 풀려고 하였으나\n",
        "실패 및 시간초과 케이스가 있었음. 그래서 딕셔너리를 만든 뒤 따로 메세지 생성하는 방식으로 처리.\n",
        "'''"
      ],
      "metadata": {
        "id": "rNr5yCJY4iwc"
      },
      "execution_count": null,
      "outputs": []
    },
    {
      "cell_type": "code",
      "source": [
        "# 다른 사람 풀이\n",
        "def solution(record):\n",
        "    user_id = {EC.split()[1]:EC.split()[-1] for EC in record if EC.startswith('Enter') or EC.startswith('Change')}\n",
        "    return [f'{user_id[E_L.split()[1]]}님이 들어왔습니다.' if E_L.startswith('Enter') else f'{user_id[E_L.split()[1]]}님이 나갔습니다.' for E_L in record if not E_L.startswith('Change')]"
      ],
      "metadata": {
        "id": "12KCzo0F5YtB"
      },
      "execution_count": null,
      "outputs": []
    },
    {
      "cell_type": "markdown",
      "source": [
        "### (2022 KAKAO TECH INTERNSHIP) 두 큐 합 같게 만들기"
      ],
      "metadata": {
        "id": "8eev82oCSTCr"
      }
    },
    {
      "cell_type": "code",
      "source": [
        "'''\n",
        "L > R인 상황에서 L을 감소시키는 방법은 항상 최적이 될 수 있습니다.\n",
        "이때, 직접 큐(Queue) 자료구조를 이용하지 않고 단순히 배열을 큐로 사용하면 0번 원소를 지우는 과정에서 시간 초과가 발생할 수도 있습니다.\n",
        "이때, 전체 배열의 길이가 2n이므로, 한 포인터 당 최대 2n번의 이동이 필요합니다.\n",
        "따라서, 총 4n만큼의 작업을 수행한 뒤에도 두 큐의 합을 같게 만들지 못했다면 그 이후에는 이미 탐색했던 구간을 다시 탐색하는 것이므로 의미가 없습니다. 이 경우에는 -1을 반환합니다.\n",
        "'''\n",
        "from collections import deque\n",
        "\n",
        "def solution(queue1, queue2):\n",
        "    answer = 0\n",
        "    queue1, queue2 = deque(queue1), deque(queue2)\n",
        "    max_tries = len(queue1)*4\n",
        "    sum1 = sum(queue1)\n",
        "    sum2 = sum(queue2)\n",
        "    total = sum1 + sum2\n",
        "\n",
        "    if total % 2 != 0:\n",
        "        return -1\n",
        "\n",
        "    while True:\n",
        "        if answer == max_tries:\n",
        "            return -1\n",
        "\n",
        "        if sum1 > sum2:\n",
        "            target = queue1.popleft()\n",
        "            queue2.append(target)\n",
        "            sum1 -= target\n",
        "            sum2 += target\n",
        "        elif sum1 < sum2:\n",
        "            target = queue2.popleft()\n",
        "            queue1.append(target)\n",
        "            sum1 += target\n",
        "            sum2 -= target\n",
        "        else:\n",
        "            return answer\n",
        "        answer += 1\n",
        "\n",
        "\n",
        "    return answer"
      ],
      "metadata": {
        "id": "IJIyExu8STcZ"
      },
      "execution_count": null,
      "outputs": []
    },
    {
      "cell_type": "markdown",
      "source": [
        "### (2018 KAKAO BLIND RECRUITMENT) [3차] 압축"
      ],
      "metadata": {
        "id": "fybj6ZnN1yCk"
      }
    },
    {
      "cell_type": "code",
      "source": [
        "from string import ascii_uppercase\n",
        "def solution(msg):\n",
        "    answer = []\n",
        "    # 사전 초기화\n",
        "    dic = dict()\n",
        "    for idx, w in enumerate(list(ascii_uppercase)):\n",
        "        dic[w] = idx+1\n",
        "\n",
        "\n",
        "    # 메시지 체크\n",
        "    cnt = 0\n",
        "    cur = ''\n",
        "    new = 27\n",
        "    while cnt < len(msg):\n",
        "        cur += msg[cnt]\n",
        "        if cur in dic:\n",
        "            cnt += 1\n",
        "        else:\n",
        "            dic[cur] = new\n",
        "            new += 1\n",
        "            answer.append(dic[cur[:-1]])\n",
        "            cur = ''\n",
        "    answer.append(dic[cur])\n",
        "\n",
        "\n",
        "    return answer"
      ],
      "metadata": {
        "id": "G86PZ9Gn13HF"
      },
      "execution_count": null,
      "outputs": []
    },
    {
      "cell_type": "code",
      "source": [
        "# 다른 사람 풀이\n",
        "def solution(msg):\n",
        "    alphabet = \"ABCDEFGHIJKLMNOPQRSTUVWXYZ\"\n",
        "    d = {k:v for (k,v) in zip(alphabet, list(range(1,27)))}\n",
        "    answer = []\n",
        "\n",
        "    while True:\n",
        "        if msg in d:\n",
        "            answer.append(d[msg])\n",
        "            break\n",
        "        for i in range(1, len(msg)+1):\n",
        "            if msg[0:i] not in d:\n",
        "                answer.append(d[msg[0:i-1]])\n",
        "                d[msg[0:i]] = len(d)+1\n",
        "                msg = msg[i-1:]\n",
        "                break\n",
        "\n",
        "    return answer"
      ],
      "metadata": {
        "id": "mA1OW58F16WH"
      },
      "execution_count": null,
      "outputs": []
    },
    {
      "cell_type": "code",
      "source": [
        "# 다른 사람 풀이\n",
        "def solution(msg):\n",
        "    answer = []\n",
        "    tmp = {chr(e + 64): e for e in range(1, 27)}\n",
        "    num = 27\n",
        "    while msg:\n",
        "        tt = 1\n",
        "        while msg[:tt] in tmp.keys() and tt <= msg.__len__():\n",
        "            tt += 1\n",
        "        tt -= 1\n",
        "        if msg[:tt] in tmp.keys():\n",
        "            answer.append(tmp[msg[:tt]])\n",
        "            tmp[msg[:tt + 1]] = num\n",
        "            num += 1\n",
        "        msg = msg[tt:]\n",
        "    return answer"
      ],
      "metadata": {
        "id": "9zQmZhoO2DwJ"
      },
      "execution_count": null,
      "outputs": []
    },
    {
      "cell_type": "code",
      "source": [
        "# 다른 사람 풀이\n",
        "def solution(msg):\n",
        "    answer = []\n",
        "    dic = {}\n",
        "\n",
        "    for i in range(26):\n",
        "        dic[chr(65+i)] = i+1\n",
        "\n",
        "    w, c = 0, 0\n",
        "    while True:\n",
        "        c += 1\n",
        "        if c == len(msg):\n",
        "            answer.append(dic[msg[w:c]])\n",
        "            break\n",
        "        if msg[w:c+1] not in dic:\n",
        "            dic[msg[w:c+1]] = len(dic) + 1\n",
        "            answer.append(dic[msg[w:c]])\n",
        "            w = c\n",
        "\n",
        "    return answer"
      ],
      "metadata": {
        "id": "wHiwpBoY2IWx"
      },
      "execution_count": null,
      "outputs": []
    },
    {
      "cell_type": "markdown",
      "source": [
        "### (월간 코드 챌린지 시즌3) n^2 배열 자르기"
      ],
      "metadata": {
        "id": "3p3UASIZ8BqJ"
      }
    },
    {
      "cell_type": "code",
      "source": [
        "def solution(n, left, right):\n",
        "    answer = []\n",
        "    for i in range(left, right+1):\n",
        "        div = i // n\n",
        "        rest = i % n\n",
        "        answer.append(max(div, rest)+1)\n",
        "\n",
        "    return answer"
      ],
      "metadata": {
        "id": "WuceeH_m8JCc"
      },
      "execution_count": null,
      "outputs": []
    },
    {
      "cell_type": "markdown",
      "source": [
        "### (2018 KAKAO BLIND RECRUITMENT) [1차] 뉴스 클러스터링"
      ],
      "metadata": {
        "id": "PkNo5TV490ym"
      }
    },
    {
      "cell_type": "code",
      "source": [
        "from collections import Counter\n",
        "\n",
        "def solution(str1, str2):\n",
        "    answer = 0\n",
        "\n",
        "    str1_list = []\n",
        "    str2_list = []\n",
        "\n",
        "    for i in range(len(str1)-1):\n",
        "        if str1[i:i+2].isalpha():\n",
        "            str1_list.append(str1[i:i+2].lower())\n",
        "\n",
        "    for j in range(len(str2)-1):\n",
        "        if str2[j:j+2].isalpha():\n",
        "            str2_list.append(str2[j:j+2].lower())\n",
        "\n",
        "    cnt1 = Counter(str1_list)\n",
        "    cnt2 = Counter(str2_list)\n",
        "\n",
        "    union = list((cnt1 | cnt2).elements())\n",
        "    intersection = list((cnt1 & cnt2).elements())\n",
        "\n",
        "    if len(union) == 0:\n",
        "        jaccard = 1\n",
        "    else:\n",
        "        jaccard = len(intersection) / len(union)\n",
        "\n",
        "    answer = int(jaccard * 65536)\n",
        "\n",
        "    return answer"
      ],
      "metadata": {
        "id": "J5X8Ry6i99dO"
      },
      "execution_count": null,
      "outputs": []
    },
    {
      "cell_type": "code",
      "source": [
        "# 다른 사람 풀이\n",
        "def solution(str1, str2):\n",
        "\n",
        "    list1 = [str1[n:n+2].lower() for n in range(len(str1)-1) if str1[n:n+2].isalpha()]\n",
        "    list2 = [str2[n:n+2].lower() for n in range(len(str2)-1) if str2[n:n+2].isalpha()]\n",
        "\n",
        "    tlist = set(list1) | set(list2)\n",
        "    res1 = [] #합집합\n",
        "    res2 = [] #교집합\n",
        "\n",
        "    if tlist:\n",
        "        for i in tlist:\n",
        "            res1.extend([i]*max(list1.count(i), list2.count(i)))\n",
        "            res2.extend([i]*min(list1.count(i), list2.count(i)))\n",
        "\n",
        "        answer = int(len(res2)/len(res1)*65536)\n",
        "        return answer\n",
        "\n",
        "    else:\n",
        "        return 65536"
      ],
      "metadata": {
        "id": "mPAzwpXL-aXG"
      },
      "execution_count": null,
      "outputs": []
    },
    {
      "cell_type": "markdown",
      "source": [
        "### (해시) 의상"
      ],
      "metadata": {
        "id": "g7Lkl9ndequ9"
      }
    },
    {
      "cell_type": "code",
      "source": [
        "def solution(clothes):\n",
        "    answer = 1\n",
        "    # 초기화 및 옷 종류별로 정리하기\n",
        "    wardrobe = {c[1]:list() for c in clothes}\n",
        "    for c in clothes:\n",
        "        wardrobe[c[1]].append(c[0])\n",
        "\n",
        "    # 경우의 수 계산하기\n",
        "    '''\n",
        "    (파란상의, 흰상의) (파란바지, 흰바지) 라고 하면 경우의 수가 4가지\n",
        "    그런데 문제 설정 상 상의나 바지 중에 하나만 입어도 됨\n",
        "    그렇기 때문에 (파란상의, 흰상의, X) (파란바지, 흰바지, X)라고 생각해야\n",
        "    그렇게 되면 3*3=9가지 경우의 수가 나오는데 아무것도 입지 않았을 경우를 빼줘야 하기 때문에 마지막에 1을 빼주어야 함\n",
        "    '''\n",
        "    for i in wardrobe.values():\n",
        "        answer *= (len(i) + 1)\n",
        "\n",
        "    return answer - 1"
      ],
      "metadata": {
        "id": "kqW5nzPHer9q"
      },
      "execution_count": null,
      "outputs": []
    },
    {
      "cell_type": "markdown",
      "source": [
        "## 6/2 - 6/8"
      ],
      "metadata": {
        "id": "CdiX11PEMm_C"
      }
    },
    {
      "cell_type": "markdown",
      "source": [
        "### (탐욕법(Greedy))  큰 수 만들기"
      ],
      "metadata": {
        "id": "Q7wXLmAjMp3g"
      }
    },
    {
      "cell_type": "code",
      "source": [
        "def solution(number, k):\n",
        "    answer = ''\n",
        "    temp = []\n",
        "\n",
        "    for n in number:\n",
        "        if not temp:\n",
        "            temp.append(n)\n",
        "            continue\n",
        "        if k > 0:\n",
        "            while temp[-1] < n:\n",
        "                temp.pop()\n",
        "                k -= 1\n",
        "                if not temp or k <= 0:\n",
        "                    break\n",
        "        temp.append(n)\n",
        "\n",
        "    temp = temp[:-k] if k > 0 else temp # k번 다 썼는데 뒤에 숫자가 남았을 때 처리\n",
        "    answer = ''.join(temp)\n",
        "\n",
        "    return answer"
      ],
      "metadata": {
        "id": "jXnqQKewPAvH"
      },
      "execution_count": null,
      "outputs": []
    },
    {
      "cell_type": "code",
      "source": [
        "# 다른 사람 풀이 (더 간결하게)\n",
        "def solution(number, k):\n",
        "    st = []\n",
        "    for i in range(len(number)):\n",
        "        while st and k > 0 and st[-1] < number[i]:\n",
        "            st.pop()\n",
        "            k -= 1\n",
        "        st.append(number[i])\n",
        "    return ''.join(st[:len(st) - k])"
      ],
      "metadata": {
        "id": "rZyY4i8nPIyf"
      },
      "execution_count": null,
      "outputs": []
    },
    {
      "cell_type": "markdown",
      "source": [
        "### (스택/큐) 다리를 지나는 트럭"
      ],
      "metadata": {
        "id": "BABV9WUfWxU6"
      }
    },
    {
      "cell_type": "code",
      "source": [
        "# 테스트 케이스 하나에서 시간 초과..\n",
        "def solution(bridge_length, weight, truck_weights):\n",
        "    answer = 0\n",
        "    bridge = [0 for _ in range(bridge_length)]\n",
        "    weight_sum = 0\n",
        "\n",
        "    while bridge: # bridge에 값이 있을 동안\n",
        "        answer += 1\n",
        "        bridge.pop(0) # bridge 맨 앞 원소 pop\n",
        "\n",
        "        if truck_weights: # truck_weight에 값이 있다면\n",
        "            if sum(bridge) + truck_weights[0] <= weight:   # 현재 bridge 위 트럭들의 무게와 대기 중인 트럭 무게를 더한 것이 다리가 감당할 수 있는 범위 내라면\n",
        "                t = truck_weights.pop(0) # 대기줄에서\n",
        "                bridge.append(t) # 다리 위로 이동\n",
        "            else: # 범위 밖이라면\n",
        "                bridge.append(0) # 다시 다리에 0 채워주기\n",
        "\n",
        "\n",
        "    return answer"
      ],
      "metadata": {
        "id": "PVmchSBWW0TD"
      },
      "execution_count": null,
      "outputs": []
    },
    {
      "cell_type": "code",
      "source": [
        "# 다른 사람 풀이\n",
        "### deque 개념 사용\n",
        "'''\n",
        "[deque의 popleft()를 활용하는 것이 시간적으로 더 좋음]\n",
        "deque의 popleft() 삭제시간: O(1)\n",
        "list의 pop(0): O(n)\n",
        "'''\n",
        "\n",
        "from collections import deque\n",
        "\n",
        "def solution(bridge_length, weight, truck_weights):\n",
        "\n",
        "    time = 0\n",
        "    bridge = deque([0] * bridge_length)\n",
        "    truck_weights = deque(truck_weights)\n",
        "\n",
        "    currentWeight = 0\n",
        "    while len(truck_weights)!=0:\n",
        "        time+=1\n",
        "\n",
        "        currentWeight -= bridge.popleft()\n",
        "\n",
        "        if currentWeight + truck_weights[0] <= weight:\n",
        "            currentWeight+= truck_weights[0]\n",
        "            bridge.append(truck_weights.popleft())\n",
        "\n",
        "        else:\n",
        "            bridge.append(0)\n",
        "\n",
        "    time += bridge_length\n",
        "\n",
        "    return time"
      ],
      "metadata": {
        "id": "LeF7WK8YW2gB"
      },
      "execution_count": null,
      "outputs": []
    },
    {
      "cell_type": "markdown",
      "source": [
        "## 5/26 - 6/1"
      ],
      "metadata": {
        "id": "EyKSNv8wsHtX"
      }
    },
    {
      "cell_type": "markdown",
      "source": [
        "### (연습문제) 할인 행사"
      ],
      "metadata": {
        "id": "jiqR62LvsLwv"
      }
    },
    {
      "cell_type": "code",
      "source": [
        "from collections import Counter\n",
        "\n",
        "def solution(want, number, discount):\n",
        "    answer = 0\n",
        "    want_dict = {w:n for (w,n) in zip(want, number)} # 희망 아이템과 수량\n",
        "\n",
        "    for i in range(len(discount)-10+1):\n",
        "        day_discount = discount[i:10+i] # 10일 연속 할인 아이템\n",
        "        discount_cnt = dict(Counter(day_discount)) # 할인 아이템 세기\n",
        "\n",
        "        # 수량 비교\n",
        "        for item in want_dict:\n",
        "            if (item in discount_cnt.keys()) and (want_dict[item] <= discount_cnt[item]):\n",
        "                continue\n",
        "            else:\n",
        "                break\n",
        "        else:\n",
        "            answer += 1\n",
        "\n",
        "\n",
        "    return answer"
      ],
      "metadata": {
        "id": "1KI_HoqGsOnU"
      },
      "execution_count": null,
      "outputs": []
    },
    {
      "cell_type": "markdown",
      "source": [
        "### (연습문제) 행렬의 곱셈"
      ],
      "metadata": {
        "id": "Vo2jXUw-cdsv"
      }
    },
    {
      "cell_type": "code",
      "source": [
        "# 작동은 하지만 런타임 에러를 피해갈 수 없는,,,\n",
        "def solution(arr1, arr2):\n",
        "    answer = []\n",
        "    for i in range(len(arr1)):\n",
        "        v1 = arr1[i]\n",
        "        r_dot = []\n",
        "        for j in range(len(arr2)):\n",
        "            v2 = [arr2[k][j] for k in range(len(arr2[0]))]\n",
        "            e_sum = 0\n",
        "            dots = []\n",
        "            for e in range(len(v1)):\n",
        "                e_sum += v1[e] * v2[e]\n",
        "            dots.append(e_sum) # 22\n",
        "            r_dot.extend(dots)\n",
        "        answer.append(r_dot)\n",
        "\n",
        "    return answer"
      ],
      "metadata": {
        "id": "DjsPzKR_cgab"
      },
      "execution_count": null,
      "outputs": []
    },
    {
      "cell_type": "code",
      "source": [
        "# 통과된 풀이\n",
        "def solution(arr1, arr2):\n",
        "    answer = [[0]*len(arr2[0]) for _ in range(len(arr1))] # return 행렬의 크기 지정\n",
        "    for i in range(len(arr1)):\n",
        "        for j in range(len(arr2[0])):\n",
        "            for k in range(len(arr1[0])):\n",
        "                answer[i][j] += arr1[i][k] * arr2[k][j]\n",
        "\n",
        "    return answer"
      ],
      "metadata": {
        "id": "_y2Agmpacmbp"
      },
      "execution_count": null,
      "outputs": []
    },
    {
      "cell_type": "code",
      "source": [
        "# 다른 사람 풀이\n",
        "def productMatrix(A, B):\n",
        "    return [[sum(a*b for a, b in zip(A_row,B_col)) for B_col in zip(*B)] for A_row in A] # zip에 *은 unpack을 의미함"
      ],
      "metadata": {
        "id": "WsR7WS8PcpS4"
      },
      "execution_count": null,
      "outputs": []
    },
    {
      "cell_type": "markdown",
      "source": [
        "### (해시) 전화번호 목록"
      ],
      "metadata": {
        "id": "KcW-7pWYYzHu"
      }
    },
    {
      "cell_type": "code",
      "source": [
        "# 작동은 하지만 시간 초과\n",
        "def solution(phone_book):\n",
        "    answer = True\n",
        "\n",
        "    phone_book.sort(key=lambda x: len(x))\n",
        "\n",
        "    for i, phone1 in enumerate(phone_book):\n",
        "        hash_map = {}\n",
        "        for phone2 in phone_book[i+1:]:\n",
        "            hash_map[phone2[:len(phone1)]] = phone2\n",
        "        if phone1 in hash_map:\n",
        "            answer = False\n",
        "            break\n",
        "\n",
        "    return answer"
      ],
      "metadata": {
        "id": "Ip7O1-zvY07R"
      },
      "execution_count": null,
      "outputs": []
    },
    {
      "cell_type": "code",
      "source": [
        "# zip과 startswith를 활용한 풀이\n",
        "def solution(phoneBook):\n",
        "    phoneBook = sorted(phoneBook)\n",
        "\n",
        "    for p1, p2 in zip(phoneBook, phoneBook[1:]):\n",
        "        if p2.startswith(p1):\n",
        "            return False\n",
        "    return True"
      ],
      "metadata": {
        "id": "1-zbeW-RY6cZ"
      },
      "execution_count": null,
      "outputs": []
    },
    {
      "cell_type": "code",
      "source": [
        "# 문제의 의도대로 '해시'로 해결한 풀이\n",
        "def solution(phone_book):\n",
        "\n",
        "    # 1.Hash map생성\n",
        "    hash_map = {}\n",
        "    for nums in phone_book:\n",
        "        hash_map[nums] = 1\n",
        "\n",
        "    # 2.접두어가 Hash map에 존재하는지 찾기\n",
        "    for nums in phone_book:\n",
        "        arr = \"\"\n",
        "        for num in nums:\n",
        "            arr += num\n",
        "\n",
        "            # 3. 본인 자체일 경우는 제외\n",
        "            if arr in hash_map and arr != nums:\n",
        "                return False\n",
        "\n",
        "    return True"
      ],
      "metadata": {
        "id": "Rg9hTDdvZAFa"
      },
      "execution_count": null,
      "outputs": []
    },
    {
      "cell_type": "markdown",
      "source": [
        "### (Summer/Winder Coding(~2018)) 점프와 순간이동"
      ],
      "metadata": {
        "id": "a6UMcUY0Pvcu"
      }
    },
    {
      "cell_type": "code",
      "source": [
        "def solution(n):\n",
        "    ans = 0\n",
        "\n",
        "    while n != 0:\n",
        "        if n % 2 == 0:\n",
        "            n //= 2\n",
        "        else:\n",
        "            n -= 1\n",
        "            ans += 1\n",
        "\n",
        "    return ans"
      ],
      "metadata": {
        "id": "pi8ak6hXP0OP"
      },
      "execution_count": null,
      "outputs": []
    },
    {
      "cell_type": "code",
      "source": [
        "# 다른 사람 풀이\n",
        "def solution(n):\n",
        "    return bin(n).count('1')"
      ],
      "metadata": {
        "id": "tYGgvg0EQCmO"
      },
      "execution_count": null,
      "outputs": []
    },
    {
      "cell_type": "code",
      "source": [
        "# 다른 사람 풀이\n",
        "def solution(n):\n",
        "    answer = 1\n",
        "    while n > 1:\n",
        "        answer += n % 2\n",
        "        n = n // 2\n",
        "    return answer"
      ],
      "metadata": {
        "id": "sepRKGWTQIUZ"
      },
      "execution_count": null,
      "outputs": []
    },
    {
      "cell_type": "markdown",
      "source": [
        "### (연습문제) N개의 최소공배수"
      ],
      "metadata": {
        "id": "xmAjAKU4VYbA"
      }
    },
    {
      "cell_type": "code",
      "source": [
        "def gcd(a, b):\n",
        "    for i in range(min(a, b), 0, -1):\n",
        "        if a % i == 0 and b % i == 0:\n",
        "            return i\n",
        "\n",
        "def solution(arr):\n",
        "    answer = 0\n",
        "    lcm = arr[0]\n",
        "    for i in range(1, len(arr)):\n",
        "        lcm = lcm * arr[i] // gcd(lcm, arr[i])\n",
        "\n",
        "\n",
        "\n",
        "    return lcm"
      ],
      "metadata": {
        "id": "WBXT-TpQVcOO"
      },
      "execution_count": null,
      "outputs": []
    },
    {
      "cell_type": "markdown",
      "source": [
        "### (연습문제) 멀리 뛰기"
      ],
      "metadata": {
        "id": "rx0dsv_do7oc"
      }
    },
    {
      "cell_type": "code",
      "source": [
        "def solution(n):\n",
        "    # answer = 0\n",
        "\n",
        "    if n < 3:\n",
        "        return n\n",
        "    else:\n",
        "        distance = [0 for _ in range(n)]\n",
        "        distance[0] = 1\n",
        "        distance[1] = 2\n",
        "        for d in range(2, n):\n",
        "            distance[d] = distance[d-1] + distance[d-2]  # 점화식\n",
        "\n",
        "    answer = distance[-1]\n",
        "\n",
        "    return answer % 1234567"
      ],
      "metadata": {
        "id": "yNn94njeo9X8"
      },
      "execution_count": null,
      "outputs": []
    },
    {
      "cell_type": "markdown",
      "source": [
        "### (월간 코드 챌린지 2) 괄호 회전하기"
      ],
      "metadata": {
        "id": "4sueEsXAxsIK"
      }
    },
    {
      "cell_type": "code",
      "source": [
        "def solution(s):\n",
        "    answer = 0\n",
        "\n",
        "    for _ in range(len(s)): # (문자열 길이)번 만큼 회전\n",
        "        stack = []\n",
        "        for i in range(len(s)): # 문자열의 각 원소\n",
        "            if s[0] not in ['[', '(', '{']: # 만일 맨 처음에 괄호가 올바르게 시작하지 않는다면 끊기\n",
        "                cur = s[0]\n",
        "                s = s[1:]\n",
        "                s += cur\n",
        "                break\n",
        "\n",
        "            elif s[i] in ['[', '(', '{']: # 괄호가 올바르게 시작한다면\n",
        "                stack.append(s[i])\n",
        "            elif s[i] == ']' and stack[-1:] == ['[']:\n",
        "                stack.pop()\n",
        "            elif s[i] == ')' and stack[-1:] == ['(']:\n",
        "                stack.pop()\n",
        "            elif s[i] == '}' and stack[-1:] == ['{']:\n",
        "                stack.pop()\n",
        "\n",
        "        else:\n",
        "            if len(stack) == 0:\n",
        "                answer += 1\n",
        "\n",
        "            cur = s[0]\n",
        "            s = s[1:]\n",
        "            s += cur\n",
        "\n",
        "    return answer"
      ],
      "metadata": {
        "id": "h4N1gb8JxvVd"
      },
      "execution_count": null,
      "outputs": []
    },
    {
      "cell_type": "markdown",
      "source": [
        "## 5/19 - 5/25"
      ],
      "metadata": {
        "id": "GHsxtTd7rBux"
      }
    },
    {
      "cell_type": "markdown",
      "source": [
        "### (탐욕법(Greedy)) 구명보트"
      ],
      "metadata": {
        "id": "sq6mMeborGzN"
      }
    },
    {
      "cell_type": "code",
      "source": [
        "def solution(people, limit):\n",
        "    answer = 0\n",
        "    people.sort()\n",
        "\n",
        "    light = 0\n",
        "    heavy = len(people)-1\n",
        "\n",
        "    while light <= heavy:\n",
        "        if people[light] + people[heavy] <= limit:\n",
        "            light += 1\n",
        "            heavy -= 1\n",
        "        else:\n",
        "            heavy -= 1\n",
        "\n",
        "        answer += 1\n",
        "\n",
        "\n",
        "    return answer"
      ],
      "metadata": {
        "id": "nyuLFzUQrGJO"
      },
      "execution_count": null,
      "outputs": []
    },
    {
      "cell_type": "markdown",
      "source": [
        "### (2017 팁스타운) 예상 대진표"
      ],
      "metadata": {
        "id": "iyGpr7uF5Qmf"
      }
    },
    {
      "cell_type": "code",
      "source": [
        "def solution(n,a,b):\n",
        "    answer = 0\n",
        "    while a != b:\n",
        "        answer += 1\n",
        "        a, b = (a+1)//2, (b+1)//2\n",
        "\n",
        "\n",
        "    return answer"
      ],
      "metadata": {
        "id": "VKx7Z27A5VK4"
      },
      "execution_count": null,
      "outputs": []
    },
    {
      "cell_type": "markdown",
      "source": [
        "### (스택/큐) 기능개발"
      ],
      "metadata": {
        "id": "8coXGID9b7wN"
      }
    },
    {
      "cell_type": "code",
      "source": [
        "def solution(progresses, speeds):\n",
        "    answer = []\n",
        "    left_days = []\n",
        "\n",
        "    for i in range(len(progresses)):\n",
        "        day = 0\n",
        "        while True:\n",
        "            progresses[i] += speeds[i]\n",
        "            day += 1\n",
        "            if progresses[i] >= 100:\n",
        "                left_days.append(day)\n",
        "                break\n",
        "\n",
        "    release = []\n",
        "    for l in left_days:\n",
        "        if not release:\n",
        "            release.append(l)\n",
        "        else:\n",
        "            if l <= release[0]:\n",
        "                release.append(l)\n",
        "            else:\n",
        "                answer.append(len(release))\n",
        "                release.clear()\n",
        "                release.append(l)\n",
        "\n",
        "    answer.append(len(release))\n",
        "\n",
        "    return answer"
      ],
      "metadata": {
        "id": "NOoKKoRVb-9a"
      },
      "execution_count": null,
      "outputs": []
    },
    {
      "cell_type": "code",
      "source": [
        "# 다른 사람 풀이\n",
        "def solution(progresses, speeds):\n",
        "    Q=[]\n",
        "    for p, s in zip(progresses, speeds):\n",
        "        if len(Q)==0 or Q[-1][0]<-((p-100)//s): # 필요한 작업일수 구하는 식 (math.ceil과 동일)\n",
        "            Q.append([-((p-100)//s),1])\n",
        "        else:\n",
        "            Q[-1][1]+=1\n",
        "    return [q[1] for q in Q]"
      ],
      "metadata": {
        "id": "htXiv6LhcE1S"
      },
      "execution_count": null,
      "outputs": []
    },
    {
      "cell_type": "code",
      "source": [
        "# 다른 사람 풀이\n",
        "def solution(progresses, speeds):\n",
        "    answer = []\n",
        "    time = 0\n",
        "    count = 0\n",
        "    while len(progresses)> 0:\n",
        "        if (progresses[0] + time*speeds[0]) >= 100:\n",
        "            progresses.pop(0)\n",
        "            speeds.pop(0)\n",
        "            count += 1\n",
        "        else:\n",
        "            if count > 0:\n",
        "                answer.append(count)\n",
        "                count = 0\n",
        "            time += 1\n",
        "    answer.append(count)\n",
        "    return answer"
      ],
      "metadata": {
        "id": "lL_ardy3clH0"
      },
      "execution_count": null,
      "outputs": []
    },
    {
      "cell_type": "markdown",
      "source": [
        "### (스택/큐) 프로세스"
      ],
      "metadata": {
        "id": "bVM0I9xnDULb"
      }
    },
    {
      "cell_type": "code",
      "source": [
        "def solution(priorities, location):\n",
        "    count = 0\n",
        "    line_priorities = [(i, p) for i, p in enumerate(priorities)]\n",
        "    print(line_priorities)\n",
        "\n",
        "    while True:\n",
        "        current_position = line_priorities.pop(0)\n",
        "        if any(current_position[1] < k[1] for k in line_priorities): # any 내장함수 사용\n",
        "            line_priorities.append(current_position)\n",
        "        else:\n",
        "            count += 1\n",
        "            if current_position[0] == location:\n",
        "                return count"
      ],
      "metadata": {
        "id": "58ykAx95DbVF"
      },
      "execution_count": null,
      "outputs": []
    },
    {
      "cell_type": "code",
      "source": [
        "# 다른 사람 풀이\n",
        "def solution(priorities, location):\n",
        "  jobs = len(priorities)\n",
        "  answer = 0\n",
        "  cursor = 0\n",
        "  while True:\n",
        "      if max(priorities) == priorities[cursor%jobs]:\n",
        "          priorities[cursor%jobs] = 0\n",
        "          answer += 1\n",
        "          if cursor%jobs == location:\n",
        "              break\n",
        "      cursor += 1\n",
        "  return answer"
      ],
      "metadata": {
        "id": "ij_Fl7ZfDufX"
      },
      "execution_count": null,
      "outputs": []
    },
    {
      "cell_type": "markdown",
      "source": [
        "## 5/12 - 5/18"
      ],
      "metadata": {
        "id": "exnlRqmG0BWK"
      }
    },
    {
      "cell_type": "markdown",
      "source": [
        "### (11주차) 정렬 실습"
      ],
      "metadata": {
        "id": "Tg0m0L2jdqzA"
      }
    },
    {
      "cell_type": "markdown",
      "source": [
        "#### 선택 정렬과 퀵 정렬의 성능 비교"
      ],
      "metadata": {
        "id": "9L6Add41-WTj"
      }
    },
    {
      "cell_type": "code",
      "source": [
        "# 퀵 정렬\n",
        "def quickSort(ary) :\n",
        "\n",
        "\tn = len(ary)\n",
        "\tif n <= 1 : # 정렬할 리스트의 개수가 1개 이하면\n",
        "\t\treturn ary\n",
        "\n",
        "\tpivot = ary[n // 2]   # 기준값을 중간값으로 지정\n",
        "\tleftAry, rightAry = [], []\n",
        "\n",
        "\tfor num in ary :\n",
        "\t\tif num < pivot :\n",
        "\t\t\tleftAry.append(num)\n",
        "\t\telif num > pivot :\n",
        "\t\t\trightAry.append(num)\n",
        "\n",
        "\treturn quickSort(leftAry) + [pivot] + quickSort(rightAry)\n",
        "\n",
        "# 선택 정렬\n",
        "def selection_sort(arr):\n",
        "    for i in range(len(arr) - 1):\n",
        "        min_idx = i\n",
        "        for j in range(i + 1, len(arr)):\n",
        "            if arr[j] < arr[min_idx]:\n",
        "                min_idx = j\n",
        "        arr[i], arr[min_idx] = arr[min_idx], arr[i]"
      ],
      "metadata": {
        "id": "me11YuXCbYND"
      },
      "execution_count": null,
      "outputs": []
    },
    {
      "cell_type": "code",
      "source": [
        "import random\n",
        "data_1000 = [random.randint(0, 10000) for i in range(1000)]\n",
        "data_10000 = [random.randint(0, 12000) for i in range(10000)]\n",
        "data_12000 = [random.randint(0, 15000) for i in range(12000)]\n",
        "data_15000 = [random.randint(0, 20000) for i in range(15000)]"
      ],
      "metadata": {
        "id": "L6ejn7350DcB"
      },
      "execution_count": null,
      "outputs": []
    },
    {
      "cell_type": "code",
      "source": [
        "import math\n",
        "import time\n",
        "\n",
        "def compare_time(data_arr):\n",
        "  # quick sort\n",
        "  qs_start = time.time()\n",
        "  qs = quickSort(data_arr)\n",
        "  qs_end = time.time()\n",
        "  quick_time = qs_end - qs_start\n",
        "\n",
        "  # selection sort\n",
        "  ss_start = time.time()\n",
        "  ss = selection_sort(data_arr)\n",
        "  ss_end = time.time()\n",
        "  selection_time = ss_end - ss_start\n",
        "\n",
        "  return quick_time, selection_time"
      ],
      "metadata": {
        "id": "skmDs5Nmcp2G"
      },
      "execution_count": null,
      "outputs": []
    },
    {
      "cell_type": "code",
      "source": [
        "data = [data_1000, data_10000, data_12000, data_15000]\n",
        "num = [1000, 10000, 12000, 15000]\n",
        "\n",
        "for pair in zip(num, data):\n",
        "  print(f'## 데이터 수 : {pair[0]}개')\n",
        "  print(f'      선택 정렬 --> {compare_time(pair[1])[1]:.3f} 초')\n",
        "  print(f'      퀵 정렬 --> {compare_time(pair[1])[0]:.3f} 초')\n",
        "  print()\n",
        "\n"
      ],
      "metadata": {
        "colab": {
          "base_uri": "https://localhost:8080/"
        },
        "id": "_uC8NrlsdOEH",
        "outputId": "a7b91b66-ba20-4b35-a505-bfc7cac33602"
      },
      "execution_count": null,
      "outputs": [
        {
          "output_type": "stream",
          "name": "stdout",
          "text": [
            "## 데이터 수 : 1000개\n",
            "      선택 정렬 --> 0.038 초\n",
            "      퀵 정렬 --> 0.001 초\n",
            "\n",
            "## 데이터 수 : 10000개\n",
            "      선택 정렬 --> 3.554 초\n",
            "      퀵 정렬 --> 0.013 초\n",
            "\n",
            "## 데이터 수 : 12000개\n",
            "      선택 정렬 --> 5.082 초\n",
            "      퀵 정렬 --> 0.017 초\n",
            "\n",
            "## 데이터 수 : 15000개\n",
            "      선택 정렬 --> 8.918 초\n",
            "      퀵 정렬 --> 0.021 초\n",
            "\n"
          ]
        }
      ]
    },
    {
      "cell_type": "markdown",
      "source": [
        "### (연습문제) 최대값과 최소값"
      ],
      "metadata": {
        "id": "iwrz8KgGX5S-"
      }
    },
    {
      "cell_type": "code",
      "execution_count": null,
      "metadata": {
        "id": "zF1IkkEcaUh1"
      },
      "outputs": [],
      "source": [
        "def solution(s):\n",
        "    answer = ''\n",
        "    split = [int(i) for i in s.split()]\n",
        "    answer = f\"{min(split)} {max(split)}\"\n",
        "    return answer"
      ]
    },
    {
      "cell_type": "code",
      "source": [
        "# 다른 사람 풀이\n",
        "def solution(s):\n",
        "    s = list(map(int,s.split()))\n",
        "    return str(min(s)) + \" \" + str(max(s))"
      ],
      "metadata": {
        "id": "E_QQRi-kY1NC"
      },
      "execution_count": null,
      "outputs": []
    },
    {
      "cell_type": "markdown",
      "source": [
        "### (연습문제) JaydenCase 문자열 만들기"
      ],
      "metadata": {
        "id": "DHvvIlebZBe7"
      }
    },
    {
      "cell_type": "code",
      "source": [
        "def solution(s):\n",
        "    answer = ' '\n",
        "    case = s.split(' ')\n",
        "    replace = []\n",
        "\n",
        "    for c in case:\n",
        "        if c != '':\n",
        "            replace.append(c[0].upper() + c[1:].lower())\n",
        "        else:\n",
        "            replace.append(c)\n",
        "\n",
        "    return answer.join(replace)"
      ],
      "metadata": {
        "id": "DCHDdLcsZDRr"
      },
      "execution_count": null,
      "outputs": []
    },
    {
      "cell_type": "markdown",
      "source": [
        "### (연습문제) 최솟값 만들기"
      ],
      "metadata": {
        "id": "RApJ5ugCqHFF"
      }
    },
    {
      "cell_type": "code",
      "source": [
        "def solution(A,B):\n",
        "    answer = 0\n",
        "    a = sorted(A)\n",
        "    b = sorted(B)\n",
        "\n",
        "    for i in range(0, len(A)):\n",
        "        answer += a[0+i] * b[-1-i]\n",
        "\n",
        "    return answer"
      ],
      "metadata": {
        "id": "q8PqdeSrqJ_O"
      },
      "execution_count": null,
      "outputs": []
    },
    {
      "cell_type": "code",
      "source": [
        "# 다른 사람 풀이\n",
        "def getMinSum(A, B):\n",
        "    return sum([a * b for a, b in zip(sorted(A), sorted(B, reverse=True))])"
      ],
      "metadata": {
        "id": "y1Ii2GVWqJpJ"
      },
      "execution_count": null,
      "outputs": []
    },
    {
      "cell_type": "markdown",
      "source": [
        "### (스택/큐) 올바른 괄호"
      ],
      "metadata": {
        "id": "QSvvxZ1U7GLL"
      }
    },
    {
      "cell_type": "code",
      "source": [
        "def solution(s):\n",
        "    answer = True\n",
        "    stack = []\n",
        "\n",
        "    if s[0] == ')':\n",
        "        answer = False\n",
        "\n",
        "    for i in s:\n",
        "        if i == '(':\n",
        "            stack.append(i)\n",
        "        else:\n",
        "            if stack:\n",
        "                stack.pop()\n",
        "            else:\n",
        "                continue\n",
        "\n",
        "\n",
        "    if len(stack) != 0:\n",
        "        answer = False\n",
        "\n",
        "\n",
        "    return answer"
      ],
      "metadata": {
        "id": "VctifBjU7I-8"
      },
      "execution_count": null,
      "outputs": []
    },
    {
      "cell_type": "code",
      "source": [
        "# 다른 사람 풀이\n",
        "def is_pair(s):\n",
        "    pair = 0\n",
        "    for x in s:\n",
        "        if pair < 0: break\n",
        "        pair = pair + 1 if x == \"(\" else pair - 1 if x == \")\" else pair\n",
        "    return pair == 0"
      ],
      "metadata": {
        "id": "65XkMC3W7Nph"
      },
      "execution_count": null,
      "outputs": []
    },
    {
      "cell_type": "markdown",
      "source": [
        "### (월간 코드 챌린지 시즌1) 이진 변환 반복하기"
      ],
      "metadata": {
        "id": "O3u8kXlA5gtJ"
      }
    },
    {
      "cell_type": "code",
      "source": [
        "from collections import Counter\n",
        "\n",
        "def solution(s):\n",
        "    remove_zero = 0\n",
        "    times = 0\n",
        "\n",
        "    while s != '1':\n",
        "        if Counter(s).get('0') != None:\n",
        "            remove_zero += int(Counter(s).get('0'))\n",
        "        else:\n",
        "            pass\n",
        "\n",
        "        removed = ''.join([i for i in s if i=='1'])\n",
        "        new_len = len(removed)\n",
        "\n",
        "        s = bin(new_len)[2:]\n",
        "\n",
        "        times += 1\n",
        "\n",
        "    return [times, remove_zero]"
      ],
      "metadata": {
        "id": "AY6d2xeX5mhe"
      },
      "execution_count": null,
      "outputs": []
    },
    {
      "cell_type": "code",
      "source": [
        "# 다른 사람 풀이\n",
        "def solution(s):\n",
        "    a, b = 0, 0\n",
        "    while s != '1':\n",
        "        a += 1\n",
        "        num = s.count('1')\n",
        "        b += len(s) - num\n",
        "        s = bin(num)[2:]\n",
        "    return [a, b]"
      ],
      "metadata": {
        "id": "BzO2p1Ts5xBb"
      },
      "execution_count": null,
      "outputs": []
    },
    {
      "cell_type": "markdown",
      "source": [
        "### (연습문제) 숫자의 표현"
      ],
      "metadata": {
        "id": "9tT5Szec6DcY"
      }
    },
    {
      "cell_type": "code",
      "source": [
        "def solution(n):\n",
        "    answer = 0\n",
        "\n",
        "    for i in range(1, n+1):\n",
        "        sum = 0\n",
        "        for j in range(i, n+1):\n",
        "            sum += j\n",
        "            if sum == n:\n",
        "                answer += 1\n",
        "                break\n",
        "            elif sum > n:\n",
        "                break\n",
        "\n",
        "\n",
        "    return answer"
      ],
      "metadata": {
        "id": "diVK8Mj06FX1"
      },
      "execution_count": null,
      "outputs": []
    },
    {
      "cell_type": "markdown",
      "source": [
        "### (연습문제) 다음 큰 숫자"
      ],
      "metadata": {
        "id": "g3DCA0sIBpKo"
      }
    },
    {
      "cell_type": "code",
      "source": [
        "def solution(n):\n",
        "    inc = 0\n",
        "    new_n = 0\n",
        "    ones = 0\n",
        "\n",
        "    n_binary_ones = bin(n)[2:].count('1')\n",
        "\n",
        "    while ones != n_binary_ones:\n",
        "        new_n = n + 1 + inc\n",
        "        ones = bin(new_n)[2:].count('1')\n",
        "        inc += 1\n",
        "\n",
        "    return new_n"
      ],
      "metadata": {
        "id": "h78GqGtQBqaj"
      },
      "execution_count": null,
      "outputs": []
    },
    {
      "cell_type": "code",
      "source": [
        "# 다른 사람 풀이\n",
        "def nextBigNumber(n):\n",
        "    num1 = bin(n).count('1')\n",
        "    while True:\n",
        "        n = n + 1\n",
        "        if num1 == bin(n).count('1'):\n",
        "            break\n",
        "    return n"
      ],
      "metadata": {
        "id": "HJmoAeAmBxHO"
      },
      "execution_count": null,
      "outputs": []
    },
    {
      "cell_type": "markdown",
      "source": [
        "### (연습문제) 피보나치 수"
      ],
      "metadata": {
        "id": "B9hnEuZayFxR"
      }
    },
    {
      "cell_type": "code",
      "source": [
        "def fibonacci(num):\n",
        "    result = [0, 1]\n",
        "    i = 2\n",
        "\n",
        "    while i <= num:\n",
        "        result.append(result[i-2] + result[i-1])\n",
        "        i += 1\n",
        "\n",
        "    return result[-1]\n",
        "\n",
        "\n",
        "def solution(n):\n",
        "    answer = fibonacci(n) % 1234567\n",
        "\n",
        "    return answer"
      ],
      "metadata": {
        "id": "LIWvleD8yJoK"
      },
      "execution_count": null,
      "outputs": []
    },
    {
      "cell_type": "code",
      "source": [
        "# 다른 사람 풀이\n",
        "def fibonacci(num):\n",
        "    a, b = 0, 1\n",
        "    for i in range(num):\n",
        "        a, b = b, (a+b)%1234567\n",
        "    return a"
      ],
      "metadata": {
        "id": "TceENIW_yfZD"
      },
      "execution_count": null,
      "outputs": []
    },
    {
      "cell_type": "markdown",
      "source": [
        "### (2017 팁스타운) 짝지어 제거하기"
      ],
      "metadata": {
        "id": "IWu0A2rhLjrJ"
      }
    },
    {
      "cell_type": "code",
      "source": [
        "def solution(s):\n",
        "    stack = []\n",
        "\n",
        "    for i in range(len(s)):\n",
        "        if not stack:\n",
        "            stack.append(s[i])\n",
        "        else:\n",
        "            if s[i] == stack[-1]:\n",
        "                stack.pop()\n",
        "            else:\n",
        "                stack.append(s[i])\n",
        "\n",
        "    if stack:\n",
        "        answer = 0\n",
        "    else:\n",
        "        answer = 1\n",
        "\n",
        "\n",
        "\n",
        "    return answer"
      ],
      "metadata": {
        "id": "FT9Q5gI7yntF"
      },
      "execution_count": null,
      "outputs": []
    },
    {
      "cell_type": "markdown",
      "source": [
        "### (Summer/Winter Coding(~2018)) 영어 끝말잇기"
      ],
      "metadata": {
        "id": "UX7-navRLyJU"
      }
    },
    {
      "cell_type": "code",
      "source": [
        "def solution(n, words):\n",
        "    answer = [0, 0] # [사람번호, 차례수]\n",
        "    p_cnt = 0\n",
        "\n",
        "    saw = []\n",
        "    saw.append(words[0])\n",
        "    for j in range(1, len(words)):\n",
        "        p_cnt += 1\n",
        "        if words[j-1][-1] == words[j][0] and words[j] not in saw:\n",
        "            saw.append(words[j])\n",
        "        else:\n",
        "            answer[0] = p_cnt % n + 1\n",
        "            answer[1] = p_cnt // n + 1\n",
        "            break\n",
        "\n",
        "\n",
        "    return answer"
      ],
      "metadata": {
        "id": "7BI05SRvL4C6"
      },
      "execution_count": null,
      "outputs": []
    },
    {
      "cell_type": "code",
      "source": [
        "# 다른 사람 풀이\n",
        "def solution(n, words):\n",
        "    for p in range(1, len(words)):\n",
        "        if words[p][0] != words[p-1][-1] or words[p] in words[:p]: return [(p%n)+1, (p//n)+1]\n",
        "    else:\n",
        "        return [0,0]"
      ],
      "metadata": {
        "id": "bwXwEOC7R3KB"
      },
      "execution_count": null,
      "outputs": []
    },
    {
      "cell_type": "markdown",
      "source": [
        "### (완전탐색) 카펫"
      ],
      "metadata": {
        "id": "-9ZLwkKpaB99"
      }
    },
    {
      "cell_type": "code",
      "source": [
        "def solution(brown, yellow):\n",
        "    answer = []\n",
        "    total = brown + yellow\n",
        "    y_size = []\n",
        "    for i in range(1, int(yellow**0.5)+1):\n",
        "        if yellow % i == 0:\n",
        "            y_size.append((i, yellow//i))\n",
        "\n",
        "    for p in y_size:\n",
        "        carpet_size = (p[0]+2) * (p[1]+2)\n",
        "\n",
        "        if carpet_size - (p[0]*p[1]) == brown:\n",
        "            answer = [p[1]+2, p[0]+2]\n",
        "            break\n",
        "\n",
        "\n",
        "    return answer"
      ],
      "metadata": {
        "id": "fR_Wfl0NaDJL"
      },
      "execution_count": null,
      "outputs": []
    },
    {
      "cell_type": "code",
      "source": [
        "# 다른 사람 풀이\n",
        "def solution(brown, red):\n",
        "    for i in range(1, int(red**(1/2))+1):\n",
        "        if red % i == 0:\n",
        "            if 2*(i + red//i) == brown-4: # 둘레 길이\n",
        "                return [red//i+2, i+2]"
      ],
      "metadata": {
        "id": "N6UTaq5yaG3q"
      },
      "execution_count": null,
      "outputs": []
    }
  ]
}