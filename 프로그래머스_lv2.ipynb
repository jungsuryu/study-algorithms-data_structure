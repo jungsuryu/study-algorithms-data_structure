{
  "nbformat": 4,
  "nbformat_minor": 0,
  "metadata": {
    "colab": {
      "provenance": [],
      "authorship_tag": "ABX9TyOpl30GmZgmH9hn4Yom1bqA",
      "include_colab_link": true
    },
    "kernelspec": {
      "name": "python3",
      "display_name": "Python 3"
    },
    "language_info": {
      "name": "python"
    }
  },
  "cells": [
    {
      "cell_type": "markdown",
      "metadata": {
        "id": "view-in-github",
        "colab_type": "text"
      },
      "source": [
        "<a href=\"https://colab.research.google.com/github/jungsuryu/study-algorithms-data_structure/blob/main/%ED%94%84%EB%A1%9C%EA%B7%B8%EB%9E%98%EB%A8%B8%EC%8A%A4_lv2.ipynb\" target=\"_parent\"><img src=\"https://colab.research.google.com/assets/colab-badge.svg\" alt=\"Open In Colab\"/></a>"
      ]
    },
    {
      "cell_type": "markdown",
      "source": [
        "## 5/12 - 5/18"
      ],
      "metadata": {
        "id": "exnlRqmG0BWK"
      }
    },
    {
      "cell_type": "markdown",
      "source": [
        "### (연습문제) 최대값과 최소값"
      ],
      "metadata": {
        "id": "iwrz8KgGX5S-"
      }
    },
    {
      "cell_type": "code",
      "execution_count": null,
      "metadata": {
        "id": "zF1IkkEcaUh1"
      },
      "outputs": [],
      "source": [
        "def solution(s):\n",
        "    answer = ''\n",
        "    split = [int(i) for i in s.split()]\n",
        "    answer = f\"{min(split)} {max(split)}\"\n",
        "    return answer"
      ]
    },
    {
      "cell_type": "code",
      "source": [
        "# 다른 사람 풀이\n",
        "def solution(s):\n",
        "    s = list(map(int,s.split()))\n",
        "    return str(min(s)) + \" \" + str(max(s))"
      ],
      "metadata": {
        "id": "E_QQRi-kY1NC"
      },
      "execution_count": null,
      "outputs": []
    },
    {
      "cell_type": "markdown",
      "source": [
        "### (연습문제) JaydenCase 문자열 만들기"
      ],
      "metadata": {
        "id": "DHvvIlebZBe7"
      }
    },
    {
      "cell_type": "code",
      "source": [
        "def solution(s):\n",
        "    answer = ' '\n",
        "    case = s.split(' ')\n",
        "    replace = []\n",
        "\n",
        "    for c in case:\n",
        "        if c != '':\n",
        "            replace.append(c[0].upper() + c[1:].lower())\n",
        "        else:\n",
        "            replace.append(c)\n",
        "\n",
        "    return answer.join(replace)"
      ],
      "metadata": {
        "id": "DCHDdLcsZDRr"
      },
      "execution_count": null,
      "outputs": []
    },
    {
      "cell_type": "markdown",
      "source": [
        "### (연습문제) 최솟값 만들기"
      ],
      "metadata": {
        "id": "RApJ5ugCqHFF"
      }
    },
    {
      "cell_type": "code",
      "source": [
        "def solution(A,B):\n",
        "    answer = 0\n",
        "    a = sorted(A)\n",
        "    b = sorted(B)\n",
        "    \n",
        "    for i in range(0, len(A)):\n",
        "        answer += a[0+i] * b[-1-i]\n",
        "\n",
        "    return answer"
      ],
      "metadata": {
        "id": "q8PqdeSrqJ_O"
      },
      "execution_count": null,
      "outputs": []
    },
    {
      "cell_type": "code",
      "source": [
        "# 다른 사람 풀이\n",
        "def getMinSum(A, B):\n",
        "    return sum([a * b for a, b in zip(sorted(A), sorted(B, reverse=True))])"
      ],
      "metadata": {
        "id": "y1Ii2GVWqJpJ"
      },
      "execution_count": null,
      "outputs": []
    },
    {
      "cell_type": "markdown",
      "source": [
        "### (스택/큐) 올바른 괄호"
      ],
      "metadata": {
        "id": "QSvvxZ1U7GLL"
      }
    },
    {
      "cell_type": "code",
      "source": [
        "def solution(s):\n",
        "    answer = True\n",
        "    stack = []\n",
        "    \n",
        "    if s[0] == ')':\n",
        "        answer = False\n",
        "    \n",
        "    for i in s:\n",
        "        if i == '(':\n",
        "            stack.append(i)\n",
        "        else:\n",
        "            if stack:\n",
        "                stack.pop()\n",
        "            else:\n",
        "                continue\n",
        "\n",
        "    \n",
        "    if len(stack) != 0:\n",
        "        answer = False\n",
        "    \n",
        "\n",
        "    return answer"
      ],
      "metadata": {
        "id": "VctifBjU7I-8"
      },
      "execution_count": null,
      "outputs": []
    },
    {
      "cell_type": "code",
      "source": [
        "# 다른 사람 풀이\n",
        "def is_pair(s):\n",
        "    pair = 0\n",
        "    for x in s:\n",
        "        if pair < 0: break\n",
        "        pair = pair + 1 if x == \"(\" else pair - 1 if x == \")\" else pair\n",
        "    return pair == 0"
      ],
      "metadata": {
        "id": "65XkMC3W7Nph"
      },
      "execution_count": null,
      "outputs": []
    },
    {
      "cell_type": "markdown",
      "source": [
        "### (월간 코드 챌린지 시즌1) 이진 변환 반복하기"
      ],
      "metadata": {
        "id": "O3u8kXlA5gtJ"
      }
    },
    {
      "cell_type": "code",
      "source": [
        "from collections import Counter\n",
        "\n",
        "def solution(s):\n",
        "    remove_zero = 0\n",
        "    times = 0\n",
        "    \n",
        "    while s != '1':\n",
        "        if Counter(s).get('0') != None:\n",
        "            remove_zero += int(Counter(s).get('0'))\n",
        "        else:\n",
        "            pass\n",
        "    \n",
        "        removed = ''.join([i for i in s if i=='1'])\n",
        "        new_len = len(removed)\n",
        "        \n",
        "        s = bin(new_len)[2:]\n",
        "        \n",
        "        times += 1\n",
        "\n",
        "    return [times, remove_zero]"
      ],
      "metadata": {
        "id": "AY6d2xeX5mhe"
      },
      "execution_count": null,
      "outputs": []
    },
    {
      "cell_type": "code",
      "source": [
        "# 다른 사람 풀이\n",
        "def solution(s):\n",
        "    a, b = 0, 0\n",
        "    while s != '1':\n",
        "        a += 1\n",
        "        num = s.count('1')\n",
        "        b += len(s) - num\n",
        "        s = bin(num)[2:]\n",
        "    return [a, b]"
      ],
      "metadata": {
        "id": "BzO2p1Ts5xBb"
      },
      "execution_count": null,
      "outputs": []
    },
    {
      "cell_type": "markdown",
      "source": [
        "### (연습문제) 숫자의 표현"
      ],
      "metadata": {
        "id": "9tT5Szec6DcY"
      }
    },
    {
      "cell_type": "code",
      "source": [
        "def solution(n):\n",
        "    answer = 0\n",
        "    \n",
        "    for i in range(1, n+1):\n",
        "        sum = 0\n",
        "        for j in range(i, n+1):\n",
        "            sum += j\n",
        "            if sum == n:\n",
        "                answer += 1\n",
        "                break\n",
        "            elif sum > n:\n",
        "                break\n",
        "\n",
        "        \n",
        "    return answer"
      ],
      "metadata": {
        "id": "diVK8Mj06FX1"
      },
      "execution_count": null,
      "outputs": []
    },
    {
      "cell_type": "markdown",
      "source": [
        "### (연습문제) 다음 큰 숫자"
      ],
      "metadata": {
        "id": "g3DCA0sIBpKo"
      }
    },
    {
      "cell_type": "code",
      "source": [
        "def solution(n):\n",
        "    inc = 0\n",
        "    new_n = 0\n",
        "    ones = 0\n",
        "    \n",
        "    n_binary_ones = bin(n)[2:].count('1')\n",
        "    \n",
        "    while ones != n_binary_ones:\n",
        "        new_n = n + 1 + inc\n",
        "        ones = bin(new_n)[2:].count('1')\n",
        "        inc += 1\n",
        "        \n",
        "    return new_n"
      ],
      "metadata": {
        "id": "h78GqGtQBqaj"
      },
      "execution_count": null,
      "outputs": []
    },
    {
      "cell_type": "code",
      "source": [
        "# 다른 사람 풀이\n",
        "def nextBigNumber(n):\n",
        "    num1 = bin(n).count('1')\n",
        "    while True:\n",
        "        n = n + 1\n",
        "        if num1 == bin(n).count('1'):\n",
        "            break\n",
        "    return n"
      ],
      "metadata": {
        "id": "HJmoAeAmBxHO"
      },
      "execution_count": null,
      "outputs": []
    },
    {
      "cell_type": "markdown",
      "source": [
        "### (연습문제) 피보나치 수"
      ],
      "metadata": {
        "id": "B9hnEuZayFxR"
      }
    },
    {
      "cell_type": "code",
      "source": [
        "def fibonacci(num):\n",
        "    result = [0, 1]\n",
        "    i = 2\n",
        "    \n",
        "    while i <= num:\n",
        "        result.append(result[i-2] + result[i-1])\n",
        "        i += 1\n",
        "        \n",
        "    return result[-1]\n",
        "\n",
        "\n",
        "def solution(n):\n",
        "    answer = fibonacci(n) % 1234567\n",
        "    \n",
        "    return answer"
      ],
      "metadata": {
        "id": "LIWvleD8yJoK"
      },
      "execution_count": null,
      "outputs": []
    },
    {
      "cell_type": "code",
      "source": [
        "# 다른 사람 풀이\n",
        "def fibonacci(num):\n",
        "    a, b = 0, 1 \n",
        "    for i in range(num):\n",
        "        a, b = b, (a+b)%1234567\n",
        "    return a"
      ],
      "metadata": {
        "id": "TceENIW_yfZD"
      },
      "execution_count": 1,
      "outputs": []
    },
    {
      "cell_type": "markdown",
      "source": [
        "### (2017 팁스타운) 짝지어 제거하기"
      ],
      "metadata": {
        "id": "IWu0A2rhLjrJ"
      }
    },
    {
      "cell_type": "code",
      "source": [
        "def solution(s):\n",
        "    stack = []\n",
        "    \n",
        "    for i in range(len(s)):\n",
        "        if not stack:\n",
        "            stack.append(s[i])\n",
        "        else:\n",
        "            if s[i] == stack[-1]:\n",
        "                stack.pop()\n",
        "            else:\n",
        "                stack.append(s[i])\n",
        "                \n",
        "    if stack:\n",
        "        answer = 0\n",
        "    else:\n",
        "        answer = 1\n",
        "    \n",
        "            \n",
        "\n",
        "    return answer"
      ],
      "metadata": {
        "id": "FT9Q5gI7yntF"
      },
      "execution_count": null,
      "outputs": []
    },
    {
      "cell_type": "markdown",
      "source": [
        "### (Summer/Winter Coding(~2018)) 영어 끝말잇기"
      ],
      "metadata": {
        "id": "UX7-navRLyJU"
      }
    },
    {
      "cell_type": "code",
      "source": [
        "def solution(n, words):\n",
        "    answer = [0, 0] # [사람번호, 차례수]\n",
        "    p_cnt = 0\n",
        "    \n",
        "    saw = []\n",
        "    saw.append(words[0])\n",
        "    for j in range(1, len(words)):\n",
        "        p_cnt += 1\n",
        "        if words[j-1][-1] == words[j][0] and words[j] not in saw:\n",
        "            saw.append(words[j])\n",
        "        else:\n",
        "            answer[0] = p_cnt % n + 1\n",
        "            answer[1] = p_cnt // n + 1\n",
        "            break\n",
        "            \n",
        "        \n",
        "    return answer"
      ],
      "metadata": {
        "id": "7BI05SRvL4C6"
      },
      "execution_count": null,
      "outputs": []
    },
    {
      "cell_type": "code",
      "source": [
        "# 다른 사람 풀이\n",
        "def solution(n, words):\n",
        "    for p in range(1, len(words)):\n",
        "        if words[p][0] != words[p-1][-1] or words[p] in words[:p]: return [(p%n)+1, (p//n)+1]\n",
        "    else:\n",
        "        return [0,0]"
      ],
      "metadata": {
        "id": "bwXwEOC7R3KB"
      },
      "execution_count": null,
      "outputs": []
    }
  ]
}