{
  "nbformat": 4,
  "nbformat_minor": 0,
  "metadata": {
    "colab": {
      "provenance": [],
      "authorship_tag": "ABX9TyN5ZCdPEId9FLu8zPTp/xPj",
      "include_colab_link": true
    },
    "kernelspec": {
      "name": "python3",
      "display_name": "Python 3"
    },
    "language_info": {
      "name": "python"
    }
  },
  "cells": [
    {
      "cell_type": "markdown",
      "metadata": {
        "id": "view-in-github",
        "colab_type": "text"
      },
      "source": [
        "<a href=\"https://colab.research.google.com/github/jungsuryu/study-algorithms-data_structure/blob/main/%ED%94%84%EB%A1%9C%EA%B7%B8%EB%9E%98%EB%A8%B8%EC%8A%A4_lv2.ipynb\" target=\"_parent\"><img src=\"https://colab.research.google.com/assets/colab-badge.svg\" alt=\"Open In Colab\"/></a>"
      ]
    },
    {
      "cell_type": "markdown",
      "source": [
        "## 6/2 - 6/8"
      ],
      "metadata": {
        "id": "CdiX11PEMm_C"
      }
    },
    {
      "cell_type": "markdown",
      "source": [
        "### (탐욕법(Greedy))  큰 수 만들기"
      ],
      "metadata": {
        "id": "Q7wXLmAjMp3g"
      }
    },
    {
      "cell_type": "code",
      "source": [
        "def solution(number, k):\n",
        "    answer = ''\n",
        "    temp = []\n",
        "\n",
        "    for n in number:\n",
        "        if not temp:\n",
        "            temp.append(n)\n",
        "            continue\n",
        "        if k > 0:\n",
        "            while temp[-1] < n:\n",
        "                temp.pop()\n",
        "                k -= 1\n",
        "                if not temp or k <= 0:\n",
        "                    break\n",
        "        temp.append(n)\n",
        "    \n",
        "    temp = temp[:-k] if k > 0 else temp # k번 다 썼는데 뒤에 숫자가 남았을 때 처리\n",
        "    answer = ''.join(temp)\n",
        "    \n",
        "    return answer"
      ],
      "metadata": {
        "id": "jXnqQKewPAvH"
      },
      "execution_count": null,
      "outputs": []
    },
    {
      "cell_type": "code",
      "source": [
        "# 다른 사람 풀이 (더 간결하게)\n",
        "def solution(number, k):\n",
        "    st = []\n",
        "    for i in range(len(number)):\n",
        "        while st and k > 0 and st[-1] < number[i]:\n",
        "            st.pop()\n",
        "            k -= 1\n",
        "        st.append(number[i])\n",
        "    return ''.join(st[:len(st) - k])"
      ],
      "metadata": {
        "id": "rZyY4i8nPIyf"
      },
      "execution_count": null,
      "outputs": []
    },
    {
      "cell_type": "markdown",
      "source": [
        "### (스택/큐) 다리를 지나는 트럭"
      ],
      "metadata": {
        "id": "BABV9WUfWxU6"
      }
    },
    {
      "cell_type": "code",
      "source": [
        "# 테스트 케이스 하나에서 시간 초과.. \n",
        "def solution(bridge_length, weight, truck_weights):\n",
        "    answer = 0\n",
        "    bridge = [0 for _ in range(bridge_length)]\n",
        "    weight_sum = 0\n",
        "\n",
        "    while bridge: # bridge에 값이 있을 동안\n",
        "        answer += 1\n",
        "        bridge.pop(0) # bridge 맨 앞 원소 pop\n",
        "        \n",
        "        if truck_weights: # truck_weight에 값이 있다면\n",
        "            if sum(bridge) + truck_weights[0] <= weight:   # 현재 bridge 위 트럭들의 무게와 대기 중인 트럭 무게를 더한 것이 다리가 감당할 수 있는 범위 내라면        \n",
        "                t = truck_weights.pop(0) # 대기줄에서\n",
        "                bridge.append(t) # 다리 위로 이동\n",
        "            else: # 범위 밖이라면\n",
        "                bridge.append(0) # 다시 다리에 0 채워주기\n",
        "                 \n",
        "\n",
        "    return answer"
      ],
      "metadata": {
        "id": "PVmchSBWW0TD"
      },
      "execution_count": null,
      "outputs": []
    },
    {
      "cell_type": "code",
      "source": [
        "# 다른 사람 풀이\n",
        "### deque 개념 사용\n",
        "'''\n",
        "[deque의 popleft()를 활용하는 것이 시간적으로 더 좋음]\n",
        "deque의 popleft() 삭제시간: O(1)\n",
        "list의 pop(0): O(n)\n",
        "'''\n",
        "\n",
        "from collections import deque\n",
        "\n",
        "def solution(bridge_length, weight, truck_weights):\n",
        "    \n",
        "    time = 0\n",
        "    bridge = deque([0] * bridge_length)\n",
        "    truck_weights = deque(truck_weights)\n",
        "    \n",
        "    currentWeight = 0\n",
        "    while len(truck_weights)!=0:\n",
        "        time+=1\n",
        "\n",
        "        currentWeight -= bridge.popleft()\n",
        "\n",
        "        if currentWeight + truck_weights[0] <= weight:\n",
        "            currentWeight+= truck_weights[0]\n",
        "            bridge.append(truck_weights.popleft())\n",
        "\n",
        "        else: \n",
        "            bridge.append(0)\n",
        "            \n",
        "    time += bridge_length\n",
        "    \n",
        "    return time"
      ],
      "metadata": {
        "id": "LeF7WK8YW2gB"
      },
      "execution_count": null,
      "outputs": []
    },
    {
      "cell_type": "markdown",
      "source": [
        "## 5/26 - 6/1"
      ],
      "metadata": {
        "id": "EyKSNv8wsHtX"
      }
    },
    {
      "cell_type": "markdown",
      "source": [
        "### (연습문제) 할인 행사"
      ],
      "metadata": {
        "id": "jiqR62LvsLwv"
      }
    },
    {
      "cell_type": "code",
      "source": [
        "from collections import Counter\n",
        "\n",
        "def solution(want, number, discount):\n",
        "    answer = 0\n",
        "    want_dict = {w:n for (w,n) in zip(want, number)} # 희망 아이템과 수량\n",
        "\n",
        "    for i in range(len(discount)-10+1):\n",
        "        day_discount = discount[i:10+i] # 10일 연속 할인 아이템\n",
        "        discount_cnt = dict(Counter(day_discount)) # 할인 아이템 세기\n",
        "        \n",
        "        # 수량 비교\n",
        "        for item in want_dict:\n",
        "            if (item in discount_cnt.keys()) and (want_dict[item] <= discount_cnt[item]):\n",
        "                continue\n",
        "            else:\n",
        "                break\n",
        "        else:\n",
        "            answer += 1\n",
        "\n",
        "                \n",
        "    return answer"
      ],
      "metadata": {
        "id": "1KI_HoqGsOnU"
      },
      "execution_count": null,
      "outputs": []
    },
    {
      "cell_type": "markdown",
      "source": [
        "### (연습문제) 행렬의 곱셈"
      ],
      "metadata": {
        "id": "Vo2jXUw-cdsv"
      }
    },
    {
      "cell_type": "code",
      "source": [
        "# 작동은 하지만 런타임 에러를 피해갈 수 없는,,,\n",
        "def solution(arr1, arr2):\n",
        "    answer = []\n",
        "    for i in range(len(arr1)): \n",
        "        v1 = arr1[i] \n",
        "        r_dot = []\n",
        "        for j in range(len(arr2)): \n",
        "            v2 = [arr2[k][j] for k in range(len(arr2[0]))] \n",
        "            e_sum = 0\n",
        "            dots = []\n",
        "            for e in range(len(v1)): \n",
        "                e_sum += v1[e] * v2[e] \n",
        "            dots.append(e_sum) # 22\n",
        "            r_dot.extend(dots)\n",
        "        answer.append(r_dot)\n",
        "        \n",
        "    return answer"
      ],
      "metadata": {
        "id": "DjsPzKR_cgab"
      },
      "execution_count": null,
      "outputs": []
    },
    {
      "cell_type": "code",
      "source": [
        "# 통과된 풀이\n",
        "def solution(arr1, arr2):\n",
        "    answer = [[0]*len(arr2[0]) for _ in range(len(arr1))] # return 행렬의 크기 지정\n",
        "    for i in range(len(arr1)): \n",
        "        for j in range(len(arr2[0])):\n",
        "            for k in range(len(arr1[0])):\n",
        "                answer[i][j] += arr1[i][k] * arr2[k][j] \n",
        "                \n",
        "    return answer"
      ],
      "metadata": {
        "id": "_y2Agmpacmbp"
      },
      "execution_count": null,
      "outputs": []
    },
    {
      "cell_type": "code",
      "source": [
        "# 다른 사람 풀이\n",
        "def productMatrix(A, B):\n",
        "    return [[sum(a*b for a, b in zip(A_row,B_col)) for B_col in zip(*B)] for A_row in A] # zip에 *은 unpack을 의미함"
      ],
      "metadata": {
        "id": "WsR7WS8PcpS4"
      },
      "execution_count": null,
      "outputs": []
    },
    {
      "cell_type": "markdown",
      "source": [
        "### (해시) 전화번호 목록"
      ],
      "metadata": {
        "id": "KcW-7pWYYzHu"
      }
    },
    {
      "cell_type": "code",
      "source": [
        "# 작동은 하지만 시간 초과\n",
        "def solution(phone_book):\n",
        "    answer = True\n",
        "    \n",
        "    phone_book.sort(key=lambda x: len(x))\n",
        "\n",
        "    for i, phone1 in enumerate(phone_book): \n",
        "        hash_map = {}\n",
        "        for phone2 in phone_book[i+1:]: \n",
        "            hash_map[phone2[:len(phone1)]] = phone2 \n",
        "        if phone1 in hash_map:\n",
        "            answer = False\n",
        "            break\n",
        "        \n",
        "    return answer"
      ],
      "metadata": {
        "id": "Ip7O1-zvY07R"
      },
      "execution_count": null,
      "outputs": []
    },
    {
      "cell_type": "code",
      "source": [
        "# zip과 startswith를 활용한 풀이\n",
        "def solution(phoneBook):\n",
        "    phoneBook = sorted(phoneBook)\n",
        "\n",
        "    for p1, p2 in zip(phoneBook, phoneBook[1:]):\n",
        "        if p2.startswith(p1):\n",
        "            return False\n",
        "    return True"
      ],
      "metadata": {
        "id": "1-zbeW-RY6cZ"
      },
      "execution_count": null,
      "outputs": []
    },
    {
      "cell_type": "code",
      "source": [
        "# 문제의 의도대로 '해시'로 해결한 풀이\n",
        "def solution(phone_book): \n",
        "\n",
        "    # 1.Hash map생성\n",
        "    hash_map = {} \n",
        "    for nums in phone_book: \n",
        "        hash_map[nums] = 1 \n",
        "    \n",
        "    # 2.접두어가 Hash map에 존재하는지 찾기 \n",
        "    for nums in phone_book: \n",
        "        arr = \"\" \n",
        "        for num in nums: \n",
        "            arr += num\n",
        "    \n",
        "            # 3. 본인 자체일 경우는 제외\n",
        "            if arr in hash_map and arr != nums:       \n",
        "                return False \n",
        "                \n",
        "    return True"
      ],
      "metadata": {
        "id": "Rg9hTDdvZAFa"
      },
      "execution_count": null,
      "outputs": []
    },
    {
      "cell_type": "markdown",
      "source": [
        "### (Summer/Winder Coding(~2018)) 점프와 순간이동"
      ],
      "metadata": {
        "id": "a6UMcUY0Pvcu"
      }
    },
    {
      "cell_type": "code",
      "source": [
        "def solution(n):\n",
        "    ans = 0\n",
        "    \n",
        "    while n != 0:\n",
        "        if n % 2 == 0:\n",
        "            n //= 2\n",
        "        else:\n",
        "            n -= 1\n",
        "            ans += 1\n",
        "\n",
        "    return ans"
      ],
      "metadata": {
        "id": "pi8ak6hXP0OP"
      },
      "execution_count": null,
      "outputs": []
    },
    {
      "cell_type": "code",
      "source": [
        "# 다른 사람 풀이\n",
        "def solution(n):\n",
        "    return bin(n).count('1')"
      ],
      "metadata": {
        "id": "tYGgvg0EQCmO"
      },
      "execution_count": null,
      "outputs": []
    },
    {
      "cell_type": "code",
      "source": [
        "# 다른 사람 풀이\n",
        "def solution(n):\n",
        "    answer = 1\n",
        "    while n > 1:\n",
        "        answer += n % 2\n",
        "        n = n // 2\n",
        "    return answer"
      ],
      "metadata": {
        "id": "sepRKGWTQIUZ"
      },
      "execution_count": null,
      "outputs": []
    },
    {
      "cell_type": "markdown",
      "source": [
        "### (연습문제) N개의 최소공배수"
      ],
      "metadata": {
        "id": "xmAjAKU4VYbA"
      }
    },
    {
      "cell_type": "code",
      "source": [
        "def gcd(a, b):\n",
        "    for i in range(min(a, b), 0, -1):\n",
        "        if a % i == 0 and b % i == 0:\n",
        "            return i\n",
        "        \n",
        "def solution(arr):\n",
        "    answer = 0\n",
        "    lcm = arr[0]\n",
        "    for i in range(1, len(arr)):\n",
        "        lcm = lcm * arr[i] // gcd(lcm, arr[i])\n",
        "          \n",
        "        \n",
        "            \n",
        "    return lcm"
      ],
      "metadata": {
        "id": "WBXT-TpQVcOO"
      },
      "execution_count": null,
      "outputs": []
    },
    {
      "cell_type": "markdown",
      "source": [
        "### (연습문제) 멀리 뛰기"
      ],
      "metadata": {
        "id": "rx0dsv_do7oc"
      }
    },
    {
      "cell_type": "code",
      "source": [
        "def solution(n):\n",
        "    # answer = 0\n",
        "    \n",
        "    if n < 3:\n",
        "        return n\n",
        "    else:\n",
        "        distance = [0 for _ in range(n)]\n",
        "        distance[0] = 1\n",
        "        distance[1] = 2\n",
        "        for d in range(2, n):\n",
        "            distance[d] = distance[d-1] + distance[d-2]  # 점화식\n",
        "    \n",
        "    answer = distance[-1]\n",
        "            \n",
        "    return answer % 1234567"
      ],
      "metadata": {
        "id": "yNn94njeo9X8"
      },
      "execution_count": null,
      "outputs": []
    },
    {
      "cell_type": "markdown",
      "source": [
        "### (월간 코드 챌린지 2) 괄호 회전하기"
      ],
      "metadata": {
        "id": "4sueEsXAxsIK"
      }
    },
    {
      "cell_type": "code",
      "source": [
        "def solution(s):\n",
        "    answer = 0\n",
        "    \n",
        "    for _ in range(len(s)): # (문자열 길이)번 만큼 회전\n",
        "        stack = []\n",
        "        for i in range(len(s)): # 문자열의 각 원소\n",
        "            if s[0] not in ['[', '(', '{']: # 만일 맨 처음에 괄호가 올바르게 시작하지 않는다면 끊기\n",
        "                cur = s[0]\n",
        "                s = s[1:]\n",
        "                s += cur\n",
        "                break\n",
        "\n",
        "            elif s[i] in ['[', '(', '{']: # 괄호가 올바르게 시작한다면\n",
        "                stack.append(s[i])\n",
        "            elif s[i] == ']' and stack[-1:] == ['[']:\n",
        "                stack.pop()\n",
        "            elif s[i] == ')' and stack[-1:] == ['(']:\n",
        "                stack.pop()\n",
        "            elif s[i] == '}' and stack[-1:] == ['{']:\n",
        "                stack.pop()\n",
        "\n",
        "        else:\n",
        "            if len(stack) == 0:\n",
        "                answer += 1\n",
        "                \n",
        "            cur = s[0]\n",
        "            s = s[1:]\n",
        "            s += cur\n",
        "            \n",
        "    return answer"
      ],
      "metadata": {
        "id": "h4N1gb8JxvVd"
      },
      "execution_count": null,
      "outputs": []
    },
    {
      "cell_type": "markdown",
      "source": [
        "## 5/19 - 5/25"
      ],
      "metadata": {
        "id": "GHsxtTd7rBux"
      }
    },
    {
      "cell_type": "markdown",
      "source": [
        "### (탐욕법(Greedy)) 구명보트"
      ],
      "metadata": {
        "id": "sq6mMeborGzN"
      }
    },
    {
      "cell_type": "code",
      "source": [
        "def solution(people, limit):\n",
        "    answer = 0\n",
        "    people.sort()\n",
        "    \n",
        "    light = 0\n",
        "    heavy = len(people)-1\n",
        "    \n",
        "    while light <= heavy:\n",
        "        if people[light] + people[heavy] <= limit:\n",
        "            light += 1\n",
        "            heavy -= 1\n",
        "        else:\n",
        "            heavy -= 1\n",
        "        \n",
        "        answer += 1\n",
        "                \n",
        "            \n",
        "    return answer"
      ],
      "metadata": {
        "id": "nyuLFzUQrGJO"
      },
      "execution_count": null,
      "outputs": []
    },
    {
      "cell_type": "markdown",
      "source": [
        "### (2017 팁스타운) 예상 대진표"
      ],
      "metadata": {
        "id": "iyGpr7uF5Qmf"
      }
    },
    {
      "cell_type": "code",
      "source": [
        "def solution(n,a,b):\n",
        "    answer = 0\n",
        "    while a != b:\n",
        "        answer += 1\n",
        "        a, b = (a+1)//2, (b+1)//2\n",
        "        \n",
        "\n",
        "    return answer"
      ],
      "metadata": {
        "id": "VKx7Z27A5VK4"
      },
      "execution_count": null,
      "outputs": []
    },
    {
      "cell_type": "markdown",
      "source": [
        "### (스택/큐) 기능개발"
      ],
      "metadata": {
        "id": "8coXGID9b7wN"
      }
    },
    {
      "cell_type": "code",
      "source": [
        "def solution(progresses, speeds):\n",
        "    answer = []\n",
        "    left_days = []\n",
        "    \n",
        "    for i in range(len(progresses)):\n",
        "        day = 0\n",
        "        while True:\n",
        "            progresses[i] += speeds[i]\n",
        "            day += 1\n",
        "            if progresses[i] >= 100:\n",
        "                left_days.append(day)\n",
        "                break\n",
        "    \n",
        "    release = []\n",
        "    for l in left_days:\n",
        "        if not release:\n",
        "            release.append(l)\n",
        "        else:\n",
        "            if l <= release[0]:\n",
        "                release.append(l)\n",
        "            else:\n",
        "                answer.append(len(release))\n",
        "                release.clear()\n",
        "                release.append(l)\n",
        "\n",
        "    answer.append(len(release))\n",
        "            \n",
        "    return answer"
      ],
      "metadata": {
        "id": "NOoKKoRVb-9a"
      },
      "execution_count": null,
      "outputs": []
    },
    {
      "cell_type": "code",
      "source": [
        "# 다른 사람 풀이\n",
        "def solution(progresses, speeds):\n",
        "    Q=[]\n",
        "    for p, s in zip(progresses, speeds):\n",
        "        if len(Q)==0 or Q[-1][0]<-((p-100)//s): # 필요한 작업일수 구하는 식 (math.ceil과 동일)\n",
        "            Q.append([-((p-100)//s),1])\n",
        "        else:\n",
        "            Q[-1][1]+=1\n",
        "    return [q[1] for q in Q]"
      ],
      "metadata": {
        "id": "htXiv6LhcE1S"
      },
      "execution_count": null,
      "outputs": []
    },
    {
      "cell_type": "code",
      "source": [
        "# 다른 사람 풀이\n",
        "def solution(progresses, speeds):\n",
        "    answer = []\n",
        "    time = 0\n",
        "    count = 0\n",
        "    while len(progresses)> 0:\n",
        "        if (progresses[0] + time*speeds[0]) >= 100:\n",
        "            progresses.pop(0)\n",
        "            speeds.pop(0)\n",
        "            count += 1\n",
        "        else:\n",
        "            if count > 0:\n",
        "                answer.append(count)\n",
        "                count = 0\n",
        "            time += 1\n",
        "    answer.append(count)\n",
        "    return answer"
      ],
      "metadata": {
        "id": "lL_ardy3clH0"
      },
      "execution_count": null,
      "outputs": []
    },
    {
      "cell_type": "markdown",
      "source": [
        "### (스택/큐) 프로세스"
      ],
      "metadata": {
        "id": "bVM0I9xnDULb"
      }
    },
    {
      "cell_type": "code",
      "source": [
        "def solution(priorities, location):\n",
        "    count = 0\n",
        "    line_priorities = [(i, p) for i, p in enumerate(priorities)]\n",
        "    print(line_priorities)\n",
        "    \n",
        "    while True:\n",
        "        current_position = line_priorities.pop(0)\n",
        "        if any(current_position[1] < k[1] for k in line_priorities): # any 내장함수 사용\n",
        "            line_priorities.append(current_position)\n",
        "        else:\n",
        "            count += 1\n",
        "            if current_position[0] == location:\n",
        "                return count"
      ],
      "metadata": {
        "id": "58ykAx95DbVF"
      },
      "execution_count": null,
      "outputs": []
    },
    {
      "cell_type": "code",
      "source": [
        "# 다른 사람 풀이\n",
        "def solution(priorities, location):\n",
        "  jobs = len(priorities)\n",
        "  answer = 0\n",
        "  cursor = 0\n",
        "  while True:\n",
        "      if max(priorities) == priorities[cursor%jobs]:\n",
        "          priorities[cursor%jobs] = 0\n",
        "          answer += 1\n",
        "          if cursor%jobs == location:\n",
        "              break\n",
        "      cursor += 1   \n",
        "  return answer"
      ],
      "metadata": {
        "id": "ij_Fl7ZfDufX"
      },
      "execution_count": null,
      "outputs": []
    },
    {
      "cell_type": "markdown",
      "source": [
        "## 5/12 - 5/18"
      ],
      "metadata": {
        "id": "exnlRqmG0BWK"
      }
    },
    {
      "cell_type": "markdown",
      "source": [
        "### (11주차) 정렬 실습"
      ],
      "metadata": {
        "id": "Tg0m0L2jdqzA"
      }
    },
    {
      "cell_type": "markdown",
      "source": [
        "#### 선택 정렬과 퀵 정렬의 성능 비교"
      ],
      "metadata": {
        "id": "9L6Add41-WTj"
      }
    },
    {
      "cell_type": "code",
      "source": [
        "# 퀵 정렬\n",
        "def quickSort(ary) :\n",
        "\n",
        "\tn = len(ary)\n",
        "\tif n <= 1 : # 정렬할 리스트의 개수가 1개 이하면\n",
        "\t\treturn ary\n",
        "\t\n",
        "\tpivot = ary[n // 2]   # 기준값을 중간값으로 지정\n",
        "\tleftAry, rightAry = [], []\n",
        "\n",
        "\tfor num in ary :\n",
        "\t\tif num < pivot :\n",
        "\t\t\tleftAry.append(num)\n",
        "\t\telif num > pivot :\n",
        "\t\t\trightAry.append(num)\n",
        "\n",
        "\treturn quickSort(leftAry) + [pivot] + quickSort(rightAry)\n",
        "\n",
        "# 선택 정렬\n",
        "def selection_sort(arr):\n",
        "    for i in range(len(arr) - 1):\n",
        "        min_idx = i\n",
        "        for j in range(i + 1, len(arr)):\n",
        "            if arr[j] < arr[min_idx]:\n",
        "                min_idx = j\n",
        "        arr[i], arr[min_idx] = arr[min_idx], arr[i]"
      ],
      "metadata": {
        "id": "me11YuXCbYND"
      },
      "execution_count": null,
      "outputs": []
    },
    {
      "cell_type": "code",
      "source": [
        "import random\n",
        "data_1000 = [random.randint(0, 10000) for i in range(1000)]\n",
        "data_10000 = [random.randint(0, 12000) for i in range(10000)]\n",
        "data_12000 = [random.randint(0, 15000) for i in range(12000)]\n",
        "data_15000 = [random.randint(0, 20000) for i in range(15000)]"
      ],
      "metadata": {
        "id": "L6ejn7350DcB"
      },
      "execution_count": null,
      "outputs": []
    },
    {
      "cell_type": "code",
      "source": [
        "import math\n",
        "import time\n",
        "\n",
        "def compare_time(data_arr):\n",
        "  # quick sort\n",
        "  qs_start = time.time()\n",
        "  qs = quickSort(data_arr)\n",
        "  qs_end = time.time()\n",
        "  quick_time = qs_end - qs_start\n",
        "\n",
        "  # selection sort\n",
        "  ss_start = time.time()\n",
        "  ss = selection_sort(data_arr)\n",
        "  ss_end = time.time()\n",
        "  selection_time = ss_end - ss_start\n",
        "\n",
        "  return quick_time, selection_time"
      ],
      "metadata": {
        "id": "skmDs5Nmcp2G"
      },
      "execution_count": null,
      "outputs": []
    },
    {
      "cell_type": "code",
      "source": [
        "data = [data_1000, data_10000, data_12000, data_15000]\n",
        "num = [1000, 10000, 12000, 15000]\n",
        "\n",
        "for pair in zip(num, data):\n",
        "  print(f'## 데이터 수 : {pair[0]}개')\n",
        "  print(f'      선택 정렬 --> {compare_time(pair[1])[1]:.3f} 초')\n",
        "  print(f'      퀵 정렬 --> {compare_time(pair[1])[0]:.3f} 초')\n",
        "  print()\n",
        "\n"
      ],
      "metadata": {
        "colab": {
          "base_uri": "https://localhost:8080/"
        },
        "id": "_uC8NrlsdOEH",
        "outputId": "a7b91b66-ba20-4b35-a505-bfc7cac33602"
      },
      "execution_count": null,
      "outputs": [
        {
          "output_type": "stream",
          "name": "stdout",
          "text": [
            "## 데이터 수 : 1000개\n",
            "      선택 정렬 --> 0.038 초\n",
            "      퀵 정렬 --> 0.001 초\n",
            "\n",
            "## 데이터 수 : 10000개\n",
            "      선택 정렬 --> 3.554 초\n",
            "      퀵 정렬 --> 0.013 초\n",
            "\n",
            "## 데이터 수 : 12000개\n",
            "      선택 정렬 --> 5.082 초\n",
            "      퀵 정렬 --> 0.017 초\n",
            "\n",
            "## 데이터 수 : 15000개\n",
            "      선택 정렬 --> 8.918 초\n",
            "      퀵 정렬 --> 0.021 초\n",
            "\n"
          ]
        }
      ]
    },
    {
      "cell_type": "markdown",
      "source": [
        "### (연습문제) 최대값과 최소값"
      ],
      "metadata": {
        "id": "iwrz8KgGX5S-"
      }
    },
    {
      "cell_type": "code",
      "execution_count": null,
      "metadata": {
        "id": "zF1IkkEcaUh1"
      },
      "outputs": [],
      "source": [
        "def solution(s):\n",
        "    answer = ''\n",
        "    split = [int(i) for i in s.split()]\n",
        "    answer = f\"{min(split)} {max(split)}\"\n",
        "    return answer"
      ]
    },
    {
      "cell_type": "code",
      "source": [
        "# 다른 사람 풀이\n",
        "def solution(s):\n",
        "    s = list(map(int,s.split()))\n",
        "    return str(min(s)) + \" \" + str(max(s))"
      ],
      "metadata": {
        "id": "E_QQRi-kY1NC"
      },
      "execution_count": null,
      "outputs": []
    },
    {
      "cell_type": "markdown",
      "source": [
        "### (연습문제) JaydenCase 문자열 만들기"
      ],
      "metadata": {
        "id": "DHvvIlebZBe7"
      }
    },
    {
      "cell_type": "code",
      "source": [
        "def solution(s):\n",
        "    answer = ' '\n",
        "    case = s.split(' ')\n",
        "    replace = []\n",
        "\n",
        "    for c in case:\n",
        "        if c != '':\n",
        "            replace.append(c[0].upper() + c[1:].lower())\n",
        "        else:\n",
        "            replace.append(c)\n",
        "\n",
        "    return answer.join(replace)"
      ],
      "metadata": {
        "id": "DCHDdLcsZDRr"
      },
      "execution_count": null,
      "outputs": []
    },
    {
      "cell_type": "markdown",
      "source": [
        "### (연습문제) 최솟값 만들기"
      ],
      "metadata": {
        "id": "RApJ5ugCqHFF"
      }
    },
    {
      "cell_type": "code",
      "source": [
        "def solution(A,B):\n",
        "    answer = 0\n",
        "    a = sorted(A)\n",
        "    b = sorted(B)\n",
        "    \n",
        "    for i in range(0, len(A)):\n",
        "        answer += a[0+i] * b[-1-i]\n",
        "\n",
        "    return answer"
      ],
      "metadata": {
        "id": "q8PqdeSrqJ_O"
      },
      "execution_count": null,
      "outputs": []
    },
    {
      "cell_type": "code",
      "source": [
        "# 다른 사람 풀이\n",
        "def getMinSum(A, B):\n",
        "    return sum([a * b for a, b in zip(sorted(A), sorted(B, reverse=True))])"
      ],
      "metadata": {
        "id": "y1Ii2GVWqJpJ"
      },
      "execution_count": null,
      "outputs": []
    },
    {
      "cell_type": "markdown",
      "source": [
        "### (스택/큐) 올바른 괄호"
      ],
      "metadata": {
        "id": "QSvvxZ1U7GLL"
      }
    },
    {
      "cell_type": "code",
      "source": [
        "def solution(s):\n",
        "    answer = True\n",
        "    stack = []\n",
        "    \n",
        "    if s[0] == ')':\n",
        "        answer = False\n",
        "    \n",
        "    for i in s:\n",
        "        if i == '(':\n",
        "            stack.append(i)\n",
        "        else:\n",
        "            if stack:\n",
        "                stack.pop()\n",
        "            else:\n",
        "                continue\n",
        "\n",
        "    \n",
        "    if len(stack) != 0:\n",
        "        answer = False\n",
        "    \n",
        "\n",
        "    return answer"
      ],
      "metadata": {
        "id": "VctifBjU7I-8"
      },
      "execution_count": null,
      "outputs": []
    },
    {
      "cell_type": "code",
      "source": [
        "# 다른 사람 풀이\n",
        "def is_pair(s):\n",
        "    pair = 0\n",
        "    for x in s:\n",
        "        if pair < 0: break\n",
        "        pair = pair + 1 if x == \"(\" else pair - 1 if x == \")\" else pair\n",
        "    return pair == 0"
      ],
      "metadata": {
        "id": "65XkMC3W7Nph"
      },
      "execution_count": null,
      "outputs": []
    },
    {
      "cell_type": "markdown",
      "source": [
        "### (월간 코드 챌린지 시즌1) 이진 변환 반복하기"
      ],
      "metadata": {
        "id": "O3u8kXlA5gtJ"
      }
    },
    {
      "cell_type": "code",
      "source": [
        "from collections import Counter\n",
        "\n",
        "def solution(s):\n",
        "    remove_zero = 0\n",
        "    times = 0\n",
        "    \n",
        "    while s != '1':\n",
        "        if Counter(s).get('0') != None:\n",
        "            remove_zero += int(Counter(s).get('0'))\n",
        "        else:\n",
        "            pass\n",
        "    \n",
        "        removed = ''.join([i for i in s if i=='1'])\n",
        "        new_len = len(removed)\n",
        "        \n",
        "        s = bin(new_len)[2:]\n",
        "        \n",
        "        times += 1\n",
        "\n",
        "    return [times, remove_zero]"
      ],
      "metadata": {
        "id": "AY6d2xeX5mhe"
      },
      "execution_count": null,
      "outputs": []
    },
    {
      "cell_type": "code",
      "source": [
        "# 다른 사람 풀이\n",
        "def solution(s):\n",
        "    a, b = 0, 0\n",
        "    while s != '1':\n",
        "        a += 1\n",
        "        num = s.count('1')\n",
        "        b += len(s) - num\n",
        "        s = bin(num)[2:]\n",
        "    return [a, b]"
      ],
      "metadata": {
        "id": "BzO2p1Ts5xBb"
      },
      "execution_count": null,
      "outputs": []
    },
    {
      "cell_type": "markdown",
      "source": [
        "### (연습문제) 숫자의 표현"
      ],
      "metadata": {
        "id": "9tT5Szec6DcY"
      }
    },
    {
      "cell_type": "code",
      "source": [
        "def solution(n):\n",
        "    answer = 0\n",
        "    \n",
        "    for i in range(1, n+1):\n",
        "        sum = 0\n",
        "        for j in range(i, n+1):\n",
        "            sum += j\n",
        "            if sum == n:\n",
        "                answer += 1\n",
        "                break\n",
        "            elif sum > n:\n",
        "                break\n",
        "\n",
        "        \n",
        "    return answer"
      ],
      "metadata": {
        "id": "diVK8Mj06FX1"
      },
      "execution_count": null,
      "outputs": []
    },
    {
      "cell_type": "markdown",
      "source": [
        "### (연습문제) 다음 큰 숫자"
      ],
      "metadata": {
        "id": "g3DCA0sIBpKo"
      }
    },
    {
      "cell_type": "code",
      "source": [
        "def solution(n):\n",
        "    inc = 0\n",
        "    new_n = 0\n",
        "    ones = 0\n",
        "    \n",
        "    n_binary_ones = bin(n)[2:].count('1')\n",
        "    \n",
        "    while ones != n_binary_ones:\n",
        "        new_n = n + 1 + inc\n",
        "        ones = bin(new_n)[2:].count('1')\n",
        "        inc += 1\n",
        "        \n",
        "    return new_n"
      ],
      "metadata": {
        "id": "h78GqGtQBqaj"
      },
      "execution_count": null,
      "outputs": []
    },
    {
      "cell_type": "code",
      "source": [
        "# 다른 사람 풀이\n",
        "def nextBigNumber(n):\n",
        "    num1 = bin(n).count('1')\n",
        "    while True:\n",
        "        n = n + 1\n",
        "        if num1 == bin(n).count('1'):\n",
        "            break\n",
        "    return n"
      ],
      "metadata": {
        "id": "HJmoAeAmBxHO"
      },
      "execution_count": null,
      "outputs": []
    },
    {
      "cell_type": "markdown",
      "source": [
        "### (연습문제) 피보나치 수"
      ],
      "metadata": {
        "id": "B9hnEuZayFxR"
      }
    },
    {
      "cell_type": "code",
      "source": [
        "def fibonacci(num):\n",
        "    result = [0, 1]\n",
        "    i = 2\n",
        "    \n",
        "    while i <= num:\n",
        "        result.append(result[i-2] + result[i-1])\n",
        "        i += 1\n",
        "        \n",
        "    return result[-1]\n",
        "\n",
        "\n",
        "def solution(n):\n",
        "    answer = fibonacci(n) % 1234567\n",
        "    \n",
        "    return answer"
      ],
      "metadata": {
        "id": "LIWvleD8yJoK"
      },
      "execution_count": null,
      "outputs": []
    },
    {
      "cell_type": "code",
      "source": [
        "# 다른 사람 풀이\n",
        "def fibonacci(num):\n",
        "    a, b = 0, 1 \n",
        "    for i in range(num):\n",
        "        a, b = b, (a+b)%1234567\n",
        "    return a"
      ],
      "metadata": {
        "id": "TceENIW_yfZD"
      },
      "execution_count": null,
      "outputs": []
    },
    {
      "cell_type": "markdown",
      "source": [
        "### (2017 팁스타운) 짝지어 제거하기"
      ],
      "metadata": {
        "id": "IWu0A2rhLjrJ"
      }
    },
    {
      "cell_type": "code",
      "source": [
        "def solution(s):\n",
        "    stack = []\n",
        "    \n",
        "    for i in range(len(s)):\n",
        "        if not stack:\n",
        "            stack.append(s[i])\n",
        "        else:\n",
        "            if s[i] == stack[-1]:\n",
        "                stack.pop()\n",
        "            else:\n",
        "                stack.append(s[i])\n",
        "                \n",
        "    if stack:\n",
        "        answer = 0\n",
        "    else:\n",
        "        answer = 1\n",
        "    \n",
        "            \n",
        "\n",
        "    return answer"
      ],
      "metadata": {
        "id": "FT9Q5gI7yntF"
      },
      "execution_count": null,
      "outputs": []
    },
    {
      "cell_type": "markdown",
      "source": [
        "### (Summer/Winter Coding(~2018)) 영어 끝말잇기"
      ],
      "metadata": {
        "id": "UX7-navRLyJU"
      }
    },
    {
      "cell_type": "code",
      "source": [
        "def solution(n, words):\n",
        "    answer = [0, 0] # [사람번호, 차례수]\n",
        "    p_cnt = 0\n",
        "    \n",
        "    saw = []\n",
        "    saw.append(words[0])\n",
        "    for j in range(1, len(words)):\n",
        "        p_cnt += 1\n",
        "        if words[j-1][-1] == words[j][0] and words[j] not in saw:\n",
        "            saw.append(words[j])\n",
        "        else:\n",
        "            answer[0] = p_cnt % n + 1\n",
        "            answer[1] = p_cnt // n + 1\n",
        "            break\n",
        "            \n",
        "        \n",
        "    return answer"
      ],
      "metadata": {
        "id": "7BI05SRvL4C6"
      },
      "execution_count": null,
      "outputs": []
    },
    {
      "cell_type": "code",
      "source": [
        "# 다른 사람 풀이\n",
        "def solution(n, words):\n",
        "    for p in range(1, len(words)):\n",
        "        if words[p][0] != words[p-1][-1] or words[p] in words[:p]: return [(p%n)+1, (p//n)+1]\n",
        "    else:\n",
        "        return [0,0]"
      ],
      "metadata": {
        "id": "bwXwEOC7R3KB"
      },
      "execution_count": null,
      "outputs": []
    },
    {
      "cell_type": "markdown",
      "source": [
        "### (완전탐색) 카펫"
      ],
      "metadata": {
        "id": "-9ZLwkKpaB99"
      }
    },
    {
      "cell_type": "code",
      "source": [
        "def solution(brown, yellow):\n",
        "    answer = []\n",
        "    total = brown + yellow\n",
        "    y_size = []\n",
        "    for i in range(1, int(yellow**0.5)+1):\n",
        "        if yellow % i == 0:\n",
        "            y_size.append((i, yellow//i))\n",
        "    \n",
        "    for p in y_size:\n",
        "        carpet_size = (p[0]+2) * (p[1]+2)\n",
        "\n",
        "        if carpet_size - (p[0]*p[1]) == brown:\n",
        "            answer = [p[1]+2, p[0]+2]\n",
        "            break\n",
        "        \n",
        "        \n",
        "    return answer"
      ],
      "metadata": {
        "id": "fR_Wfl0NaDJL"
      },
      "execution_count": null,
      "outputs": []
    },
    {
      "cell_type": "code",
      "source": [
        "# 다른 사람 풀이\n",
        "def solution(brown, red):\n",
        "    for i in range(1, int(red**(1/2))+1):\n",
        "        if red % i == 0:\n",
        "            if 2*(i + red//i) == brown-4: # 둘레 길이\n",
        "                return [red//i+2, i+2]"
      ],
      "metadata": {
        "id": "N6UTaq5yaG3q"
      },
      "execution_count": null,
      "outputs": []
    }
  ]
}