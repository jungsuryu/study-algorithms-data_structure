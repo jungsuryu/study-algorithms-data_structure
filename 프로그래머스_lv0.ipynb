{
  "nbformat": 4,
  "nbformat_minor": 0,
  "metadata": {
    "colab": {
      "provenance": [],
      "toc_visible": true,
      "authorship_tag": "ABX9TyOFZYgWiO6moU8E+46MKYrz",
      "include_colab_link": true
    },
    "kernelspec": {
      "name": "python3",
      "display_name": "Python 3"
    },
    "language_info": {
      "name": "python"
    }
  },
  "cells": [
    {
      "cell_type": "markdown",
      "metadata": {
        "id": "view-in-github",
        "colab_type": "text"
      },
      "source": [
        "<a href=\"https://colab.research.google.com/github/jungsuryu/study-algorithms-data_structure/blob/main/%ED%94%84%EB%A1%9C%EA%B7%B8%EB%9E%98%EB%A8%B8%EC%8A%A4_lv0.ipynb\" target=\"_parent\"><img src=\"https://colab.research.google.com/assets/colab-badge.svg\" alt=\"Open In Colab\"/></a>"
      ]
    },
    {
      "cell_type": "markdown",
      "source": [
        "## 1) 사칙연산"
      ],
      "metadata": {
        "id": "pTpgGHkQ8zz2"
      }
    },
    {
      "cell_type": "markdown",
      "source": [
        "### 두 수의 차\n",
        "정수 num1과 num2가 주어질 때, num1에서 num2를 뺀 값을 return 하도록 solution 함수를 완성해주세요"
      ],
      "metadata": {
        "id": "bwc_0mS96z4Z"
      }
    },
    {
      "cell_type": "code",
      "execution_count": null,
      "metadata": {
        "id": "28QhZvVO6wIT"
      },
      "outputs": [],
      "source": [
        "def solution(num1, num2):\n",
        "    answer = num1 - num2\n",
        "    return answer"
      ]
    },
    {
      "cell_type": "markdown",
      "source": [
        "### 두 수의 합\n",
        "정수 num1과 num2가 주어질 때, num1과 num2의 합을 return하도록 soltuion 함수를 완성해주세요."
      ],
      "metadata": {
        "id": "0K85WlQF7OWH"
      }
    },
    {
      "cell_type": "code",
      "source": [
        "def solution(num1, num2):\n",
        "  answer = num1 + num2\n",
        "  return answer"
      ],
      "metadata": {
        "id": "erwxRnM07SEK"
      },
      "execution_count": null,
      "outputs": []
    },
    {
      "cell_type": "markdown",
      "source": [
        "### 두 수의 곱\n",
        "정수 num1, num2가 매개변수 주어집니다. num1과 num2를 곱한 값을 return 하도록 solution 함수를 완성해주세요."
      ],
      "metadata": {
        "id": "rU7wBKk97Zmn"
      }
    },
    {
      "cell_type": "code",
      "source": [
        "def solution(num1, num2):\n",
        "    answer = num1 * num2\n",
        "    return answer"
      ],
      "metadata": {
        "id": "2iXHH-6G7ct9"
      },
      "execution_count": null,
      "outputs": []
    },
    {
      "cell_type": "markdown",
      "source": [
        "### 몫 구하기\n",
        "정수 num1, num2가 매개변수로 주어질 때, num1을 num2로 나눈 몫을 return 하도록 solution 함수를 완성해주세요."
      ],
      "metadata": {
        "id": "uStnDO8Q7o1j"
      }
    },
    {
      "cell_type": "code",
      "source": [
        "def solution(num1, num2):\n",
        "    answer = num1 // num2\n",
        "    return answer"
      ],
      "metadata": {
        "id": "L4Xo_BKm7okc"
      },
      "execution_count": null,
      "outputs": []
    },
    {
      "cell_type": "markdown",
      "source": [
        "## 2) 사칙연산, 조건문, 배열"
      ],
      "metadata": {
        "id": "6xXINpIQ823b"
      }
    },
    {
      "cell_type": "markdown",
      "source": [
        "### 두 수의 나눗셈\n",
        "정수 num1과 num2가 매개변수로 주어질 때, num1을 num2로 나눈 값에 1,000을 곱한 후 정수 부분을 return 하도록 soltuion 함수를 완성해주세요."
      ],
      "metadata": {
        "id": "ybK0wTN77zur"
      }
    },
    {
      "cell_type": "code",
      "source": [
        "def solution(num1, num2):\n",
        "    answer = int((num1 / num2) * 1000)\n",
        "    return answer"
      ],
      "metadata": {
        "id": "c85jeXR_72pS"
      },
      "execution_count": null,
      "outputs": []
    },
    {
      "cell_type": "markdown",
      "source": [
        "### 숫자 비교하기\n",
        "정수 num1과 num2가 매개변수로 주어집니다. 두 수가 같으면 1 다르면 -1을 retrun하도록 solution 함수를 완성해주세요."
      ],
      "metadata": {
        "id": "ZqJFJh298x_-"
      }
    },
    {
      "cell_type": "code",
      "source": [
        "def solution(num1, num2):\n",
        "    if num1 == num2:\n",
        "        answer = 1\n",
        "    else:\n",
        "        answer = -1\n",
        "    return answer"
      ],
      "metadata": {
        "id": "O0c4N1h_87Nb"
      },
      "execution_count": null,
      "outputs": []
    },
    {
      "cell_type": "markdown",
      "source": [
        "### 분수의 덧셈\n",
        "첫 번째 분수의 분자와 분모를 뜻하는 numer1, denom1, 두 번째 분수의 분자와 분모를 뜻하는 numer2, denom2가 매개변수로 주어집니다. 두 분수를 더한 값을 기약 분수로 나타냈을 때 분자와 분모를 순서대로 담은 배열을 return 하도록 solution 함수를 완성해보세요."
      ],
      "metadata": {
        "id": "OUCqfPZP87gn"
      }
    },
    {
      "cell_type": "code",
      "source": [
        "def solution(numer1, denom1, numer2, denom2):\n",
        "    denominator = denom1 * denom2\n",
        "    numerator = numer1 * denom2 + numer2 * denom1\n",
        "    \n",
        "    common = 0\n",
        "    smaller_value = min(denominator, numerator)\n",
        "    for i in range(smaller_value, 0, -1):\n",
        "        if denominator % i == 0 and numerator % i == 0:\n",
        "            common = i\n",
        "            break\n",
        "    \n",
        "    return [numerator/common, denominator/common]"
      ],
      "metadata": {
        "id": "vW9fnBjL88VD"
      },
      "execution_count": null,
      "outputs": []
    },
    {
      "cell_type": "markdown",
      "source": [
        "### 배열 두 배 만들기\n",
        "정수 배열 numbers가 매개변수로 주어집니다. numbers의 각 원소에 두배한 원소를 가진 배열을 return하도록 solution 함수를 완성해주세요."
      ],
      "metadata": {
        "id": "-KrfTds-88pc"
      }
    },
    {
      "cell_type": "code",
      "source": [
        "def solution(numbers):\n",
        "    answer = [i*2 for i in numbers]\n",
        "    return answer"
      ],
      "metadata": {
        "id": "seVaDeI089lX"
      },
      "execution_count": null,
      "outputs": []
    },
    {
      "cell_type": "markdown",
      "source": [
        "## 3) 사칙연산, 배열, 수학"
      ],
      "metadata": {
        "id": "EdPA5WCwA_du"
      }
    },
    {
      "cell_type": "markdown",
      "source": [
        "### 나머지 구하기\n",
        "정수 num1, num2가 매개변수로 주어질 때, num1를 num2로 나눈 나머지를 return 하도록 solution 함수를 완성해주세요."
      ],
      "metadata": {
        "id": "6nNHL80QBAX-"
      }
    },
    {
      "cell_type": "code",
      "source": [
        "def solution(num1, num2):\n",
        "    answer = num1 % num2\n",
        "    return answer"
      ],
      "metadata": {
        "id": "E-HxKwEbBAGI"
      },
      "execution_count": null,
      "outputs": []
    },
    {
      "cell_type": "markdown",
      "source": [
        "### 중앙값 구하기\n",
        "중앙값은 어떤 주어진 값들을 크기의 순서대로 정렬했을 때 가장 중앙에 위치하는 값을 의미합니다. 예를 들어 1, 2, 7, 10, 11의 중앙값은 7입니다. 정수 배열 array가 매개변수로 주어질 때, 중앙값을 return 하도록 solution 함수를 완성해보세요."
      ],
      "metadata": {
        "id": "cUjtdw_VFR1U"
      }
    },
    {
      "cell_type": "code",
      "source": [
        "def solution(array):\n",
        "    array.sort()\n",
        "    \n",
        "    if len(array) % 2 == 0:\n",
        "        index = len(array) / 2\n",
        "        answer = (array[index] + array[index+1]) / 2\n",
        "    else:\n",
        "        index = int(len(array) / 2)\n",
        "        answer = array[index]\n",
        "        \n",
        "    return answer"
      ],
      "metadata": {
        "id": "40MNyY4oFWPE"
      },
      "execution_count": null,
      "outputs": []
    },
    {
      "cell_type": "code",
      "source": [
        "# 다른 사람 풀이 참고 + 제한사항 중 \"array의 길이는 홀수\"가 있음을 확인한 후 다시 풀어봄\n",
        "def solution(array):\n",
        "  array.sort()\n",
        "  index = len(array) // 2\n",
        "  answer = array[index]\n",
        "  return answer"
      ],
      "metadata": {
        "id": "Nk4hjkuZGadb"
      },
      "execution_count": null,
      "outputs": []
    },
    {
      "cell_type": "markdown",
      "source": [
        "### 최빈값 구하기\n",
        "최빈값은 주어진 값 중에서 가장 자주 나오는 값을 의미합니다. 정수 배열 array가 매개변수로 주어질 때, 최빈값을 return 하도록 solution 함수를 완성해보세요. 최빈값이 여러 개면 -1을 return 합니다."
      ],
      "metadata": {
        "id": "WGkUHe5QJQ9d"
      }
    },
    {
      "cell_type": "code",
      "source": [
        "def solution(array):\n",
        "    count_dict = {}\n",
        "    for i in array:\n",
        "        if i in count_dict:\n",
        "            count_dict[i] += 1\n",
        "        else:\n",
        "            count_dict[i] = 1\n",
        "            \n",
        "    count_sorted = sorted(count_dict.items(), key=lambda x: x[-1], reverse=True)\n",
        "    \n",
        "    if len(count_sorted) <= 1:\n",
        "        return count_sorted[0][0]\n",
        "    return count_sorted[0][0] if count_sorted[0][-1] != count_sorted[1][-1] else -1"
      ],
      "metadata": {
        "id": "MFDoohBZJWzm"
      },
      "execution_count": null,
      "outputs": []
    },
    {
      "cell_type": "code",
      "source": [
        "# 다른 사람 풀이\n",
        "from collections import Counter\n",
        "\n",
        "def solution(array):\n",
        "    a = Counter(array).most_common(2)\n",
        "    if len(a) == 1:\n",
        "        return a[0][0]\n",
        "    if a[0][1] == a[1][1]:\n",
        "        return -1\n",
        "    return a[0][0]"
      ],
      "metadata": {
        "id": "1Hmy8_egZsrq"
      },
      "execution_count": null,
      "outputs": []
    },
    {
      "cell_type": "markdown",
      "source": [
        "### 짝수는 싫어요\n",
        "정수 n이 매개변수로 주어질 때, n 이하의 홀수가 오름차순으로 담긴 배열을 return하도록 solution 함수를 완성해주세요.\n"
      ],
      "metadata": {
        "id": "CCbYTFUuRGw7"
      }
    },
    {
      "cell_type": "code",
      "source": [
        "def solution(n):\n",
        "    answer = [i for i in range(n+1) if i % 2 != 0]\n",
        "    return answer"
      ],
      "metadata": {
        "id": "8b5qWyUJRG_9"
      },
      "execution_count": null,
      "outputs": []
    },
    {
      "cell_type": "code",
      "source": [
        "# 다른 사람 풀이\n",
        "def solution(n):\n",
        "    return [i for i in range(1, n+1, 2)]"
      ],
      "metadata": {
        "id": "zUylhM_pRPu3"
      },
      "execution_count": null,
      "outputs": []
    },
    {
      "cell_type": "markdown",
      "source": [
        "## 4) 수학, 배열"
      ],
      "metadata": {
        "id": "J5Rj1P3nJwDP"
      }
    },
    {
      "cell_type": "markdown",
      "source": [
        "### 피자 나눠 먹기 (1)\n",
        "머쓱이네 피자가게는 피자를 일곱 조각으로 잘라 줍니다. 피자를 나눠먹을 사람의 수 n이 주어질 때, 모든 사람이 피자를 한 조각 이상 먹기 위해 필요한 피자의 수를 return 하는 solution 함수를 완성해보세요."
      ],
      "metadata": {
        "id": "_TPxWXYcIrU3"
      }
    },
    {
      "cell_type": "code",
      "source": [
        "def solution(n):\n",
        "    if n % 7 == 0:\n",
        "        answer = n // 7\n",
        "    else:\n",
        "        answer = n // 7 + 1\n",
        "    \n",
        "    return answer"
      ],
      "metadata": {
        "id": "WH4A_B74IuS7"
      },
      "execution_count": null,
      "outputs": []
    },
    {
      "cell_type": "code",
      "source": [
        "# 다른 사람 풀이\n",
        "def solution(n):\n",
        "    return (n - 1) // 7 + 1"
      ],
      "metadata": {
        "id": "ZGkf7YbBJNM6"
      },
      "execution_count": null,
      "outputs": []
    },
    {
      "cell_type": "markdown",
      "source": [
        "### 피자 나눠 먹기 (2)\n",
        "머쓱이네 피자가게는 피자를 여섯 조각으로 잘라 줍니다. 피자를 나눠먹을 사람의 수 n이 매개변수로 주어질 때, n명이 주문한 피자를 남기지 않고 모두 같은 수의 피자 조각을 먹어야 한다면 최소 몇 판을 시켜야 하는지를 return 하도록 solution 함수를 완성해보세요."
      ],
      "metadata": {
        "id": "5wyY_el2J4ZV"
      }
    },
    {
      "cell_type": "code",
      "source": [
        "def solution(n):\n",
        "    import math\n",
        "    lcm = n * 6 // (math.gcd(n, 6))\n",
        "    answer = lcm // 6\n",
        "    return answer"
      ],
      "metadata": {
        "id": "pUHXrGLZJ92o"
      },
      "execution_count": null,
      "outputs": []
    },
    {
      "cell_type": "code",
      "source": [
        "# 한 줄로 합치면\n",
        "import math\n",
        "\n",
        "def solution(n):\n",
        "  return (n*6) // math.gcd(n,6) // 6  "
      ],
      "metadata": {
        "id": "5cwtvSs5Qilr"
      },
      "execution_count": null,
      "outputs": []
    },
    {
      "cell_type": "code",
      "source": [
        "# 다른 사람 풀이\n",
        "def solution(n):\n",
        "    pizza = 1\n",
        "    while (pizza * 6) % n != 0:\n",
        "        pizza += 1\n",
        "    return pizza\n"
      ],
      "metadata": {
        "id": "ku9yuTVyQ2h_"
      },
      "execution_count": null,
      "outputs": []
    },
    {
      "cell_type": "markdown",
      "source": [
        "### 피자 나눠 먹기 (3)\n",
        "머쓱이네 피자가게는 피자를 두 조각에서 열 조각까지 원하는 조각 수로 잘라줍니다. 피자 조각 수 slice와 피자를 먹는 사람의 수 n이 매개변수로 주어질 때, n명의 사람이 최소 한 조각 이상 피자를 먹으려면 최소 몇 판의 피자를 시켜야 하는지를 return 하도록 solution 함수를 완성해보세요."
      ],
      "metadata": {
        "id": "k38nLNINMjQF"
      }
    },
    {
      "cell_type": "code",
      "source": [
        "def solution(slice, n):\n",
        "    answer = (n - 1) // slice + 1\n",
        "    return answer"
      ],
      "metadata": {
        "id": "6Ohus06gMl9a"
      },
      "execution_count": null,
      "outputs": []
    },
    {
      "cell_type": "markdown",
      "source": [
        "### 배열의 평균값\n",
        "정수 배열 numbers가 매개변수로 주어집니다. numbers의 원소의 평균값을 return하도록 solution 함수를 완성해주세요."
      ],
      "metadata": {
        "id": "NiCvXKZUCvAl"
      }
    },
    {
      "cell_type": "code",
      "source": [
        "def solution(numbers):\n",
        "    sum = 0\n",
        "    for i in numbers:\n",
        "        sum += i\n",
        "    answer = sum / len(numbers)\n",
        "    return answer"
      ],
      "metadata": {
        "id": "xOaBdnNsCxVx"
      },
      "execution_count": null,
      "outputs": []
    },
    {
      "cell_type": "markdown",
      "source": [
        "## 5) 수학, 배열"
      ],
      "metadata": {
        "id": "HcvuKbO6KZID"
      }
    },
    {
      "cell_type": "markdown",
      "source": [
        "### 옷가게 할인 받기\n",
        "머쓱이네 옷가게는 10만 원 이상 사면 5%, 30만 원 이상 사면 10%, 50만 원 이상 사면 20%를 할인해줍니다.\n",
        "구매한 옷의 가격 price가 주어질 때, 지불해야 할 금액을 return 하도록 solution 함수를 완성해보세요."
      ],
      "metadata": {
        "id": "oV45pWc8St27"
      }
    },
    {
      "cell_type": "code",
      "source": [
        "def solution(price):\n",
        "    if price >= 500000:\n",
        "        answer = price * 0.8\n",
        "    elif price >= 300000:\n",
        "        answer = price * 0.9\n",
        "    elif price >= 100000:\n",
        "        answer = price * 0.95\n",
        "    else:\n",
        "        answer = price\n",
        "    return int(answer)"
      ],
      "metadata": {
        "id": "D1NSdRtlhmZ9"
      },
      "execution_count": null,
      "outputs": []
    },
    {
      "cell_type": "code",
      "source": [
        "# 다른 사람 풀이\n",
        "def solution(price):\n",
        "    discount_rates = {500000: 0.8, 300000: 0.9, 100000: 0.95, 0: 1}\n",
        "    for discount_price, discount_rate in discount_rates.items():\n",
        "        if price >= discount_price:\n",
        "            return int(price * discount_rate)"
      ],
      "metadata": {
        "id": "Dl1_RU9mi86S"
      },
      "execution_count": null,
      "outputs": []
    },
    {
      "cell_type": "markdown",
      "source": [
        "### 아이스 아메리카노\n",
        "머쓱이는 추운 날에도 아이스 아메리카노만 마십니다. 아이스 아메리카노는 한잔에 5,500원입니다. 머쓱이가 가지고 있는 돈 money가 매개변수로 주어질 때, 머쓱이가 최대로 마실 수 있는 아메리카노의 잔 수와 남는 돈을 순서대로 담은 배열을 return 하도록 solution 함수를 완성해보세요."
      ],
      "metadata": {
        "id": "yGCuWVdoPIF1"
      }
    },
    {
      "cell_type": "code",
      "source": [
        "def solution(money):\n",
        "    cups = money // 5500\n",
        "    change = money - cups * 5500\n",
        "    return [cups, change]"
      ],
      "metadata": {
        "id": "jZeMNdQ5PKRP"
      },
      "execution_count": null,
      "outputs": []
    },
    {
      "cell_type": "code",
      "source": [
        "# 다른 사람 풀이\n",
        "def solution(money):\n",
        "    answer = [money // 5500, money % 5500]\n",
        "    return answer"
      ],
      "metadata": {
        "id": "WRbrs2lKPfJN"
      },
      "execution_count": null,
      "outputs": []
    },
    {
      "cell_type": "markdown",
      "source": [
        "### 나이 출력\n",
        "머쓱이는 40살인 선생님이 몇 년도에 태어났는지 궁금해졌습니다. 나이 age가 주어질 때, 2022년을 기준 출생 연도를 return 하는 solution 함수를 완성해주세요."
      ],
      "metadata": {
        "id": "OvLebgGDBbqv"
      }
    },
    {
      "cell_type": "code",
      "source": [
        "def solution(age):\n",
        "    answer = 2022 - age + 1\n",
        "    return answer"
      ],
      "metadata": {
        "id": "fGTMock2Befj"
      },
      "execution_count": null,
      "outputs": []
    },
    {
      "cell_type": "markdown",
      "source": [
        "### 배열 뒤집기\n",
        "정수가 들어 있는 배열 num_list가 매개변수로 주어집니다. num_list의 원소의 순서를 거꾸로 뒤집은 배열을 return하도록 solution 함수를 완성해주세요."
      ],
      "metadata": {
        "id": "T1dbEroxUXen"
      }
    },
    {
      "cell_type": "code",
      "source": [
        "def solution(num_list):\n",
        "    num_list_copied = num_list.copy()\n",
        "    num_list_copied.reverse()\n",
        "    return num_list_copied"
      ],
      "metadata": {
        "id": "WPVokFfYUZNM"
      },
      "execution_count": null,
      "outputs": []
    },
    {
      "cell_type": "code",
      "source": [
        "# 다른 사람 풀이\n",
        "def solution(num_list):\n",
        "    return num_list[::-1]"
      ],
      "metadata": {
        "id": "M-v_EamAWgZw"
      },
      "execution_count": null,
      "outputs": []
    },
    {
      "cell_type": "markdown",
      "source": [
        "## 6) 문자열, 반복문, 출력, 배열, 조건문"
      ],
      "metadata": {
        "id": "j8VlB4MyhxD8"
      }
    },
    {
      "cell_type": "markdown",
      "source": [
        "### 문자열 뒤집기\n",
        "문자열 my_string이 매개변수로 주어집니다. my_string을 거꾸로 뒤집은 문자열을 return하도록 solution 함수를 완성해주세요."
      ],
      "metadata": {
        "id": "EevJeGluWsrA"
      }
    },
    {
      "cell_type": "code",
      "source": [
        "def solution(my_string):\n",
        "    return my_string[::-1]"
      ],
      "metadata": {
        "id": "AqD5waFZWu4Z"
      },
      "execution_count": null,
      "outputs": []
    },
    {
      "cell_type": "markdown",
      "source": [
        "### 직각삼각형 출력하기\n",
        "\"*\"의 높이와 너비를 1이라고 했을 때, \"*\"을 이용해 직각 이등변 삼각형을 그리려고합니다. 정수 n 이 주어지면 높이와 너비가 n 인 직각 이등변 삼각형을 출력하도록 코드를 작성해보세요."
      ],
      "metadata": {
        "id": "kHhPEaBIk-Jb"
      }
    },
    {
      "cell_type": "code",
      "source": [
        "n = int(input())\n",
        "for i in range(n):\n",
        "    print(\"*\" * (i+1))"
      ],
      "metadata": {
        "id": "8f9sHT7GlANM"
      },
      "execution_count": null,
      "outputs": []
    },
    {
      "cell_type": "markdown",
      "source": [
        "### 짝수 홀수 개수\n",
        "정수가 담긴 리스트 num_list가 주어질 때, num_list의 원소 중 짝수와 홀수의 개수를 담은 배열을 return 하도록 solution 함수를 완성해보세요."
      ],
      "metadata": {
        "id": "Mofvs6J2TeG3"
      }
    },
    {
      "cell_type": "code",
      "source": [
        "def solution(num_list):\n",
        "    even = 0\n",
        "    odd = 0\n",
        "    \n",
        "    for i in num_list:\n",
        "        if i % 2 == 0:\n",
        "            even += 1\n",
        "        else:\n",
        "            odd += 1\n",
        "            \n",
        "    return [even, odd]"
      ],
      "metadata": {
        "id": "6xz96LFZTgZC"
      },
      "execution_count": null,
      "outputs": []
    },
    {
      "cell_type": "code",
      "source": [
        "# 다른 사람 풀이\n",
        "def solution(num_list):\n",
        "    answer = [0,0] # 미리 짝수 개수, 홀수 개수 설정해둔 후\n",
        "    for n in num_list: # 리스트 원소를 하나씩 돌면서\n",
        "        answer[n%2]+=1 # 2로 나누어 떨어지면 answer[0]: 짝수 자리에 +1, 나누어 떨어지지 않으면 answer[1]: 홀수 자리에 +1\n",
        "    return answer"
      ],
      "metadata": {
        "id": "67Mk5EdVUKpo"
      },
      "execution_count": null,
      "outputs": []
    },
    {
      "cell_type": "markdown",
      "source": [
        "### 문자 반복 출력하기\n",
        "문자열 my_string과 정수 n이 매개변수로 주어질 때, my_string에 들어있는 각 문자를 n만큼 반복한 문자열을 return 하도록 solution 함수를 완성해보세요."
      ],
      "metadata": {
        "id": "j2v1d33xXvH3"
      }
    },
    {
      "cell_type": "code",
      "source": [
        "def solution(my_string, n):\n",
        "    answer = ''\n",
        "    return answer.join(i*n for i in my_string)"
      ],
      "metadata": {
        "id": "lOmqb5r5YAUH"
      },
      "execution_count": null,
      "outputs": []
    },
    {
      "cell_type": "markdown",
      "source": [
        "## 7) 문자열, 조건문, 수학, 반복문"
      ],
      "metadata": {
        "id": "3ThsJAieh_Xk"
      }
    },
    {
      "cell_type": "markdown",
      "source": [
        "### 특정 문자 제거하기\n",
        "문자열 my_string과 문자 letter이 매개변수로 주어집니다. my_string에서 letter를 제거한 문자열을 return하도록 solution 함수를 완성해주세요."
      ],
      "metadata": {
        "id": "GRCVwfSHXBLj"
      }
    },
    {
      "cell_type": "code",
      "source": [
        "def solution(my_string, letter):\n",
        "    return my_string.replace(letter,'')"
      ],
      "metadata": {
        "id": "ujX4_YytXDbw"
      },
      "execution_count": null,
      "outputs": []
    },
    {
      "cell_type": "markdown",
      "source": [
        "### 각도기\n",
        "각에서 0도 초과 90도 미만은 예각, 90도는 직각, 90도 초과 180도 미만은 둔각 180도는 평각으로 분류합니다. 각 angle이 매개변수로 주어질 때 예각일 때 1, 직각일 때 2, 둔각일 때 3, 평각일 때 4를 return하도록 solution 함수를 완성해주세요.\n",
        "\n",
        "- 예각 : 0 < angle < 90\n",
        "- 직각 : angle = 90\n",
        "- 둔각 : 90 < angle < 180\n",
        "- 평각 : angle = 180\n"
      ],
      "metadata": {
        "id": "OnyonbamBf1I"
      }
    },
    {
      "cell_type": "code",
      "source": [
        "def solution(angle):\n",
        "    if angle == 180:\n",
        "        answer = 4\n",
        "    elif angle > 90:\n",
        "        answer = 3\n",
        "    elif angle == 90:\n",
        "        answer = 2\n",
        "    else:\n",
        "        answer =1\n",
        "    return answer"
      ],
      "metadata": {
        "id": "jwEwjL6zBi9u"
      },
      "execution_count": null,
      "outputs": []
    },
    {
      "cell_type": "code",
      "source": [
        "# 다른 사람의 풀이\n",
        "def solution(angle):\n",
        "    answer = (angle // 90) * 2 + (angle % 90 > 0) * 1\n",
        "    return answer"
      ],
      "metadata": {
        "id": "vri0PDu4CKPy"
      },
      "execution_count": null,
      "outputs": []
    },
    {
      "cell_type": "markdown",
      "source": [
        "### 양꼬치\n",
        "머쓱이네 양꼬치 가게는 10인분을 먹으면 음료수 하나를 서비스로 줍니다. 양꼬치는 1인분에 12,000원, 음료수는 2,000원입니다. 정수 n과 k가 매개변수로 주어졌을 때, 양꼬치 n인분과 음료수 k개를 먹었다면 총얼마를 지불해야 하는지 return 하도록 solution 함수를 완성해보세요."
      ],
      "metadata": {
        "id": "v1yibMw-DEhp"
      }
    },
    {
      "cell_type": "code",
      "source": [
        "def solution(n, k):\n",
        "    answer = 0\n",
        "    # 음료수 값은 음료수 k개 중 n//10 개 빼고 계산\n",
        "    bev_pay = k - n // 10\n",
        "    answer = n * 12000 + bev_pay * 2000\n",
        "    return answer"
      ],
      "metadata": {
        "id": "5V6P8rA9DHWw"
      },
      "execution_count": null,
      "outputs": []
    },
    {
      "cell_type": "markdown",
      "source": [
        "### 짝수의 합\n",
        "정수 n이 주어질 때, n이하의 짝수를 모두 더한 값을 return 하도록 solution 함수를 작성해주세요."
      ],
      "metadata": {
        "id": "nDRfY2X2CXOA"
      }
    },
    {
      "cell_type": "code",
      "source": [
        "def solution(n):\n",
        "    answer = 0\n",
        "    for i in range(n+1):\n",
        "        if i % 2 == 0:\n",
        "            answer += i \n",
        "    return answer"
      ],
      "metadata": {
        "id": "FTJ6GtQ9CaZ5"
      },
      "execution_count": null,
      "outputs": []
    },
    {
      "cell_type": "markdown",
      "source": [
        "## 8) 배열, 구현, 수학"
      ],
      "metadata": {
        "id": "Bptnsu2NiIAQ"
      }
    },
    {
      "cell_type": "markdown",
      "source": [
        "### 배열 자르기\n",
        "정수 배열 numbers와 정수 num1, num2가 매개변수로 주어질 때, numbers의 num1번 째 인덱스부터 num2번째 인덱스까지 자른 정수 배열을 return 하도록 solution 함수를 완성해보세요."
      ],
      "metadata": {
        "id": "s5XICe1oPlxy"
      }
    },
    {
      "cell_type": "code",
      "source": [
        "def solution(numbers, num1, num2):\n",
        "    return numbers[num1:num2+1]"
      ],
      "metadata": {
        "id": "HeGRUdofPnpE"
      },
      "execution_count": null,
      "outputs": []
    },
    {
      "cell_type": "markdown",
      "source": [
        "### 외계행성의 나이\n",
        "우주여행을 하던 머쓱이는 엔진 고장으로 PROGRAMMERS-962 행성에 불시착하게 됐습니다. 입국심사에서 나이를 말해야 하는데, PROGRAMMERS-962 행성에서는 나이를 알파벳으로 말하고 있습니다. a는 0, b는 1, c는 2, ..., j는 9입니다. 예를 들어 23살은 cd, 51살은 fb로 표현합니다. 나이 age가 매개변수로 주어질 때 PROGRAMMER-962식 나이를 return하도록 solution 함수를 완성해주세요."
      ],
      "metadata": {
        "id": "eCt6-WK2ciS2"
      }
    },
    {
      "cell_type": "code",
      "source": [
        "def solution(age):\n",
        "    answer = ''\n",
        "    change = []\n",
        "    match = {0:'a', 1:'b', 2:'c', 3:'d', 4:'e', 5:'f',\n",
        "            6:'g', 7:'h', 8:'i', 9:'j'}\n",
        "    for i in range(len(str(age))):\n",
        "        key = str(age)[i]\n",
        "        change.append(match[int(key)])\n",
        "    return answer.join(change)"
      ],
      "metadata": {
        "id": "Gw8a5d-cckiY"
      },
      "execution_count": null,
      "outputs": []
    },
    {
      "cell_type": "code",
      "source": [
        "# 다른 사람 풀이\n",
        "def solution(age):\n",
        "    conv = {'0':'a','1':'b','2':'c','3':'d','4':'e'\n",
        "            ,'5':'f','6':'g','7':'h','8':'i','9':'j'}\n",
        "    return ''.join(conv[i] for i in str(age))"
      ],
      "metadata": {
        "id": "DIbv1KLvcrz8"
      },
      "execution_count": null,
      "outputs": []
    },
    {
      "cell_type": "markdown",
      "source": [
        "### 진료 순서 정하기\n",
        "외과의사 머쓱이는 응급실에 온 환자의 응급도를 기준으로 진료 순서를 정하려고 합니다. 정수 배열 emergency가 매개변수로 주어질 때 응급도가 높은 순서대로 진료 순서를 정한 배열을 return하도록 solution 함수를 완성해주세요."
      ],
      "metadata": {
        "id": "O5tnpUjsXLAw"
      }
    },
    {
      "cell_type": "code",
      "source": [
        "def solution(emergency):\n",
        "    order = 1\n",
        "    match = {}\n",
        "    temp = emergency.copy()\n",
        "    temp.sort(reverse=True)\n",
        "    for i in temp:\n",
        "        match[i] = order\n",
        "        order += 1\n",
        "    answer = [match[j] for j in emergency]\n",
        "    return answer"
      ],
      "metadata": {
        "id": "SXRE1mO9XK4S"
      },
      "execution_count": null,
      "outputs": []
    },
    {
      "cell_type": "code",
      "source": [
        "# 다른 사람 풀이\n",
        "def solution(emergency):\n",
        "    return [sorted(emergency, reverse=True).index(e) + 1 for e in emergency]"
      ],
      "metadata": {
        "id": "r8kZldVoXVeZ"
      },
      "execution_count": null,
      "outputs": []
    },
    {
      "cell_type": "markdown",
      "source": [
        "### 순서쌍의 개수\n",
        "순서쌍이란 두 개의 숫자를 순서를 정하여 짝지어 나타낸 쌍으로 (a, b)로 표기합니다. 자연수 n이 매개변수로 주어질 때 두 숫자의 곱이 n인 자연수 순서쌍의 개수를 return하도록 solution 함수를 완성해주세요."
      ],
      "metadata": {
        "id": "rl4KlAjhJe-L"
      }
    },
    {
      "cell_type": "code",
      "source": [
        "def solution(n):\n",
        "    import math\n",
        "    upto = math.sqrt(n)\n",
        "    count = 0\n",
        "    for i in range(1, int(upto)+1):\n",
        "        if n % i == 0:\n",
        "            count += 1\n",
        "    answer = count * 2 if int(upto) != upto else count * 2 - 1 \n",
        "    return answer"
      ],
      "metadata": {
        "id": "C3GJUCsTJhUr"
      },
      "execution_count": null,
      "outputs": []
    },
    {
      "cell_type": "markdown",
      "source": [
        "## 9) 수학, 문자열, 해시, 완전탐색, 조건문"
      ],
      "metadata": {
        "id": "GD1ORG_wiQFD"
      }
    },
    {
      "cell_type": "markdown",
      "source": [
        "### 개미 군단\n",
        "개미 군단이 사냥을 나가려고 합니다. 개미군단은 사냥감의 체력에 딱 맞는 병력을 데리고 나가려고 합니다. 장군개미는 5의 공격력을, 병정개미는 3의 공격력을 일개미는 1의 공격력을 가지고 있습니다. 예를 들어 체력 23의 여치를 사냥하려고 할 때, 일개미 23마리를 데리고 가도 되지만, 장군개미 네 마리와 병정개미 한 마리를 데리고 간다면 더 적은 병력으로 사냥할 수 있습니다. 사냥감의 체력 hp가 매개변수로 주어질 때, 사냥감의 체력에 딱 맞게 최소한의 병력을 구성하려면 몇 마리의 개미가 필요한지를 return하도록 solution 함수를 완성해주세요."
      ],
      "metadata": {
        "id": "IU6kej1c7d7s"
      }
    },
    {
      "cell_type": "code",
      "source": [
        "def solution(hp):\n",
        "    large_ant = hp // 5\n",
        "    medium_ant = (hp % 5) // 3\n",
        "    small_ant = hp - large_ant * 5 - medium_ant * 3\n",
        "    answer = large_ant + medium_ant + small_ant\n",
        "    return answer\n",
        "    # 다른 사람 풀이\n",
        "    # return hp // 5 + (hp % 5 // 3) + ((hp % 5) % 3)"
      ],
      "metadata": {
        "id": "EGfND0Yv7iVS"
      },
      "execution_count": null,
      "outputs": []
    },
    {
      "cell_type": "markdown",
      "source": [
        "### 모스부호 (1)\n",
        "머쓱이는 친구에게 모스부호를 이용한 편지를 받았습니다. 그냥은 읽을 수 없어 이를 해독하는 프로그램을 만들려고 합니다. 문자열 letter가 매개변수로 주어질 때, letter를 영어 소문자로 바꾼 문자열을 return 하도록 solution 함수를 완성해보세요.\n",
        "모스부호는 다음과 같습니다."
      ],
      "metadata": {
        "id": "o-vuU9taYQYb"
      }
    },
    {
      "cell_type": "code",
      "source": [
        "def solution(letter):\n",
        "    \n",
        "    morse = {'.-':'a','-...':'b','-.-.':'c','-..':'d','.':'e','..-.':'f',\n",
        "    '--.':'g','....':'h','..':'i','.---':'j','-.-':'k','.-..':'l',\n",
        "    '--':'m','-.':'n','---':'o','.--.':'p','--.-':'q','.-.':'r',\n",
        "    '...':'s','-':'t','..-':'u','...-':'v','.--':'w','-..-':'x',\n",
        "    '-.--':'y','--..':'z'}\n",
        "    \n",
        "    a = letter.split()\n",
        "    answer = ''.join([morse[i] for i in a])\n",
        "    return answer"
      ],
      "metadata": {
        "id": "WgvswiYiYRoh"
      },
      "execution_count": null,
      "outputs": []
    },
    {
      "cell_type": "markdown",
      "source": [
        "### 가위 바위 보\n",
        "가위는 2 바위는 0 보는 5로 표현합니다. 가위 바위 보를 내는 순서대로 나타낸 문자열 rsp가 매개변수로 주어질 때, rsp에 저장된 가위 바위 보를 모두 이기는 경우를 순서대로 나타낸 문자열을 return하도록 solution 함수를 완성해보세요."
      ],
      "metadata": {
        "id": "5ZskydcOdEI0"
      }
    },
    {
      "cell_type": "code",
      "source": [
        "def solution(rsp):\n",
        "    answer = ''\n",
        "    win = {\"0\":\"5\", \"2\":\"0\", \"5\":\"2\"}\n",
        "    win_list = []\n",
        "    for i in rsp:\n",
        "        win_list.append(win[i])\n",
        "    answer = answer.join(win_list)\n",
        "    return answer"
      ],
      "metadata": {
        "id": "Qd5qevFzdFyU"
      },
      "execution_count": null,
      "outputs": []
    },
    {
      "cell_type": "code",
      "source": [
        "# 다른 사람 풀이\n",
        "def solution(rsp):\n",
        "    d = {'0':'5','2':'0','5':'2'}\n",
        "    return ''.join(d[i] for i in rsp)"
      ],
      "metadata": {
        "id": "4iE_g8WLd4pI"
      },
      "execution_count": null,
      "outputs": []
    },
    {
      "cell_type": "markdown",
      "source": [
        "### 구슬을 나누는 경우의 수\n",
        "머쓱이는 구슬을 친구들에게 나누어주려고 합니다. 구슬은 모두 다르게 생겼습니다. 머쓱이가 갖고 있는 구슬의 개수 balls와 친구들에게 나누어 줄 구슬 개수 share이 매개변수로 주어질 때, balls개의 구슬 중 share개의 구슬을 고르는 가능한 모든 경우의 수를 return 하는 solution 함수를 완성해주세요."
      ],
      "metadata": {
        "id": "9QRg8UHeYSiI"
      }
    },
    {
      "cell_type": "code",
      "source": [
        "def factorial(n):\n",
        "    if n <= 1:\n",
        "        return 1\n",
        "    return n * factorial(n-1)\n",
        "\n",
        "def solution(balls, share):\n",
        "    answer = 0\n",
        "    return factorial(balls) / (factorial(balls-share) * factorial(share))"
      ],
      "metadata": {
        "id": "a6MaXGo2YUXZ"
      },
      "execution_count": null,
      "outputs": []
    },
    {
      "cell_type": "code",
      "source": [
        "# 다른 사람 코드\n",
        "import math\n",
        "\n",
        "def solution(balls, share):\n",
        "    return math.comb(balls, share) # combination(조합) 사용"
      ],
      "metadata": {
        "id": "7Bamx-r6a5u6"
      },
      "execution_count": null,
      "outputs": []
    },
    {
      "cell_type": "markdown",
      "source": [
        "## 10) 조건문, 배열, 수학, 시뮬레이션"
      ],
      "metadata": {
        "id": "rONxQcLXjKfM"
      }
    },
    {
      "cell_type": "markdown",
      "source": [
        "### 점의 위치 구하기\n",
        "사분면은 한 평면을 x축과 y축을 기준으로 나눈 네 부분입니다. 사분면은 아래와 같이 1부터 4까지 번호를매깁니다."
      ],
      "metadata": {
        "id": "mn7ZdwqKDr9z"
      }
    },
    {
      "cell_type": "code",
      "source": [
        "def solution(dot):\n",
        "    x, y = dot[0], dot[1]\n",
        "    if x > 0 and y > 0:\n",
        "        answer = 1\n",
        "    elif x < 0 and y > 0:\n",
        "        answer = 2\n",
        "    elif x < 0 and y < 0:\n",
        "        answer = 3\n",
        "    else:\n",
        "        answer = 4\n",
        "    return answer"
      ],
      "metadata": {
        "id": "gsxFqSyhDug3"
      },
      "execution_count": null,
      "outputs": []
    },
    {
      "cell_type": "code",
      "source": [
        "# 다른 사람 풀이\n",
        "def solution(dot):\n",
        "    quad = [(3,2),(4,1)]\n",
        "    return quad[dot[0] > 0][dot[1] > 0] # True=1, False=0로 quad 리스트 내 값 추출하는 방식"
      ],
      "metadata": {
        "id": "flbfqT4YEKAZ"
      },
      "execution_count": null,
      "outputs": []
    },
    {
      "cell_type": "markdown",
      "source": [
        "### 2차원으로 만들기"
      ],
      "metadata": {
        "id": "3WHOhROwWtQx"
      }
    },
    {
      "cell_type": "code",
      "source": [
        "def solution(num_list, n):\n",
        "    answer = []\n",
        "    for i in range(0, len(num_list)//n):\n",
        "        answer.append(num_list[n*i:n*(i+1)])\n",
        "    return answer"
      ],
      "metadata": {
        "id": "B-L3hZBtWvBM"
      },
      "execution_count": null,
      "outputs": []
    },
    {
      "cell_type": "code",
      "source": [
        "# 다른 사람 풀이\n",
        "import numpy as np\n",
        "def solution(num_list, n):\n",
        "    li = np.array(num_list).reshape(-1,n)\n",
        "    return li.tolist()"
      ],
      "metadata": {
        "id": "8TIqJ0al8OQF"
      },
      "execution_count": null,
      "outputs": []
    },
    {
      "cell_type": "code",
      "source": [
        "# 다른 사람 풀이\n",
        "def solution(num_list, n):\n",
        "    answer = []\n",
        "    for i in range(0, len(num_list), n):\n",
        "        answer.append(num_list[i:i+n])\n",
        "    return answer"
      ],
      "metadata": {
        "id": "8F9nb0Pq8SGJ"
      },
      "execution_count": null,
      "outputs": []
    },
    {
      "cell_type": "markdown",
      "source": [
        "### 공 던지기"
      ],
      "metadata": {
        "id": "j6wbvFQyWvQe"
      }
    },
    {
      "cell_type": "code",
      "source": [
        "def solution(numbers, k):\n",
        "    num = 2 * (k-1)\n",
        "    answer = numbers[num % len(numbers)]\n",
        "    return answer\n",
        "    \n",
        "    \n",
        "# 2(k-1): 0 2 4 6 8 10 12 14 16 18 ...\n",
        "# len(numbers)=4 => 0 2 0 2 0 2\n",
        "# len(numbers)=3 => 0 2 1 \n",
        "# len(numbers)=5 => 0 2 4 1 3\n",
        "# len(numbers)=7 => 0 2 4 6 1 3 5 "
      ],
      "metadata": {
        "id": "vMOPefaFWwOV"
      },
      "execution_count": null,
      "outputs": []
    },
    {
      "cell_type": "markdown",
      "source": [
        "### 배열 회전시키기\n",
        "정수가 담긴 배열 numbers와 문자열 direction가 매개변수로 주어집니다. 배열 numbers의 원소를 direction방향으로 한 칸씩 회전시킨 배열을 return하도록 solution 함수를 완성해주세요."
      ],
      "metadata": {
        "id": "NQ43H2rnptf7"
      }
    },
    {
      "cell_type": "code",
      "source": [
        "def solution(numbers, direction):\n",
        "    if direction == 'right':\n",
        "        last = numbers.pop()\n",
        "        numbers.insert(0, last)\n",
        "    else:\n",
        "        first = numbers.pop(0)\n",
        "        numbers.append(first)\n",
        "\n",
        "    return numbers"
      ],
      "metadata": {
        "id": "iGHpo5Z6pvb6"
      },
      "execution_count": null,
      "outputs": []
    },
    {
      "cell_type": "code",
      "source": [
        "# 다른 사람 풀이\n",
        "def solution(numbers, direction):\n",
        "    return [numbers[-1]] + numbers[:-1] if direction == 'right' else numbers[1:] + [numbers[0]]"
      ],
      "metadata": {
        "id": "KboX5fySseI2"
      },
      "execution_count": null,
      "outputs": []
    },
    {
      "cell_type": "code",
      "source": [
        "# 다른 사람 풀이 (deque 사용)\n",
        "from collections import deque\n",
        "\n",
        "def solution(numbers, direction):\n",
        "    numbers = deque(numbers)\n",
        "    if direction == 'right':\n",
        "        numbers.rotate(1)\n",
        "    else:\n",
        "        numbers.rotate(-1)\n",
        "    return list(numbers)"
      ],
      "metadata": {
        "id": "10omn-ayss9n"
      },
      "execution_count": null,
      "outputs": []
    },
    {
      "cell_type": "markdown",
      "source": [],
      "metadata": {
        "id": "CNq4WVcpsvVC"
      }
    },
    {
      "cell_type": "code",
      "source": [],
      "metadata": {
        "id": "gLXZdFYfss3e"
      },
      "execution_count": null,
      "outputs": []
    },
    {
      "cell_type": "code",
      "source": [],
      "metadata": {
        "id": "Zdnn4t1Ts32o"
      },
      "execution_count": null,
      "outputs": []
    },
    {
      "cell_type": "markdown",
      "source": [
        "## 11) 수학, 반복문"
      ],
      "metadata": {
        "id": "65fb7PybjNAl"
      }
    },
    {
      "cell_type": "markdown",
      "source": [
        "### 주사위의 개수\n",
        "머쓱이는 직육면체 모양의 상자를 하나 가지고 있는데 이 상자에 정육면체 모양의 주사위를 최대한 많이 채우고 싶습니다. 상자의 가로, 세로, 높이가 저장되어있는 배열 box와 주사위 모서리의 길이 정수 n이 매개변수로 주어졌을 때, 상자에 들어갈 수 있는 주사위의 최대 개수를 return 하도록 solution 함수를 완성해주세요.\n"
      ],
      "metadata": {
        "id": "PJrveghSgLMZ"
      }
    },
    {
      "cell_type": "code",
      "source": [
        "import math\n",
        "\n",
        "def solution(box, n):\n",
        "    a = box[0] // n\n",
        "    b = box[1] // n\n",
        "    h = box[2] // n\n",
        "\n",
        "    return a * b * h"
      ],
      "metadata": {
        "id": "bsKbJYfHgN-6"
      },
      "execution_count": null,
      "outputs": []
    },
    {
      "cell_type": "code",
      "source": [
        "# 다른 사람 풀이\n",
        "def solution(box, n):\n",
        "    return (box[0] // n) * (box[1] // n) * (box[2] // n)\n",
        "# 한 줄로 표현 가능"
      ],
      "metadata": {
        "id": "gimxDAbgg-0H"
      },
      "execution_count": null,
      "outputs": []
    },
    {
      "cell_type": "markdown",
      "source": [
        "### 합성수 찾기"
      ],
      "metadata": {
        "id": "I_8fUkHcW0QK"
      }
    },
    {
      "cell_type": "code",
      "source": [
        "def solution(n):\n",
        "    answer = 0\n",
        "    for i in range(1, n+1):\n",
        "        # 약수 구하기\n",
        "        commons=[]\n",
        "        upto = int(i ** 0.5)\n",
        "        for j in range(1, upto+1):\n",
        "            if i % j == 0:\n",
        "                commons.extend([j, i//j])\n",
        "        if len(set(commons)) >= 3:\n",
        "            answer+=1\n",
        "        else:\n",
        "            continue\n",
        "\n",
        "    return answer"
      ],
      "metadata": {
        "id": "BzoIYLSOW1M2"
      },
      "execution_count": null,
      "outputs": []
    },
    {
      "cell_type": "code",
      "source": [
        "# 다른 사람 풀이\n",
        "def solution(n):\n",
        "    output = 0\n",
        "    for i in range(4, n + 1):\n",
        "        for j in range(2, int(i ** 0.5) + 1):\n",
        "            if i % j == 0:\n",
        "                output += 1\n",
        "                break\n",
        "    return output"
      ],
      "metadata": {
        "id": "WJHC25KD7PJl"
      },
      "execution_count": null,
      "outputs": []
    },
    {
      "cell_type": "markdown",
      "source": [
        "### 최댓값 만들기 (1)\n",
        "정수 배열 numbers가 매개변수로 주어집니다. numbers의 원소 중 두 개를 곱해 만들 수 있는 최댓값을 return하도록 solution 함수를 완성해주세요."
      ],
      "metadata": {
        "id": "fCjne4iNJQvN"
      }
    },
    {
      "cell_type": "code",
      "source": [
        "def solution(numbers):\n",
        "    numbers.sort()\n",
        "    answer = numbers[-1] * numbers[-2]\n",
        "    return answer"
      ],
      "metadata": {
        "id": "ciUAEuvuJUfL"
      },
      "execution_count": null,
      "outputs": []
    },
    {
      "cell_type": "markdown",
      "source": [
        "### 팩토리얼\n",
        "i팩토리얼 (i!)은 1부터 i까지 정수의 곱을 의미합니다. 예를들어 5! = 5 * 4 * 3 * 2 * 1 = 120 입니다. 정수 n이 주어질 때 다음 조건을 만족하는 가장 큰 정수 i를 return 하도록 solution 함수를 완성해주세요.\n",
        "- i! <= n"
      ],
      "metadata": {
        "id": "FoN84B86TJZS"
      }
    },
    {
      "cell_type": "code",
      "source": [
        "def factorial(m):\n",
        "    if m <= 1:\n",
        "        return 1\n",
        "    return m * factorial(m-1)\n",
        "\n",
        "def solution(n):\n",
        "    i = 1\n",
        "    while factorial(i) <= n:\n",
        "        i += 1\n",
        "    return i-1"
      ],
      "metadata": {
        "id": "osH3zyHwTQiS"
      },
      "execution_count": null,
      "outputs": []
    },
    {
      "cell_type": "code",
      "source": [],
      "metadata": {
        "id": "VLEOK8NAljC1"
      },
      "execution_count": null,
      "outputs": []
    },
    {
      "cell_type": "markdown",
      "source": [
        "## 12) 문자열, 정렬, 사칙연산, 수학"
      ],
      "metadata": {
        "id": "8rP9pfdgjWmc"
      }
    },
    {
      "cell_type": "markdown",
      "source": [
        "### 모음 제거\n",
        "영어에선 a, e, i, o, u 다섯 가지 알파벳을 모음으로 분류합니다. 문자열 my_string이 매개변수로 주어질 때 모음을 제거한 문자열을 return하도록 solution 함수를 완성해주세요."
      ],
      "metadata": {
        "id": "HvLzpXBT6VnT"
      }
    },
    {
      "cell_type": "code",
      "source": [
        "def solution(my_string):\n",
        "    answer = ''\n",
        "    vowel = ['a', 'e', 'i', 'o', 'u']\n",
        "    target = [i for i in my_string if i not in vowel]\n",
        "    return answer.join(target)"
      ],
      "metadata": {
        "id": "SA1iXWuR6X4_"
      },
      "execution_count": null,
      "outputs": []
    },
    {
      "cell_type": "markdown",
      "source": [
        "### 문자열 정렬하기 (1)\n",
        "문자열 my_string이 매개변수로 주어질 때, my_string 안에 있는 숫자만 골라 오름차순 정렬한 리스트를 return 하도록 solution 함수를 작성해보세요."
      ],
      "metadata": {
        "id": "jBeK2I9FcMS-"
      }
    },
    {
      "cell_type": "code",
      "source": [
        "def solution(my_string):\n",
        "    answer = [int(i) for i in my_string if i.isdigit()]\n",
        "    answer.sort()\n",
        "\n",
        "    return answer"
      ],
      "metadata": {
        "id": "lNZpZv4LcTNP"
      },
      "execution_count": null,
      "outputs": []
    },
    {
      "cell_type": "code",
      "source": [
        "# 다른 사람 풀이\n",
        "def solution(my_string):\n",
        "    return sorted([int(c) for c in my_string if c.isdigit()])"
      ],
      "metadata": {
        "id": "ny7eMaPncTLV"
      },
      "execution_count": null,
      "outputs": []
    },
    {
      "cell_type": "markdown",
      "source": [
        "### 숨어있는 숫자의 덧셈 (1)\n",
        "문자열 my_string이 매개변수로 주어집니다. my_string안의 모든 자연수들의 합을 return하도록 solution 함수를 완성해주세요."
      ],
      "metadata": {
        "id": "2cOvC0AB0Bnl"
      }
    },
    {
      "cell_type": "code",
      "source": [
        "def solution(my_string):\n",
        "    return sum(int(i) for i in my_string if i.isdigit())"
      ],
      "metadata": {
        "id": "1yWhBozq6Ctj"
      },
      "execution_count": null,
      "outputs": []
    },
    {
      "cell_type": "markdown",
      "source": [
        "### 소인수분해"
      ],
      "metadata": {
        "id": "Scou-i9p0g20"
      }
    },
    {
      "cell_type": "code",
      "source": [
        "def solution(n):\n",
        "    answer = []\n",
        "    \n",
        "    start = 2\n",
        "    while n != 1:\n",
        "        if n % start == 0:\n",
        "            answer.append(start)\n",
        "            n = n // start\n",
        "        else:\n",
        "            start += 1\n",
        "    \n",
        "    \n",
        "    return sorted(list(set(answer)))"
      ],
      "metadata": {
        "id": "yn3gT0kk0iSm"
      },
      "execution_count": null,
      "outputs": []
    },
    {
      "cell_type": "code",
      "source": [
        "# 다른 사람 코드\n",
        "def solution(n):\n",
        "    answer = []\n",
        "    d = 2\n",
        "    while d <= n:\n",
        "        if n % d == 0:\n",
        "            n /= d\n",
        "            if d not in answer:\n",
        "                answer.append(d)\n",
        "        else:\n",
        "            d += 1\n",
        "    return answer"
      ],
      "metadata": {
        "id": "n4yG2sxU1Sk0"
      },
      "execution_count": null,
      "outputs": []
    },
    {
      "cell_type": "markdown",
      "source": [
        "## 13) 문자열, 배열, 사칙연산, 수학, 조건문"
      ],
      "metadata": {
        "id": "_M8Kv91wjf1V"
      }
    },
    {
      "cell_type": "markdown",
      "source": [
        "### 컨드롤 제트\n",
        "숫자와 \"Z\"가 공백으로 구분되어 담긴 문자열이 주어집니다. 문자열에 있는 숫자를 차례대로 더하려고 합니다. 이 때 \"Z\"가 나오면 바로 전에 더했던 숫자를 뺀다는 뜻입니다. 숫자와 \"Z\"로 이루어진 문자열 s가 주어질 때, 머쓱이가 구한 값을 return 하도록 solution 함수를 완성해보세요."
      ],
      "metadata": {
        "id": "ZPnbU7wHbZz-"
      }
    },
    {
      "cell_type": "code",
      "source": [
        "def solution(s):\n",
        "    # 새 리스트에 숫자만 모으기\n",
        "    s_new = []\n",
        "    for i in s.split():\n",
        "        try:\n",
        "            int(i)\n",
        "            s_new.append(int(i))\n",
        "        except:\n",
        "            continue\n",
        "    print(s_new)\n",
        "    \n",
        "    # 다 더한 후 Z 앞에 있는 숫자들 빼기\n",
        "    total = sum(s_new)\n",
        "    for i in range(len(s)):\n",
        "        if s[i]=='Z':\n",
        "            total -= int(s[i-1])\n",
        "\n",
        "    return total"
      ],
      "metadata": {
        "id": "XakzdLI6bbf8"
      },
      "execution_count": null,
      "outputs": []
    },
    {
      "cell_type": "code",
      "source": [
        "# 다른 사람 코드\n",
        "def solution(s):\n",
        "    stack = []\n",
        "    for c in s.split():\n",
        "        if c == 'Z' and stack:\n",
        "            stack.pop()\n",
        "        else:\n",
        "            stack.append(int(c))\n",
        "    return sum(stack)\n"
      ],
      "metadata": {
        "id": "IjxjESUNeT7M"
      },
      "execution_count": null,
      "outputs": []
    },
    {
      "cell_type": "markdown",
      "source": [
        "### 배열 원소의 길이\n",
        "문자열 배열 strlist가 매개변수로 주어집니다. strlist 각 원소의 길이를 담은 배열을 retrun하도록 solution 함수를 완성해주세요."
      ],
      "metadata": {
        "id": "UruUMXomP63p"
      }
    },
    {
      "cell_type": "code",
      "source": [
        "def solution(strlist):\n",
        "    answer = [len(i) for i in strlist]\n",
        "    return answer"
      ],
      "metadata": {
        "id": "KmkBEfcXP-A4"
      },
      "execution_count": null,
      "outputs": []
    },
    {
      "cell_type": "markdown",
      "source": [
        "### 중복된 문자 제거\n",
        "문자열 my_string이 매개변수로 주어집니다. my_string에서 중복된 문자를 제거하고 하나의 문자만 남긴 문자열을 return하도록 solution 함수를 완성해주세요."
      ],
      "metadata": {
        "id": "YBoXS8uKJzXh"
      }
    },
    {
      "cell_type": "code",
      "source": [
        "def solution(my_string):\n",
        "    temp_list = []\n",
        "    for i in my_string:\n",
        "        if i not in temp_list:\n",
        "             temp_list.append(i)\n",
        "        else:\n",
        "            continue\n",
        "    return ''.join(temp_list)"
      ],
      "metadata": {
        "id": "F4E7N6CUJ1rb"
      },
      "execution_count": null,
      "outputs": []
    },
    {
      "cell_type": "code",
      "source": [
        "# 다른 사람 풀이 (바로 string에 더하기)\n",
        "def solution(my_string):\n",
        "    answer = ''\n",
        "    for i in my_string:\n",
        "        if i not in answer:\n",
        "            answer+=i\n",
        "    return answer"
      ],
      "metadata": {
        "id": "hoZvcCrJJ3w2"
      },
      "execution_count": null,
      "outputs": []
    },
    {
      "cell_type": "code",
      "source": [
        "# 다른 사람 풀이 (딕셔너리 활용)\n",
        "def solution(my_string):\n",
        "    return ''.join(dict.fromkeys(my_string)) # 딕셔너리 생성 후 join 시키기"
      ],
      "metadata": {
        "id": "IkUC_I1FJ_XI"
      },
      "execution_count": null,
      "outputs": []
    },
    {
      "cell_type": "markdown",
      "source": [
        "### 삼각형의 완성조건 (1)\n",
        "선분 세 개로 삼각형을 만들기 위해서는 다음과 같은 조건을 만족해야 합니다.\n",
        "\n",
        "- 가장 긴 변의 길이는 다른 두 변의 길이의 합보다 작아야 합니다.\n",
        "\n",
        "삼각형의 세 변의 길이가 담긴 배열 sides이 매개변수로 주어집니다. 세 변으로 삼각형을 만들 수 있다면 1, 만들 수 없다면 2를 return하도록 solution 함수를 완성해주세요."
      ],
      "metadata": {
        "id": "GXoGEKuDG_L3"
      }
    },
    {
      "cell_type": "code",
      "source": [
        "def solution(sides):\n",
        "    sides.sort()\n",
        "    if sides[2] < sides[0] + sides[1]:\n",
        "        answer = 1\n",
        "    else:\n",
        "        answer = 2\n",
        "    return answer"
      ],
      "metadata": {
        "id": "p-Tjx0ZoHVJD"
      },
      "execution_count": null,
      "outputs": []
    },
    {
      "cell_type": "code",
      "source": [
        "# 다른 사람 풀이\n",
        "def solution(sides):\n",
        "    return 1 if max(sides) < (sum(sides) - max(sides)) else 2"
      ],
      "metadata": {
        "id": "A-qt-ZOFIoVK"
      },
      "execution_count": null,
      "outputs": []
    },
    {
      "cell_type": "markdown",
      "source": [
        "## 14) 조건문, 반복문, 시뮬레이션, 문자열"
      ],
      "metadata": {
        "id": "HLzmV4T4jkBN"
      }
    },
    {
      "cell_type": "markdown",
      "source": [
        "### 가까운 수\n",
        "정수 배열 array와 정수 n이 매개변수로 주어질 때, array에 들어있는 정수 중 n과 가장 가까운 수를 return 하도록 solution 함수를 완성해주세요."
      ],
      "metadata": {
        "id": "fy-U8Kd_LqzH"
      }
    },
    {
      "cell_type": "code",
      "source": [
        "def solution(array, n):\n",
        "    answer = 0\n",
        "    array.sort()\n",
        "    \n",
        "    diff = [abs(n-i) for i in array]\n",
        "    \n",
        "    return array[diff.index(min(diff))]"
      ],
      "metadata": {
        "id": "Q2hrdRwQLtBA"
      },
      "execution_count": null,
      "outputs": []
    },
    {
      "cell_type": "code",
      "source": [
        "# 다른 사람 풀이\n",
        "def solution(array, n):\n",
        "    array.sort(key = lambda x : (abs(x-n), x-n)) # ?\n",
        "    answer = array[0]\n",
        "    return answer"
      ],
      "metadata": {
        "id": "YpwHcrwCL0eq"
      },
      "execution_count": null,
      "outputs": []
    },
    {
      "cell_type": "code",
      "source": [
        "# 다른 사람 풀이\n",
        "solution = lambda a, n: sorted(a,key=lambda x:(abs(x-n),x))[0]"
      ],
      "metadata": {
        "id": "5sBXQ7BWMTLG"
      },
      "execution_count": null,
      "outputs": []
    },
    {
      "cell_type": "markdown",
      "source": [
        "### 369 게임\n",
        "머쓱이는 친구들과 369게임을 하고 있습니다. 369게임은 1부터 숫자를 하나씩 대며 3, 6, 9가 들어가는 숫자는 숫자 대신 3, 6, 9의 개수만큼 박수를 치는 게임입니다. 머쓱이가 말해야하는 숫자 order가 매개변수로 주어질 때, 머쓱이가 쳐야할 박수 횟수를 return 하도록 solution 함수를 완성해보세요."
      ],
      "metadata": {
        "id": "AXEhvC2Bub7s"
      }
    },
    {
      "cell_type": "code",
      "source": [
        "def solution(order):\n",
        "    answer = 0\n",
        "    claps = ['3', '6', '9']\n",
        "    digits = [i for i in str(order)]\n",
        "    for i in digits:\n",
        "        if i in claps:\n",
        "            answer += 1\n",
        "\n",
        "    return answer"
      ],
      "metadata": {
        "id": "HvPWY5V7ueFV"
      },
      "execution_count": null,
      "outputs": []
    },
    {
      "cell_type": "code",
      "source": [
        "# 다른 사람 풀이\n",
        "def solution(order):\n",
        "    return sum(map(lambda x: str(order).count(str(x)), [3, 6, 9]))"
      ],
      "metadata": {
        "id": "TS-wp-dVupWh"
      },
      "execution_count": null,
      "outputs": []
    },
    {
      "cell_type": "code",
      "source": [
        "# 다른 사람 풀이\n",
        "def solution(order):\n",
        "    answer = str(order).count('3') + str(order).count('6') + str(order).count('9')\n",
        "    return answer"
      ],
      "metadata": {
        "id": "ODnUE5apusxA"
      },
      "execution_count": null,
      "outputs": []
    },
    {
      "cell_type": "markdown",
      "source": [
        "### 암호 해독\n",
        "군 전략가 머쓱이는 전쟁 중 적군이 다음과 같은 암호 체계를 사용한다는 것을 알아냈습니다.\n",
        "\n",
        "- 암호화된 문자열 cipher를 주고받습니다.\n",
        "- 그 문자열에서 code의 배수 번째 글자만 진짜 암호입니다.\n",
        "\n",
        "문자열 cipher와 정수 code가 매개변수로 주어질 때 해독된 암호 문자열을 return하도록 solution 함수를 완성해주세요."
      ],
      "metadata": {
        "id": "9muc2T_JZ-gY"
      }
    },
    {
      "cell_type": "code",
      "source": [
        "def solution(cipher, code):\n",
        "    answer = ''\n",
        "    pw = []\n",
        "    for i in range(0, len(cipher)+1, code):\n",
        "        pw.append(cipher[i-1])\n",
        "    answer = answer.join(pw)\n",
        "    return answer[1:]"
      ],
      "metadata": {
        "id": "xz6pZnv4aCaf"
      },
      "execution_count": null,
      "outputs": []
    },
    {
      "cell_type": "code",
      "source": [
        "# 다른 사람 풀이\n",
        "def solution(cipher, code):\n",
        "    answer = cipher[code-1::code]\n",
        "    return answer"
      ],
      "metadata": {
        "id": "tKo6oS4FcBAj"
      },
      "execution_count": null,
      "outputs": []
    },
    {
      "cell_type": "markdown",
      "source": [
        "### 대문자와 소문자\n",
        "문자열 my_string이 매개변수로 주어질 때, 대문자는 소문자로 소문자는 대문자로 변환한 문자열을 return하도록 solution 함수를 완성해주세요."
      ],
      "metadata": {
        "id": "jRTJov4Xd_NH"
      }
    },
    {
      "cell_type": "code",
      "source": [
        "def solution(my_string):\n",
        "    # answer = ''\n",
        "    solution = []\n",
        "    for i in my_string:\n",
        "        if i.isupper():\n",
        "            solution.append(i.lower())\n",
        "        else:\n",
        "            solution.append(i.upper())\n",
        "    \n",
        "    return ''.join(solution)"
      ],
      "metadata": {
        "id": "r7QkMWHLeBPW"
      },
      "execution_count": null,
      "outputs": []
    },
    {
      "cell_type": "code",
      "source": [
        "# 다른 사람 풀이\n",
        "def solution(my_string):\n",
        "    return my_string.swapcase()"
      ],
      "metadata": {
        "id": "8L7uYOCoenbq"
      },
      "execution_count": null,
      "outputs": []
    },
    {
      "cell_type": "code",
      "source": [
        "# 다른 사람 풀이\n",
        "def solution(my_string):\n",
        "    answer = ''\n",
        "\n",
        "    for i in my_string:\n",
        "        if i.isupper():\n",
        "            answer+=i.lower()\n",
        "        else:\n",
        "            answer+=i.upper() # 바로 str에 담기\n",
        "    return answer"
      ],
      "metadata": {
        "id": "ZnRxU8Nbeqda"
      },
      "execution_count": null,
      "outputs": []
    },
    {
      "cell_type": "code",
      "source": [
        "# 다른 사람 풀이 (내가 푼 방법을 한 줄로 표현)\n",
        "def solution(my_string):\n",
        "    return ''.join([x.lower() if x.isupper() else x.upper() for x in my_string])"
      ],
      "metadata": {
        "id": "P2lDLmbzewO2"
      },
      "execution_count": null,
      "outputs": []
    },
    {
      "cell_type": "markdown",
      "source": [
        "## 15) 문자열, 해시, 배열, 수학"
      ],
      "metadata": {
        "id": "wgThunePjrHq"
      }
    },
    {
      "cell_type": "markdown",
      "source": [
        "### 영어가 싫어요\n",
        "영어가 싫은 머쓱이는 영어로 표기되어있는 숫자를 수로 바꾸려고 합니다. 문자열 numbers가 매개변수로 주어질 때, numbers를 정수로 바꿔 return 하도록 solution 함수를 완성해 주세요."
      ],
      "metadata": {
        "id": "SqKlY19S2XSh"
      }
    },
    {
      "cell_type": "code",
      "source": [
        "def solution(numbers):\n",
        "    letters = {'zero':0, 'one':1, 'two':2, 'three':3,\n",
        "              'four':4, 'five':5, 'six':6, 'seven':7,\n",
        "              'eight':8, 'nine':9}\n",
        "              \n",
        "    for i in letters.keys():\n",
        "        if i in numbers:\n",
        "            numbers = numbers.replace(i, str(letters[i]))\n",
        "            \n",
        "    return int(numbers)"
      ],
      "metadata": {
        "id": "afB13ybq2Zru"
      },
      "execution_count": null,
      "outputs": []
    },
    {
      "cell_type": "code",
      "source": [
        "# 다른 사람 풀이\n",
        "def solution(numbers):\n",
        "    for num, eng in enumerate([\"zero\", \"one\", \"two\", \"three\", \"four\", \"five\", \"six\", \"seven\", \"eight\", \"nine\"]):\n",
        "        numbers = numbers.replace(eng, str(num))\n",
        "    return int(numbers)"
      ],
      "metadata": {
        "id": "c5OHKfSo2dah"
      },
      "execution_count": null,
      "outputs": []
    },
    {
      "cell_type": "markdown",
      "source": [
        "### 인덱스 바꾸기\n",
        "문자열 my_string과 정수 num1, num2가 매개변수로 주어질 때, my_string에서 인덱스 num1과 인덱스 num2에 해당하는 문자를 바꾼 문자열을 return 하도록 solution 함수를 완성해보세요."
      ],
      "metadata": {
        "id": "2MnrXCkLpbEs"
      }
    },
    {
      "cell_type": "code",
      "source": [
        "def solution(my_string, num1, num2):\n",
        "    answer = ''\n",
        "    store_num1 = my_string[num1]\n",
        "    store_num2 = my_string[num2]\n",
        "    \n",
        "    answer = my_string[:num1] + store_num2 + my_string[num1+1:num2] + store_num1 + my_string[num2+1:]\n",
        "    return answer"
      ],
      "metadata": {
        "id": "GsK7inChpdGZ"
      },
      "execution_count": null,
      "outputs": []
    },
    {
      "cell_type": "code",
      "source": [
        "# 다른 사람 풀이\n",
        "def solution(my_string, num1, num2):\n",
        "    s = list(my_string)\n",
        "    s[num1],s[num2] = s[num2],s[num1]\n",
        "    return ''.join(s)"
      ],
      "metadata": {
        "id": "jnD2yxfRpiYG"
      },
      "execution_count": null,
      "outputs": []
    },
    {
      "cell_type": "markdown",
      "source": [
        "### 한 번만 등장한 문자\n",
        "문자열 s가 매개변수로 주어집니다. s에서 한 번만 등장하는 문자를 사전 순으로 정렬한 문자열을 return 하도록 solution 함수를 완성해보세요. 한 번만 등장하는 문자가 없을 경우 빈 문자열을 return 합니다."
      ],
      "metadata": {
        "id": "9RbAcrQ2VLVg"
      }
    },
    {
      "cell_type": "code",
      "source": [
        "def solution(s):\n",
        "    answer = ''\n",
        "    s_sort = sorted(s)\n",
        "    s_dict = {}\n",
        "    \n",
        "    for i in s_sort:\n",
        "        if i not in s_dict:\n",
        "            s_dict[i] = 1\n",
        "        else:\n",
        "            s_dict[i] += 1\n",
        "            \n",
        "    for j in s_dict:\n",
        "        if s_dict[j] == 1:\n",
        "            answer += j\n",
        "\n",
        "    return answer"
      ],
      "metadata": {
        "id": "K38lKVXRVNUV"
      },
      "execution_count": null,
      "outputs": []
    },
    {
      "cell_type": "code",
      "source": [
        "# 다른 사람 풀이\n",
        "def solution(s):\n",
        "    answer = \"\".join(sorted([ ch for ch in s if s.count(ch) == 1]))\n",
        "    return answer"
      ],
      "metadata": {
        "id": "yQq0eyL9u3xh"
      },
      "execution_count": null,
      "outputs": []
    },
    {
      "cell_type": "markdown",
      "source": [
        "### 약수 구하기\n",
        "정수 n이 매개변수로 주어질 때, n의 약수를 오름차순으로 담은 배열을 return하도록 solution 함수를 완성해주세요."
      ],
      "metadata": {
        "id": "Z4Pigu0teG0R"
      }
    },
    {
      "cell_type": "code",
      "source": [
        "import math\n",
        "def solution(n):\n",
        "    answer = []\n",
        "    upto = int(math.sqrt(n))\n",
        "    for i in range(1, upto+1):\n",
        "        if n % i == 0:\n",
        "            answer.extend([i, n//i])\n",
        "    answer = sorted(list(set(answer)))      \n",
        "    return answer"
      ],
      "metadata": {
        "id": "rkObj99ceIza"
      },
      "execution_count": null,
      "outputs": []
    },
    {
      "cell_type": "code",
      "source": [
        "# 다른 사람 풀이\n",
        "def solution(n):\n",
        "    answer = [i for i in range(1,n+1) if n%i == 0]\n",
        "    return answer"
      ],
      "metadata": {
        "id": "mgAqHek_eVkW"
      },
      "execution_count": null,
      "outputs": []
    },
    {
      "cell_type": "code",
      "source": [],
      "metadata": {
        "id": "HC5g7crkjuAR"
      },
      "execution_count": null,
      "outputs": []
    },
    {
      "cell_type": "markdown",
      "source": [
        "## 16) 문자열, 수학, 배열, 조건문"
      ],
      "metadata": {
        "id": "h-JNoZ5CjuYf"
      }
    },
    {
      "cell_type": "markdown",
      "source": [
        "### 편지\n",
        "머쓱이는 할머니께 생신 축하 편지를 쓰려고 합니다. 할머니가 보시기 편하도록 글자 한 자 한 자를 가로 2cm 크기로 적으려고 하며, 편지를 가로로만 적을 때, 축하 문구 message를 적기 위해 필요한 편지지의 최소 가로길이를 return 하도록 solution 함수를 완성해주세요."
      ],
      "metadata": {
        "id": "fc5Ns3enXbhP"
      }
    },
    {
      "cell_type": "code",
      "source": [
        "def solution(message):\n",
        "    return len(message) * 2"
      ],
      "metadata": {
        "id": "g8VMje5DXeIY"
      },
      "execution_count": null,
      "outputs": []
    },
    {
      "cell_type": "markdown",
      "source": [
        "### 가장 큰 수 찾기\n",
        "정수 배열 array가 매개변수로 주어질 때, 가장 큰 수와 그 수의 인덱스를 담은 배열을 return 하도록 solution 함수를 완성해보세요."
      ],
      "metadata": {
        "id": "K3ZzPhs7dHg_"
      }
    },
    {
      "cell_type": "code",
      "source": [
        "def solution(array):\n",
        "    answer = [max(array), array.index(max(array))]\n",
        "    return answer"
      ],
      "metadata": {
        "id": "4L2twXYNdHzD"
      },
      "execution_count": null,
      "outputs": []
    },
    {
      "cell_type": "markdown",
      "source": [
        "### 문자열 계산하기\n",
        "my_string은 \"3 + 5\"처럼 문자열로 된 수식입니다. 문자열 my_string이 매개변수로 주어질 때, 수식을 계산한 값을 return 하는 solution 함수를 완성해주세요."
      ],
      "metadata": {
        "id": "fKdy0O3wATZ1"
      }
    },
    {
      "cell_type": "code",
      "source": [
        "def solution(my_string):\n",
        "\n",
        "    components = []\n",
        "    components = my_string.split(' ')\n",
        "    \n",
        "    answer = int(components[0])\n",
        "\n",
        "    for i in range(2, len(components), 2):\n",
        "        if components[i-1] == '+':\n",
        "            answer += int(components[i])\n",
        "        elif components[i-1] == '-':\n",
        "            answer -= int(components[i])\n",
        "\n",
        "    return answer"
      ],
      "metadata": {
        "id": "PWu-w61NAVgX"
      },
      "execution_count": null,
      "outputs": []
    },
    {
      "cell_type": "code",
      "source": [
        "# 다른 사람 풀이\n",
        "def solution(my_string):\n",
        "    # -를 +-로 바꾸고 +로 split해서 음수 만들기\n",
        "    return sum(int(i) for i in my_string.replace(' - ', ' + -').split(' + ')) "
      ],
      "metadata": {
        "id": "h1Ap0oD8A8eZ"
      },
      "execution_count": null,
      "outputs": []
    },
    {
      "cell_type": "markdown",
      "source": [
        "### 배열의 유사도\n",
        "두 배열이 얼마나 유사한지 확인해보려고 합니다. 문자열 배열 s1과 s2가 주어질 때 같은 원소의 개수를 return하도록 solution 함수를 완성해주세요."
      ],
      "metadata": {
        "id": "wa64-RJ5tAJm"
      }
    },
    {
      "cell_type": "code",
      "source": [
        "def solution(s1, s2):\n",
        "    common_elements = [i for i in s1 if i in s2]\n",
        "    return len(common_elements)"
      ],
      "metadata": {
        "id": "qkMmHex0tCJT"
      },
      "execution_count": null,
      "outputs": []
    },
    {
      "cell_type": "code",
      "source": [
        "# 다른 사람 코드\n",
        "def solution(s1, s2): \n",
        "    return len(set(s1)&set(s2)) # list -> set 처리한 후 교집합 구하는 방식 사용"
      ],
      "metadata": {
        "id": "yP-AmARQtxuv"
      },
      "execution_count": null,
      "outputs": []
    },
    {
      "cell_type": "markdown",
      "source": [
        "## 17) 문자열, 수학, 조건문, 배열, 사칙연산"
      ],
      "metadata": {
        "id": "q4ZTPmu8j00B"
      }
    },
    {
      "cell_type": "markdown",
      "source": [
        "### 숫자 찾기\n",
        "정수 num과 k가 매개변수로 주어질 때, num을 이루는 숫자 중에 k가 있으면 num의 그 숫자가 있는 자리 수를 return하고 없으면 -1을 return 하도록 solution 함수를 완성해보세요."
      ],
      "metadata": {
        "id": "0sMt5Y1nHxMq"
      }
    },
    {
      "cell_type": "code",
      "source": [
        "def solution(num, k):\n",
        "    if str(k) in str(num):\n",
        "        return str(num).find(str(k)) + 1\n",
        "    else:\n",
        "        return -1"
      ],
      "metadata": {
        "id": "QsXrZ7dxHzKJ"
      },
      "execution_count": null,
      "outputs": []
    },
    {
      "cell_type": "code",
      "source": [
        "# 다른 사람 풀이\n",
        "def solution(num, k):\n",
        "    return -1 if str(k) not in str(num) else str(num).find(str(k)) + 1"
      ],
      "metadata": {
        "id": "d7rJ1yJjI6Db"
      },
      "execution_count": null,
      "outputs": []
    },
    {
      "cell_type": "markdown",
      "source": [
        "### n의 배수 고르기\n",
        "정수 n과 정수 배열 numlist가 매개변수로 주어질 때, numlist에서 n의 배수가 아닌 수들을 제거한 배열을 return하도록 solution 함수를 완성해주세요."
      ],
      "metadata": {
        "id": "GaFbKujIg-Vk"
      }
    },
    {
      "cell_type": "code",
      "source": [
        "def solution(n, numlist):\n",
        "    answer = [i for i in numlist if i % n == 0]\n",
        "    return answer"
      ],
      "metadata": {
        "id": "u1HVJouFhL0l"
      },
      "execution_count": null,
      "outputs": []
    },
    {
      "cell_type": "code",
      "source": [
        "# 다른 사람 풀이\n",
        "def solution(n, numlist):\n",
        "    return list(filter(lambda v: v%n==0, numlist)) # filter 사용"
      ],
      "metadata": {
        "id": "d5L97WmDkwDP"
      },
      "execution_count": null,
      "outputs": []
    },
    {
      "cell_type": "markdown",
      "source": [
        "### 자릿수 더하기\n",
        "정수 n이 매개변수로 주어질 때 n의 각 자리 숫자의 합을 return하도록 solution 함수를 완성해주세요"
      ],
      "metadata": {
        "id": "jqkzY6wzt7js"
      }
    },
    {
      "cell_type": "code",
      "source": [
        "def solution(n):\n",
        "    answer = 0\n",
        "    for i in range(len(str(n))):\n",
        "        answer += int(str(n)[i])\n",
        "    return answer"
      ],
      "metadata": {
        "id": "0YZg6m9ct9au"
      },
      "execution_count": null,
      "outputs": []
    },
    {
      "cell_type": "code",
      "source": [
        "# 다른 사람 코드\n",
        "def solution(n):\n",
        "    return sum(int(i) for i in str(n))"
      ],
      "metadata": {
        "id": "82kLYplWufNe"
      },
      "execution_count": null,
      "outputs": []
    },
    {
      "cell_type": "markdown",
      "source": [
        "### OX퀴즈\n",
        "덧셈, 뺄셈 수식들이 'X [연산자] Y = Z' 형태로 들어있는 문자열 배열 quiz가 매개변수로 주어집니다. 수식이 옳다면 \"O\"를 틀리다면 \"X\"를 순서대로 담은 배열을 return하도록 solution 함수를 완성해주세요."
      ],
      "metadata": {
        "id": "hdoiwsr4Q2o_"
      }
    },
    {
      "cell_type": "code",
      "source": [
        "def solution(quiz):\n",
        "    answer = []\n",
        "    for i in quiz:\n",
        "        a, b = i.split('=')\n",
        "        x, o, y = a.split()\n",
        "\n",
        "        if o == '-':\n",
        "            answer.append('O' if int(x) - int(y) == int(b) else 'X')\n",
        "        else:\n",
        "            answer.append('O' if int(x) + int(y) == int(b) else 'X')\n",
        "                \n",
        "        # 런타임에러\n",
        "        # quiz_sum = sum([int(i) for i in a.replace(' - ', ' + -').split(' + ')]) # 런타임에러\n",
        "        # if quiz_sum == int(b):\n",
        "        #     answer.append('O')\n",
        "        # else:\n",
        "        #     answer.append('X')\n",
        "        \n",
        "    return answer "
      ],
      "metadata": {
        "id": "UX6PXj_SQ6AE"
      },
      "execution_count": null,
      "outputs": []
    },
    {
      "cell_type": "markdown",
      "source": [
        "## 18) 문자열, 수학, 조건문, 정렬"
      ],
      "metadata": {
        "id": "aW8ngpylj4GD"
      }
    },
    {
      "cell_type": "markdown",
      "source": [
        "### 문자열 안에 문자열\n",
        "문자열 str1, str2가 매개변수로 주어집니다. str1 안에 str2가 있다면 1을 없다면 2를 return하도록 solution 함수를 완성해주세요."
      ],
      "metadata": {
        "id": "EHIG-S4r7ECr"
      }
    },
    {
      "cell_type": "code",
      "source": [
        "def solution(str1, str2):\n",
        "    if str2 in str1:\n",
        "        answer = 1\n",
        "    else:\n",
        "        answer = 2\n",
        "    return answer\n",
        "    # 다른 사람 풀이\n",
        "    # return 1 if str2 in str1 else 2"
      ],
      "metadata": {
        "id": "02zUT31U7GZK"
      },
      "execution_count": null,
      "outputs": []
    },
    {
      "cell_type": "markdown",
      "source": [
        "### 제곱수 판별하기\n",
        "어떤 자연수를 제곱했을 때 나오는 정수를 제곱수라고 합니다. 정수 n이 매개변수로 주어질 때, n이 제곱수라면 1을 아니라면 2를 return하도록 solution 함수를 완성해주세요.\n"
      ],
      "metadata": {
        "id": "DR8AfpcORTYb"
      }
    },
    {
      "cell_type": "code",
      "source": [
        "import math\n",
        "\n",
        "def solution(n):\n",
        "    upto = int(math.sqrt(n))\n",
        "    answer = 2\n",
        "    for i in range(upto, 0, -1):\n",
        "        if i * i == n:\n",
        "            answer = 1\n",
        "            break\n",
        "        else:\n",
        "            continue\n",
        "\n",
        "    return answer"
      ],
      "metadata": {
        "id": "suRGCygrRWYX"
      },
      "execution_count": null,
      "outputs": []
    },
    {
      "cell_type": "code",
      "source": [
        "# 다른 사람 풀이\n",
        "def solution(n):\n",
        "    return 1 if (n ** 0.5).is_integer() else 2"
      ],
      "metadata": {
        "id": "vkPJssFuVc-z"
      },
      "execution_count": null,
      "outputs": []
    },
    {
      "cell_type": "code",
      "source": [
        "# 다른 사람 풀이\n",
        "import math\n",
        "\n",
        "def solution(n):\n",
        "    return 1 if int(math.sqrt(n)) ** 2 == n else 2"
      ],
      "metadata": {
        "id": "zYSdxdg2VoJS"
      },
      "execution_count": null,
      "outputs": []
    },
    {
      "cell_type": "markdown",
      "source": [
        "### 세균 증식\n",
        "어떤 세균은 1시간에 두배만큼 증식한다고 합니다. 처음 세균의 마리수 n과 경과한 시간 t가 매개변수로 주어질 때 t시간 후 세균의 수를 return하도록 solution 함수를 완성해주세요."
      ],
      "metadata": {
        "id": "b4itm17Ke29y"
      }
    },
    {
      "cell_type": "code",
      "source": [
        "def solution(n, t):\n",
        "    return n * (2 ** t)\n",
        "\n",
        "'''1시간 2배 증식\n",
        "n 마리 t 시간\n",
        "2마리 1시간 후 4마리 (2**2)\n",
        "2마리 2시간 후 8마리 (2**4)\n",
        "2마리 3시간 후 16마리 (2(n)*8(2**t))\n",
        "7마리 1시간 후 14마리 7*2\n",
        "7마리 2시간 후 28마리 7*4\n",
        "7마리 3시간 후 56마리 7*8\n",
        "'''"
      ],
      "metadata": {
        "id": "Nw2lxyZfe6W7"
      },
      "execution_count": null,
      "outputs": []
    },
    {
      "cell_type": "markdown",
      "source": [
        "### 문자열 정렬하기 (2)\n",
        "영어 대소문자로 이루어진 문자열 my_string이 매개변수로 주어질 때, my_string을 모두 소문자로 바꾸고 알파벳 순서대로 정렬한 문자열을 return 하도록 solution 함수를 완성해보세요."
      ],
      "metadata": {
        "id": "yRvJ_7CHe2Jn"
      }
    },
    {
      "cell_type": "code",
      "source": [
        "def solution(my_string):\n",
        "    answer = ''.join(sorted(my_string.lower()))\n",
        "    return answer"
      ],
      "metadata": {
        "id": "893-HBp-e4HS"
      },
      "execution_count": null,
      "outputs": []
    },
    {
      "cell_type": "markdown",
      "source": [
        "## 19) 문자열, 배열, 조건문"
      ],
      "metadata": {
        "id": "XEri0KSAj-wX"
      }
    },
    {
      "cell_type": "markdown",
      "source": [
        "### 7의 개수\n",
        "머쓱이는 행운의 숫자 7을 가장 좋아합니다. 정수 배열 array가 매개변수로 주어질 때, 7이 총 몇 개 있는지 return 하도록 solution 함수를 완성해보세요."
      ],
      "metadata": {
        "id": "NK8X_mZnaoYU"
      }
    },
    {
      "cell_type": "code",
      "source": [
        "def solution(array):\n",
        "    answer = 0\n",
        "    for i in array:\n",
        "        answer += str(i).count('7')\n",
        "    return answer"
      ],
      "metadata": {
        "id": "ZOFmis1Rap6O"
      },
      "execution_count": null,
      "outputs": []
    },
    {
      "cell_type": "code",
      "source": [
        "# 다른 사람 풀이\n",
        "def solution(array):\n",
        "    return str(array).count('7')"
      ],
      "metadata": {
        "id": "pMnyWZAebH1_"
      },
      "execution_count": null,
      "outputs": []
    },
    {
      "cell_type": "code",
      "source": [
        "# 다른 사람 풀이\n",
        "def solution(array):\n",
        "    answer = sum([str(i).count(\"7\") for i in array])\n",
        "    return answer"
      ],
      "metadata": {
        "id": "XlLLvZAkbP7s"
      },
      "execution_count": null,
      "outputs": []
    },
    {
      "cell_type": "code",
      "source": [
        "# 다른 사람 풀이\n",
        "def solution(array):\n",
        "    return ''.join(map(str, array)).count('7')"
      ],
      "metadata": {
        "id": "CK4y4DbobUtp"
      },
      "execution_count": null,
      "outputs": []
    },
    {
      "cell_type": "markdown",
      "source": [
        "### 잘라서 배열로 저장하기\n",
        "문자열 my_str과 n이 매개변수로 주어질 때, my_str을 길이 n씩 잘라서 저장한 배열을 return하도록 solution 함수를 완성해주세요"
      ],
      "metadata": {
        "id": "Wt6JZ_Z-aOQP"
      }
    },
    {
      "cell_type": "code",
      "source": [
        "def solution(my_str, n):\n",
        "    answer = []\n",
        "    times = (len(my_str)-1) // n + 1\n",
        "    for i in range(times):\n",
        "        answer.append(my_str[n*i:n*(i+1)])\n",
        "    return answer"
      ],
      "metadata": {
        "id": "6tlhzqDdaQAt"
      },
      "execution_count": null,
      "outputs": []
    },
    {
      "cell_type": "code",
      "source": [
        "# 다른 사람 풀이\n",
        "def solution(my_str, n):\n",
        "    return [my_str[i: i + n] for i in range(0, len(my_str), n)]"
      ],
      "metadata": {
        "id": "sXG2rBh6aUaZ"
      },
      "execution_count": null,
      "outputs": []
    },
    {
      "cell_type": "markdown",
      "source": [
        "### 중복된 숫자 개수\n",
        "정수가 담긴 배열 array와 정수 n이 매개변수로 주어질 때, array에 n이 몇 개 있는 지를 return 하도록 solution 함수를 완성해보세요."
      ],
      "metadata": {
        "id": "V-Zl5YXiE-oJ"
      }
    },
    {
      "cell_type": "code",
      "source": [
        "def solution(array, n):\n",
        "    answer = array.count(n)\n",
        "    return answer"
      ],
      "metadata": {
        "id": "NMUGTrqLFAsZ"
      },
      "execution_count": null,
      "outputs": []
    },
    {
      "cell_type": "markdown",
      "source": [
        "### 머쓱이보다 키 큰 사람\n",
        "머쓱이는 학교에서 키 순으로 줄을 설 때 몇 번째로 서야 하는지 궁금해졌습니다. 머쓱이네 반 친구들의 키가 담긴 정수 배열 array와 머쓱이의 키 height가 매개변수로 주어질 때, 머쓱이보다 키 큰 사람 수를 return 하도록 solution 함수를 완성해보세요."
      ],
      "metadata": {
        "id": "5VmnED31RSNX"
      }
    },
    {
      "cell_type": "code",
      "source": [
        "def solution(array, height):\n",
        "    answer = 0\n",
        "    for i in array:\n",
        "        if i > height:\n",
        "            answer += 1\n",
        "    return answer"
      ],
      "metadata": {
        "id": "A5AXXJGIRUr5"
      },
      "execution_count": null,
      "outputs": []
    },
    {
      "cell_type": "code",
      "source": [
        "# 다른 사람 풀이\n",
        "def solution(array, height):\n",
        "    array.append(height) # 기존 리스트에 머쓱이의 키를 합친 후 \n",
        "    array.sort(reverse=True) # 내림차순으로 정렬해서\n",
        "    return array.index(height) # 머쓱이 키 인덱스가 머쓱이보다 키 큰 사람 수가 됨"
      ],
      "metadata": {
        "id": "oEjFFrq4SeOA"
      },
      "execution_count": null,
      "outputs": []
    },
    {
      "cell_type": "markdown",
      "source": [
        "## 20) 수학, 시뮬레이션, 문자열, 사칙연산"
      ],
      "metadata": {
        "id": "u3dPAs0JkBGs"
      }
    },
    {
      "cell_type": "markdown",
      "source": [
        "### 직사각형 넓이 구하기\n",
        "2차원 좌표 평면에 변이 축과 평행한 직사각형이 있습니다. 직사각형 네 꼭짓점의 좌표 [[x1, y1], [x2, y2], [x3, y3], [x4, y4]]가 담겨있는 배열 dots가 매개변수로 주어질 때, 직사각형의 넓이를 return 하도록 solution 함수를 완성해보세요."
      ],
      "metadata": {
        "id": "KlWGUXOAJ3hW"
      }
    },
    {
      "cell_type": "code",
      "source": [
        "def solution(dots):\n",
        "\n",
        "    x_data = set()\n",
        "    y_data = set()\n",
        "    for x, y in dots:\n",
        "        x_data.add(x)\n",
        "        y_data.add(y)\n",
        "    \n",
        "    answer = (max(x_data)-min(x_data)) * (max(y_data)-min(y_data))\n",
        "    return answer"
      ],
      "metadata": {
        "id": "1smlpZWGKwis"
      },
      "execution_count": null,
      "outputs": []
    },
    {
      "cell_type": "code",
      "source": [
        "# 다른 사람 풀이\n",
        "def solution(dots):\n",
        "    return (max(dots)[0] - min(dots)[0])*(max(dots)[1] - min(dots)[1])"
      ],
      "metadata": {
        "id": "VX7n_odMMo1E"
      },
      "execution_count": null,
      "outputs": []
    },
    {
      "cell_type": "markdown",
      "source": [
        "### 캐릭터의 좌표\n",
        "머쓱이는 RPG게임을 하고 있습니다. 게임에는 up, down, left, right 방향키가 있으며 각 키를 누르면 위, 아래, 왼쪽, 오른쪽으로 한 칸씩 이동합니다. 예를 들어 [0,0]에서 up을 누른다면 캐릭터의 좌표는 [0, 1], down을 누른다면 [0, -1], left를 누른다면 [-1, 0], right를 누른다면 [1, 0]입니다. 머쓱이가 입력한 방향키의 배열 keyinput와 맵의 크기 board이 매개변수로 주어집니다. 캐릭터는 항상 [0,0]에서 시작할 때 키 입력이 모두 끝난 뒤에 캐릭터의 좌표 [x, y]를 return하도록 solution 함수를 완성해주세요.\n",
        "- [0, 0]은 board의 정 중앙에 위치합니다. 예를 들어 board의 가로 크기가 9라면 캐릭터는 왼쪽으로 최대 [-4, 0]까지 오른쪽으로 최대 [4, 0]까지 이동할 수 있습니다.\n"
      ],
      "metadata": {
        "id": "Y8-U3A8XuWI5"
      }
    },
    {
      "cell_type": "code",
      "source": [
        "def solution(keyinput, board):\n",
        "    answer = [0, 0]\n",
        "    h_range = [-(board[0]//2), board[0]//2]\n",
        "    v_range = [-(board[1]//2), board[1]//2]\n",
        "\n",
        "    for i in keyinput:\n",
        "        if i == 'left' and answer[0] > h_range[0]:\n",
        "            answer[0] -= 1\n",
        "        elif i == 'right' and answer[0] < h_range[1]:\n",
        "            answer[0] += 1\n",
        "        elif i == 'up' and answer[1] < v_range[1]:\n",
        "            answer[1] += 1\n",
        "        elif i == 'down' and answer[1] > v_range[0]:\n",
        "            answer[1] -= 1\n",
        "\n",
        "    return answer"
      ],
      "metadata": {
        "id": "nUKtLfNAuXfd"
      },
      "execution_count": null,
      "outputs": []
    },
    {
      "cell_type": "markdown",
      "source": [
        "### 최댓값 만들기 (2)\n",
        "정수 배열 numbers가 매개변수로 주어집니다. numbers의 원소 중 두 개를 곱해 만들 수 있는 최댓값을 return하도록 solution 함수를 완성해주세요."
      ],
      "metadata": {
        "id": "WD87-nvkm6ki"
      }
    },
    {
      "cell_type": "code",
      "source": [
        "def solution(numbers):\n",
        "    numbers.sort()\n",
        "    answer = [numbers[0]*numbers[1], numbers[-1]*numbers[-2]]\n",
        "    \n",
        "    return max(answer)"
      ],
      "metadata": {
        "id": "tzlcE8MRnwA3"
      },
      "execution_count": null,
      "outputs": []
    },
    {
      "cell_type": "markdown",
      "source": [
        "### 다항식 더하기\n",
        "한 개 이상의 항의 합으로 이루어진 식을 다항식이라고 합니다. 다항식을 계산할 때는 동류항끼리 계산해 정리합니다. 덧셈으로 이루어진 다항식 polynomial이 매개변수로 주어질 때, 동류항끼리 더한 결괏값을 문자열로 return 하도록 solution 함수를 완성해보세요. 같은 식이라면 가장 짧은 수식을 return 합니다."
      ],
      "metadata": {
        "id": "mYM4cc5OPgYH"
      }
    },
    {
      "cell_type": "code",
      "source": [
        "def solution(polynomial):\n",
        "    answer = ''\n",
        "    comp = []\n",
        "    comp = polynomial.split(' + ')\n",
        "\n",
        "    a = []\n",
        "    b = []\n",
        "    for i in comp:\n",
        "        if 'x' in i:\n",
        "            if i[:-1] == '':\n",
        "                a.append('1')\n",
        "            else:\n",
        "                a.append(i[:-1])\n",
        "        else:\n",
        "            b.append(i)\n",
        "\n",
        "    coeff = sum([int(i) for i in a])\n",
        "    b_sum = sum([int(i) for i in b])\n",
        "\n",
        "    if coeff == 1:\n",
        "        if b_sum != 0:\n",
        "            answer = 'x' + ' + ' + str(b_sum)\n",
        "        else:\n",
        "            answer = 'x'\n",
        "    elif coeff > 1:\n",
        "        if b_sum != 0:\n",
        "            answer = str(coeff) + 'x' + ' + ' + str(b_sum)\n",
        "        else:\n",
        "            answer = str(coeff) + 'x'\n",
        "    else:\n",
        "        if b_sum != 0:\n",
        "            answer = str(b_sum)\n",
        "        else:\n",
        "            pass\n",
        "    \n",
        "    return answer"
      ],
      "metadata": {
        "id": "UYmPA5O2PiiS"
      },
      "execution_count": null,
      "outputs": []
    },
    {
      "cell_type": "code",
      "source": [
        "# 다른 사람 풀이\n",
        "def solution(polynomial):\n",
        "    xnum = 0\n",
        "    const = 0\n",
        "    for c in polynomial.split(' + '):\n",
        "        if c.isdigit():\n",
        "            const+=int(c)\n",
        "        else:\n",
        "            xnum = xnum+1 if c=='x' else xnum+int(c[:-1])\n",
        "    if xnum == 0:\n",
        "        return str(const)\n",
        "    elif xnum==1:\n",
        "        return 'x + '+str(const) if const!=0 else 'x'\n",
        "    else:\n",
        "        return f'{xnum}x + {const}' if const!=0 else f'{xnum}x'"
      ],
      "metadata": {
        "id": "5Bt7gZuoQYDd"
      },
      "execution_count": null,
      "outputs": []
    },
    {
      "cell_type": "markdown",
      "source": [
        "## 21) 문자열, 사칙연산, \b시뮬레이션, 2차원배열, 수학, 배열"
      ],
      "metadata": {
        "id": "8nqwib3MkCE9"
      }
    },
    {
      "cell_type": "markdown",
      "source": [
        "### 숨어있는 숫자의 덧셈 (2)\n",
        "문자열 my_string이 매개변수로 주어집니다. my_string은 소문자, 대문자, 자연수로만 구성되어있습니다. my_string안의 자연수들의 합을 return하도록 solution 함수를 완성해주세요."
      ],
      "metadata": {
        "id": "-NycPojP6aAE"
      }
    },
    {
      "cell_type": "code",
      "source": [
        "def solution(my_string):\n",
        "    answer = 0\n",
        "    my_list = []\n",
        "    \n",
        "    for i in my_string:\n",
        "        if i.isalpha():\n",
        "            my_string = my_string.replace(i, ' ')\n",
        "\n",
        "    my_list = my_string.split(' ')\n",
        "    answer = sum([int(j) for j in my_list if j.isdigit()])\n",
        "\n",
        "    return answer"
      ],
      "metadata": {
        "id": "QqSEFE2c6dOu"
      },
      "execution_count": null,
      "outputs": []
    },
    {
      "cell_type": "code",
      "source": [
        "def solution(my_string):\n",
        "    s = ''.join(i if i.isdigit() else ' ' for i in my_string)\n",
        "    return sum(int(i) for i in s.split())"
      ],
      "metadata": {
        "id": "22SZ3zl06ekK"
      },
      "execution_count": null,
      "outputs": []
    },
    {
      "cell_type": "markdown",
      "source": [
        "### 안전지대\n",
        "다음 그림과 같이 지뢰가 있는 지역과 지뢰에 인접한 위, 아래, 좌, 우 대각선 칸을 모두 위험지역으로 분류합니다.\n",
        "![image.png](data:image/png;base64,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)\n",
        "\n",
        "지뢰는 2차원 배열 board에 1로 표시되어 있고 board에는 지뢰가 매설 된 지역 1과, 지뢰가 없는 지역 0만 존재합니다.\n",
        "지뢰가 매설된 지역의 지도 board가 매개변수로 주어질 때, 안전한 지역의 칸 수를 return하도록 solution 함수를 완성해주세요."
      ],
      "metadata": {
        "id": "4LPjp5HJuZAo"
      }
    },
    {
      "cell_type": "code",
      "source": [
        "def solution(board):\n",
        "    answer = 0\n",
        "    location = []\n",
        "\n",
        "\n",
        "    # 테두리 만들기\n",
        "    board.insert(len(board), [2]*len(board[0]))\n",
        "    board.insert(0, [2]*len(board[0]))\n",
        "    for i in board:\n",
        "        i.insert(0, 2)\n",
        "        i.append(2)\n",
        "        \n",
        "    # 1의 위치 찾기\n",
        "    for i in range(len(board)):\n",
        "        for j in range(len(board[i])):\n",
        "            if board[i][j] == 1:\n",
        "                location.append((i,j))\n",
        "    \n",
        "                \n",
        "    # 1 주변은 안전지역으로 표시하기\n",
        "    for x,y in location:\n",
        "        board[x-1][y-1] += 1\n",
        "        board[x-1][y] += 1\n",
        "        board[x-1][y+1] += 1\n",
        "        board[x+1][y-1] += 1\n",
        "        board[x+1][y] += 1\n",
        "        board[x+1][y+1] += 1\n",
        "        board[x][y+1] += 1\n",
        "        board[x][y-1] += 1\n",
        "        \n",
        "    \n",
        "    # 0의 개수 세기\n",
        "    for i in range(len(board)):\n",
        "        for j in range(len(board[i])):\n",
        "            if board[i][j] == 0:\n",
        "                answer += 1\n",
        "\n",
        "    return answer"
      ],
      "metadata": {
        "id": "vhK5zLyDuZ90"
      },
      "execution_count": null,
      "outputs": []
    },
    {
      "cell_type": "code",
      "source": [
        "# 다른 사람 풀이\n",
        "def solution(board):\n",
        "    n = len(board)\n",
        "    danger = set()\n",
        "    for i, row in enumerate(board):\n",
        "        for j, x in enumerate(row):\n",
        "            if not x:\n",
        "                continue\n",
        "            danger.update((i+di, j+dj) for di in [-1,0,1] for dj in [-1, 0, 1])\n",
        "    return n*n - sum(0 <= i < n and 0 <= j < n for i, j in danger)"
      ],
      "metadata": {
        "id": "goELZgn6zyFk"
      },
      "execution_count": null,
      "outputs": []
    },
    {
      "cell_type": "code",
      "source": [
        "# 다른 사람 풀이\n",
        "def solution(board):\n",
        "    answer = 0\n",
        "\n",
        "    for col in range(len(board)):\n",
        "        for row in range(len(board[col])):\n",
        "            if board[row][col] == 1:\n",
        "                for j in range(max(col-1,0),min(col+2,len(board))):\n",
        "                    for i in range(max(row-1,0),min(row+2,len(board))):\n",
        "                        if board[i][j] == 1:\n",
        "                            continue\n",
        "                        board[i][j] = -1\n",
        "    for i in board:\n",
        "        answer += i.count(0)\n",
        "\n",
        "    return answer"
      ],
      "metadata": {
        "id": "Zsl0Dqwez0xz"
      },
      "execution_count": null,
      "outputs": []
    },
    {
      "cell_type": "markdown",
      "source": [
        "### 삼각형의 완성조건 (2)\n",
        "선분 세 개로 삼각형을 만들기 위해서는 다음과 같은 조건을 만족해야 합니다.\n",
        "- 가장 긴 변의 길이는 다른 두 변의 길이의 합보다 작아야 합니다.\n",
        "\n",
        "삼각형의 두 변의 길이가 담긴 배열 sides이 매개변수로 주어집니다. 나머지 한 변이 될 수 있는 정수의 개수를 return하도록 solution 함수를 완성해주세요."
      ],
      "metadata": {
        "id": "etHwTumOBeJX"
      }
    },
    {
      "cell_type": "code",
      "source": [
        "def solution(sides):\n",
        "    in_sides = 0\n",
        "    out = 0\n",
        "    \n",
        "    # 가장 긴 변이 sides에 포함되어 있는 경우\n",
        "    for i in range(1, max(sides)+1):\n",
        "        if max(sides) - (sum(sides) - max(sides)) < i <= max(sides):\n",
        "            in_sides += 1\n",
        "            \n",
        "    # 나머지 한 변이 가장 긴 변인 경우\n",
        "    for i in range(max(sides), sum(sides)):\n",
        "        if max(sides) < i < sum(sides):\n",
        "            out += 1\n",
        "            \n",
        "    answer = in_sides + out\n",
        "        \n",
        "    return answer\n",
        "\n",
        "\n",
        "'''\n",
        "(1) 가장 긴 변이 sides에 있을 경우\n",
        "max(sides) < sum(sides) - max(sides) + 다른 한 변\n",
        "11 < (18-11) + 다른 한변 \n",
        "4 < 다른 한 변 <= max(sides)\n",
        "다른 한 변: 5, 6, 7, 8, 9, 10, 11 => 7개\n",
        "(2) 나머지 하나가 가장 긴 변일 경우\n",
        "max(sides) < 나머지 한 변 < sum(sides)\n",
        "11< x < 18\n",
        "x = 12, 13, 14, 15, 16, 17'''"
      ],
      "metadata": {
        "id": "AFQjEfPxDx6y"
      },
      "execution_count": null,
      "outputs": []
    },
    {
      "cell_type": "markdown",
      "source": [
        "### 외계어 사전\n",
        "PROGRAMMERS-962 행성에 불시착한 우주비행사 머쓱이는 외계행성의 언어를 공부하려고 합니다. 알파벳이 담긴 배열 spell과 외계어 사전 dic이 매개변수로 주어집니다. spell에 담긴 알파벳을 한번씩만 모두 사용한 단어가 dic에 존재한다면 1, 존재하지 않는다면 2를 return하도록 solution 함수를 완성해주세요."
      ],
      "metadata": {
        "id": "gHEu3hTNTMIz"
      }
    },
    {
      "cell_type": "code",
      "source": [
        "def solution(spell, dic):\n",
        "\n",
        "    spell.sort()\n",
        "    word = ''.join(spell)\n",
        "    for i in dic:\n",
        "        if ''.join(sorted(i)) == word:\n",
        "            return 1\n",
        "    return 2\n"
      ],
      "metadata": {
        "id": "EVt_PVNRTNFT"
      },
      "execution_count": null,
      "outputs": []
    },
    {
      "cell_type": "markdown",
      "source": [
        "## 22) dp, 수학, 조건문, 배열"
      ],
      "metadata": {
        "id": "U1dF0AbhkC4s"
      }
    },
    {
      "cell_type": "markdown",
      "source": [
        "### 저주의 숫자 3\n",
        "3x 마을 사람들은 3을 저주의 숫자라고 생각하기 때문에 3의 배수와 숫자 3을 사용하지 않습니다. 3x 마을 사람들의 숫자는 다음과 같습니다.\n",
        "![image.png](data:image/png;base64,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)\n",
        "\n",
        "정수 n이 매개변수로 주어질 때, n을 3x 마을에서 사용하는 숫자로 바꿔 return하도록 solution 함수를 완성해주세요."
      ],
      "metadata": {
        "id": "TndMMhDBgOOc"
      }
    },
    {
      "cell_type": "code",
      "source": [
        "def solution(n):\n",
        "    answer = 0\n",
        "    for i in range(n):\n",
        "        answer += 1\n",
        "        while (answer % 3 == 0) or ('3' in str(answer)):\n",
        "            answer += 1\n",
        "    return answer\n",
        "\n",
        "\n",
        "'''i answer\n",
        "1 1\n",
        "2 2\n",
        "3 3 -> 4\n",
        "4 5\n",
        "5 6 -> 7\n",
        "6 8\n",
        "7 9 ->10\n",
        "8 11\n",
        "9 12 -> 13 -> 14 (while필요)'''"
      ],
      "metadata": {
        "id": "xQpKF_aZgcZJ"
      },
      "execution_count": null,
      "outputs": []
    },
    {
      "cell_type": "markdown",
      "source": [
        "### 평행\n",
        "점 네 개의 좌표를 담은 이차원 배열  dots가 다음과 같이 매개변수로 주어집니다.\n",
        "- [[x1, y1], [x2, y2], [x3, y3], [x4, y4]]\n",
        "\n",
        "주어진 네 개의 점을 두 개씩 이었을 때, 두 직선이 평행이 되는 경우가 있으면 1을 없으면 0을 return 하도록 solution 함수를 완성해보세요.\n"
      ],
      "metadata": {
        "id": "peaNfv42lWKv"
      }
    },
    {
      "cell_type": "code",
      "source": [
        "def slope(dot1, dot2):\n",
        "    return (dot2[1]-dot1[1]) / (dot2[0]-dot1[0])\n",
        "    \n",
        "def solution(dots):\n",
        "    answer = 0\n",
        "    \n",
        "    dots.sort(key=lambda x: x[0])\n",
        "\n",
        "    if slope(dots[2], dots[0]) == slope(dots[3], dots[1]):\n",
        "        answer = 1\n",
        "    elif slope(dots[3], dots[2]) == slope(dots[1], dots[0]):\n",
        "        answer = 1\n",
        "    else:\n",
        "        answer = 0\n",
        "        \n",
        "    return answer"
      ],
      "metadata": {
        "id": "ARjQnhbvlXRL"
      },
      "execution_count": null,
      "outputs": []
    },
    {
      "cell_type": "markdown",
      "source": [
        "### 겹치는 선분의 길이\n",
        "선분 3개가 평행하게 놓여 있습니다. 세 선분의 시작과 끝 좌표가 [[start, end], [start, end], [start, end]] 형태로 들어있는 2차원 배열 lines가 매개변수로 주어질 때, 두 개 이상의 선분이 겹치는 부분의 길이를 return 하도록 solution 함수를 완성해보세요.\n",
        "lines가 [[0, 2], [-3, -1], [-2, 1]]일 때 그림으로 나타내면 다음과 같습니다.\n",
        "\n",
        "![image.png](data:image/png;base64,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)\n",
        "\n",
        "선분이 두 개 이상 겹친 곳은 [-2, -1], [0, 1]로 길이 2만큼 겹쳐있습니다."
      ],
      "metadata": {
        "id": "KA4Mehflk_69"
      }
    },
    {
      "cell_type": "code",
      "source": [
        "def solution(lines):\n",
        "    length = []\n",
        "    for l in lines:\n",
        "        length.append(set(range(min(l), max(l))))\n",
        "    \n",
        "    answer = len(length[0] & length[1] | length[1] & length[2] | length[0] & length[2])\n",
        "    return answer"
      ],
      "metadata": {
        "id": "U_LvarUPlBHs"
      },
      "execution_count": null,
      "outputs": []
    },
    {
      "cell_type": "markdown",
      "source": [
        "### 유한소수 판별하기\n",
        "소수점 아래 숫자가 계속되지 않고 유한개인 소수를 유한소수라고 합니다. 분수를 소수로 고칠 때 유한소수로 나타낼 수 있는 분수인지 판별하려고 합니다. 유한소수가 되기 위한 분수의 조건은 다음과 같습니다.\n",
        "- 기약분수로 나타내었을 때, 분모의 소인수가 2와 5만 존재해야 합니다.\n",
        "\n",
        "두 정수 a와 b가 매개변수로 주어질 때, a/b가 유한소수이면 1을, 무한소수라면 2를 return하도록 solution 함수를 완성해주세요."
      ],
      "metadata": {
        "id": "5TAwLJmX2iKi"
      }
    },
    {
      "cell_type": "code",
      "source": [
        "def solution(a, b):\n",
        "    min_num = min(a, b)\n",
        "\n",
        "    elements = []\n",
        "    for i in range(1, int(min_num**0.5)+1):\n",
        "        if min_num % i == 0:\n",
        "            elements.extend([i, min_num//i])\n",
        "        else:\n",
        "            continue\n",
        "\n",
        "    elements.sort(reverse=True)\n",
        "\n",
        "    for i in elements:\n",
        "        if max(a, b) % i == 0:\n",
        "            break\n",
        "            \n",
        "    a, b = a // i, b // i\n",
        "\n",
        "    start = 2\n",
        "    common = []\n",
        "    while b != 1:\n",
        "        if b % start == 0:\n",
        "            common.append(start)\n",
        "            b = b // start\n",
        "        else:\n",
        "            start += 1\n",
        "            \n",
        "    if len([x for x in common if x not in [2, 5]]) >= 1:\n",
        "        answer = 2\n",
        "    else:\n",
        "        answer = 1\n",
        "\n",
        "    return answer"
      ],
      "metadata": {
        "id": "ZCVpWT8o2kmg"
      },
      "execution_count": null,
      "outputs": []
    },
    {
      "cell_type": "code",
      "source": [
        "# 다른 사람 풀이\n",
        "from math import gcd\n",
        "\n",
        "def solution(a, b):\n",
        "    b //= gcd(a,b)\n",
        "    while b%2==0:\n",
        "        b//=2\n",
        "    while b%5==0:\n",
        "        b//=5\n",
        "    return 1 if b==1 else 2"
      ],
      "metadata": {
        "id": "qtxcLmDG3Bql"
      },
      "execution_count": null,
      "outputs": []
    },
    {
      "cell_type": "markdown",
      "source": [],
      "metadata": {
        "id": "lpwxN6TxPjVa"
      }
    },
    {
      "cell_type": "code",
      "source": [],
      "metadata": {
        "id": "DAUr3xoQkGly"
      },
      "execution_count": null,
      "outputs": []
    },
    {
      "cell_type": "markdown",
      "source": [
        "## 23) 배열, 정렬, 문자열"
      ],
      "metadata": {
        "id": "wbIfWkjzkEEh"
      }
    },
    {
      "cell_type": "markdown",
      "source": [
        "### 특이한 정렬\n",
        "정수 n을 기준으로 n과 가까운 수부터 정렬하려고 합니다. 이때 n으로부터의 거리가 같다면 더 큰 수를 앞에 오도록 배치합니다. 정수가 담긴 배열 numlist와 정수 n이 주어질 때 numlist의 원소를 n으로부터 가까운 순서대로 정렬한 배열을 return하도록 solution 함수를 완성해주세요."
      ],
      "metadata": {
        "id": "Pl_JUkjk5MNr"
      }
    },
    {
      "cell_type": "code",
      "source": [
        "def solution(numlist, n):\n",
        "    answer = sorted(numlist, key=lambda x: (abs(x-n), -x))\n",
        "    \n",
        "    return answer"
      ],
      "metadata": {
        "id": "_yO-WhOO5Ogl"
      },
      "execution_count": null,
      "outputs": []
    },
    {
      "cell_type": "markdown",
      "source": [
        "### 등수 매기기\n",
        "영어 점수와 수학 점수의 평균 점수를 기준으로 학생들의 등수를 매기려고 합니다. 영어 점수와 수학 점수를 담은 2차원 정수 배열 score가 주어질 때, 영어 점수와 수학 점수의 평균을 기준으로 매긴 등수를 담은 배열을 return하도록 solution 함수를 완성해주세요."
      ],
      "metadata": {
        "id": "hN5bfL0WlYsS"
      }
    },
    {
      "cell_type": "code",
      "source": [
        "def solution(score):\n",
        "    answer = []\n",
        "    avg = [sum(i)/2 for i in score]\n",
        "    average_sorted = sorted(avg, reverse=True) # 평균을 역순으로 정렬\n",
        "    \n",
        "    for i in avg:\n",
        "        answer.append(average_sorted.index(i)+1)\n",
        "\n",
        "    return answer"
      ],
      "metadata": {
        "id": "dBlJ1eeGlZlc"
      },
      "execution_count": null,
      "outputs": []
    },
    {
      "cell_type": "markdown",
      "source": [
        "### 옹알이 (1)\n",
        "머쓱이는 태어난 지 6개월 된 조카를 돌보고 있습니다. 조카는 아직 \"aya\", \"ye\", \"woo\", \"ma\" 네 가지 발음을 최대 한 번씩 사용해 조합한(이어 붙인) 발음밖에 하지 못합니다. 문자열 배열 babbling이 매개변수로 주어질 때, 머쓱이의 조카가 발음할 수 있는 단어의 개수를 return하도록 solution 함수를 완성해주세요."
      ],
      "metadata": {
        "id": "M2JwSmu3xNR3"
      }
    },
    {
      "cell_type": "code",
      "source": [
        "def solution(babbling):\n",
        "    answer = 0\n",
        "    speak = ['aya', 'ye', 'woo', 'ma']\n",
        "    for b in babbling:\n",
        "        for s in speak:\n",
        "            b = b.replace(s, ' ')\n",
        "        if len(b.strip()) == 0:\n",
        "            answer += 1\n",
        "        \n",
        "    return answer"
      ],
      "metadata": {
        "id": "Iwn71sYkxRpW"
      },
      "execution_count": null,
      "outputs": []
    },
    {
      "cell_type": "markdown",
      "source": [
        "### 로그인 성공?\n",
        "머쓱이는 프로그래머스에 로그인하려고 합니다. 머쓱이가 입력한 아이디와 패스워드가 담긴 배열 id_pw와 회원들의 정보가 담긴 2차원 배열 db가 주어질 때, 다음과 같이 로그인 성공, 실패에 따른 메시지를 return하도록 solution 함수를 완성해주세요.\n",
        "- 아이디와 비밀번호가 모두 일치하는 회원정보가 있으면 \"login\"을 return합니다.\n",
        "- 로그인이 실패했을 때 아이디가 일치하는 회원이 없다면 “fail”를, 아이디는 일치하지만 비밀번호가 일치하는 회원이 없다면 “wrong pw”를 return 합니다."
      ],
      "metadata": {
        "id": "DRpvQskUf9LS"
      }
    },
    {
      "cell_type": "code",
      "source": [
        "def solution(id_pw, db):\n",
        "\n",
        "    db_dict = dict(db)\n",
        "\n",
        "    if id_pw[0] in db_dict.keys():\n",
        "        answer = 'wrong pw'\n",
        "        if id_pw[1] == db_dict[id_pw[0]]:\n",
        "            answer = 'login'\n",
        "    else:\n",
        "        answer = 'fail'\n",
        "    return answer"
      ],
      "metadata": {
        "id": "ilm5quMrgAjU"
      },
      "execution_count": null,
      "outputs": []
    },
    {
      "cell_type": "markdown",
      "source": [
        "## 24) 수학, 시뮬레이션, 문자열, 조건문, 반복문"
      ],
      "metadata": {
        "id": "rgtN2dGykE1Q"
      }
    },
    {
      "cell_type": "markdown",
      "source": [
        "### 치킨 쿠폰\n",
        "프로그래머스 치킨은 치킨을 시켜먹으면 한 마리당 쿠폰을 한 장 발급합니다. 쿠폰을 열 장 모으면 치킨을 한 마리 서비스로 받을 수 있고, 서비스 치킨에도 쿠폰이 발급됩니다. 시켜먹은 치킨의 수 chicken이 매개변수로 주어질 때 받을 수 있는 최대 서비스 치킨의 수를 return하도록 solution 함수를 완성해주세요."
      ],
      "metadata": {
        "id": "Wh1YwIcihhDk"
      }
    },
    {
      "cell_type": "code",
      "source": [
        "def solution(chicken):\n",
        "    answer = 0\n",
        "    service = 0\n",
        "    while chicken >= 10:\n",
        "        answer += chicken // 10\n",
        "        chicken = (chicken // 10) + (chicken % 10)\n",
        "\n",
        "    return answer\n",
        "\n",
        "'''\n",
        "100 (\n",
        "100장 => 10개 서비스 => \n",
        "10장 => 1개 서비스) = 10 + 1\n",
        "\n",
        "1081 (\n",
        "1081장 => 1081//10 = 108개 서비스 (1장 남음) => \n",
        "108장 => 10개 서비스 (8장 남음) => \n",
        "10장 => 1개 서비스 => \n",
        "1장) = 108 + 10 + 1 + 1\n",
        "'''"
      ],
      "metadata": {
        "id": "n52MngiThiYb"
      },
      "execution_count": null,
      "outputs": []
    },
    {
      "cell_type": "markdown",
      "source": [
        "### 이진수 더하기\n",
        "이진수를 의미하는 두 개의 문자열 bin1과 bin2가 매개변수로 주어질 때, 두 이진수의 합을 return하도록 solution 함수를 완성해주세요."
      ],
      "metadata": {
        "id": "ZlqrS-SwWdyW"
      }
    },
    {
      "cell_type": "code",
      "source": [
        "def solution(bin1, bin2):\n",
        "\n",
        "    a_bin = int(bin1, 2)\n",
        "    b_bin = int(bin2, 2)\n",
        "    total_bin = bin(a_bin + b_bin)\n",
        "\n",
        "    answer = total_bin.replace('0b', \"\")\n",
        "        \n",
        "    return answer"
      ],
      "metadata": {
        "id": "0szvkqK5Wdn2"
      },
      "execution_count": null,
      "outputs": []
    },
    {
      "cell_type": "markdown",
      "source": [
        "### A로 B 만들기\n",
        "문자열 before와 after가 매개변수로 주어질 때, before의 순서를 바꾸어 after를 만들 수 있으면 1을, 만들 수 없으면 0을 return 하도록 solution 함수를 완성해보세요."
      ],
      "metadata": {
        "id": "HwzRNEPvaolk"
      }
    },
    {
      "cell_type": "code",
      "source": [
        "def solution(before, after):\n",
        "    answer = 0\n",
        "    from collections import Counter\n",
        "    a = Counter(before)\n",
        "    b = Counter(after)\n",
        "    if a == b:\n",
        "        return 1\n",
        "    return answer"
      ],
      "metadata": {
        "id": "4nJRQg_Aaq75"
      },
      "execution_count": null,
      "outputs": []
    },
    {
      "cell_type": "code",
      "source": [
        "# 다른 사람 풀이\n",
        "def solution(before, after):\n",
        "    before=sorted(before)\n",
        "    after=sorted(after)\n",
        "    if before==after:\n",
        "        return 1\n",
        "    else:\n",
        "        return 0"
      ],
      "metadata": {
        "id": "XCn9xeSVasAc"
      },
      "execution_count": null,
      "outputs": []
    },
    {
      "cell_type": "markdown",
      "source": [
        "### k의 개수\n",
        "1부터 13까지의 수에서, 1은 1, 10, 11, 12, 13 이렇게 총 6번 등장합니다. 정수 i, j, k가 매개변수로 주어질 때, i부터 j까지 k가 몇 번 등장하는지 return 하도록 solution 함수를 완성해주세요."
      ],
      "metadata": {
        "id": "prgmfUZ98hpU"
      }
    },
    {
      "cell_type": "code",
      "source": [
        "def solution(i, j, k):\n",
        "    answer = 0\n",
        "\n",
        "    numbers = [str(i) for i in range(i, j+1)]\n",
        "    a = ''.join(numbers)\n",
        "\n",
        "    answer = a.count(str(k))\n",
        "    return answer"
      ],
      "metadata": {
        "id": "ZO7A6pCE8j4C"
      },
      "execution_count": null,
      "outputs": []
    },
    {
      "cell_type": "code",
      "source": [
        "# 다른 사람 풀이\n",
        "def solution(i, j, k):\n",
        "    answer = sum([ str(i).count(str(k)) for i in range(i,j+1)])\n",
        "    return answer"
      ],
      "metadata": {
        "id": "VzGnnwNm8lid"
      },
      "execution_count": null,
      "outputs": []
    },
    {
      "cell_type": "markdown",
      "source": [
        "## 25) 시뮬레이션, 조건문, 수학"
      ],
      "metadata": {
        "id": "oxDj_9k_kFzB"
      }
    },
    {
      "cell_type": "markdown",
      "source": [
        "### 문자열 밀기\n",
        "문자열 \"hello\"에서 각 문자를 오른쪽으로 한 칸씩 밀고 마지막 문자는 맨 앞으로 이동시키면 \"ohell\"이 됩니다. 이것을 문자열을 민다고 정의한다면 문자열 A와 B가 매개변수로 주어질 때, A를 밀어서 B가 될 수 있다면 밀어야 하는 최소 횟수를 return하고 밀어서 B가 될 수 없으면 -1을 return 하도록 solution 함수를 완성해보세요."
      ],
      "metadata": {
        "id": "_N8AaojX83Im"
      }
    },
    {
      "cell_type": "code",
      "source": [
        "def solution(A, B):\n",
        "    answer = 0\n",
        "    if A == B:\n",
        "        answer = 0\n",
        "    else:\n",
        "        for _ in range(len(A)):\n",
        "            if A[-1] + A[0:-1] == B:\n",
        "                answer += 1\n",
        "                break\n",
        "            else:\n",
        "                answer += 1\n",
        "                A = A[-1] + A[0:-1]\n",
        "\n",
        "    if answer >= len(A):\n",
        "        answer = -1\n",
        "    \n",
        "    return answer"
      ],
      "metadata": {
        "id": "lnZVKau185i8"
      },
      "execution_count": null,
      "outputs": []
    },
    {
      "cell_type": "code",
      "source": [
        "# 다른 사람 풀이\n",
        "solution=lambda a,b:(b*2).find(a)"
      ],
      "metadata": {
        "id": "Jhlom8mK8--6"
      },
      "execution_count": null,
      "outputs": []
    },
    {
      "cell_type": "markdown",
      "source": [
        "### 종이 자르기\n",
        "머쓱이는 큰 종이를 1 x 1 크기\b로 자르려고 합니다. 예를 들어 2 x 2 크기의 종이를 1 x 1 크기로 자르려면 최소 가위질 세 번이 필요합니다.\n",
        "정수 M, N이 매개변수로 주어질 때, M x N 크기의 종이를 최소로 가위질 해야하는 횟수를 return 하도록 solution 함수를 완성해보세요."
      ],
      "metadata": {
        "id": "9b_5PxdW3qgJ"
      }
    },
    {
      "cell_type": "code",
      "source": [
        "def solution(M, N):\n",
        "    answer = (M-1) + M * (N-1)\n",
        "    return answer\n",
        "    # 다른 사람 풀이\n",
        "    # return (M * N) - 1 "
      ],
      "metadata": {
        "id": "r9a-0wJU3w7v"
      },
      "execution_count": null,
      "outputs": []
    },
    {
      "cell_type": "markdown",
      "source": [
        "### 연속된 수의 합\n",
        "연속된 세 개의 정수를 더해 12가 되는 경우는 3, 4, 5입니다. 두 정수 num과 total이 주어집니다. 연속된 수 num개를 더한 값이 total이 될 때, 정수 배열을 오름차순으로 담아 return하도록 solution함수를 완성해보세요."
      ],
      "metadata": {
        "id": "wAkQJVgKNNgI"
      }
    },
    {
      "cell_type": "code",
      "source": [
        "def solution(num, total):\n",
        "    answer = []\n",
        "    count_sum = 0\n",
        "    \n",
        "    # 1부터 (num-1)개의 연속된 수의 합 구하기 => (n*(n-1)//2)가 연속된 수의 합이라는 사실을 기억했더라면,,,\n",
        "    for i in range(1, num):\n",
        "        count_sum += i\n",
        "    \n",
        "    # total = num * solution + count_sum\n",
        "    # 위에서 구한 합으로 연속된 수 중 첫번째 값 구하기\n",
        "    solution = (total - count_sum) / num\n",
        "    \n",
        "    # num만큼 answer 리스트에 넣어주기\n",
        "    for i in range(num):\n",
        "        answer.append(solution)\n",
        "        solution += 1\n",
        "        \n",
        "    return answer"
      ],
      "metadata": {
        "id": "crBj6Wx_NQdJ"
      },
      "execution_count": null,
      "outputs": []
    },
    {
      "cell_type": "code",
      "source": [
        "# 다른 사람 풀이\n",
        "def solution(num, total):\n",
        "    return [(total - (num * (num - 1) // 2)) // num + i for i in range(num)]"
      ],
      "metadata": {
        "id": "2XuwEXjSR7-h"
      },
      "execution_count": null,
      "outputs": []
    },
    {
      "cell_type": "markdown",
      "source": [
        "### 다음에 올 숫자\n",
        "등차수열 혹은 등비수열 common이 매개변수로 주어질 때, 마지막 원소 다음으로 올 숫자를 return 하도록 solution 함수를 완성해보세요."
      ],
      "metadata": {
        "id": "dFNz5gfvqYiY"
      }
    },
    {
      "cell_type": "code",
      "source": [
        "def solution(common):\n",
        "    answer = 0\n",
        "    if common[1]-common[0] == common[2]-common[1]:\n",
        "        diff = common[1]-common[0]\n",
        "        answer = common[-1] + diff\n",
        "    else:\n",
        "        times = common[1] // common[0]\n",
        "        answer = common[-1] * times\n",
        "    return answer\n",
        "\n",
        "\n",
        "'''\n",
        "[1]-[0]가 [2]-[1]과 같다면 등차수열\n",
        "아니라면 등비수열\n",
        "'''"
      ],
      "metadata": {
        "id": "63uGp1dZqazM"
      },
      "execution_count": null,
      "outputs": []
    }
  ]
}