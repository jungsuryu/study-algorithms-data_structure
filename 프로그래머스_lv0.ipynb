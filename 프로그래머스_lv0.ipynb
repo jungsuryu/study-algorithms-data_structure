{
  "nbformat": 4,
  "nbformat_minor": 0,
  "metadata": {
    "colab": {
      "provenance": [],
      "toc_visible": true,
      "authorship_tag": "ABX9TyPwNiUdWHA6PlsdeMBv7a2H",
      "include_colab_link": true
    },
    "kernelspec": {
      "name": "python3",
      "display_name": "Python 3"
    },
    "language_info": {
      "name": "python"
    }
  },
  "cells": [
    {
      "cell_type": "markdown",
      "metadata": {
        "id": "view-in-github",
        "colab_type": "text"
      },
      "source": [
        "<a href=\"https://colab.research.google.com/github/jungsuryu/study-algorithms-data_structure/blob/main/%ED%94%84%EB%A1%9C%EA%B7%B8%EB%9E%98%EB%A8%B8%EC%8A%A4_lv0.ipynb\" target=\"_parent\"><img src=\"https://colab.research.google.com/assets/colab-badge.svg\" alt=\"Open In Colab\"/></a>"
      ]
    },
    {
      "cell_type": "markdown",
      "source": [
        "## 1) 사칙연산"
      ],
      "metadata": {
        "id": "pTpgGHkQ8zz2"
      }
    },
    {
      "cell_type": "markdown",
      "source": [
        "### 두 수의 차\n",
        "정수 num1과 num2가 주어질 때, num1에서 num2를 뺀 값을 return 하도록 solution 함수를 완성해주세요"
      ],
      "metadata": {
        "id": "bwc_0mS96z4Z"
      }
    },
    {
      "cell_type": "code",
      "execution_count": null,
      "metadata": {
        "id": "28QhZvVO6wIT"
      },
      "outputs": [],
      "source": [
        "def solution(num1, num2):\n",
        "    answer = num1 - num2\n",
        "    return answer"
      ]
    },
    {
      "cell_type": "markdown",
      "source": [
        "### 두 수의 합\n",
        "정수 num1과 num2가 주어질 때, num1과 num2의 합을 return하도록 soltuion 함수를 완성해주세요."
      ],
      "metadata": {
        "id": "0K85WlQF7OWH"
      }
    },
    {
      "cell_type": "code",
      "source": [
        "def solution(num1, num2):\n",
        "  answer = num1 + num2\n",
        "  return answer"
      ],
      "metadata": {
        "id": "erwxRnM07SEK"
      },
      "execution_count": null,
      "outputs": []
    },
    {
      "cell_type": "markdown",
      "source": [
        "### 두 수의 곱\n",
        "정수 num1, num2가 매개변수 주어집니다. num1과 num2를 곱한 값을 return 하도록 solution 함수를 완성해주세요."
      ],
      "metadata": {
        "id": "rU7wBKk97Zmn"
      }
    },
    {
      "cell_type": "code",
      "source": [
        "def solution(num1, num2):\n",
        "    answer = num1 * num2\n",
        "    return answer"
      ],
      "metadata": {
        "id": "2iXHH-6G7ct9"
      },
      "execution_count": null,
      "outputs": []
    },
    {
      "cell_type": "markdown",
      "source": [
        "### 몫 구하기\n",
        "정수 num1, num2가 매개변수로 주어질 때, num1을 num2로 나눈 몫을 return 하도록 solution 함수를 완성해주세요."
      ],
      "metadata": {
        "id": "uStnDO8Q7o1j"
      }
    },
    {
      "cell_type": "code",
      "source": [
        "def solution(num1, num2):\n",
        "    answer = num1 // num2\n",
        "    return answer"
      ],
      "metadata": {
        "id": "L4Xo_BKm7okc"
      },
      "execution_count": null,
      "outputs": []
    },
    {
      "cell_type": "markdown",
      "source": [
        "## 2) 사칙연산, 조건문, 배열"
      ],
      "metadata": {
        "id": "6xXINpIQ823b"
      }
    },
    {
      "cell_type": "markdown",
      "source": [
        "### 두 수의 나눗셈\n",
        "정수 num1과 num2가 매개변수로 주어질 때, num1을 num2로 나눈 값에 1,000을 곱한 후 정수 부분을 return 하도록 soltuion 함수를 완성해주세요."
      ],
      "metadata": {
        "id": "ybK0wTN77zur"
      }
    },
    {
      "cell_type": "code",
      "source": [
        "def solution(num1, num2):\n",
        "    answer = int((num1 / num2) * 1000)\n",
        "    return answer"
      ],
      "metadata": {
        "id": "c85jeXR_72pS"
      },
      "execution_count": null,
      "outputs": []
    },
    {
      "cell_type": "markdown",
      "source": [
        "### 숫자 비교하기\n",
        "정수 num1과 num2가 매개변수로 주어집니다. 두 수가 같으면 1 다르면 -1을 retrun하도록 solution 함수를 완성해주세요."
      ],
      "metadata": {
        "id": "ZqJFJh298x_-"
      }
    },
    {
      "cell_type": "code",
      "source": [
        "def solution(num1, num2):\n",
        "    if num1 == num2:\n",
        "        answer = 1\n",
        "    else:\n",
        "        answer = -1\n",
        "    return answer"
      ],
      "metadata": {
        "id": "O0c4N1h_87Nb"
      },
      "execution_count": null,
      "outputs": []
    },
    {
      "cell_type": "markdown",
      "source": [
        "### 분수의 덧셈\n",
        "첫 번째 분수의 분자와 분모를 뜻하는 numer1, denom1, 두 번째 분수의 분자와 분모를 뜻하는 numer2, denom2가 매개변수로 주어집니다. 두 분수를 더한 값을 기약 분수로 나타냈을 때 분자와 분모를 순서대로 담은 배열을 return 하도록 solution 함수를 완성해보세요."
      ],
      "metadata": {
        "id": "OUCqfPZP87gn"
      }
    },
    {
      "cell_type": "code",
      "source": [
        "def solution(numer1, denom1, numer2, denom2):\n",
        "    denominator = denom1 * denom2\n",
        "    numerator = numer1 * denom2 + numer2 * denom1\n",
        "    \n",
        "    common = 0\n",
        "    smaller_value = min(denominator, numerator)\n",
        "    for i in range(smaller_value, 0, -1):\n",
        "        if denominator % i == 0 and numerator % i == 0:\n",
        "            common = i\n",
        "            break\n",
        "    \n",
        "    return [numerator/common, denominator/common]"
      ],
      "metadata": {
        "id": "vW9fnBjL88VD"
      },
      "execution_count": null,
      "outputs": []
    },
    {
      "cell_type": "markdown",
      "source": [
        "### 배열 두 배 만들기\n",
        "정수 배열 numbers가 매개변수로 주어집니다. numbers의 각 원소에 두배한 원소를 가진 배열을 return하도록 solution 함수를 완성해주세요."
      ],
      "metadata": {
        "id": "-KrfTds-88pc"
      }
    },
    {
      "cell_type": "code",
      "source": [
        "def solution(numbers):\n",
        "    answer = [i*2 for i in numbers]\n",
        "    return answer"
      ],
      "metadata": {
        "id": "seVaDeI089lX"
      },
      "execution_count": null,
      "outputs": []
    },
    {
      "cell_type": "markdown",
      "source": [
        "## 3) 사칙연산, 배열, 수학"
      ],
      "metadata": {
        "id": "EdPA5WCwA_du"
      }
    },
    {
      "cell_type": "markdown",
      "source": [
        "### 나머지 구하기\n",
        "정수 num1, num2가 매개변수로 주어질 때, num1를 num2로 나눈 나머지를 return 하도록 solution 함수를 완성해주세요."
      ],
      "metadata": {
        "id": "6nNHL80QBAX-"
      }
    },
    {
      "cell_type": "code",
      "source": [
        "def solution(num1, num2):\n",
        "    answer = num1 % num2\n",
        "    return answer"
      ],
      "metadata": {
        "id": "E-HxKwEbBAGI"
      },
      "execution_count": null,
      "outputs": []
    },
    {
      "cell_type": "markdown",
      "source": [
        "### 중앙값 구하기\n",
        "중앙값은 어떤 주어진 값들을 크기의 순서대로 정렬했을 때 가장 중앙에 위치하는 값을 의미합니다. 예를 들어 1, 2, 7, 10, 11의 중앙값은 7입니다. 정수 배열 array가 매개변수로 주어질 때, 중앙값을 return 하도록 solution 함수를 완성해보세요."
      ],
      "metadata": {
        "id": "cUjtdw_VFR1U"
      }
    },
    {
      "cell_type": "code",
      "source": [
        "def solution(array):\n",
        "    array.sort()\n",
        "    \n",
        "    if len(array) % 2 == 0:\n",
        "        index = len(array) / 2\n",
        "        answer = (array[index] + array[index+1]) / 2\n",
        "    else:\n",
        "        index = int(len(array) / 2)\n",
        "        answer = array[index]\n",
        "        \n",
        "    return answer"
      ],
      "metadata": {
        "id": "40MNyY4oFWPE"
      },
      "execution_count": null,
      "outputs": []
    },
    {
      "cell_type": "code",
      "source": [
        "# 다른 사람 풀이 참고 + 제한사항 중 \"array의 길이는 홀수\"가 있음을 확인한 후 다시 풀어봄\n",
        "def solution(array):\n",
        "  array.sort()\n",
        "  index = len(array) // 2\n",
        "  answer = array[index]\n",
        "  return answer"
      ],
      "metadata": {
        "id": "Nk4hjkuZGadb"
      },
      "execution_count": null,
      "outputs": []
    },
    {
      "cell_type": "markdown",
      "source": [
        "### 최빈값 구하기\n",
        "최빈값은 주어진 값 중에서 가장 자주 나오는 값을 의미합니다. 정수 배열 array가 매개변수로 주어질 때, 최빈값을 return 하도록 solution 함수를 완성해보세요. 최빈값이 여러 개면 -1을 return 합니다."
      ],
      "metadata": {
        "id": "WGkUHe5QJQ9d"
      }
    },
    {
      "cell_type": "code",
      "source": [
        "def solution(array):\n",
        "    count_dict = {}\n",
        "    for i in array:\n",
        "        if i in count_dict:\n",
        "            count_dict[i] += 1\n",
        "        else:\n",
        "            count_dict[i] = 1\n",
        "            \n",
        "    count_sorted = sorted(count_dict.items(), key=lambda x: x[-1], reverse=True)\n",
        "    \n",
        "    if len(count_sorted) <= 1:\n",
        "        return count_sorted[0][0]\n",
        "    return count_sorted[0][0] if count_sorted[0][-1] != count_sorted[1][-1] else -1"
      ],
      "metadata": {
        "id": "MFDoohBZJWzm"
      },
      "execution_count": null,
      "outputs": []
    },
    {
      "cell_type": "code",
      "source": [
        "# 다른 사람 풀이\n",
        "from collections import Counter\n",
        "\n",
        "def solution(array):\n",
        "    a = Counter(array).most_common(2)\n",
        "    if len(a) == 1:\n",
        "        return a[0][0]\n",
        "    if a[0][1] == a[1][1]:\n",
        "        return -1\n",
        "    return a[0][0]"
      ],
      "metadata": {
        "id": "1Hmy8_egZsrq"
      },
      "execution_count": null,
      "outputs": []
    },
    {
      "cell_type": "markdown",
      "source": [
        "### 짝수는 싫어요\n",
        "정수 n이 매개변수로 주어질 때, n 이하의 홀수가 오름차순으로 담긴 배열을 return하도록 solution 함수를 완성해주세요.\n"
      ],
      "metadata": {
        "id": "CCbYTFUuRGw7"
      }
    },
    {
      "cell_type": "code",
      "source": [
        "def solution(n):\n",
        "    answer = [i for i in range(n+1) if i % 2 != 0]\n",
        "    return answer"
      ],
      "metadata": {
        "id": "8b5qWyUJRG_9"
      },
      "execution_count": null,
      "outputs": []
    },
    {
      "cell_type": "code",
      "source": [
        "# 다른 사람 풀이\n",
        "def solution(n):\n",
        "    return [i for i in range(1, n+1, 2)]"
      ],
      "metadata": {
        "id": "zUylhM_pRPu3"
      },
      "execution_count": null,
      "outputs": []
    },
    {
      "cell_type": "markdown",
      "source": [
        "## 4) 수학, 배열"
      ],
      "metadata": {
        "id": "J5Rj1P3nJwDP"
      }
    },
    {
      "cell_type": "markdown",
      "source": [
        "### 피자 나눠 먹기 (1)\n",
        "머쓱이네 피자가게는 피자를 일곱 조각으로 잘라 줍니다. 피자를 나눠먹을 사람의 수 n이 주어질 때, 모든 사람이 피자를 한 조각 이상 먹기 위해 필요한 피자의 수를 return 하는 solution 함수를 완성해보세요."
      ],
      "metadata": {
        "id": "_TPxWXYcIrU3"
      }
    },
    {
      "cell_type": "code",
      "source": [
        "def solution(n):\n",
        "    if n % 7 == 0:\n",
        "        answer = n // 7\n",
        "    else:\n",
        "        answer = n // 7 + 1\n",
        "    \n",
        "    return answer"
      ],
      "metadata": {
        "id": "WH4A_B74IuS7"
      },
      "execution_count": null,
      "outputs": []
    },
    {
      "cell_type": "code",
      "source": [
        "# 다른 사람 풀이\n",
        "def solution(n):\n",
        "    return (n - 1) // 7 + 1"
      ],
      "metadata": {
        "id": "ZGkf7YbBJNM6"
      },
      "execution_count": null,
      "outputs": []
    },
    {
      "cell_type": "markdown",
      "source": [
        "### 피자 나눠 먹기 (2)\n",
        "머쓱이네 피자가게는 피자를 여섯 조각으로 잘라 줍니다. 피자를 나눠먹을 사람의 수 n이 매개변수로 주어질 때, n명이 주문한 피자를 남기지 않고 모두 같은 수의 피자 조각을 먹어야 한다면 최소 몇 판을 시켜야 하는지를 return 하도록 solution 함수를 완성해보세요."
      ],
      "metadata": {
        "id": "5wyY_el2J4ZV"
      }
    },
    {
      "cell_type": "code",
      "source": [
        "def solution(n):\n",
        "    import math\n",
        "    lcm = n * 6 // (math.gcd(n, 6))\n",
        "    answer = lcm // 6\n",
        "    return answer"
      ],
      "metadata": {
        "id": "pUHXrGLZJ92o"
      },
      "execution_count": null,
      "outputs": []
    },
    {
      "cell_type": "code",
      "source": [
        "# 한 줄로 합치면\n",
        "import math\n",
        "\n",
        "def solution(n):\n",
        "  return (n*6) // math.gcd(n,6) // 6  "
      ],
      "metadata": {
        "id": "5cwtvSs5Qilr"
      },
      "execution_count": null,
      "outputs": []
    },
    {
      "cell_type": "code",
      "source": [
        "# 다른 사람 풀이\n",
        "def solution(n):\n",
        "    pizza = 1\n",
        "    while (pizza * 6) % n != 0:\n",
        "        pizza += 1\n",
        "    return pizza\n"
      ],
      "metadata": {
        "id": "ku9yuTVyQ2h_"
      },
      "execution_count": null,
      "outputs": []
    },
    {
      "cell_type": "markdown",
      "source": [
        "### 피자 나눠 먹기 (3)\n",
        "머쓱이네 피자가게는 피자를 두 조각에서 열 조각까지 원하는 조각 수로 잘라줍니다. 피자 조각 수 slice와 피자를 먹는 사람의 수 n이 매개변수로 주어질 때, n명의 사람이 최소 한 조각 이상 피자를 먹으려면 최소 몇 판의 피자를 시켜야 하는지를 return 하도록 solution 함수를 완성해보세요."
      ],
      "metadata": {
        "id": "k38nLNINMjQF"
      }
    },
    {
      "cell_type": "code",
      "source": [
        "def solution(slice, n):\n",
        "    answer = (n - 1) // slice + 1\n",
        "    return answer"
      ],
      "metadata": {
        "id": "6Ohus06gMl9a"
      },
      "execution_count": null,
      "outputs": []
    },
    {
      "cell_type": "markdown",
      "source": [
        "### 배열의 평균값\n",
        "정수 배열 numbers가 매개변수로 주어집니다. numbers의 원소의 평균값을 return하도록 solution 함수를 완성해주세요."
      ],
      "metadata": {
        "id": "NiCvXKZUCvAl"
      }
    },
    {
      "cell_type": "code",
      "source": [
        "def solution(numbers):\n",
        "    sum = 0\n",
        "    for i in numbers:\n",
        "        sum += i\n",
        "    answer = sum / len(numbers)\n",
        "    return answer"
      ],
      "metadata": {
        "id": "xOaBdnNsCxVx"
      },
      "execution_count": null,
      "outputs": []
    },
    {
      "cell_type": "markdown",
      "source": [
        "## 5) 수학, 배열"
      ],
      "metadata": {
        "id": "HcvuKbO6KZID"
      }
    },
    {
      "cell_type": "markdown",
      "source": [
        "### 옷가게 할인 받기\n",
        "머쓱이네 옷가게는 10만 원 이상 사면 5%, 30만 원 이상 사면 10%, 50만 원 이상 사면 20%를 할인해줍니다.\n",
        "구매한 옷의 가격 price가 주어질 때, 지불해야 할 금액을 return 하도록 solution 함수를 완성해보세요."
      ],
      "metadata": {
        "id": "oV45pWc8St27"
      }
    },
    {
      "cell_type": "code",
      "source": [
        "def solution(price):\n",
        "    if price >= 500000:\n",
        "        answer = price * 0.8\n",
        "    elif price >= 300000:\n",
        "        answer = price * 0.9\n",
        "    elif price >= 100000:\n",
        "        answer = price * 0.95\n",
        "    else:\n",
        "        answer = price\n",
        "    return int(answer)"
      ],
      "metadata": {
        "id": "D1NSdRtlhmZ9"
      },
      "execution_count": null,
      "outputs": []
    },
    {
      "cell_type": "code",
      "source": [
        "# 다른 사람 풀이\n",
        "def solution(price):\n",
        "    discount_rates = {500000: 0.8, 300000: 0.9, 100000: 0.95, 0: 1}\n",
        "    for discount_price, discount_rate in discount_rates.items():\n",
        "        if price >= discount_price:\n",
        "            return int(price * discount_rate)"
      ],
      "metadata": {
        "id": "Dl1_RU9mi86S"
      },
      "execution_count": null,
      "outputs": []
    },
    {
      "cell_type": "markdown",
      "source": [
        "### 아이스 아메리카노\n",
        "머쓱이는 추운 날에도 아이스 아메리카노만 마십니다. 아이스 아메리카노는 한잔에 5,500원입니다. 머쓱이가 가지고 있는 돈 money가 매개변수로 주어질 때, 머쓱이가 최대로 마실 수 있는 아메리카노의 잔 수와 남는 돈을 순서대로 담은 배열을 return 하도록 solution 함수를 완성해보세요."
      ],
      "metadata": {
        "id": "yGCuWVdoPIF1"
      }
    },
    {
      "cell_type": "code",
      "source": [
        "def solution(money):\n",
        "    cups = money // 5500\n",
        "    change = money - cups * 5500\n",
        "    return [cups, change]"
      ],
      "metadata": {
        "id": "jZeMNdQ5PKRP"
      },
      "execution_count": null,
      "outputs": []
    },
    {
      "cell_type": "code",
      "source": [
        "# 다른 사람 풀이\n",
        "def solution(money):\n",
        "    answer = [money // 5500, money % 5500]\n",
        "    return answer"
      ],
      "metadata": {
        "id": "WRbrs2lKPfJN"
      },
      "execution_count": null,
      "outputs": []
    },
    {
      "cell_type": "markdown",
      "source": [
        "### 나이 출력\n",
        "머쓱이는 40살인 선생님이 몇 년도에 태어났는지 궁금해졌습니다. 나이 age가 주어질 때, 2022년을 기준 출생 연도를 return 하는 solution 함수를 완성해주세요."
      ],
      "metadata": {
        "id": "OvLebgGDBbqv"
      }
    },
    {
      "cell_type": "code",
      "source": [
        "def solution(age):\n",
        "    answer = 2022 - age + 1\n",
        "    return answer"
      ],
      "metadata": {
        "id": "fGTMock2Befj"
      },
      "execution_count": null,
      "outputs": []
    },
    {
      "cell_type": "markdown",
      "source": [
        "### 배열 뒤집기\n",
        "정수가 들어 있는 배열 num_list가 매개변수로 주어집니다. num_list의 원소의 순서를 거꾸로 뒤집은 배열을 return하도록 solution 함수를 완성해주세요."
      ],
      "metadata": {
        "id": "T1dbEroxUXen"
      }
    },
    {
      "cell_type": "code",
      "source": [
        "def solution(num_list):\n",
        "    num_list_copied = num_list.copy()\n",
        "    num_list_copied.reverse()\n",
        "    return num_list_copied"
      ],
      "metadata": {
        "id": "WPVokFfYUZNM"
      },
      "execution_count": null,
      "outputs": []
    },
    {
      "cell_type": "code",
      "source": [
        "# 다른 사람 풀이\n",
        "def solution(num_list):\n",
        "    return num_list[::-1]"
      ],
      "metadata": {
        "id": "M-v_EamAWgZw"
      },
      "execution_count": null,
      "outputs": []
    },
    {
      "cell_type": "markdown",
      "source": [
        "## 6) 문자열, 반복문, 출력, 배열, 조건문"
      ],
      "metadata": {
        "id": "j8VlB4MyhxD8"
      }
    },
    {
      "cell_type": "markdown",
      "source": [
        "### 문자열 뒤집기\n",
        "문자열 my_string이 매개변수로 주어집니다. my_string을 거꾸로 뒤집은 문자열을 return하도록 solution 함수를 완성해주세요."
      ],
      "metadata": {
        "id": "EevJeGluWsrA"
      }
    },
    {
      "cell_type": "code",
      "source": [
        "def solution(my_string):\n",
        "    return my_string[::-1]"
      ],
      "metadata": {
        "id": "AqD5waFZWu4Z"
      },
      "execution_count": null,
      "outputs": []
    },
    {
      "cell_type": "markdown",
      "source": [
        "### 직각삼각형 출력하기\n",
        "\"*\"의 높이와 너비를 1이라고 했을 때, \"*\"을 이용해 직각 이등변 삼각형을 그리려고합니다. 정수 n 이 주어지면 높이와 너비가 n 인 직각 이등변 삼각형을 출력하도록 코드를 작성해보세요."
      ],
      "metadata": {
        "id": "kHhPEaBIk-Jb"
      }
    },
    {
      "cell_type": "code",
      "source": [
        "n = int(input())\n",
        "for i in range(n):\n",
        "    print(\"*\" * (i+1))"
      ],
      "metadata": {
        "id": "8f9sHT7GlANM"
      },
      "execution_count": null,
      "outputs": []
    },
    {
      "cell_type": "markdown",
      "source": [
        "### 짝수 홀수 개수\n",
        "정수가 담긴 리스트 num_list가 주어질 때, num_list의 원소 중 짝수와 홀수의 개수를 담은 배열을 return 하도록 solution 함수를 완성해보세요."
      ],
      "metadata": {
        "id": "Mofvs6J2TeG3"
      }
    },
    {
      "cell_type": "code",
      "source": [
        "def solution(num_list):\n",
        "    even = 0\n",
        "    odd = 0\n",
        "    \n",
        "    for i in num_list:\n",
        "        if i % 2 == 0:\n",
        "            even += 1\n",
        "        else:\n",
        "            odd += 1\n",
        "            \n",
        "    return [even, odd]"
      ],
      "metadata": {
        "id": "6xz96LFZTgZC"
      },
      "execution_count": null,
      "outputs": []
    },
    {
      "cell_type": "code",
      "source": [
        "# 다른 사람 풀이\n",
        "def solution(num_list):\n",
        "    answer = [0,0] # 미리 짝수 개수, 홀수 개수 설정해둔 후\n",
        "    for n in num_list: # 리스트 원소를 하나씩 돌면서\n",
        "        answer[n%2]+=1 # 2로 나누어 떨어지면 answer[0]: 짝수 자리에 +1, 나누어 떨어지지 않으면 answer[1]: 홀수 자리에 +1\n",
        "    return answer"
      ],
      "metadata": {
        "id": "67Mk5EdVUKpo"
      },
      "execution_count": null,
      "outputs": []
    },
    {
      "cell_type": "markdown",
      "source": [
        "### 문자 반복 출력하기\n",
        "문자열 my_string과 정수 n이 매개변수로 주어질 때, my_string에 들어있는 각 문자를 n만큼 반복한 문자열을 return 하도록 solution 함수를 완성해보세요."
      ],
      "metadata": {
        "id": "j2v1d33xXvH3"
      }
    },
    {
      "cell_type": "code",
      "source": [
        "def solution(my_string, n):\n",
        "    answer = ''\n",
        "    return answer.join(i*n for i in my_string)"
      ],
      "metadata": {
        "id": "lOmqb5r5YAUH"
      },
      "execution_count": null,
      "outputs": []
    },
    {
      "cell_type": "markdown",
      "source": [
        "## 7) 문자열, 조건문, 수학, 반복문"
      ],
      "metadata": {
        "id": "3ThsJAieh_Xk"
      }
    },
    {
      "cell_type": "markdown",
      "source": [
        "### 특정 문자 제거하기\n",
        "문자열 my_string과 문자 letter이 매개변수로 주어집니다. my_string에서 letter를 제거한 문자열을 return하도록 solution 함수를 완성해주세요."
      ],
      "metadata": {
        "id": "GRCVwfSHXBLj"
      }
    },
    {
      "cell_type": "code",
      "source": [
        "def solution(my_string, letter):\n",
        "    return my_string.replace(letter,'')"
      ],
      "metadata": {
        "id": "ujX4_YytXDbw"
      },
      "execution_count": null,
      "outputs": []
    },
    {
      "cell_type": "markdown",
      "source": [
        "### 각도기\n",
        "각에서 0도 초과 90도 미만은 예각, 90도는 직각, 90도 초과 180도 미만은 둔각 180도는 평각으로 분류합니다. 각 angle이 매개변수로 주어질 때 예각일 때 1, 직각일 때 2, 둔각일 때 3, 평각일 때 4를 return하도록 solution 함수를 완성해주세요.\n",
        "\n",
        "- 예각 : 0 < angle < 90\n",
        "- 직각 : angle = 90\n",
        "- 둔각 : 90 < angle < 180\n",
        "- 평각 : angle = 180\n"
      ],
      "metadata": {
        "id": "OnyonbamBf1I"
      }
    },
    {
      "cell_type": "code",
      "source": [
        "def solution(angle):\n",
        "    if angle == 180:\n",
        "        answer = 4\n",
        "    elif angle > 90:\n",
        "        answer = 3\n",
        "    elif angle == 90:\n",
        "        answer = 2\n",
        "    else:\n",
        "        answer =1\n",
        "    return answer"
      ],
      "metadata": {
        "id": "jwEwjL6zBi9u"
      },
      "execution_count": null,
      "outputs": []
    },
    {
      "cell_type": "code",
      "source": [
        "# 다른 사람의 풀이\n",
        "def solution(angle):\n",
        "    answer = (angle // 90) * 2 + (angle % 90 > 0) * 1\n",
        "    return answer"
      ],
      "metadata": {
        "id": "vri0PDu4CKPy"
      },
      "execution_count": null,
      "outputs": []
    },
    {
      "cell_type": "markdown",
      "source": [
        "### 양꼬치\n",
        "머쓱이네 양꼬치 가게는 10인분을 먹으면 음료수 하나를 서비스로 줍니다. 양꼬치는 1인분에 12,000원, 음료수는 2,000원입니다. 정수 n과 k가 매개변수로 주어졌을 때, 양꼬치 n인분과 음료수 k개를 먹었다면 총얼마를 지불해야 하는지 return 하도록 solution 함수를 완성해보세요."
      ],
      "metadata": {
        "id": "v1yibMw-DEhp"
      }
    },
    {
      "cell_type": "code",
      "source": [
        "def solution(n, k):\n",
        "    answer = 0\n",
        "    # 음료수 값은 음료수 k개 중 n//10 개 빼고 계산\n",
        "    bev_pay = k - n // 10\n",
        "    answer = n * 12000 + bev_pay * 2000\n",
        "    return answer"
      ],
      "metadata": {
        "id": "5V6P8rA9DHWw"
      },
      "execution_count": null,
      "outputs": []
    },
    {
      "cell_type": "markdown",
      "source": [
        "### 짝수의 합\n",
        "정수 n이 주어질 때, n이하의 짝수를 모두 더한 값을 return 하도록 solution 함수를 작성해주세요."
      ],
      "metadata": {
        "id": "nDRfY2X2CXOA"
      }
    },
    {
      "cell_type": "code",
      "source": [
        "def solution(n):\n",
        "    answer = 0\n",
        "    for i in range(n+1):\n",
        "        if i % 2 == 0:\n",
        "            answer += i \n",
        "    return answer"
      ],
      "metadata": {
        "id": "FTJ6GtQ9CaZ5"
      },
      "execution_count": null,
      "outputs": []
    },
    {
      "cell_type": "markdown",
      "source": [
        "## 8) 배열, 구현, 수학"
      ],
      "metadata": {
        "id": "Bptnsu2NiIAQ"
      }
    },
    {
      "cell_type": "markdown",
      "source": [
        "### 배열 자르기\n",
        "정수 배열 numbers와 정수 num1, num2가 매개변수로 주어질 때, numbers의 num1번 째 인덱스부터 num2번째 인덱스까지 자른 정수 배열을 return 하도록 solution 함수를 완성해보세요."
      ],
      "metadata": {
        "id": "s5XICe1oPlxy"
      }
    },
    {
      "cell_type": "code",
      "source": [
        "def solution(numbers, num1, num2):\n",
        "    return numbers[num1:num2+1]"
      ],
      "metadata": {
        "id": "HeGRUdofPnpE"
      },
      "execution_count": 1,
      "outputs": []
    },
    {
      "cell_type": "markdown",
      "source": [
        "### 외계행성의 나이\n",
        "우주여행을 하던 머쓱이는 엔진 고장으로 PROGRAMMERS-962 행성에 불시착하게 됐습니다. 입국심사에서 나이를 말해야 하는데, PROGRAMMERS-962 행성에서는 나이를 알파벳으로 말하고 있습니다. a는 0, b는 1, c는 2, ..., j는 9입니다. 예를 들어 23살은 cd, 51살은 fb로 표현합니다. 나이 age가 매개변수로 주어질 때 PROGRAMMER-962식 나이를 return하도록 solution 함수를 완성해주세요."
      ],
      "metadata": {
        "id": "eCt6-WK2ciS2"
      }
    },
    {
      "cell_type": "code",
      "source": [
        "def solution(age):\n",
        "    answer = ''\n",
        "    change = []\n",
        "    match = {0:'a', 1:'b', 2:'c', 3:'d', 4:'e', 5:'f',\n",
        "            6:'g', 7:'h', 8:'i', 9:'j'}\n",
        "    for i in range(len(str(age))):\n",
        "        key = str(age)[i]\n",
        "        change.append(match[int(key)])\n",
        "    return answer.join(change)"
      ],
      "metadata": {
        "id": "Gw8a5d-cckiY"
      },
      "execution_count": null,
      "outputs": []
    },
    {
      "cell_type": "code",
      "source": [
        "# 다른 사람 풀이\n",
        "def solution(age):\n",
        "    conv = {'0':'a','1':'b','2':'c','3':'d','4':'e'\n",
        "            ,'5':'f','6':'g','7':'h','8':'i','9':'j'}\n",
        "    return ''.join(conv[i] for i in str(age))"
      ],
      "metadata": {
        "id": "DIbv1KLvcrz8"
      },
      "execution_count": null,
      "outputs": []
    },
    {
      "cell_type": "markdown",
      "source": [
        "### 진료 순서 정하기\n",
        "외과의사 머쓱이는 응급실에 온 환자의 응급도를 기준으로 진료 순서를 정하려고 합니다. 정수 배열 emergency가 매개변수로 주어질 때 응급도가 높은 순서대로 진료 순서를 정한 배열을 return하도록 solution 함수를 완성해주세요."
      ],
      "metadata": {
        "id": "O5tnpUjsXLAw"
      }
    },
    {
      "cell_type": "code",
      "source": [
        "def solution(emergency):\n",
        "    order = 1\n",
        "    match = {}\n",
        "    temp = emergency.copy()\n",
        "    temp.sort(reverse=True)\n",
        "    for i in temp:\n",
        "        match[i] = order\n",
        "        order += 1\n",
        "    answer = [match[j] for j in emergency]\n",
        "    return answer"
      ],
      "metadata": {
        "id": "SXRE1mO9XK4S"
      },
      "execution_count": null,
      "outputs": []
    },
    {
      "cell_type": "code",
      "source": [
        "# 다른 사람 풀이\n",
        "def solution(emergency):\n",
        "    return [sorted(emergency, reverse=True).index(e) + 1 for e in emergency]"
      ],
      "metadata": {
        "id": "r8kZldVoXVeZ"
      },
      "execution_count": null,
      "outputs": []
    },
    {
      "cell_type": "markdown",
      "source": [
        "### 순서쌍의 개수\n",
        "순서쌍이란 두 개의 숫자를 순서를 정하여 짝지어 나타낸 쌍으로 (a, b)로 표기합니다. 자연수 n이 매개변수로 주어질 때 두 숫자의 곱이 n인 자연수 순서쌍의 개수를 return하도록 solution 함수를 완성해주세요."
      ],
      "metadata": {
        "id": "rl4KlAjhJe-L"
      }
    },
    {
      "cell_type": "code",
      "source": [
        "def solution(n):\n",
        "    import math\n",
        "    upto = math.sqrt(n)\n",
        "    count = 0\n",
        "    for i in range(1, int(upto)+1):\n",
        "        if n % i == 0:\n",
        "            count += 1\n",
        "    answer = count * 2 if int(upto) != upto else count * 2 - 1 \n",
        "    return answer"
      ],
      "metadata": {
        "id": "C3GJUCsTJhUr"
      },
      "execution_count": null,
      "outputs": []
    },
    {
      "cell_type": "markdown",
      "source": [
        "## 9) 수학, 문자열, 해시, 완전탐색, 조건문"
      ],
      "metadata": {
        "id": "GD1ORG_wiQFD"
      }
    },
    {
      "cell_type": "markdown",
      "source": [
        "### 개미 군단\n",
        "개미 군단이 사냥을 나가려고 합니다. 개미군단은 사냥감의 체력에 딱 맞는 병력을 데리고 나가려고 합니다. 장군개미는 5의 공격력을, 병정개미는 3의 공격력을 일개미는 1의 공격력을 가지고 있습니다. 예를 들어 체력 23의 여치를 사냥하려고 할 때, 일개미 23마리를 데리고 가도 되지만, 장군개미 네 마리와 병정개미 한 마리를 데리고 간다면 더 적은 병력으로 사냥할 수 있습니다. 사냥감의 체력 hp가 매개변수로 주어질 때, 사냥감의 체력에 딱 맞게 최소한의 병력을 구성하려면 몇 마리의 개미가 필요한지를 return하도록 solution 함수를 완성해주세요."
      ],
      "metadata": {
        "id": "IU6kej1c7d7s"
      }
    },
    {
      "cell_type": "code",
      "source": [
        "def solution(hp):\n",
        "    large_ant = hp // 5\n",
        "    medium_ant = (hp % 5) // 3\n",
        "    small_ant = hp - large_ant * 5 - medium_ant * 3\n",
        "    answer = large_ant + medium_ant + small_ant\n",
        "    return answer\n",
        "    # 다른 사람 풀이\n",
        "    # return hp // 5 + (hp % 5 // 3) + ((hp % 5) % 3)"
      ],
      "metadata": {
        "id": "EGfND0Yv7iVS"
      },
      "execution_count": null,
      "outputs": []
    },
    {
      "cell_type": "markdown",
      "source": [
        "### 모스부호 (1)\n",
        "머쓱이는 친구에게 모스부호를 이용한 편지를 받았습니다. 그냥은 읽을 수 없어 이를 해독하는 프로그램을 만들려고 합니다. 문자열 letter가 매개변수로 주어질 때, letter를 영어 소문자로 바꾼 문자열을 return 하도록 solution 함수를 완성해보세요.\n",
        "모스부호는 다음과 같습니다."
      ],
      "metadata": {
        "id": "o-vuU9taYQYb"
      }
    },
    {
      "cell_type": "code",
      "source": [
        "def solution(letter):\n",
        "    \n",
        "    morse = {'.-':'a','-...':'b','-.-.':'c','-..':'d','.':'e','..-.':'f',\n",
        "    '--.':'g','....':'h','..':'i','.---':'j','-.-':'k','.-..':'l',\n",
        "    '--':'m','-.':'n','---':'o','.--.':'p','--.-':'q','.-.':'r',\n",
        "    '...':'s','-':'t','..-':'u','...-':'v','.--':'w','-..-':'x',\n",
        "    '-.--':'y','--..':'z'}\n",
        "    \n",
        "    a = letter.split()\n",
        "    answer = ''.join([morse[i] for i in a])\n",
        "    return answer"
      ],
      "metadata": {
        "id": "WgvswiYiYRoh"
      },
      "execution_count": null,
      "outputs": []
    },
    {
      "cell_type": "markdown",
      "source": [
        "### 가위 바위 보\n",
        "가위는 2 바위는 0 보는 5로 표현합니다. 가위 바위 보를 내는 순서대로 나타낸 문자열 rsp가 매개변수로 주어질 때, rsp에 저장된 가위 바위 보를 모두 이기는 경우를 순서대로 나타낸 문자열을 return하도록 solution 함수를 완성해보세요."
      ],
      "metadata": {
        "id": "5ZskydcOdEI0"
      }
    },
    {
      "cell_type": "code",
      "source": [
        "def solution(rsp):\n",
        "    answer = ''\n",
        "    win = {\"0\":\"5\", \"2\":\"0\", \"5\":\"2\"}\n",
        "    win_list = []\n",
        "    for i in rsp:\n",
        "        win_list.append(win[i])\n",
        "    answer = answer.join(win_list)\n",
        "    return answer"
      ],
      "metadata": {
        "id": "Qd5qevFzdFyU"
      },
      "execution_count": null,
      "outputs": []
    },
    {
      "cell_type": "code",
      "source": [
        "# 다른 사람 풀이\n",
        "def solution(rsp):\n",
        "    d = {'0':'5','2':'0','5':'2'}\n",
        "    return ''.join(d[i] for i in rsp)"
      ],
      "metadata": {
        "id": "4iE_g8WLd4pI"
      },
      "execution_count": null,
      "outputs": []
    },
    {
      "cell_type": "markdown",
      "source": [
        "### 구슬을 나누는 경우의 수\n",
        "머쓱이는 구슬을 친구들에게 나누어주려고 합니다. 구슬은 모두 다르게 생겼습니다. 머쓱이가 갖고 있는 구슬의 개수 balls와 친구들에게 나누어 줄 구슬 개수 share이 매개변수로 주어질 때, balls개의 구슬 중 share개의 구슬을 고르는 가능한 모든 경우의 수를 return 하는 solution 함수를 완성해주세요."
      ],
      "metadata": {
        "id": "9QRg8UHeYSiI"
      }
    },
    {
      "cell_type": "code",
      "source": [
        "def factorial(n):\n",
        "    if n <= 1:\n",
        "        return 1\n",
        "    return n * factorial(n-1)\n",
        "\n",
        "def solution(balls, share):\n",
        "    answer = 0\n",
        "    return factorial(balls) / (factorial(balls-share) * factorial(share))"
      ],
      "metadata": {
        "id": "a6MaXGo2YUXZ"
      },
      "execution_count": null,
      "outputs": []
    },
    {
      "cell_type": "code",
      "source": [
        "# 다른 사람 코드\n",
        "import math\n",
        "\n",
        "def solution(balls, share):\n",
        "    return math.comb(balls, share) # combination(조합) 사용"
      ],
      "metadata": {
        "id": "7Bamx-r6a5u6"
      },
      "execution_count": null,
      "outputs": []
    },
    {
      "cell_type": "markdown",
      "source": [
        "## Day 10"
      ],
      "metadata": {
        "id": "rONxQcLXjKfM"
      }
    },
    {
      "cell_type": "markdown",
      "source": [
        "### 점의 위치 구하기\n",
        "사분면은 한 평면을 x축과 y축을 기준으로 나눈 네 부분입니다. 사분면은 아래와 같이 1부터 4까지 번호를매깁니다."
      ],
      "metadata": {
        "id": "mn7ZdwqKDr9z"
      }
    },
    {
      "cell_type": "code",
      "source": [
        "def solution(dot):\n",
        "    x, y = dot[0], dot[1]\n",
        "    if x > 0 and y > 0:\n",
        "        answer = 1\n",
        "    elif x < 0 and y > 0:\n",
        "        answer = 2\n",
        "    elif x < 0 and y < 0:\n",
        "        answer = 3\n",
        "    else:\n",
        "        answer = 4\n",
        "    return answer"
      ],
      "metadata": {
        "id": "gsxFqSyhDug3"
      },
      "execution_count": null,
      "outputs": []
    },
    {
      "cell_type": "code",
      "source": [
        "# 다른 사람 풀이\n",
        "def solution(dot):\n",
        "    quad = [(3,2),(4,1)]\n",
        "    return quad[dot[0] > 0][dot[1] > 0] # True=1, False=0로 quad 리스트 내 값 추출하는 방식"
      ],
      "metadata": {
        "id": "flbfqT4YEKAZ"
      },
      "execution_count": null,
      "outputs": []
    },
    {
      "cell_type": "markdown",
      "source": [
        "## Day 11"
      ],
      "metadata": {
        "id": "65fb7PybjNAl"
      }
    },
    {
      "cell_type": "markdown",
      "source": [
        "### 주사위의 개수\n",
        "머쓱이는 직육면체 모양의 상자를 하나 가지고 있는데 이 상자에 정육면체 모양의 주사위를 최대한 많이 채우고 싶습니다. 상자의 가로, 세로, 높이가 저장되어있는 배열 box와 주사위 모서리의 길이 정수 n이 매개변수로 주어졌을 때, 상자에 들어갈 수 있는 주사위의 최대 개수를 return 하도록 solution 함수를 완성해주세요.\n"
      ],
      "metadata": {
        "id": "PJrveghSgLMZ"
      }
    },
    {
      "cell_type": "code",
      "source": [
        "import math\n",
        "\n",
        "def solution(box, n):\n",
        "    a = box[0] // n\n",
        "    b = box[1] // n\n",
        "    h = box[2] // n\n",
        "\n",
        "    return a * b * h"
      ],
      "metadata": {
        "id": "bsKbJYfHgN-6"
      },
      "execution_count": null,
      "outputs": []
    },
    {
      "cell_type": "code",
      "source": [
        "# 다른 사람 풀이\n",
        "def solution(box, n):\n",
        "    return (box[0] // n) * (box[1] // n) * (box[2] // n)\n",
        "# 한 줄로 표현 가능"
      ],
      "metadata": {
        "id": "gimxDAbgg-0H"
      },
      "execution_count": null,
      "outputs": []
    },
    {
      "cell_type": "markdown",
      "source": [
        "### 최댓값 만들기 (1)\n",
        "정수 배열 numbers가 매개변수로 주어집니다. numbers의 원소 중 두 개를 곱해 만들 수 있는 최댓값을 return하도록 solution 함수를 완성해주세요."
      ],
      "metadata": {
        "id": "fCjne4iNJQvN"
      }
    },
    {
      "cell_type": "code",
      "source": [
        "def solution(numbers):\n",
        "    numbers.sort()\n",
        "    answer = numbers[-1] * numbers[-2]\n",
        "    return answer"
      ],
      "metadata": {
        "id": "ciUAEuvuJUfL"
      },
      "execution_count": null,
      "outputs": []
    },
    {
      "cell_type": "markdown",
      "source": [
        "### 팩토리얼\n",
        "i팩토리얼 (i!)은 1부터 i까지 정수의 곱을 의미합니다. 예를들어 5! = 5 * 4 * 3 * 2 * 1 = 120 입니다. 정수 n이 주어질 때 다음 조건을 만족하는 가장 큰 정수 i를 return 하도록 solution 함수를 완성해주세요.\n",
        "- i! <= n"
      ],
      "metadata": {
        "id": "FoN84B86TJZS"
      }
    },
    {
      "cell_type": "code",
      "source": [
        "def factorial(m):\n",
        "    if m <= 1:\n",
        "        return 1\n",
        "    return m * factorial(m-1)\n",
        "\n",
        "def solution(n):\n",
        "    i = 1\n",
        "    while factorial(i) <= n:\n",
        "        i += 1\n",
        "    return i-1"
      ],
      "metadata": {
        "id": "osH3zyHwTQiS"
      },
      "execution_count": null,
      "outputs": []
    },
    {
      "cell_type": "code",
      "source": [],
      "metadata": {
        "id": "VLEOK8NAljC1"
      },
      "execution_count": null,
      "outputs": []
    },
    {
      "cell_type": "markdown",
      "source": [
        "## Day 12"
      ],
      "metadata": {
        "id": "8rP9pfdgjWmc"
      }
    },
    {
      "cell_type": "markdown",
      "source": [
        "### 모음 제거\n",
        "영어에선 a, e, i, o, u 다섯 가지 알파벳을 모음으로 분류합니다. 문자열 my_string이 매개변수로 주어질 때 모음을 제거한 문자열을 return하도록 solution 함수를 완성해주세요."
      ],
      "metadata": {
        "id": "HvLzpXBT6VnT"
      }
    },
    {
      "cell_type": "code",
      "source": [
        "def solution(my_string):\n",
        "    answer = ''\n",
        "    vowel = ['a', 'e', 'i', 'o', 'u']\n",
        "    target = [i for i in my_string if i not in vowel]\n",
        "    return answer.join(target)"
      ],
      "metadata": {
        "id": "SA1iXWuR6X4_"
      },
      "execution_count": null,
      "outputs": []
    },
    {
      "cell_type": "markdown",
      "source": [
        "### 문자열 정렬하기 (1)\n",
        "문자열 my_string이 매개변수로 주어질 때, my_string 안에 있는 숫자만 골라 오름차순 정렬한 리스트를 return 하도록 solution 함수를 작성해보세요."
      ],
      "metadata": {
        "id": "jBeK2I9FcMS-"
      }
    },
    {
      "cell_type": "code",
      "source": [
        "def solution(my_string):\n",
        "    answer = [int(i) for i in my_string if i.isdigit()]\n",
        "    answer.sort()\n",
        "\n",
        "    return answer"
      ],
      "metadata": {
        "id": "lNZpZv4LcTNP"
      },
      "execution_count": null,
      "outputs": []
    },
    {
      "cell_type": "code",
      "source": [
        "# 다른 사람 풀이\n",
        "def solution(my_string):\n",
        "    return sorted([int(c) for c in my_string if c.isdigit()])"
      ],
      "metadata": {
        "id": "ny7eMaPncTLV"
      },
      "execution_count": null,
      "outputs": []
    },
    {
      "cell_type": "markdown",
      "source": [
        "### 숨어있는 숫자의 덧셈 (1)\n",
        "문자열 my_string이 매개변수로 주어집니다. my_string안의 모든 자연수들의 합을 return하도록 solution 함수를 완성해주세요."
      ],
      "metadata": {
        "id": "2cOvC0AB0Bnl"
      }
    },
    {
      "cell_type": "code",
      "source": [
        "def solution(my_string):\n",
        "    return sum(int(i) for i in my_string if i.isdigit())"
      ],
      "metadata": {
        "id": "1yWhBozq6Ctj"
      },
      "execution_count": null,
      "outputs": []
    },
    {
      "cell_type": "markdown",
      "source": [
        "## Day 13"
      ],
      "metadata": {
        "id": "_M8Kv91wjf1V"
      }
    },
    {
      "cell_type": "markdown",
      "source": [
        "### 컨드롤 제트\n",
        "숫자와 \"Z\"가 공백으로 구분되어 담긴 문자열이 주어집니다. 문자열에 있는 숫자를 차례대로 더하려고 합니다. 이 때 \"Z\"가 나오면 바로 전에 더했던 숫자를 뺀다는 뜻입니다. 숫자와 \"Z\"로 이루어진 문자열 s가 주어질 때, 머쓱이가 구한 값을 return 하도록 solution 함수를 완성해보세요."
      ],
      "metadata": {
        "id": "ZPnbU7wHbZz-"
      }
    },
    {
      "cell_type": "code",
      "source": [
        "def solution(s):\n",
        "    # 새 리스트에 숫자만 모으기\n",
        "    s_new = []\n",
        "    for i in s.split():\n",
        "        try:\n",
        "            int(i)\n",
        "            s_new.append(int(i))\n",
        "        except:\n",
        "            continue\n",
        "    print(s_new)\n",
        "    \n",
        "    # 다 더한 후 Z 앞에 있는 숫자들 빼기\n",
        "    total = sum(s_new)\n",
        "    for i in range(len(s)):\n",
        "        if s[i]=='Z':\n",
        "            total -= int(s[i-1])\n",
        "\n",
        "    return total"
      ],
      "metadata": {
        "id": "XakzdLI6bbf8"
      },
      "execution_count": null,
      "outputs": []
    },
    {
      "cell_type": "code",
      "source": [
        "# 다른 사람 코드\n",
        "def solution(s):\n",
        "    stack = []\n",
        "    for c in s.split():\n",
        "        if c == 'Z' and stack:\n",
        "            stack.pop()\n",
        "        else:\n",
        "            stack.append(int(c))\n",
        "    return sum(stack)\n"
      ],
      "metadata": {
        "id": "IjxjESUNeT7M"
      },
      "execution_count": null,
      "outputs": []
    },
    {
      "cell_type": "markdown",
      "source": [
        "### 배열 원소의 길이\n",
        "문자열 배열 strlist가 매개변수로 주어집니다. strlist 각 원소의 길이를 담은 배열을 retrun하도록 solution 함수를 완성해주세요."
      ],
      "metadata": {
        "id": "UruUMXomP63p"
      }
    },
    {
      "cell_type": "code",
      "source": [
        "def solution(strlist):\n",
        "    answer = [len(i) for i in strlist]\n",
        "    return answer"
      ],
      "metadata": {
        "id": "KmkBEfcXP-A4"
      },
      "execution_count": null,
      "outputs": []
    },
    {
      "cell_type": "markdown",
      "source": [
        "### 중복된 문자 제거\n",
        "문자열 my_string이 매개변수로 주어집니다. my_string에서 중복된 문자를 제거하고 하나의 문자만 남긴 문자열을 return하도록 solution 함수를 완성해주세요."
      ],
      "metadata": {
        "id": "YBoXS8uKJzXh"
      }
    },
    {
      "cell_type": "code",
      "source": [
        "def solution(my_string):\n",
        "    temp_list = []\n",
        "    for i in my_string:\n",
        "        if i not in temp_list:\n",
        "             temp_list.append(i)\n",
        "        else:\n",
        "            continue\n",
        "    return ''.join(temp_list)"
      ],
      "metadata": {
        "id": "F4E7N6CUJ1rb"
      },
      "execution_count": null,
      "outputs": []
    },
    {
      "cell_type": "code",
      "source": [
        "# 다른 사람 풀이 (바로 string에 더하기)\n",
        "def solution(my_string):\n",
        "    answer = ''\n",
        "    for i in my_string:\n",
        "        if i not in answer:\n",
        "            answer+=i\n",
        "    return answer"
      ],
      "metadata": {
        "id": "hoZvcCrJJ3w2"
      },
      "execution_count": null,
      "outputs": []
    },
    {
      "cell_type": "code",
      "source": [
        "# 다른 사람 풀이 (딕셔너리 활용)\n",
        "def solution(my_string):\n",
        "    return ''.join(dict.fromkeys(my_string)) # 딕셔너리 생성 후 join 시키기"
      ],
      "metadata": {
        "id": "IkUC_I1FJ_XI"
      },
      "execution_count": null,
      "outputs": []
    },
    {
      "cell_type": "markdown",
      "source": [
        "### 삼각형의 완성조건 (1)\n",
        "선분 세 개로 삼각형을 만들기 위해서는 다음과 같은 조건을 만족해야 합니다.\n",
        "\n",
        "- 가장 긴 변의 길이는 다른 두 변의 길이의 합보다 작아야 합니다.\n",
        "\n",
        "삼각형의 세 변의 길이가 담긴 배열 sides이 매개변수로 주어집니다. 세 변으로 삼각형을 만들 수 있다면 1, 만들 수 없다면 2를 return하도록 solution 함수를 완성해주세요."
      ],
      "metadata": {
        "id": "GXoGEKuDG_L3"
      }
    },
    {
      "cell_type": "code",
      "source": [
        "def solution(sides):\n",
        "    sides.sort()\n",
        "    if sides[2] < sides[0] + sides[1]:\n",
        "        answer = 1\n",
        "    else:\n",
        "        answer = 2\n",
        "    return answer"
      ],
      "metadata": {
        "id": "p-Tjx0ZoHVJD"
      },
      "execution_count": null,
      "outputs": []
    },
    {
      "cell_type": "code",
      "source": [
        "# 다른 사람 풀이\n",
        "def solution(sides):\n",
        "    return 1 if max(sides) < (sum(sides) - max(sides)) else 2"
      ],
      "metadata": {
        "id": "A-qt-ZOFIoVK"
      },
      "execution_count": null,
      "outputs": []
    },
    {
      "cell_type": "markdown",
      "source": [
        "## Day 14"
      ],
      "metadata": {
        "id": "HLzmV4T4jkBN"
      }
    },
    {
      "cell_type": "markdown",
      "source": [
        "### 암호 해독\n",
        "군 전략가 머쓱이는 전쟁 중 적군이 다음과 같은 암호 체계를 사용한다는 것을 알아냈습니다.\n",
        "\n",
        "- 암호화된 문자열 cipher를 주고받습니다.\n",
        "- 그 문자열에서 code의 배수 번째 글자만 진짜 암호입니다.\n",
        "\n",
        "문자열 cipher와 정수 code가 매개변수로 주어질 때 해독된 암호 문자열을 return하도록 solution 함수를 완성해주세요."
      ],
      "metadata": {
        "id": "9muc2T_JZ-gY"
      }
    },
    {
      "cell_type": "code",
      "source": [
        "def solution(cipher, code):\n",
        "    answer = ''\n",
        "    pw = []\n",
        "    for i in range(0, len(cipher)+1, code):\n",
        "        pw.append(cipher[i-1])\n",
        "    answer = answer.join(pw)\n",
        "    return answer[1:]"
      ],
      "metadata": {
        "id": "xz6pZnv4aCaf"
      },
      "execution_count": null,
      "outputs": []
    },
    {
      "cell_type": "code",
      "source": [
        "# 다른 사람 풀이\n",
        "def solution(cipher, code):\n",
        "    answer = cipher[code-1::code]\n",
        "    return answer"
      ],
      "metadata": {
        "id": "tKo6oS4FcBAj"
      },
      "execution_count": null,
      "outputs": []
    },
    {
      "cell_type": "markdown",
      "source": [
        "### 대문자와 소문자\n",
        "문자열 my_string이 매개변수로 주어질 때, 대문자는 소문자로 소문자는 대문자로 변환한 문자열을 return하도록 solution 함수를 완성해주세요."
      ],
      "metadata": {
        "id": "jRTJov4Xd_NH"
      }
    },
    {
      "cell_type": "code",
      "source": [
        "def solution(my_string):\n",
        "    # answer = ''\n",
        "    solution = []\n",
        "    for i in my_string:\n",
        "        if i.isupper():\n",
        "            solution.append(i.lower())\n",
        "        else:\n",
        "            solution.append(i.upper())\n",
        "    \n",
        "    return ''.join(solution)"
      ],
      "metadata": {
        "id": "r7QkMWHLeBPW"
      },
      "execution_count": null,
      "outputs": []
    },
    {
      "cell_type": "code",
      "source": [
        "# 다른 사람 풀이\n",
        "def solution(my_string):\n",
        "    return my_string.swapcase()"
      ],
      "metadata": {
        "id": "8L7uYOCoenbq"
      },
      "execution_count": null,
      "outputs": []
    },
    {
      "cell_type": "code",
      "source": [
        "# 다른 사람 풀이\n",
        "def solution(my_string):\n",
        "    answer = ''\n",
        "\n",
        "    for i in my_string:\n",
        "        if i.isupper():\n",
        "            answer+=i.lower()\n",
        "        else:\n",
        "            answer+=i.upper() # 바로 str에 담기\n",
        "    return answer"
      ],
      "metadata": {
        "id": "ZnRxU8Nbeqda"
      },
      "execution_count": null,
      "outputs": []
    },
    {
      "cell_type": "code",
      "source": [
        "# 다른 사람 풀이 (내가 푼 방법을 한 줄로 표현)\n",
        "def solution(my_string):\n",
        "    return ''.join([x.lower() if x.isupper() else x.upper() for x in my_string])"
      ],
      "metadata": {
        "id": "P2lDLmbzewO2"
      },
      "execution_count": null,
      "outputs": []
    },
    {
      "cell_type": "markdown",
      "source": [
        "## Day 15"
      ],
      "metadata": {
        "id": "wgThunePjrHq"
      }
    },
    {
      "cell_type": "markdown",
      "source": [
        "### 약수 구하기\n",
        "정수 n이 매개변수로 주어질 때, n의 약수를 오름차순으로 담은 배열을 return하도록 solution 함수를 완성해주세요."
      ],
      "metadata": {
        "id": "Z4Pigu0teG0R"
      }
    },
    {
      "cell_type": "code",
      "source": [
        "import math\n",
        "def solution(n):\n",
        "    answer = []\n",
        "    upto = int(math.sqrt(n))\n",
        "    for i in range(1, upto+1):\n",
        "        if n % i == 0:\n",
        "            answer.extend([i, n//i])\n",
        "    answer = sorted(list(set(answer)))      \n",
        "    return answer"
      ],
      "metadata": {
        "id": "rkObj99ceIza"
      },
      "execution_count": null,
      "outputs": []
    },
    {
      "cell_type": "code",
      "source": [
        "# 다른 사람 풀이\n",
        "def solution(n):\n",
        "    answer = [i for i in range(1,n+1) if n%i == 0]\n",
        "    return answer"
      ],
      "metadata": {
        "id": "mgAqHek_eVkW"
      },
      "execution_count": null,
      "outputs": []
    },
    {
      "cell_type": "code",
      "source": [],
      "metadata": {
        "id": "HC5g7crkjuAR"
      },
      "execution_count": null,
      "outputs": []
    },
    {
      "cell_type": "markdown",
      "source": [
        "## Day 16"
      ],
      "metadata": {
        "id": "h-JNoZ5CjuYf"
      }
    },
    {
      "cell_type": "markdown",
      "source": [
        "### 편지\n",
        "머쓱이는 할머니께 생신 축하 편지를 쓰려고 합니다. 할머니가 보시기 편하도록 글자 한 자 한 자를 가로 2cm 크기로 적으려고 하며, 편지를 가로로만 적을 때, 축하 문구 message를 적기 위해 필요한 편지지의 최소 가로길이를 return 하도록 solution 함수를 완성해주세요."
      ],
      "metadata": {
        "id": "fc5Ns3enXbhP"
      }
    },
    {
      "cell_type": "code",
      "source": [
        "def solution(message):\n",
        "    return len(message) * 2"
      ],
      "metadata": {
        "id": "g8VMje5DXeIY"
      },
      "execution_count": null,
      "outputs": []
    },
    {
      "cell_type": "markdown",
      "source": [
        "### 가장 큰 수 찾기\n",
        "정수 배열 array가 매개변수로 주어질 때, 가장 큰 수와 그 수의 인덱스를 담은 배열을 return 하도록 solution 함수를 완성해보세요."
      ],
      "metadata": {
        "id": "K3ZzPhs7dHg_"
      }
    },
    {
      "cell_type": "code",
      "source": [
        "def solution(array):\n",
        "    answer = [max(array), array.index(max(array))]\n",
        "    return answer"
      ],
      "metadata": {
        "id": "4L2twXYNdHzD"
      },
      "execution_count": null,
      "outputs": []
    },
    {
      "cell_type": "markdown",
      "source": [
        "### 배열의 유사도\n",
        "두 배열이 얼마나 유사한지 확인해보려고 합니다. 문자열 배열 s1과 s2가 주어질 때 같은 원소의 개수를 return하도록 solution 함수를 완성해주세요."
      ],
      "metadata": {
        "id": "wa64-RJ5tAJm"
      }
    },
    {
      "cell_type": "code",
      "source": [
        "def solution(s1, s2):\n",
        "    common_elements = [i for i in s1 if i in s2]\n",
        "    return len(common_elements)"
      ],
      "metadata": {
        "id": "qkMmHex0tCJT"
      },
      "execution_count": null,
      "outputs": []
    },
    {
      "cell_type": "code",
      "source": [
        "# 다른 사람 코드\n",
        "def solution(s1, s2): \n",
        "    return len(set(s1)&set(s2)) # list -> set 처리한 후 교집합 구하는 방식 사용"
      ],
      "metadata": {
        "id": "yP-AmARQtxuv"
      },
      "execution_count": null,
      "outputs": []
    },
    {
      "cell_type": "markdown",
      "source": [
        "## Day 17"
      ],
      "metadata": {
        "id": "q4ZTPmu8j00B"
      }
    },
    {
      "cell_type": "markdown",
      "source": [
        "### 숫자 찾기\n",
        "정수 num과 k가 매개변수로 주어질 때, num을 이루는 숫자 중에 k가 있으면 num의 그 숫자가 있는 자리 수를 return하고 없으면 -1을 return 하도록 solution 함수를 완성해보세요."
      ],
      "metadata": {
        "id": "0sMt5Y1nHxMq"
      }
    },
    {
      "cell_type": "code",
      "source": [
        "def solution(num, k):\n",
        "    if str(k) in str(num):\n",
        "        return str(num).find(str(k)) + 1\n",
        "    else:\n",
        "        return -1"
      ],
      "metadata": {
        "id": "QsXrZ7dxHzKJ"
      },
      "execution_count": null,
      "outputs": []
    },
    {
      "cell_type": "code",
      "source": [
        "# 다른 사람 풀이\n",
        "def solution(num, k):\n",
        "    return -1 if str(k) not in str(num) else str(num).find(str(k)) + 1"
      ],
      "metadata": {
        "id": "d7rJ1yJjI6Db"
      },
      "execution_count": null,
      "outputs": []
    },
    {
      "cell_type": "markdown",
      "source": [
        "### n의 배수 고르기\n",
        "정수 n과 정수 배열 numlist가 매개변수로 주어질 때, numlist에서 n의 배수가 아닌 수들을 제거한 배열을 return하도록 solution 함수를 완성해주세요."
      ],
      "metadata": {
        "id": "GaFbKujIg-Vk"
      }
    },
    {
      "cell_type": "code",
      "source": [
        "def solution(n, numlist):\n",
        "    answer = [i for i in numlist if i % n == 0]\n",
        "    return answer"
      ],
      "metadata": {
        "id": "u1HVJouFhL0l"
      },
      "execution_count": null,
      "outputs": []
    },
    {
      "cell_type": "code",
      "source": [
        "# 다른 사람 풀이\n",
        "def solution(n, numlist):\n",
        "    return list(filter(lambda v: v%n==0, numlist)) # filter 사용"
      ],
      "metadata": {
        "id": "d5L97WmDkwDP"
      },
      "execution_count": null,
      "outputs": []
    },
    {
      "cell_type": "markdown",
      "source": [
        "### 자릿수 더하기\n",
        "정수 n이 매개변수로 주어질 때 n의 각 자리 숫자의 합을 return하도록 solution 함수를 완성해주세요"
      ],
      "metadata": {
        "id": "jqkzY6wzt7js"
      }
    },
    {
      "cell_type": "code",
      "source": [
        "def solution(n):\n",
        "    answer = 0\n",
        "    for i in range(len(str(n))):\n",
        "        answer += int(str(n)[i])\n",
        "    return answer"
      ],
      "metadata": {
        "id": "0YZg6m9ct9au"
      },
      "execution_count": null,
      "outputs": []
    },
    {
      "cell_type": "code",
      "source": [
        "# 다른 사람 코드\n",
        "def solution(n):\n",
        "    return sum(int(i) for i in str(n))"
      ],
      "metadata": {
        "id": "82kLYplWufNe"
      },
      "execution_count": null,
      "outputs": []
    },
    {
      "cell_type": "markdown",
      "source": [
        "## Day 18"
      ],
      "metadata": {
        "id": "aW8ngpylj4GD"
      }
    },
    {
      "cell_type": "markdown",
      "source": [
        "### 문자열 안에 문자열\n",
        "문자열 str1, str2가 매개변수로 주어집니다. str1 안에 str2가 있다면 1을 없다면 2를 return하도록 solution 함수를 완성해주세요."
      ],
      "metadata": {
        "id": "EHIG-S4r7ECr"
      }
    },
    {
      "cell_type": "code",
      "source": [
        "def solution(str1, str2):\n",
        "    if str2 in str1:\n",
        "        answer = 1\n",
        "    else:\n",
        "        answer = 2\n",
        "    return answer\n",
        "    # 다른 사람 풀이\n",
        "    # return 1 if str2 in str1 else 2"
      ],
      "metadata": {
        "id": "02zUT31U7GZK"
      },
      "execution_count": null,
      "outputs": []
    },
    {
      "cell_type": "markdown",
      "source": [
        "### 제곱수 판별하기\n",
        "어떤 자연수를 제곱했을 때 나오는 정수를 제곱수라고 합니다. 정수 n이 매개변수로 주어질 때, n이 제곱수라면 1을 아니라면 2를 return하도록 solution 함수를 완성해주세요.\n"
      ],
      "metadata": {
        "id": "DR8AfpcORTYb"
      }
    },
    {
      "cell_type": "code",
      "source": [
        "import math\n",
        "\n",
        "def solution(n):\n",
        "    upto = int(math.sqrt(n))\n",
        "    answer = 2\n",
        "    for i in range(upto, 0, -1):\n",
        "        if i * i == n:\n",
        "            answer = 1\n",
        "            break\n",
        "        else:\n",
        "            continue\n",
        "\n",
        "    return answer"
      ],
      "metadata": {
        "id": "suRGCygrRWYX"
      },
      "execution_count": null,
      "outputs": []
    },
    {
      "cell_type": "code",
      "source": [
        "# 다른 사람 풀이\n",
        "def solution(n):\n",
        "    return 1 if (n ** 0.5).is_integer() else 2"
      ],
      "metadata": {
        "id": "vkPJssFuVc-z"
      },
      "execution_count": null,
      "outputs": []
    },
    {
      "cell_type": "code",
      "source": [
        "# 다른 사람 풀이\n",
        "import math\n",
        "\n",
        "def solution(n):\n",
        "    return 1 if int(math.sqrt(n)) ** 2 == n else 2"
      ],
      "metadata": {
        "id": "zYSdxdg2VoJS"
      },
      "execution_count": null,
      "outputs": []
    },
    {
      "cell_type": "markdown",
      "source": [
        "### 세균 증식\n",
        "어떤 세균은 1시간에 두배만큼 증식한다고 합니다. 처음 세균의 마리수 n과 경과한 시간 t가 매개변수로 주어질 때 t시간 후 세균의 수를 return하도록 solution 함수를 완성해주세요."
      ],
      "metadata": {
        "id": "b4itm17Ke29y"
      }
    },
    {
      "cell_type": "code",
      "source": [
        "def solution(n, t):\n",
        "    return n * (2 ** t)\n",
        "\n",
        "'''1시간 2배 증식\n",
        "n 마리 t 시간\n",
        "2마리 1시간 후 4마리 (2**2)\n",
        "2마리 2시간 후 8마리 (2**4)\n",
        "2마리 3시간 후 16마리 (2(n)*8(2**t))\n",
        "7마리 1시간 후 14마리 7*2\n",
        "7마리 2시간 후 28마리 7*4\n",
        "7마리 3시간 후 56마리 7*8\n",
        "'''"
      ],
      "metadata": {
        "id": "Nw2lxyZfe6W7"
      },
      "execution_count": null,
      "outputs": []
    },
    {
      "cell_type": "markdown",
      "source": [
        "### 문자열 정렬하기 (2)\n",
        "영어 대소문자로 이루어진 문자열 my_string이 매개변수로 주어질 때, my_string을 모두 소문자로 바꾸고 알파벳 순서대로 정렬한 문자열을 return 하도록 solution 함수를 완성해보세요."
      ],
      "metadata": {
        "id": "yRvJ_7CHe2Jn"
      }
    },
    {
      "cell_type": "code",
      "source": [
        "def solution(my_string):\n",
        "    answer = ''.join(sorted(my_string.lower()))\n",
        "    return answer"
      ],
      "metadata": {
        "id": "893-HBp-e4HS"
      },
      "execution_count": null,
      "outputs": []
    },
    {
      "cell_type": "markdown",
      "source": [
        "## Day 19"
      ],
      "metadata": {
        "id": "XEri0KSAj-wX"
      }
    },
    {
      "cell_type": "markdown",
      "source": [
        "### 7의 개수\n",
        "머쓱이는 행운의 숫자 7을 가장 좋아합니다. 정수 배열 array가 매개변수로 주어질 때, 7이 총 몇 개 있는지 return 하도록 solution 함수를 완성해보세요."
      ],
      "metadata": {
        "id": "NK8X_mZnaoYU"
      }
    },
    {
      "cell_type": "code",
      "source": [
        "def solution(array):\n",
        "    answer = 0\n",
        "    for i in array:\n",
        "        answer += str(i).count('7')\n",
        "    return answer"
      ],
      "metadata": {
        "id": "ZOFmis1Rap6O"
      },
      "execution_count": null,
      "outputs": []
    },
    {
      "cell_type": "code",
      "source": [
        "# 다른 사람 풀이\n",
        "def solution(array):\n",
        "    return str(array).count('7')"
      ],
      "metadata": {
        "id": "pMnyWZAebH1_"
      },
      "execution_count": null,
      "outputs": []
    },
    {
      "cell_type": "code",
      "source": [
        "# 다른 사람 풀이\n",
        "def solution(array):\n",
        "    answer = sum([str(i).count(\"7\") for i in array])\n",
        "    return answer"
      ],
      "metadata": {
        "id": "XlLLvZAkbP7s"
      },
      "execution_count": null,
      "outputs": []
    },
    {
      "cell_type": "code",
      "source": [
        "# 다른 사람 풀이\n",
        "def solution(array):\n",
        "    return ''.join(map(str, array)).count('7')"
      ],
      "metadata": {
        "id": "CK4y4DbobUtp"
      },
      "execution_count": null,
      "outputs": []
    },
    {
      "cell_type": "markdown",
      "source": [
        "### 잘라서 배열로 저장하기\n",
        "문자열 my_str과 n이 매개변수로 주어질 때, my_str을 길이 n씩 잘라서 저장한 배열을 return하도록 solution 함수를 완성해주세요"
      ],
      "metadata": {
        "id": "Wt6JZ_Z-aOQP"
      }
    },
    {
      "cell_type": "code",
      "source": [
        "def solution(my_str, n):\n",
        "    answer = []\n",
        "    times = (len(my_str)-1) // n + 1\n",
        "    for i in range(times):\n",
        "        answer.append(my_str[n*i:n*(i+1)])\n",
        "    return answer"
      ],
      "metadata": {
        "id": "6tlhzqDdaQAt"
      },
      "execution_count": null,
      "outputs": []
    },
    {
      "cell_type": "code",
      "source": [
        "# 다른 사람 풀이\n",
        "def solution(my_str, n):\n",
        "    return [my_str[i: i + n] for i in range(0, len(my_str), n)]"
      ],
      "metadata": {
        "id": "sXG2rBh6aUaZ"
      },
      "execution_count": null,
      "outputs": []
    },
    {
      "cell_type": "markdown",
      "source": [
        "### 중복된 숫자 개수\n",
        "정수가 담긴 배열 array와 정수 n이 매개변수로 주어질 때, array에 n이 몇 개 있는 지를 return 하도록 solution 함수를 완성해보세요."
      ],
      "metadata": {
        "id": "V-Zl5YXiE-oJ"
      }
    },
    {
      "cell_type": "code",
      "source": [
        "def solution(array, n):\n",
        "    answer = array.count(n)\n",
        "    return answer"
      ],
      "metadata": {
        "id": "NMUGTrqLFAsZ"
      },
      "execution_count": null,
      "outputs": []
    },
    {
      "cell_type": "markdown",
      "source": [
        "### 머쓱이보다 키 큰 사람\n",
        "머쓱이는 학교에서 키 순으로 줄을 설 때 몇 번째로 서야 하는지 궁금해졌습니다. 머쓱이네 반 친구들의 키가 담긴 정수 배열 array와 머쓱이의 키 height가 매개변수로 주어질 때, 머쓱이보다 키 큰 사람 수를 return 하도록 solution 함수를 완성해보세요."
      ],
      "metadata": {
        "id": "5VmnED31RSNX"
      }
    },
    {
      "cell_type": "code",
      "source": [
        "def solution(array, height):\n",
        "    answer = 0\n",
        "    for i in array:\n",
        "        if i > height:\n",
        "            answer += 1\n",
        "    return answer"
      ],
      "metadata": {
        "id": "A5AXXJGIRUr5"
      },
      "execution_count": null,
      "outputs": []
    },
    {
      "cell_type": "code",
      "source": [
        "# 다른 사람 풀이\n",
        "def solution(array, height):\n",
        "    array.append(height) # 기존 리스트에 머쓱이의 키를 합친 후 \n",
        "    array.sort(reverse=True) # 내림차순으로 정렬해서\n",
        "    return array.index(height) # 머쓱이 키 인덱스가 머쓱이보다 키 큰 사람 수가 됨"
      ],
      "metadata": {
        "id": "oEjFFrq4SeOA"
      },
      "execution_count": null,
      "outputs": []
    },
    {
      "cell_type": "markdown",
      "source": [
        "## Day 20"
      ],
      "metadata": {
        "id": "u3dPAs0JkBGs"
      }
    },
    {
      "cell_type": "markdown",
      "source": [
        "### 직사각형 넓이 구하기\n",
        "2차원 좌표 평면에 변이 축과 평행한 직사각형이 있습니다. 직사각형 네 꼭짓점의 좌표 [[x1, y1], [x2, y2], [x3, y3], [x4, y4]]가 담겨있는 배열 dots가 매개변수로 주어질 때, 직사각형의 넓이를 return 하도록 solution 함수를 완성해보세요."
      ],
      "metadata": {
        "id": "KlWGUXOAJ3hW"
      }
    },
    {
      "cell_type": "code",
      "source": [
        "def solution(dots):\n",
        "\n",
        "    x_data = set()\n",
        "    y_data = set()\n",
        "    for x, y in dots:\n",
        "        x_data.add(x)\n",
        "        y_data.add(y)\n",
        "    \n",
        "    answer = (max(x_data)-min(x_data)) * (max(y_data)-min(y_data))\n",
        "    return answer"
      ],
      "metadata": {
        "id": "1smlpZWGKwis"
      },
      "execution_count": null,
      "outputs": []
    },
    {
      "cell_type": "code",
      "source": [
        "# 다른 사람 풀이\n",
        "def solution(dots):\n",
        "    return (max(dots)[0] - min(dots)[0])*(max(dots)[1] - min(dots)[1])"
      ],
      "metadata": {
        "id": "VX7n_odMMo1E"
      },
      "execution_count": null,
      "outputs": []
    },
    {
      "cell_type": "markdown",
      "source": [
        "## Day 21"
      ],
      "metadata": {
        "id": "8nqwib3MkCE9"
      }
    },
    {
      "cell_type": "markdown",
      "source": [
        "### 삼각형의 완성조건 (2)\n",
        "선분 세 개로 삼각형을 만들기 위해서는 다음과 같은 조건을 만족해야 합니다.\n",
        "- 가장 긴 변의 길이는 다른 두 변의 길이의 합보다 작아야 합니다.\n",
        "\n",
        "삼각형의 두 변의 길이가 담긴 배열 sides이 매개변수로 주어집니다. 나머지 한 변이 될 수 있는 정수의 개수를 return하도록 solution 함수를 완성해주세요."
      ],
      "metadata": {
        "id": "etHwTumOBeJX"
      }
    },
    {
      "cell_type": "code",
      "source": [
        "def solution(sides):\n",
        "    in_sides = 0\n",
        "    out = 0\n",
        "    \n",
        "    # 가장 긴 변이 sides에 포함되어 있는 경우\n",
        "    for i in range(1, max(sides)+1):\n",
        "        if max(sides) - (sum(sides) - max(sides)) < i <= max(sides):\n",
        "            in_sides += 1\n",
        "            \n",
        "    # 나머지 한 변이 가장 긴 변인 경우\n",
        "    for i in range(max(sides), sum(sides)):\n",
        "        if max(sides) < i < sum(sides):\n",
        "            out += 1\n",
        "            \n",
        "    answer = in_sides + out\n",
        "        \n",
        "    return answer\n",
        "\n",
        "\n",
        "'''\n",
        "(1) 가장 긴 변이 sides에 있을 경우\n",
        "max(sides) < sum(sides) - max(sides) + 다른 한 변\n",
        "11 < (18-11) + 다른 한변 \n",
        "4 < 다른 한 변 <= max(sides)\n",
        "다른 한 변: 5, 6, 7, 8, 9, 10, 11 => 7개\n",
        "(2) 나머지 하나가 가장 긴 변일 경우\n",
        "max(sides) < 나머지 한 변 < sum(sides)\n",
        "11< x < 18\n",
        "x = 12, 13, 14, 15, 16, 17'''"
      ],
      "metadata": {
        "id": "AFQjEfPxDx6y"
      },
      "execution_count": null,
      "outputs": []
    },
    {
      "cell_type": "markdown",
      "source": [
        "### 외계어 사전\n",
        "PROGRAMMERS-962 행성에 불시착한 우주비행사 머쓱이는 외계행성의 언어를 공부하려고 합니다. 알파벳이 담긴 배열 spell과 외계어 사전 dic이 매개변수로 주어집니다. spell에 담긴 알파벳을 한번씩만 모두 사용한 단어가 dic에 존재한다면 1, 존재하지 않는다면 2를 return하도록 solution 함수를 완성해주세요."
      ],
      "metadata": {
        "id": "gHEu3hTNTMIz"
      }
    },
    {
      "cell_type": "code",
      "source": [
        "def solution(spell, dic):\n",
        "\n",
        "    spell.sort()\n",
        "    word = ''.join(spell)\n",
        "    for i in dic:\n",
        "        if ''.join(sorted(i)) == word:\n",
        "            return 1\n",
        "    return 2\n"
      ],
      "metadata": {
        "id": "EVt_PVNRTNFT"
      },
      "execution_count": null,
      "outputs": []
    },
    {
      "cell_type": "markdown",
      "source": [
        "## Day 22"
      ],
      "metadata": {
        "id": "U1dF0AbhkC4s"
      }
    },
    {
      "cell_type": "markdown",
      "source": [],
      "metadata": {
        "id": "lpwxN6TxPjVa"
      }
    },
    {
      "cell_type": "code",
      "source": [],
      "metadata": {
        "id": "DAUr3xoQkGly"
      },
      "execution_count": null,
      "outputs": []
    },
    {
      "cell_type": "markdown",
      "source": [
        "## Day 23"
      ],
      "metadata": {
        "id": "wbIfWkjzkEEh"
      }
    },
    {
      "cell_type": "markdown",
      "source": [
        "### 로그인 성공?\n",
        "머쓱이는 프로그래머스에 로그인하려고 합니다. 머쓱이가 입력한 아이디와 패스워드가 담긴 배열 id_pw와 회원들의 정보가 담긴 2차원 배열 db가 주어질 때, 다음과 같이 로그인 성공, 실패에 따른 메시지를 return하도록 solution 함수를 완성해주세요.\n",
        "- 아이디와 비밀번호가 모두 일치하는 회원정보가 있으면 \"login\"을 return합니다.\n",
        "- 로그인이 실패했을 때 아이디가 일치하는 회원이 없다면 “fail”를, 아이디는 일치하지만 비밀번호가 일치하는 회원이 없다면 “wrong pw”를 return 합니다."
      ],
      "metadata": {
        "id": "DRpvQskUf9LS"
      }
    },
    {
      "cell_type": "code",
      "source": [
        "def solution(id_pw, db):\n",
        "\n",
        "    db_dict = dict(db)\n",
        "\n",
        "    if id_pw[0] in db_dict.keys():\n",
        "        answer = 'wrong pw'\n",
        "        if id_pw[1] == db_dict[id_pw[0]]:\n",
        "            answer = 'login'\n",
        "    else:\n",
        "        answer = 'fail'\n",
        "    return answer"
      ],
      "metadata": {
        "id": "ilm5quMrgAjU"
      },
      "execution_count": null,
      "outputs": []
    },
    {
      "cell_type": "markdown",
      "source": [
        "## Day 24"
      ],
      "metadata": {
        "id": "rgtN2dGykE1Q"
      }
    },
    {
      "cell_type": "markdown",
      "source": [
        "### A로 B 만들기\n",
        "문자열 before와 after가 매개변수로 주어질 때, before의 순서를 바꾸어 after를 만들 수 있으면 1을, 만들 수 없으면 0을 return 하도록 solution 함수를 완성해보세요."
      ],
      "metadata": {
        "id": "HwzRNEPvaolk"
      }
    },
    {
      "cell_type": "code",
      "source": [
        "def solution(before, after):\n",
        "    answer = 0\n",
        "    from collections import Counter\n",
        "    a = Counter(before)\n",
        "    b = Counter(after)\n",
        "    if a == b:\n",
        "        return 1\n",
        "    return answer"
      ],
      "metadata": {
        "id": "4nJRQg_Aaq75"
      },
      "execution_count": null,
      "outputs": []
    },
    {
      "cell_type": "code",
      "source": [
        "# 다른 사람 풀이\n",
        "def solution(before, after):\n",
        "    before=sorted(before)\n",
        "    after=sorted(after)\n",
        "    if before==after:\n",
        "        return 1\n",
        "    else:\n",
        "        return 0"
      ],
      "metadata": {
        "id": "XCn9xeSVasAc"
      },
      "execution_count": null,
      "outputs": []
    },
    {
      "cell_type": "markdown",
      "source": [
        "## Day 25"
      ],
      "metadata": {
        "id": "oxDj_9k_kFzB"
      }
    },
    {
      "cell_type": "markdown",
      "source": [],
      "metadata": {
        "id": "7q9RtVCvlfCq"
      }
    },
    {
      "cell_type": "markdown",
      "source": [
        "### 연속된 수의 합\n",
        "연속된 세 개의 정수를 더해 12가 되는 경우는 3, 4, 5입니다. 두 정수 num과 total이 주어집니다. 연속된 수 num개를 더한 값이 total이 될 때, 정수 배열을 오름차순으로 담아 return하도록 solution함수를 완성해보세요."
      ],
      "metadata": {
        "id": "wAkQJVgKNNgI"
      }
    },
    {
      "cell_type": "code",
      "source": [
        "def solution(num, total):\n",
        "    answer = []\n",
        "    count_sum = 0\n",
        "    \n",
        "    # 1부터 (num-1)개의 연속된 수의 합 구하기 => (n*(n-1)//2)가 연속된 수의 합이라는 사실을 기억했더라면,,,\n",
        "    for i in range(1, num):\n",
        "        count_sum += i\n",
        "    \n",
        "    # total = num * solution + count_sum\n",
        "    # 위에서 구한 합으로 연속된 수 중 첫번째 값 구하기\n",
        "    solution = (total - count_sum) / num\n",
        "    \n",
        "    # num만큼 answer 리스트에 넣어주기\n",
        "    for i in range(num):\n",
        "        answer.append(solution)\n",
        "        solution += 1\n",
        "        \n",
        "    return answer"
      ],
      "metadata": {
        "id": "crBj6Wx_NQdJ"
      },
      "execution_count": null,
      "outputs": []
    },
    {
      "cell_type": "code",
      "source": [
        "# 다른 사람 풀이\n",
        "def solution(num, total):\n",
        "    return [(total - (num * (num - 1) // 2)) // num + i for i in range(num)]"
      ],
      "metadata": {
        "id": "2XuwEXjSR7-h"
      },
      "execution_count": null,
      "outputs": []
    },
    {
      "cell_type": "markdown",
      "source": [
        "### 최댓값 만들기 (2)\n",
        "정수 배열 numbers가 매개변수로 주어집니다. numbers의 원소 중 두 개를 곱해 만들 수 있는 최댓값을 return하도록 solution 함수를 완성해주세요."
      ],
      "metadata": {
        "id": "nfzeMxRvlg24"
      }
    },
    {
      "cell_type": "code",
      "source": [],
      "metadata": {
        "id": "EVgUZIaMTMnq"
      },
      "execution_count": null,
      "outputs": []
    },
    {
      "cell_type": "markdown",
      "source": [
        "### 한 번만 등장한 문자\n",
        "문자열 s가 매개변수로 주어집니다. s에서 한 번만 등장하는 문자를 사전 순으로 정렬한 문자열을 return 하도록 solution 함수를 완성해보세요. 한 번만 등장하는 문자가 없을 경우 빈 문자열을 return 합니다."
      ],
      "metadata": {
        "id": "9RbAcrQ2VLVg"
      }
    },
    {
      "cell_type": "code",
      "source": [],
      "metadata": {
        "id": "K38lKVXRVNUV"
      },
      "execution_count": null,
      "outputs": []
    }
  ]
}