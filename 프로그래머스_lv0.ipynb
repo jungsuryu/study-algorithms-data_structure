{
  "nbformat": 4,
  "nbformat_minor": 0,
  "metadata": {
    "colab": {
      "provenance": [],
      "authorship_tag": "ABX9TyP5zQNwlmTANbV4GEPvEJ6i",
      "include_colab_link": true
    },
    "kernelspec": {
      "name": "python3",
      "display_name": "Python 3"
    },
    "language_info": {
      "name": "python"
    }
  },
  "cells": [
    {
      "cell_type": "markdown",
      "metadata": {
        "id": "view-in-github",
        "colab_type": "text"
      },
      "source": [
        "<a href=\"https://colab.research.google.com/github/jungsuryu/study-algorithms-data_structure/blob/main/%ED%94%84%EB%A1%9C%EA%B7%B8%EB%9E%98%EB%A8%B8%EC%8A%A4_lv0.ipynb\" target=\"_parent\"><img src=\"https://colab.research.google.com/assets/colab-badge.svg\" alt=\"Open In Colab\"/></a>"
      ]
    },
    {
      "cell_type": "markdown",
      "source": [
        "## 사칙연산"
      ],
      "metadata": {
        "id": "pTpgGHkQ8zz2"
      }
    },
    {
      "cell_type": "markdown",
      "source": [
        "### 두 수의 차\n",
        "정수 num1과 num2가 주어질 때, num1에서 num2를 뺀 값을 return 하도록 solution 함수를 완성해주세요"
      ],
      "metadata": {
        "id": "bwc_0mS96z4Z"
      }
    },
    {
      "cell_type": "code",
      "execution_count": null,
      "metadata": {
        "id": "28QhZvVO6wIT"
      },
      "outputs": [],
      "source": [
        "def solution(num1, num2):\n",
        "    answer = num1 - num2\n",
        "    return answer"
      ]
    },
    {
      "cell_type": "markdown",
      "source": [
        "### 두 수의 합\n",
        "정수 num1과 num2가 주어질 때, num1과 num2의 합을 return하도록 soltuion 함수를 완성해주세요."
      ],
      "metadata": {
        "id": "0K85WlQF7OWH"
      }
    },
    {
      "cell_type": "code",
      "source": [
        "def solution(num1, num2):\n",
        "  answer = num1 + num2\n",
        "  return answer"
      ],
      "metadata": {
        "id": "erwxRnM07SEK"
      },
      "execution_count": null,
      "outputs": []
    },
    {
      "cell_type": "markdown",
      "source": [
        "### 두 수의 곱\n",
        "정수 num1, num2가 매개변수 주어집니다. num1과 num2를 곱한 값을 return 하도록 solution 함수를 완성해주세요."
      ],
      "metadata": {
        "id": "rU7wBKk97Zmn"
      }
    },
    {
      "cell_type": "code",
      "source": [
        "def solution(num1, num2):\n",
        "    answer = num1 * num2\n",
        "    return answer"
      ],
      "metadata": {
        "id": "2iXHH-6G7ct9"
      },
      "execution_count": null,
      "outputs": []
    },
    {
      "cell_type": "markdown",
      "source": [
        "### 몫 구하기\n",
        "정수 num1, num2가 매개변수로 주어질 때, num1을 num2로 나눈 몫을 return 하도록 solution 함수를 완성해주세요."
      ],
      "metadata": {
        "id": "uStnDO8Q7o1j"
      }
    },
    {
      "cell_type": "code",
      "source": [
        "def solution(num1, num2):\n",
        "    answer = num1 // num2\n",
        "    return answer"
      ],
      "metadata": {
        "id": "L4Xo_BKm7okc"
      },
      "execution_count": null,
      "outputs": []
    },
    {
      "cell_type": "markdown",
      "source": [
        "## 사칙연산, 조건문, 배열"
      ],
      "metadata": {
        "id": "6xXINpIQ823b"
      }
    },
    {
      "cell_type": "markdown",
      "source": [
        "### 두 수의 나눗셈\n",
        "정수 num1과 num2가 매개변수로 주어질 때, num1을 num2로 나눈 값에 1,000을 곱한 후 정수 부분을 return 하도록 soltuion 함수를 완성해주세요."
      ],
      "metadata": {
        "id": "ybK0wTN77zur"
      }
    },
    {
      "cell_type": "code",
      "source": [
        "def solution(num1, num2):\n",
        "    answer = int((num1 / num2) * 1000)\n",
        "    return answer"
      ],
      "metadata": {
        "id": "c85jeXR_72pS"
      },
      "execution_count": null,
      "outputs": []
    },
    {
      "cell_type": "markdown",
      "source": [
        "### 숫자 비교하기\n",
        "정수 num1과 num2가 매개변수로 주어집니다. 두 수가 같으면 1 다르면 -1을 retrun하도록 solution 함수를 완성해주세요."
      ],
      "metadata": {
        "id": "ZqJFJh298x_-"
      }
    },
    {
      "cell_type": "code",
      "source": [
        "def solution(num1, num2):\n",
        "    if num1 == num2:\n",
        "        answer = 1\n",
        "    else:\n",
        "        answer = -1\n",
        "    return answer"
      ],
      "metadata": {
        "id": "O0c4N1h_87Nb"
      },
      "execution_count": null,
      "outputs": []
    },
    {
      "cell_type": "markdown",
      "source": [
        "### 분수의 덧셈\n",
        "첫 번째 분수의 분자와 분모를 뜻하는 numer1, denom1, 두 번째 분수의 분자와 분모를 뜻하는 numer2, denom2가 매개변수로 주어집니다. 두 분수를 더한 값을 기약 분수로 나타냈을 때 분자와 분모를 순서대로 담은 배열을 return 하도록 solution 함수를 완성해보세요."
      ],
      "metadata": {
        "id": "OUCqfPZP87gn"
      }
    },
    {
      "cell_type": "code",
      "source": [
        "def solution(numer1, denom1, numer2, denom2):\n",
        "    denominator = denom1 * denom2\n",
        "    numerator = numer1 * denom2 + numer2 * denom1\n",
        "    \n",
        "    common = 0\n",
        "    smaller_value = min(denominator, numerator)\n",
        "    for i in range(smaller_value, 0, -1):\n",
        "        if denominator % i == 0 and numerator % i == 0:\n",
        "            common = i\n",
        "            break\n",
        "    \n",
        "    return [numerator/common, denominator/common]"
      ],
      "metadata": {
        "id": "vW9fnBjL88VD"
      },
      "execution_count": null,
      "outputs": []
    },
    {
      "cell_type": "markdown",
      "source": [
        "### 배열 두 배 만들기\n",
        "정수 배열 numbers가 매개변수로 주어집니다. numbers의 각 원소에 두배한 원소를 가진 배열을 return하도록 solution 함수를 완성해주세요."
      ],
      "metadata": {
        "id": "-KrfTds-88pc"
      }
    },
    {
      "cell_type": "code",
      "source": [
        "def solution(numbers):\n",
        "    answer = [i*2 for i in numbers]\n",
        "    return answer"
      ],
      "metadata": {
        "id": "seVaDeI089lX"
      },
      "execution_count": null,
      "outputs": []
    },
    {
      "cell_type": "markdown",
      "source": [
        "## ?"
      ],
      "metadata": {
        "id": "EdPA5WCwA_du"
      }
    },
    {
      "cell_type": "markdown",
      "source": [
        "### 나머지 구하기\n",
        "정수 num1, num2가 매개변수로 주어질 때, num1를 num2로 나눈 나머지를 return 하도록 solution 함수를 완성해주세요."
      ],
      "metadata": {
        "id": "6nNHL80QBAX-"
      }
    },
    {
      "cell_type": "code",
      "source": [
        "def solution(num1, num2):\n",
        "    answer = num1 % num2\n",
        "    return answer"
      ],
      "metadata": {
        "id": "E-HxKwEbBAGI"
      },
      "execution_count": null,
      "outputs": []
    },
    {
      "cell_type": "markdown",
      "source": [
        "### 나이 출력\n",
        "머쓱이는 40살인 선생님이 몇 년도에 태어났는지 궁금해졌습니다. 나이 age가 주어질 때, 2022년을 기준 출생 연도를 return 하는 solution 함수를 완성해주세요."
      ],
      "metadata": {
        "id": "OvLebgGDBbqv"
      }
    },
    {
      "cell_type": "code",
      "source": [
        "def solution(age):\n",
        "    answer = 2022 - age + 1\n",
        "    return answer"
      ],
      "metadata": {
        "id": "fGTMock2Befj"
      },
      "execution_count": null,
      "outputs": []
    },
    {
      "cell_type": "markdown",
      "source": [
        "### 각도기\n",
        "각에서 0도 초과 90도 미만은 예각, 90도는 직각, 90도 초과 180도 미만은 둔각 180도는 평각으로 분류합니다. 각 angle이 매개변수로 주어질 때 예각일 때 1, 직각일 때 2, 둔각일 때 3, 평각일 때 4를 return하도록 solution 함수를 완성해주세요.\n",
        "\n",
        "- 예각 : 0 < angle < 90\n",
        "- 직각 : angle = 90\n",
        "- 둔각 : 90 < angle < 180\n",
        "- 평각 : angle = 180\n"
      ],
      "metadata": {
        "id": "OnyonbamBf1I"
      }
    },
    {
      "cell_type": "code",
      "source": [
        "def solution(angle):\n",
        "    if angle == 180:\n",
        "        answer = 4\n",
        "    elif angle > 90:\n",
        "        answer = 3\n",
        "    elif angle == 90:\n",
        "        answer = 2\n",
        "    else:\n",
        "        answer =1\n",
        "    return answer"
      ],
      "metadata": {
        "id": "jwEwjL6zBi9u"
      },
      "execution_count": null,
      "outputs": []
    },
    {
      "cell_type": "code",
      "source": [
        "# 다른 사람의 풀이\n",
        "def solution(angle):\n",
        "    answer = (angle // 90) * 2 + (angle % 90 > 0) * 1\n",
        "    return answer"
      ],
      "metadata": {
        "id": "vri0PDu4CKPy"
      },
      "execution_count": null,
      "outputs": []
    },
    {
      "cell_type": "markdown",
      "source": [
        "### 짝수의 합\n",
        "정수 n이 주어질 때, n이하의 짝수를 모두 더한 값을 return 하도록 solution 함수를 작성해주세요."
      ],
      "metadata": {
        "id": "nDRfY2X2CXOA"
      }
    },
    {
      "cell_type": "code",
      "source": [
        "def solution(n):\n",
        "    answer = 0\n",
        "    for i in range(n+1):\n",
        "        if i % 2 == 0:\n",
        "            answer += i \n",
        "    return answer"
      ],
      "metadata": {
        "id": "FTJ6GtQ9CaZ5"
      },
      "execution_count": null,
      "outputs": []
    },
    {
      "cell_type": "markdown",
      "source": [
        "### 배열의 평균값\n",
        "정수 배열 numbers가 매개변수로 주어집니다. numbers의 원소의 평균값을 return하도록 solution 함수를 완성해주세요."
      ],
      "metadata": {
        "id": "NiCvXKZUCvAl"
      }
    },
    {
      "cell_type": "code",
      "source": [
        "def solution(numbers):\n",
        "    sum = 0\n",
        "    for i in numbers:\n",
        "        sum += i\n",
        "    answer = sum / len(numbers)\n",
        "    return answer"
      ],
      "metadata": {
        "id": "xOaBdnNsCxVx"
      },
      "execution_count": null,
      "outputs": []
    },
    {
      "cell_type": "markdown",
      "source": [
        "### 양꼬치\n",
        "머쓱이네 양꼬치 가게는 10인분을 먹으면 음료수 하나를 서비스로 줍니다. 양꼬치는 1인분에 12,000원, 음료수는 2,000원입니다. 정수 n과 k가 매개변수로 주어졌을 때, 양꼬치 n인분과 음료수 k개를 먹었다면 총얼마를 지불해야 하는지 return 하도록 solution 함수를 완성해보세요."
      ],
      "metadata": {
        "id": "v1yibMw-DEhp"
      }
    },
    {
      "cell_type": "code",
      "source": [
        "def solution(n, k):\n",
        "    answer = 0\n",
        "    # 음료수 값은 음료수 k개 중 n//10 개 빼고 계산\n",
        "    bev_pay = k - n // 10\n",
        "    answer = n * 12000 + bev_pay * 2000\n",
        "    return answer"
      ],
      "metadata": {
        "id": "5V6P8rA9DHWw"
      },
      "execution_count": null,
      "outputs": []
    },
    {
      "cell_type": "markdown",
      "source": [
        "### 점의 위치 구하기\n",
        "사분면은 한 평면을 x축과 y축을 기준으로 나눈 네 부분입니다. 사분면은 아래와 같이 1부터 4까지 번호를매깁니다."
      ],
      "metadata": {
        "id": "mn7ZdwqKDr9z"
      }
    },
    {
      "cell_type": "code",
      "source": [
        "def solution(dot):\n",
        "    x, y = dot[0], dot[1]\n",
        "    if x > 0 and y > 0:\n",
        "        answer = 1\n",
        "    elif x < 0 and y > 0:\n",
        "        answer = 2\n",
        "    elif x < 0 and y < 0:\n",
        "        answer = 3\n",
        "    else:\n",
        "        answer = 4\n",
        "    return answer"
      ],
      "metadata": {
        "id": "gsxFqSyhDug3"
      },
      "execution_count": null,
      "outputs": []
    },
    {
      "cell_type": "code",
      "source": [
        "# 다른 사람 풀이\n",
        "def solution(dot):\n",
        "    quad = [(3,2),(4,1)]\n",
        "    return quad[dot[0] > 0][dot[1] > 0] # True=1, False=0로 quad 리스트 내 값 추출하는 방식"
      ],
      "metadata": {
        "id": "flbfqT4YEKAZ"
      },
      "execution_count": null,
      "outputs": []
    },
    {
      "cell_type": "markdown",
      "source": [
        "### 중복된 숫자 개수\n",
        "정수가 담긴 배열 array와 정수 n이 매개변수로 주어질 때, array에 n이 몇 개 있는 지를 return 하도록 solution 함수를 완성해보세요."
      ],
      "metadata": {
        "id": "V-Zl5YXiE-oJ"
      }
    },
    {
      "cell_type": "code",
      "source": [
        "def solution(array, n):\n",
        "    answer = array.count(n)\n",
        "    return answer"
      ],
      "metadata": {
        "id": "NMUGTrqLFAsZ"
      },
      "execution_count": null,
      "outputs": []
    },
    {
      "cell_type": "markdown",
      "source": [
        "### 중앙값 구하기\n",
        "중앙값은 어떤 주어진 값들을 크기의 순서대로 정렬했을 때 가장 중앙에 위치하는 값을 의미합니다. 예를 들어 1, 2, 7, 10, 11의 중앙값은 7입니다. 정수 배열 array가 매개변수로 주어질 때, 중앙값을 return 하도록 solution 함수를 완성해보세요."
      ],
      "metadata": {
        "id": "cUjtdw_VFR1U"
      }
    },
    {
      "cell_type": "code",
      "source": [
        "def solution(array):\n",
        "    array.sort()\n",
        "    \n",
        "    if len(array) % 2 == 0:\n",
        "        index = len(array) / 2\n",
        "        answer = (array[index] + array[index+1]) / 2\n",
        "    else:\n",
        "        index = int(len(array) / 2)\n",
        "        answer = array[index]\n",
        "        \n",
        "    return answer"
      ],
      "metadata": {
        "id": "40MNyY4oFWPE"
      },
      "execution_count": null,
      "outputs": []
    },
    {
      "cell_type": "code",
      "source": [
        "# 다른 사람 풀이 참고 + 제한사항 중 \"array의 길이는 홀수\"가 있음을 확인한 후 다시 풀어봄\n",
        "def solution(array):\n",
        "  array.sort()\n",
        "  index = len(array) // 2\n",
        "  answer = array[index]\n",
        "  return answer"
      ],
      "metadata": {
        "id": "Nk4hjkuZGadb"
      },
      "execution_count": null,
      "outputs": []
    },
    {
      "cell_type": "markdown",
      "source": [
        "### 삼각형의 완성조건 (1)\n",
        "선분 세 개로 삼각형을 만들기 위해서는 다음과 같은 조건을 만족해야 합니다.\n",
        "\n",
        "- 가장 긴 변의 길이는 다른 두 변의 길이의 합보다 작아야 합니다.\n",
        "\n",
        "삼각형의 세 변의 길이가 담긴 배열 sides이 매개변수로 주어집니다. 세 변으로 삼각형을 만들 수 있다면 1, 만들 수 없다면 2를 return하도록 solution 함수를 완성해주세요."
      ],
      "metadata": {
        "id": "GXoGEKuDG_L3"
      }
    },
    {
      "cell_type": "code",
      "source": [
        "def solution(sides):\n",
        "    sides.sort()\n",
        "    if sides[2] < sides[0] + sides[1]:\n",
        "        answer = 1\n",
        "    else:\n",
        "        answer = 2\n",
        "    return answer"
      ],
      "metadata": {
        "id": "p-Tjx0ZoHVJD"
      },
      "execution_count": null,
      "outputs": []
    },
    {
      "cell_type": "code",
      "source": [
        "# 다른 사람 풀이\n",
        "def solution(sides):\n",
        "    return 1 if max(sides) < (sum(sides) - max(sides)) else 2"
      ],
      "metadata": {
        "id": "A-qt-ZOFIoVK"
      },
      "execution_count": null,
      "outputs": []
    },
    {
      "cell_type": "markdown",
      "source": [
        "### 피자 나눠 먹기 (1)\n",
        "머쓱이네 피자가게는 피자를 일곱 조각으로 잘라 줍니다. 피자를 나눠먹을 사람의 수 n이 주어질 때, 모든 사람이 피자를 한 조각 이상 먹기 위해 필요한 피자의 수를 return 하는 solution 함수를 완성해보세요."
      ],
      "metadata": {
        "id": "_TPxWXYcIrU3"
      }
    },
    {
      "cell_type": "code",
      "source": [
        "def solution(n):\n",
        "    if n % 7 == 0:\n",
        "        answer = n // 7\n",
        "    else:\n",
        "        answer = n // 7 + 1\n",
        "    \n",
        "    return answer"
      ],
      "metadata": {
        "id": "WH4A_B74IuS7"
      },
      "execution_count": null,
      "outputs": []
    },
    {
      "cell_type": "code",
      "source": [
        "# 다른 사람 풀이\n",
        "def solution(n):\n",
        "    return (n - 1) // 7 + 1"
      ],
      "metadata": {
        "id": "ZGkf7YbBJNM6"
      },
      "execution_count": null,
      "outputs": []
    },
    {
      "cell_type": "markdown",
      "source": [
        "### 최댓값 만들기 (1)\n",
        "정수 배열 numbers가 매개변수로 주어집니다. numbers의 원소 중 두 개를 곱해 만들 수 있는 최댓값을 return하도록 solution 함수를 완성해주세요."
      ],
      "metadata": {
        "id": "fCjne4iNJQvN"
      }
    },
    {
      "cell_type": "code",
      "source": [
        "def solution(numbers):\n",
        "    numbers.sort()\n",
        "    answer = numbers[-1] * numbers[-2]\n",
        "    return answer"
      ],
      "metadata": {
        "id": "ciUAEuvuJUfL"
      },
      "execution_count": null,
      "outputs": []
    },
    {
      "cell_type": "markdown",
      "source": [
        "### 순서쌍의 개수\n",
        "순서쌍이란 두 개의 숫자를 순서를 정하여 짝지어 나타낸 쌍으로 (a, b)로 표기합니다. 자연수 n이 매개변수로 주어질 때 두 숫자의 곱이 n인 자연수 순서쌍의 개수를 return하도록 solution 함수를 완성해주세요."
      ],
      "metadata": {
        "id": "rl4KlAjhJe-L"
      }
    },
    {
      "cell_type": "code",
      "source": [
        "def solution(n):\n",
        "    import math\n",
        "    upto = math.sqrt(n)\n",
        "    count = 0\n",
        "    for i in range(1, int(upto)+1):\n",
        "        if n % i == 0:\n",
        "            count += 1\n",
        "    answer = count * 2 if int(upto) != upto else count * 2 - 1 \n",
        "    return answer"
      ],
      "metadata": {
        "id": "C3GJUCsTJhUr"
      },
      "execution_count": null,
      "outputs": []
    },
    {
      "cell_type": "markdown",
      "source": [
        "### 피자 나눠 먹기 (3)\n",
        "머쓱이네 피자가게는 피자를 두 조각에서 열 조각까지 원하는 조각 수로 잘라줍니다. 피자 조각 수 slice와 피자를 먹는 사람의 수 n이 매개변수로 주어질 때, n명의 사람이 최소 한 조각 이상 피자를 먹으려면 최소 몇 판의 피자를 시켜야 하는지를 return 하도록 solution 함수를 완성해보세요."
      ],
      "metadata": {
        "id": "k38nLNINMjQF"
      }
    },
    {
      "cell_type": "code",
      "source": [
        "def solution(slice, n):\n",
        "    answer = (n - 1) // slice + 1\n",
        "    return answer"
      ],
      "metadata": {
        "id": "6Ohus06gMl9a"
      },
      "execution_count": null,
      "outputs": []
    },
    {
      "cell_type": "markdown",
      "source": [
        "### 아이스 아메리카노\n",
        "머쓱이는 추운 날에도 아이스 아메리카노만 마십니다. 아이스 아메리카노는 한잔에 5,500원입니다. 머쓱이가 가지고 있는 돈 money가 매개변수로 주어질 때, 머쓱이가 최대로 마실 수 있는 아메리카노의 잔 수와 남는 돈을 순서대로 담은 배열을 return 하도록 solution 함수를 완성해보세요."
      ],
      "metadata": {
        "id": "yGCuWVdoPIF1"
      }
    },
    {
      "cell_type": "code",
      "source": [
        "def solution(money):\n",
        "    cups = money // 5500\n",
        "    change = money - cups * 5500\n",
        "    return [cups, change]"
      ],
      "metadata": {
        "id": "jZeMNdQ5PKRP"
      },
      "execution_count": null,
      "outputs": []
    },
    {
      "cell_type": "code",
      "source": [
        "# 다른 사람 풀이\n",
        "def solution(money):\n",
        "    answer = [money // 5500, money % 5500]\n",
        "    return answer"
      ],
      "metadata": {
        "id": "WRbrs2lKPfJN"
      },
      "execution_count": null,
      "outputs": []
    },
    {
      "cell_type": "markdown",
      "source": [
        "### 배열 자르기\n",
        "정수 배열 numbers와 정수 num1, num2가 매개변수로 주어질 때, numbers의 num1번 째 인덱스부터 num2번째 인덱스까지 자른 정수 배열을 return 하도록 solution 함수를 완성해보세요."
      ],
      "metadata": {
        "id": "s5XICe1oPlxy"
      }
    },
    {
      "cell_type": "code",
      "source": [
        "def solution(numbers, num1, num2):\n",
        "    return numbers[num1:num2+1]"
      ],
      "metadata": {
        "id": "HeGRUdofPnpE"
      },
      "execution_count": null,
      "outputs": []
    },
    {
      "cell_type": "markdown",
      "source": [
        "### 배열 원소의 길이\n",
        "문자열 배열 strlist가 매개변수로 주어집니다. strlist 각 원소의 길이를 담은 배열을 retrun하도록 solution 함수를 완성해주세요."
      ],
      "metadata": {
        "id": "UruUMXomP63p"
      }
    },
    {
      "cell_type": "code",
      "source": [
        "def solution(strlist):\n",
        "    answer = [len(i) for i in strlist]\n",
        "    return answer"
      ],
      "metadata": {
        "id": "KmkBEfcXP-A4"
      },
      "execution_count": null,
      "outputs": []
    },
    {
      "cell_type": "markdown",
      "source": [
        "### 짝수는 싫어요\n",
        "정수 n이 매개변수로 주어질 때, n 이하의 홀수가 오름차순으로 담긴 배열을 return하도록 solution 함수를 완성해주세요.\n"
      ],
      "metadata": {
        "id": "CCbYTFUuRGw7"
      }
    },
    {
      "cell_type": "code",
      "source": [
        "def solution(n):\n",
        "    answer = [i for i in range(n+1) if i % 2 != 0]\n",
        "    return answer"
      ],
      "metadata": {
        "id": "8b5qWyUJRG_9"
      },
      "execution_count": null,
      "outputs": []
    },
    {
      "cell_type": "code",
      "source": [
        "# 다른 사람 풀이\n",
        "def solution(n):\n",
        "    return [i for i in range(1, n+1, 2)]"
      ],
      "metadata": {
        "id": "zUylhM_pRPu3"
      },
      "execution_count": null,
      "outputs": []
    },
    {
      "cell_type": "markdown",
      "source": [
        "### 머쓱이보다 키 큰 사람\n",
        "머쓱이는 학교에서 키 순으로 줄을 설 때 몇 번째로 서야 하는지 궁금해졌습니다. 머쓱이네 반 친구들의 키가 담긴 정수 배열 array와 머쓱이의 키 height가 매개변수로 주어질 때, 머쓱이보다 키 큰 사람 수를 return 하도록 solution 함수를 완성해보세요."
      ],
      "metadata": {
        "id": "5VmnED31RSNX"
      }
    },
    {
      "cell_type": "code",
      "source": [
        "def solution(array, height):\n",
        "    answer = 0\n",
        "    for i in array:\n",
        "        if i > height:\n",
        "            answer += 1\n",
        "    return answer"
      ],
      "metadata": {
        "id": "A5AXXJGIRUr5"
      },
      "execution_count": null,
      "outputs": []
    },
    {
      "cell_type": "code",
      "source": [
        "# 다른 사람 풀이\n",
        "def solution(array, height):\n",
        "    array.append(height) # 기존 리스트에 머쓱이의 키를 합친 후 \n",
        "    array.sort(reverse=True) # 내림차순으로 정렬해서\n",
        "    return array.index(height) # 머쓱이 키 인덱스가 머쓱이보다 키 큰 사람 수가 됨"
      ],
      "metadata": {
        "id": "oEjFFrq4SeOA"
      },
      "execution_count": null,
      "outputs": []
    },
    {
      "cell_type": "markdown",
      "source": [
        "### 옷가게 할인 받기\n",
        "머쓱이네 옷가게는 10만 원 이상 사면 5%, 30만 원 이상 사면 10%, 50만 원 이상 사면 20%를 할인해줍니다.\n",
        "구매한 옷의 가격 price가 주어질 때, 지불해야 할 금액을 return 하도록 solution 함수를 완성해보세요."
      ],
      "metadata": {
        "id": "oV45pWc8St27"
      }
    },
    {
      "cell_type": "code",
      "source": [
        "def solution(price):\n",
        "    if price >= 500000:\n",
        "        answer = price * 0.8\n",
        "    elif price >= 300000:\n",
        "        answer = price * 0.9\n",
        "    elif price >= 100000:\n",
        "        answer = price * 0.95\n",
        "    else:\n",
        "        answer = price\n",
        "    return int(answer)"
      ],
      "metadata": {
        "id": "QvqtKr_qSwuk"
      },
      "execution_count": null,
      "outputs": []
    },
    {
      "cell_type": "code",
      "source": [
        "# 다른 사람 풀이\n",
        "def solution(price):\n",
        "    discount_rates = {500000: 0.8, 300000: 0.9, 100000: 0.95, 0: 1} # 할인율을 딕셔너리 형태로 저장해둔 후\n",
        "    for discount_price, discount_rate in discount_rates.items(): # 아이템 하나씩 꺼내서 처리\n",
        "        if price >= discount_price:\n",
        "            return int(price * discount_rate)"
      ],
      "metadata": {
        "id": "gpaI45DUTUV9"
      },
      "execution_count": null,
      "outputs": []
    },
    {
      "cell_type": "markdown",
      "source": [
        "### 짝수 홀수 개수\n",
        "정수가 담긴 리스트 num_list가 주어질 때, num_list의 원소 중 짝수와 홀수의 개수를 담은 배열을 return 하도록 solution 함수를 완성해보세요."
      ],
      "metadata": {
        "id": "Mofvs6J2TeG3"
      }
    },
    {
      "cell_type": "code",
      "source": [
        "def solution(num_list):\n",
        "    even = 0\n",
        "    odd = 0\n",
        "    \n",
        "    for i in num_list:\n",
        "        if i % 2 == 0:\n",
        "            even += 1\n",
        "        else:\n",
        "            odd += 1\n",
        "            \n",
        "    return [even, odd]"
      ],
      "metadata": {
        "id": "6xz96LFZTgZC"
      },
      "execution_count": null,
      "outputs": []
    },
    {
      "cell_type": "code",
      "source": [
        "# 다른 사람 풀이\n",
        "def solution(num_list):\n",
        "    answer = [0,0] # 미리 짝수 개수, 홀수 개수 설정해둔 후\n",
        "    for n in num_list: # 리스트 원소를 하나씩 돌면ㅅ너\n",
        "        answer[n%2]+=1 # 2로 나누어 떨어지면 answer[0]: 짝수 자리에 +1, 나누어 떨어지지 않으면 answer[1]: 홀수 자리에 +1\n",
        "    return answer"
      ],
      "metadata": {
        "id": "67Mk5EdVUKpo"
      },
      "execution_count": null,
      "outputs": []
    },
    {
      "cell_type": "markdown",
      "source": [
        "### 배열 뒤집기\n",
        "정수가 들어 있는 배열 num_list가 매개변수로 주어집니다. num_list의 원소의 순서를 거꾸로 뒤집은 배열을 return하도록 solution 함수를 완성해주세요."
      ],
      "metadata": {
        "id": "T1dbEroxUXen"
      }
    },
    {
      "cell_type": "code",
      "source": [
        "def solution(num_list):\n",
        "    num_list_copied = num_list.copy()\n",
        "    num_list_copied.reverse()\n",
        "    return num_list_copied"
      ],
      "metadata": {
        "id": "WPVokFfYUZNM"
      },
      "execution_count": null,
      "outputs": []
    },
    {
      "cell_type": "code",
      "source": [
        "# 다른 사람 풀이\n",
        "def solution(num_list):\n",
        "    return num_list[::-1]"
      ],
      "metadata": {
        "id": "M-v_EamAWgZw"
      },
      "execution_count": null,
      "outputs": []
    },
    {
      "cell_type": "markdown",
      "source": [
        "### 문자열 뒤집기\n",
        "문자열 my_string이 매개변수로 주어집니다. my_string을 거꾸로 뒤집은 문자열을 return하도록 solution 함수를 완성해주세요."
      ],
      "metadata": {
        "id": "EevJeGluWsrA"
      }
    },
    {
      "cell_type": "code",
      "source": [
        "def solution(my_string):\n",
        "    return my_string[::-1]"
      ],
      "metadata": {
        "id": "AqD5waFZWu4Z"
      },
      "execution_count": null,
      "outputs": []
    },
    {
      "cell_type": "markdown",
      "source": [
        "### 특정 문자 제거하기\n",
        "문자열 my_string과 문자 letter이 매개변수로 주어집니다. my_string에서 letter를 제거한 문자열을 return하도록 solution 함수를 완성해주세요."
      ],
      "metadata": {
        "id": "GRCVwfSHXBLj"
      }
    },
    {
      "cell_type": "code",
      "source": [
        "def solution(my_string, letter):\n",
        "    return my_string.replace(letter,'')"
      ],
      "metadata": {
        "id": "ujX4_YytXDbw"
      },
      "execution_count": null,
      "outputs": []
    },
    {
      "cell_type": "markdown",
      "source": [
        "### 편지\n",
        "머쓱이는 할머니께 생신 축하 편지를 쓰려고 합니다. 할머니가 보시기 편하도록 글자 한 자 한 자를 가로 2cm 크기로 적으려고 하며, 편지를 가로로만 적을 때, 축하 문구 message를 적기 위해 필요한 편지지의 최소 가로길이를 return 하도록 solution 함수를 완성해주세요."
      ],
      "metadata": {
        "id": "fc5Ns3enXbhP"
      }
    },
    {
      "cell_type": "code",
      "source": [
        "def solution(message):\n",
        "    return len(message) * 2"
      ],
      "metadata": {
        "id": "g8VMje5DXeIY"
      },
      "execution_count": null,
      "outputs": []
    },
    {
      "cell_type": "markdown",
      "source": [
        "### 문자 반복 출력하기\n",
        "문자열 my_string과 정수 n이 매개변수로 주어질 때, my_string에 들어있는 각 문자를 n만큼 반복한 문자열을 return 하도록 solution 함수를 완성해보세요."
      ],
      "metadata": {
        "id": "j2v1d33xXvH3"
      }
    },
    {
      "cell_type": "code",
      "source": [
        "def solution(my_string, n):\n",
        "    answer = ''\n",
        "    return answer.join(i*n for i in my_string)"
      ],
      "metadata": {
        "id": "lOmqb5r5YAUH"
      },
      "execution_count": null,
      "outputs": []
    },
    {
      "cell_type": "markdown",
      "source": [
        "### 배열의 유사도\n",
        "두 배열이 얼마나 유사한지 확인해보려고 합니다. 문자열 배열 s1과 s2가 주어질 때 같은 원소의 개수를 return하도록 solution 함수를 완성해주세요."
      ],
      "metadata": {
        "id": "wa64-RJ5tAJm"
      }
    },
    {
      "cell_type": "code",
      "source": [
        "def solution(s1, s2):\n",
        "    common_elements = [i for i in s1 if i in s2]\n",
        "    return len(common_elements)"
      ],
      "metadata": {
        "id": "qkMmHex0tCJT"
      },
      "execution_count": null,
      "outputs": []
    },
    {
      "cell_type": "code",
      "source": [
        "# 다른 사람 코드\n",
        "def solution(s1, s2): \n",
        "    return len(set(s1)&set(s2)) # list -> set 처리한 후 교집합 구하는 방식 사용"
      ],
      "metadata": {
        "id": "yP-AmARQtxuv"
      },
      "execution_count": null,
      "outputs": []
    },
    {
      "cell_type": "markdown",
      "source": [
        "### 자릿수 더하기\n",
        "정수 n이 매개변수로 주어질 때 n의 각 자리 숫자의 합을 return하도록 solution 함수를 완성해주세요"
      ],
      "metadata": {
        "id": "jqkzY6wzt7js"
      }
    },
    {
      "cell_type": "code",
      "source": [
        "def solution(n):\n",
        "    answer = 0\n",
        "    for i in range(len(str(n))):\n",
        "        answer += int(str(n)[i])\n",
        "    return answer"
      ],
      "metadata": {
        "id": "0YZg6m9ct9au"
      },
      "execution_count": null,
      "outputs": []
    },
    {
      "cell_type": "code",
      "source": [
        "# 다른 사람 코드\n",
        "def solution(n):\n",
        "    return sum(int(i) for i in str(n))"
      ],
      "metadata": {
        "id": "82kLYplWufNe"
      },
      "execution_count": null,
      "outputs": []
    },
    {
      "cell_type": "markdown",
      "source": [
        "### 숨어있는 숫자의 덧셈 (1)\n",
        "문자열 my_string이 매개변수로 주어집니다. my_string안의 모든 자연수들의 합을 return하도록 solution 함수를 완성해주세요."
      ],
      "metadata": {
        "id": "2cOvC0AB0Bnl"
      }
    },
    {
      "cell_type": "code",
      "source": [],
      "metadata": {
        "id": "tqOYPaDJ0AGk"
      },
      "execution_count": null,
      "outputs": []
    }
  ]
}