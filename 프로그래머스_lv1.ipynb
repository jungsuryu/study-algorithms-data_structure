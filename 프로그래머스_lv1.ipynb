{
  "nbformat": 4,
  "nbformat_minor": 0,
  "metadata": {
    "colab": {
      "provenance": [],
      "toc_visible": true,
      "authorship_tag": "ABX9TyOosg619IeqXfy8Urxm2wYr",
      "include_colab_link": true
    },
    "kernelspec": {
      "name": "python3",
      "display_name": "Python 3"
    },
    "language_info": {
      "name": "python"
    }
  },
  "cells": [
    {
      "cell_type": "markdown",
      "metadata": {
        "id": "view-in-github",
        "colab_type": "text"
      },
      "source": [
        "<a href=\"https://colab.research.google.com/github/jungsuryu/study-algorithms-data_structure/blob/main/%ED%94%84%EB%A1%9C%EA%B7%B8%EB%9E%98%EB%A8%B8%EC%8A%A4_lv1.ipynb\" target=\"_parent\"><img src=\"https://colab.research.google.com/assets/colab-badge.svg\" alt=\"Open In Colab\"/></a>"
      ]
    },
    {
      "cell_type": "markdown",
      "source": [
        "## 연습문제"
      ],
      "metadata": {
        "id": "y_iMKTwAQqlN"
      }
    },
    {
      "cell_type": "markdown",
      "source": [
        "### 짝수와 홀수"
      ],
      "metadata": {
        "id": "Szhgu4tsQvNZ"
      }
    },
    {
      "cell_type": "code",
      "execution_count": null,
      "metadata": {
        "id": "LPafd_k7Qiwu"
      },
      "outputs": [],
      "source": [
        "def solution(num):\n",
        "    answer = 'Even' if num % 2 == 0 else 'Odd'\n",
        "\n",
        "    return answer"
      ]
    },
    {
      "cell_type": "markdown",
      "source": [
        "### 평균 구하기"
      ],
      "metadata": {
        "id": "pZmOs6nQSNR0"
      }
    },
    {
      "cell_type": "code",
      "source": [
        "def solution(arr):\n",
        "    answer = sum(arr) / len(arr)\n",
        "    return answer"
      ],
      "metadata": {
        "id": "euR-dVBjSOEL"
      },
      "execution_count": null,
      "outputs": []
    },
    {
      "cell_type": "markdown",
      "source": [
        "### 약수의 합"
      ],
      "metadata": {
        "id": "GPx8DI21SYdx"
      }
    },
    {
      "cell_type": "code",
      "source": [
        "def solution(n):\n",
        "    answer = 0\n",
        "    elements = set()\n",
        "    for i in range(1, int(n**0.5)+1):\n",
        "        if n % i == 0:\n",
        "            elements.update([i, n//i])\n",
        "    answer = sum(list(elements))\n",
        "    return answer\n",
        "    # 다른 사람 풀이\n",
        "    # return num + sum([i for i in range(1, (num // 2) + 1) if num % i == 0])"
      ],
      "metadata": {
        "id": "kayHehE_SZYJ"
      },
      "execution_count": null,
      "outputs": []
    },
    {
      "cell_type": "markdown",
      "source": [
        "### 자릿수 더하기"
      ],
      "metadata": {
        "id": "sVpNbJ6adXKd"
      }
    },
    {
      "cell_type": "code",
      "source": [
        "def solution(n):\n",
        "    answer = sum([int(i) for i in str(n)])\n",
        "\n",
        "    return answer"
      ],
      "metadata": {
        "id": "hZBUTCz8dYcf"
      },
      "execution_count": null,
      "outputs": []
    },
    {
      "cell_type": "markdown",
      "source": [
        "### x만큼 간격이 있는 n개의 숫자\n",
        "함수 solution은 정수 x와 자연수 n을 입력 받아, x부터 시작해 x씩 증가하는 숫자를 n개 지니는 리스트를 리턴해야 합니다. 다음 제한 조건을 보고, 조건을 만족하는 함수, solution을 완성해주세요."
      ],
      "metadata": {
        "id": "DbJ4WhttdxbD"
      }
    },
    {
      "cell_type": "code",
      "source": [
        "def solution(x, n):\n",
        "    answer = [x*i for i in range(1, n+1)]\n",
        "\n",
        "    return answer"
      ],
      "metadata": {
        "id": "usb4PKL9d1cG"
      },
      "execution_count": null,
      "outputs": []
    },
    {
      "cell_type": "markdown",
      "source": [
        "### 자연수 뒤집어 배열로 만들기\n",
        "자연수 n을 뒤집어 각 자리 숫자를 원소로 가지는 배열 형태로 리턴해주세요. 예를들어 n이 12345이면 [5,4,3,2,1]을 리턴합니다."
      ],
      "metadata": {
        "id": "IWN-VnO7eRWR"
      }
    },
    {
      "cell_type": "code",
      "source": [
        "def solution(n):\n",
        "    n = str(n)[::-1]\n",
        "    answer = [int(i) for i in str(n)]\n",
        "    # answer = [int(i) for i in str(n)][::-1]\n",
        "    return answer"
      ],
      "metadata": {
        "id": "SWVcIsJKeWl8"
      },
      "execution_count": null,
      "outputs": []
    },
    {
      "cell_type": "code",
      "source": [
        "# 다른 사람 풀이\n",
        "def digit_reverse(n):\n",
        "    return list(map(int, reversed(str(n))))"
      ],
      "metadata": {
        "id": "hz2ieZ7-fBVS"
      },
      "execution_count": null,
      "outputs": []
    },
    {
      "cell_type": "markdown",
      "source": [
        "### 정수 제곱근 판별\n",
        "임의의 양의 정수 n에 대해, n이 어떤 양의 정수 x의 제곱인지 아닌지 판단하려 합니다.\n",
        "n이 양의 정수 x의 제곱이라면 x+1의 제곱을 리턴하고, n이 양의 정수 x의 제곱이 아니라면 -1을 리턴하는 함수를 완성하세요."
      ],
      "metadata": {
        "id": "aQNIiKYgfYUX"
      }
    },
    {
      "cell_type": "code",
      "source": [
        "def solution(n):\n",
        "\n",
        "    sqrt_n = int(n ** 0.5)\n",
        "    if n ** 0.5 == sqrt_n:\n",
        "        answer = (sqrt_n+1)**2\n",
        "    else:\n",
        "        answer = -1\n",
        "    return answer"
      ],
      "metadata": {
        "id": "2xqcUGsNfbo8"
      },
      "execution_count": null,
      "outputs": []
    },
    {
      "cell_type": "markdown",
      "source": [
        "### 문자열 내 p와 y의 개수\n",
        "대문자와 소문자가 섞여있는 문자열 s가 주어집니다. s에 'p'의 개수와 'y'의 개수를 비교해 같으면 True, 다르면 False를 return 하는 solution를 완성하세요. 'p', 'y' 모두 하나도 없는 경우는 항상 True를 리턴합니다. 단, 개수를 비교할 때 대문자와 소문자는 구별하지 않습니다.\n",
        "예를 들어 s가 \"pPoooyY\"면 true를 return하고 \"Pyy\"라면 false를 return합니다."
      ],
      "metadata": {
        "id": "IXyicppOf-w6"
      }
    },
    {
      "cell_type": "code",
      "source": [
        "def solution(s):\n",
        "    answer = True\n",
        "    \n",
        "    s = s.lower()\n",
        "    p_count = s.count('p')\n",
        "    y_count = s.count('y')\n",
        "    \n",
        "    if p_count != y_count:\n",
        "        answer = False  \n",
        "\n",
        "    return answer"
      ],
      "metadata": {
        "id": "nJbYOyPFgC4W"
      },
      "execution_count": null,
      "outputs": []
    },
    {
      "cell_type": "code",
      "source": [
        "# 다른 사람 코드\n",
        "def solution(s):\n",
        "  return s.lower().count('p') == s.lower().count('y')"
      ],
      "metadata": {
        "id": "Gj3DvnBwgdAk"
      },
      "execution_count": null,
      "outputs": []
    },
    {
      "cell_type": "markdown",
      "source": [
        "## 월간 코드 챌린지 시즌1"
      ],
      "metadata": {
        "id": "ZycS6hJjdk_C"
      }
    },
    {
      "cell_type": "markdown",
      "source": [
        "## 월간 코드 챌린지 시즌2"
      ],
      "metadata": {
        "id": "EAfNj_RzdhgR"
      }
    },
    {
      "cell_type": "markdown",
      "source": [
        "## 월간 코드 챌린지 시즌3"
      ],
      "metadata": {
        "id": "BN3AnCPaddbN"
      }
    },
    {
      "cell_type": "markdown",
      "source": [
        "### 나머지가 1이 되는 수 찾기\n",
        "자연수 n이 매개변수로 주어집니다. n을 x로 나눈 나머지가 1이 되도록 하는 가장 작은 자연수 x를 return 하도록 solution 함수를 완성해주세요. 답이 항상 존재함은 증명될 수 있습니다."
      ],
      "metadata": {
        "id": "iIz-pK6IgkyW"
      }
    },
    {
      "cell_type": "code",
      "source": [
        "def solution(n):\n",
        "    answer = 0\n",
        "    for i in range(1, n):\n",
        "        if n % i == 1:\n",
        "            answer = i\n",
        "            break\n",
        "    return answer"
      ],
      "metadata": {
        "id": "xP6tze2kdf81"
      },
      "execution_count": null,
      "outputs": []
    }
  ]
}