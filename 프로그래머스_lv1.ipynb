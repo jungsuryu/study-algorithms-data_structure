{
  "nbformat": 4,
  "nbformat_minor": 0,
  "metadata": {
    "colab": {
      "provenance": [],
      "toc_visible": true,
      "authorship_tag": "ABX9TyP6M79jCgQ7Yp3GonvtE+1L",
      "include_colab_link": true
    },
    "kernelspec": {
      "name": "python3",
      "display_name": "Python 3"
    },
    "language_info": {
      "name": "python"
    }
  },
  "cells": [
    {
      "cell_type": "markdown",
      "metadata": {
        "id": "view-in-github",
        "colab_type": "text"
      },
      "source": [
        "<a href=\"https://colab.research.google.com/github/jungsuryu/study-algorithms-data_structure/blob/main/%ED%94%84%EB%A1%9C%EA%B7%B8%EB%9E%98%EB%A8%B8%EC%8A%A4_lv1.ipynb\" target=\"_parent\"><img src=\"https://colab.research.google.com/assets/colab-badge.svg\" alt=\"Open In Colab\"/></a>"
      ]
    },
    {
      "cell_type": "markdown",
      "source": [
        "## 연습문제"
      ],
      "metadata": {
        "id": "y_iMKTwAQqlN"
      }
    },
    {
      "cell_type": "markdown",
      "source": [
        "### 짝수와 홀수"
      ],
      "metadata": {
        "id": "Szhgu4tsQvNZ"
      }
    },
    {
      "cell_type": "code",
      "execution_count": null,
      "metadata": {
        "id": "LPafd_k7Qiwu"
      },
      "outputs": [],
      "source": [
        "def solution(num):\n",
        "    answer = 'Even' if num % 2 == 0 else 'Odd'\n",
        "\n",
        "    return answer"
      ]
    },
    {
      "cell_type": "markdown",
      "source": [
        "### 평균 구하기"
      ],
      "metadata": {
        "id": "pZmOs6nQSNR0"
      }
    },
    {
      "cell_type": "code",
      "source": [
        "def solution(arr):\n",
        "    answer = sum(arr) / len(arr)\n",
        "    return answer"
      ],
      "metadata": {
        "id": "euR-dVBjSOEL"
      },
      "execution_count": null,
      "outputs": []
    },
    {
      "cell_type": "markdown",
      "source": [
        "### 약수의 합"
      ],
      "metadata": {
        "id": "GPx8DI21SYdx"
      }
    },
    {
      "cell_type": "code",
      "source": [
        "def solution(n):\n",
        "    answer = 0\n",
        "    elements = set()\n",
        "    for i in range(1, int(n**0.5)+1):\n",
        "        if n % i == 0:\n",
        "            elements.update([i, n//i])\n",
        "    answer = sum(list(elements))\n",
        "    return answer\n",
        "    # 다른 사람 풀이\n",
        "    # return num + sum([i for i in range(1, (num // 2) + 1) if num % i == 0])"
      ],
      "metadata": {
        "id": "kayHehE_SZYJ"
      },
      "execution_count": null,
      "outputs": []
    },
    {
      "cell_type": "markdown",
      "source": [
        "### 자릿수 더하기"
      ],
      "metadata": {
        "id": "sVpNbJ6adXKd"
      }
    },
    {
      "cell_type": "code",
      "source": [
        "def solution(n):\n",
        "    answer = sum([int(i) for i in str(n)])\n",
        "\n",
        "    return answer"
      ],
      "metadata": {
        "id": "hZBUTCz8dYcf"
      },
      "execution_count": null,
      "outputs": []
    },
    {
      "cell_type": "markdown",
      "source": [
        "### x만큼 간격이 있는 n개의 숫자\n",
        "함수 solution은 정수 x와 자연수 n을 입력 받아, x부터 시작해 x씩 증가하는 숫자를 n개 지니는 리스트를 리턴해야 합니다. 다음 제한 조건을 보고, 조건을 만족하는 함수, solution을 완성해주세요."
      ],
      "metadata": {
        "id": "DbJ4WhttdxbD"
      }
    },
    {
      "cell_type": "code",
      "source": [
        "def solution(x, n):\n",
        "    answer = [x*i for i in range(1, n+1)]\n",
        "\n",
        "    return answer"
      ],
      "metadata": {
        "id": "usb4PKL9d1cG"
      },
      "execution_count": null,
      "outputs": []
    },
    {
      "cell_type": "markdown",
      "source": [
        "### 자연수 뒤집어 배열로 만들기\n",
        "자연수 n을 뒤집어 각 자리 숫자를 원소로 가지는 배열 형태로 리턴해주세요. 예를들어 n이 12345이면 [5,4,3,2,1]을 리턴합니다."
      ],
      "metadata": {
        "id": "IWN-VnO7eRWR"
      }
    },
    {
      "cell_type": "code",
      "source": [
        "def solution(n):\n",
        "    n = str(n)[::-1]\n",
        "    answer = [int(i) for i in str(n)]\n",
        "    # answer = [int(i) for i in str(n)][::-1]\n",
        "    return answer"
      ],
      "metadata": {
        "id": "SWVcIsJKeWl8"
      },
      "execution_count": null,
      "outputs": []
    },
    {
      "cell_type": "code",
      "source": [
        "# 다른 사람 풀이\n",
        "def digit_reverse(n):\n",
        "    return list(map(int, reversed(str(n))))"
      ],
      "metadata": {
        "id": "hz2ieZ7-fBVS"
      },
      "execution_count": null,
      "outputs": []
    },
    {
      "cell_type": "markdown",
      "source": [
        "### 정수 제곱근 판별\n",
        "임의의 양의 정수 n에 대해, n이 어떤 양의 정수 x의 제곱인지 아닌지 판단하려 합니다.\n",
        "n이 양의 정수 x의 제곱이라면 x+1의 제곱을 리턴하고, n이 양의 정수 x의 제곱이 아니라면 -1을 리턴하는 함수를 완성하세요."
      ],
      "metadata": {
        "id": "aQNIiKYgfYUX"
      }
    },
    {
      "cell_type": "code",
      "source": [
        "def solution(n):\n",
        "\n",
        "    sqrt_n = int(n ** 0.5)\n",
        "    if n ** 0.5 == sqrt_n:\n",
        "        answer = (sqrt_n+1)**2\n",
        "    else:\n",
        "        answer = -1\n",
        "    return answer"
      ],
      "metadata": {
        "id": "2xqcUGsNfbo8"
      },
      "execution_count": null,
      "outputs": []
    },
    {
      "cell_type": "markdown",
      "source": [
        "### 문자열 내 p와 y의 개수\n",
        "대문자와 소문자가 섞여있는 문자열 s가 주어집니다. s에 'p'의 개수와 'y'의 개수를 비교해 같으면 True, 다르면 False를 return 하는 solution를 완성하세요. 'p', 'y' 모두 하나도 없는 경우는 항상 True를 리턴합니다. 단, 개수를 비교할 때 대문자와 소문자는 구별하지 않습니다.\n",
        "예를 들어 s가 \"pPoooyY\"면 true를 return하고 \"Pyy\"라면 false를 return합니다."
      ],
      "metadata": {
        "id": "IXyicppOf-w6"
      }
    },
    {
      "cell_type": "code",
      "source": [
        "def solution(s):\n",
        "    answer = True\n",
        "    \n",
        "    s = s.lower()\n",
        "    p_count = s.count('p')\n",
        "    y_count = s.count('y')\n",
        "    \n",
        "    if p_count != y_count:\n",
        "        answer = False  \n",
        "\n",
        "    return answer"
      ],
      "metadata": {
        "id": "nJbYOyPFgC4W"
      },
      "execution_count": null,
      "outputs": []
    },
    {
      "cell_type": "code",
      "source": [
        "# 다른 사람 코드\n",
        "def solution(s):\n",
        "  return s.lower().count('p') == s.lower().count('y')"
      ],
      "metadata": {
        "id": "Gj3DvnBwgdAk"
      },
      "execution_count": null,
      "outputs": []
    },
    {
      "cell_type": "markdown",
      "source": [
        "### 정수 내림차순으로 배치하기"
      ],
      "metadata": {
        "id": "eXZIhoquG7Kd"
      }
    },
    {
      "cell_type": "code",
      "source": [
        "def solution(n):\n",
        "\n",
        "    list_s = sorted([i for i in str(n)], reverse=True)\n",
        "    answer = int(''.join(list_s))\n",
        "\n",
        "    return answer"
      ],
      "metadata": {
        "id": "9glNk1QXG9n-"
      },
      "execution_count": null,
      "outputs": []
    },
    {
      "cell_type": "markdown",
      "source": [
        "### 문자열을 정수로 바꾸기"
      ],
      "metadata": {
        "id": "Bxq-mQVvJKUF"
      }
    },
    {
      "cell_type": "code",
      "source": [
        "def solution(s):\n",
        "    answer = int(s)\n",
        "    \n",
        "    return answer"
      ],
      "metadata": {
        "id": "Re9klqtiJLar"
      },
      "execution_count": null,
      "outputs": []
    },
    {
      "cell_type": "markdown",
      "source": [
        "### 하샤드 수\n",
        "양의 정수 x가 하샤드 수이려면 x의 자릿수의 합으로 x가 나누어져야 합니다. 예를 들어 18의 자릿수 합은 1+8=9이고, 18은 9로 나누어 떨어지므로 18은 하샤드 수입니다. 자연수 x를 입력받아 x가 하샤드 수인지 아닌지 검사하는 함수, solution을 완성해주세요."
      ],
      "metadata": {
        "id": "2WrDRH-AJvyt"
      }
    },
    {
      "cell_type": "code",
      "source": [
        "def solution(x):\n",
        "    answer = False\n",
        "    sum_arr = sum([int(i) for i in str(x)])\n",
        "    if x % sum_arr == 0:\n",
        "        answer = True\n",
        "    return answer"
      ],
      "metadata": {
        "id": "ZoNyBn4CJyC4"
      },
      "execution_count": null,
      "outputs": []
    },
    {
      "cell_type": "markdown",
      "source": [
        "### 두 정수 사이의 합\n"
      ],
      "metadata": {
        "id": "X9JXFpIyKOU2"
      }
    },
    {
      "cell_type": "code",
      "source": [
        "def solution(a, b):\n",
        "    answer = 0\n",
        "    for i in range(min(a, b), max(a, b)+1):\n",
        "        answer += i\n",
        "    return answer"
      ],
      "metadata": {
        "id": "G0d23QPOKjOd"
      },
      "execution_count": null,
      "outputs": []
    },
    {
      "cell_type": "markdown",
      "source": [
        "### 콜라츠 추측\n",
        "1937년 Collatz란 사람에 의해 제기된 이 추측은, 주어진 수가 1이 될 때까지 다음 작업을 반복하면, 모든 수를 1로 만들 수 있다는 추측입니다. 작업은 다음과 같습니다.\n",
        "\n",
        "- 입력된 수가 짝수라면 2로 나눕니다. \n",
        "- 입력된 수가 홀수라면 3을 곱하고 1을 더합니다. \n",
        "- 결과로 나온 수에 같은 작업을 1이 될 때까지 반복합니다. \n",
        "\n",
        "예를 들어, 주어진 수가 6이라면 6 → 3 → 10 → 5 → 16 → 8 → 4 → 2 → 1 이 되어 총 8번 만에 1이 됩니다. 위 작업을 몇 번이나 반복해야 하는지 반환하는 함수, solution을 완성해 주세요. 단, 주어진 수가 1인 경우에는 0을, 작업을 500번 반복할 때까지 1이 되지 않는다면 –1을 반환해 주세요."
      ],
      "metadata": {
        "id": "8Lnl03elKl6u"
      }
    },
    {
      "cell_type": "code",
      "source": [
        "def solution(num):\n",
        "    answer = 0\n",
        "    \n",
        "    while num != 1:\n",
        "        if answer >= 500:\n",
        "            answer = -1\n",
        "            break\n",
        "            \n",
        "        if num % 2 == 0:\n",
        "            num = num // 2\n",
        "            answer += 1\n",
        "        else:\n",
        "            num = num * 3 + 1\n",
        "            answer += 1\n",
        "            \n",
        "    return answer"
      ],
      "metadata": {
        "id": "zYbMi9efKzZI"
      },
      "execution_count": null,
      "outputs": []
    },
    {
      "cell_type": "markdown",
      "source": [
        "### 서울에서 김서방 찾기\n",
        "String형 배열 seoul의 element중 \"Kim\"의 위치 x를 찾아, \"김서방은 x에 있다\"는 String을 반환하는 함수, solution을 완성하세요. seoul에 \"Kim\"은 오직 한 번만 나타나며 잘못된 값이 입력되는 경우는 없습니다."
      ],
      "metadata": {
        "id": "TkphCa1gOCic"
      }
    },
    {
      "cell_type": "code",
      "source": [
        "def solution(seoul):\n",
        "    # answer = '김서방은 ' + str(seoul.index('Kim')) + '에 있다'\n",
        "    answer = f'김서방은 {seoul.index(\"Kim\")}에 있다'\n",
        "    return answer"
      ],
      "metadata": {
        "id": "FO7sHJEVOFoi"
      },
      "execution_count": null,
      "outputs": []
    },
    {
      "cell_type": "markdown",
      "source": [
        "### 핸드폰 번호 가리기\n",
        "프로그래머스 모바일은 개인정보 보호를 위해 고지서를 보낼 때 고객들의 전화번호의 일부를 가립니다.\n",
        "전화번호가 문자열 phone_number로 주어졌을 때, 전화번호의 뒷 4자리를 제외한 나머지 숫자를 전부 *으로 가린 문자열을 리턴하는 함수, solution을 완성해주세요.\n"
      ],
      "metadata": {
        "id": "oRwvlLUUPW48"
      }
    },
    {
      "cell_type": "code",
      "source": [
        "def solution(phone_number):\n",
        "    answer = len(phone_number[:-4]) * '*' + phone_number[-4:]\n",
        "    return answer"
      ],
      "metadata": {
        "id": "rpVvptOaPZk4"
      },
      "execution_count": null,
      "outputs": []
    },
    {
      "cell_type": "markdown",
      "source": [
        "### 나누어 떨어지는 숫자 배열\n",
        "array의 각 element 중 divisor로 나누어 떨어지는 값을 오름차순으로 정렬한 배열을 반환하는 함수, solution을 작성해주세요.\n",
        "divisor로 나누어 떨어지는 element가 하나도 없다면 배열에 -1을 담아 반환하세요."
      ],
      "metadata": {
        "id": "_KMCPnz_RPck"
      }
    },
    {
      "cell_type": "code",
      "source": [
        "def solution(arr, divisor):\n",
        "    answer = sorted([i for i in arr if i % divisor == 0])\n",
        "    if not answer:\n",
        "        answer.append(-1)\n",
        "    \n",
        "    return answer"
      ],
      "metadata": {
        "id": "ajjGu1xzRSe7"
      },
      "execution_count": null,
      "outputs": []
    },
    {
      "cell_type": "markdown",
      "source": [
        "### 가운데 글자 가져오기"
      ],
      "metadata": {
        "id": "MXoRMHn7W18R"
      }
    },
    {
      "cell_type": "code",
      "source": [
        "def solution(s):\n",
        "\n",
        "    half = int(len(s)//2)\n",
        "    if len(s) % 2 == 0:\n",
        "        answer = s[half-1:half+1]\n",
        "    else:\n",
        "        answer = s[half]\n",
        "    return answer"
      ],
      "metadata": {
        "id": "aF-suN9LRSXe"
      },
      "execution_count": null,
      "outputs": []
    },
    {
      "cell_type": "code",
      "source": [
        "# 다른 사람 풀이\n",
        "def string_middle(str):\n",
        "    a = len(str)\n",
        "    if a % 2 == 0 :\n",
        "        a = (a-2) / 2\n",
        "    else :\n",
        "        a = (a-1) / 2\n",
        "    return str[int(a) : -int(a)]"
      ],
      "metadata": {
        "id": "OqNNMWEo0EoI"
      },
      "execution_count": null,
      "outputs": []
    },
    {
      "cell_type": "code",
      "source": [
        "def string_middle(str):\n",
        "    return str[(len(str)-1)//2 : len(str)//2 + 1]"
      ],
      "metadata": {
        "id": "8ln1lbyw0K47"
      },
      "execution_count": null,
      "outputs": []
    },
    {
      "cell_type": "markdown",
      "source": [
        "### 수박수박수박수박수박수?\n",
        "길이가 n이고, \"수박수박수박수....\"와 같은 패턴을 유지하는 문자열을 리턴하는 함수, solution을 완성하세요. 예를들어 n이 4이면 \"수박수박\"을 리턴하고 3이라면 \"수박수\"를 리턴하면 됩니다."
      ],
      "metadata": {
        "id": "tHCL_-a00occ"
      }
    },
    {
      "cell_type": "code",
      "source": [
        "def solution(n):\n",
        "    answer = ''\n",
        "    \n",
        "    while len(answer) != n:\n",
        "        if len(answer) % 2 == 0:\n",
        "            answer += '수'\n",
        "        else:\n",
        "            answer += '박'\n",
        "        \n",
        "    return answer"
      ],
      "metadata": {
        "id": "XPHXZrBk0rP6"
      },
      "execution_count": null,
      "outputs": []
    },
    {
      "cell_type": "code",
      "source": [
        "# 다른 사람 풀이\n",
        "def water_melon(n):\n",
        "    str = \"수박\"*(n//2+1)\n",
        "    return str[:n]"
      ],
      "metadata": {
        "id": "wbriDY9u1gwa"
      },
      "execution_count": null,
      "outputs": []
    },
    {
      "cell_type": "code",
      "source": [
        "# 다른 사람 풀이\n",
        "def water_melon(n):\n",
        "    return \"수박\" * (n//2) + \"수\" * (n%2)"
      ],
      "metadata": {
        "id": "Y_ia4oDb1vfT"
      },
      "execution_count": null,
      "outputs": []
    },
    {
      "cell_type": "markdown",
      "source": [
        "### 문자열 내림차순으로 배치하기\n",
        "문자열 s에 나타나는 문자를 큰것부터 작은 순으로 정렬해 새로운 문자열을 리턴하는 함수, solution을 완성해주세요.\n",
        "s는 영문 대소문자로만 구성되어 있으며, 대문자는 소문자보다 작은 것으로 간주합니다."
      ],
      "metadata": {
        "id": "kjghCUcS2OSl"
      }
    },
    {
      "cell_type": "code",
      "source": [
        "def solution(s):\n",
        "    answer = ''\n",
        "    sort_s = sorted(s)\n",
        "    return answer.join(sort_s[::-1])"
      ],
      "metadata": {
        "id": "jvw3ppJ62Q9b"
      },
      "execution_count": null,
      "outputs": []
    },
    {
      "cell_type": "code",
      "source": [
        "# 다른 사람 풀이\n",
        "def solution(s):\n",
        "    return ''.join(sorted(s, reverse=True))"
      ],
      "metadata": {
        "id": "KuFgfk-H3eff"
      },
      "execution_count": null,
      "outputs": []
    },
    {
      "cell_type": "markdown",
      "source": [
        "### 행렬의 덧셈\n",
        "행렬의 덧셈은 행과 열의 크기가 같은 두 행렬의 같은 행, 같은 열의 값을 서로 더한 결과가 됩니다. 2개의 행렬 arr1과 arr2를 입력받아, 행렬 덧셈의 결과를 반환하는 함수, solution을 완성해주세요."
      ],
      "metadata": {
        "id": "8K6PlzWu8L7v"
      }
    },
    {
      "cell_type": "code",
      "source": [
        "def solution(arr1, arr2):\n",
        "    answer = [[]]\n",
        "    for i in range(len(arr1)):\n",
        "        for j in range(len(arr1[0])):\n",
        "            arr1[i][j] += arr2[i][j]\n",
        "    return arr1"
      ],
      "metadata": {
        "id": "VZKzufoK8Nhu"
      },
      "execution_count": null,
      "outputs": []
    },
    {
      "cell_type": "code",
      "source": [
        "import numpy as np\n",
        "def solution(arr1, arr2):\n",
        "    a1_np = np.array(arr1)\n",
        "    a2_np = np.array(arr2)\n",
        "    result = a1_np + a2_np\n",
        "    return result.tolist()"
      ],
      "metadata": {
        "id": "2eZPRHuQ8iMu"
      },
      "execution_count": null,
      "outputs": []
    },
    {
      "cell_type": "code",
      "source": [
        "# 다른 사람 풀이\n",
        "def sumMatrix(A,B):\n",
        "    answer = [[c + d for c, d in zip(a,b)] for a, b in zip(A,B)]\n",
        "    return answer"
      ],
      "metadata": {
        "id": "UUuXbMix8snm"
      },
      "execution_count": null,
      "outputs": []
    },
    {
      "cell_type": "markdown",
      "source": [
        "### 직사각형 별찍기\n"
      ],
      "metadata": {
        "id": "SiQQx2Ou8uwm"
      }
    },
    {
      "cell_type": "code",
      "source": [
        "a, b = map(int, input().strip().split(' '))\n",
        "\n",
        "for _ in range(b):\n",
        "    print('*' * a)"
      ],
      "metadata": {
        "id": "Kg6B5a2m8x3-"
      },
      "execution_count": null,
      "outputs": []
    },
    {
      "cell_type": "code",
      "source": [
        "# 다른 사람 풀이\n",
        "a, b = map(int, input().strip().split(' '))\n",
        "answer = ('*'*a +'\\n')*b\n",
        "print(answer)"
      ],
      "metadata": {
        "id": "vRtu3Ypn9ce3"
      },
      "execution_count": null,
      "outputs": []
    },
    {
      "cell_type": "markdown",
      "source": [
        "### 최대공약수와 최소공배수\n",
        "두 수를 입력받아 두 수의 최대공약수와 최소공배수를 반환하는 함수, solution을 완성해 보세요. 배열의 맨 앞에 최대공약수, 그다음 최소공배수를 넣어 반환하면 됩니다. 예를 들어 두 수 3, 12의 최대공약수는 3, 최소공배수는 12이므로 solution(3, 12)는 [3, 12]를 반환해야 합니다."
      ],
      "metadata": {
        "id": "z4Mtp3na9fJH"
      }
    },
    {
      "cell_type": "code",
      "source": [
        "def solution(n, m):\n",
        "    max_common = 0\n",
        "    for i in range(min(n, m), 0, -1):\n",
        "        if n % i == 0 and m % i == 0:\n",
        "            max_common = i\n",
        "            break\n",
        "            \n",
        "    for j in range(max(n, m), n*m+1):\n",
        "        if j % n == 0 and j % m == 0:\n",
        "            min_common = j\n",
        "            break\n",
        "            \n",
        "    return [max_common, min_common]"
      ],
      "metadata": {
        "id": "jei1MSPD9h2a"
      },
      "execution_count": null,
      "outputs": []
    },
    {
      "cell_type": "markdown",
      "source": [
        "### 이상한 문자 만들기\n",
        "문자열 s는 한 개 이상의 단어로 구성되어 있습니다. 각 단어는 하나 이상의 공백문자로 구분되어 있습니다. 각 단어의 짝수번째 알파벳은 대문자로, 홀수번째 알파벳은 소문자로 바꾼 문자열을 리턴하는 함수, solution을 완성하세요."
      ],
      "metadata": {
        "id": "0OPSvIR_xvy-"
      }
    },
    {
      "cell_type": "code",
      "source": [
        "def solution(s):\n",
        "    answer = ''\n",
        "    words = []\n",
        "    words = s.split(' ')\n",
        "    \n",
        "    for word in words:\n",
        "        for l in range(len(word)):\n",
        "            if l % 2 == 0:\n",
        "                answer += word[l].upper()\n",
        "            else:\n",
        "                answer += word[l].lower()\n",
        "        answer += ' '\n",
        "    \n",
        "    return answer[:-1]"
      ],
      "metadata": {
        "id": "ePqraLrNBMT1"
      },
      "execution_count": null,
      "outputs": []
    },
    {
      "cell_type": "code",
      "source": [
        "# 다른 사람 풀이\n",
        "def toWeirdCase(s):\n",
        "    return \" \".join(map(lambda x: \"\".join([a.lower() if i % 2 else a.upper() for i, a in enumerate(x)]), s.split(\" \")))"
      ],
      "metadata": {
        "id": "DmyfwiS2BPan"
      },
      "execution_count": null,
      "outputs": []
    },
    {
      "cell_type": "markdown",
      "source": [
        "### 시저 암호\n",
        "어떤 문장의 각 알파벳을 일정한 거리만큼 밀어서 다른 알파벳으로 바꾸는 암호화 방식을 시저 암호라고 합니다. 예를 들어 \"AB\"는 1만큼 밀면 \"BC\"가 되고, 3만큼 밀면 \"DE\"가 됩니다. \"z\"는 1만큼 밀면 \"a\"가 됩니다. 문자열 s와 거리 n을 입력받아 s를 n만큼 민 암호문을 만드는 함수, solution을 완성해 보세요."
      ],
      "metadata": {
        "id": "T-iM8ZFg58Xo"
      }
    },
    {
      "cell_type": "code",
      "source": [
        "def solution(s, n):\n",
        "    alpha_upper = 'ABCDEFGHIJKLMNOPQRSTUVWXYZ'\n",
        "    alpha_lower = 'abcdefghijklmnopqrstuvwxyz'\n",
        "\n",
        "    answer = ''\n",
        "\n",
        "    for i in s:\n",
        "        if i in alpha_upper:\n",
        "            if alpha_upper.index(i)+n >= len(alpha_upper):\n",
        "                answer += alpha_upper[alpha_upper.index(i)+n-26]\n",
        "            else:\n",
        "                answer += alpha_upper[alpha_upper.index(i)+n]\n",
        "        elif i in alpha_lower:\n",
        "            if alpha_lower.index(i)+n >= len(alpha_lower):\n",
        "                answer += alpha_lower[alpha_lower.index(i)+n-26]\n",
        "            else:\n",
        "                answer += alpha_lower[alpha_lower.index(i)+n]\n",
        "        elif i == ' ':\n",
        "            answer += ' '\n",
        "            \n",
        "    return answer"
      ],
      "metadata": {
        "id": "xxV41_eT5_wJ"
      },
      "execution_count": null,
      "outputs": []
    },
    {
      "cell_type": "code",
      "source": [
        "# 다른 사람 풀이\n",
        "def caesar(s, n):\n",
        "    s = list(s) # 문자열을 리스트로 변환 후\n",
        "    for i in range(len(s)):\n",
        "        if s[i].isupper(): # 대문자라면\n",
        "            s[i]=chr((ord(s[i])-ord('A')+ n)%26+ord('A'))\n",
        "        elif s[i].islower(): # 소문자라면\n",
        "            s[i]=chr((ord(s[i])-ord('a')+ n)%26+ord('a'))\n",
        "\n",
        "    return \"\".join(s)"
      ],
      "metadata": {
        "id": "1WlzbzxpAM9f"
      },
      "execution_count": null,
      "outputs": []
    },
    {
      "cell_type": "markdown",
      "source": [
        "파이썬 ord 함수, chr 함수:\n",
        "\n",
        "1) ord (문자): 하나의 문자를 인자로 받고 해당 문자에 해당하는 유니코드 정수 반환 (ex. ord('a') -> 97)\n",
        "\n",
        "2) chr (정수): 하나의 정수를 인자로 받고 해당 정수에 해당하는 유니코드 문자 반환 (ex. chr(97) -> 'a')\n",
        "- 인자(정수)의 유효 범위는 0 ~ 1,114,111 (16진수 0x10 FFFF)까지"
      ],
      "metadata": {
        "id": "vJX9xnewAqlk"
      }
    },
    {
      "cell_type": "code",
      "source": [
        "# 다른 사람 풀이\n",
        "def caesar(s, n):\n",
        "    lower_list = \"abcdefghijklmnopqrstuvwxyz\"\n",
        "    upper_list = \"ABCDEFGHIJKLMNOPQRSTUVWXYZ\"\n",
        "\n",
        "    result = []\n",
        "\n",
        "    for i in s:\n",
        "        if i is \" \":\n",
        "            result.append(\" \")\n",
        "        elif i.islower() is True: # 소문자라면\n",
        "            new_ = lower_list.find(i) + n\n",
        "            result.append(lower_list[new_ % 26]) # 나머지를 인덱스로 사용..\n",
        "        else:\n",
        "            new_ = upper_list.find(i) + n\n",
        "            result.append(upper_list[new_ % 26])\n",
        "    return \"\".join(result)\n"
      ],
      "metadata": {
        "id": "81XMrC3RAf91"
      },
      "execution_count": null,
      "outputs": []
    },
    {
      "cell_type": "markdown",
      "source": [
        "### 삼총사\n",
        "한국중학교에 다니는 학생들은 각자 정수 번호를 갖고 있습니다. 이 학교 학생 3명의 정수 번호를 더했을 때 0이 되면 3명의 학생은 삼총사라고 합니다. 예를 들어, 5명의 학생이 있고, 각각의 정수 번호가 순서대로 -2, 3, 0, 2, -5일 때, 첫 번째, 세 번째, 네 번째 학생의 정수 번호를 더하면 0이므로 세 학생은 삼총사입니다. 또한, 두 번째, 네 번째, 다섯 번째 학생의 정수 번호를 더해도 0이므로 세 학생도 삼총사입니다. 따라서 이 경우 한국중학교에서는 두 가지 방법으로 삼총사를 만들 수 있습니다.\n",
        "\n",
        "한국중학교 학생들의 번호를 나타내는 정수 배열 number가 매개변수로 주어질 때, 학생들 중 삼총사를 만들 수 있는 방법의 수를 return 하도록 solution 함수를 완성하세요.\n"
      ],
      "metadata": {
        "id": "ZaYJgb8L1M48"
      }
    },
    {
      "cell_type": "code",
      "source": [
        "def solution(number):\n",
        "    answer = 0\n",
        "    for i in range(len(number)-2):\n",
        "        for j in range(i+1, len(number)-1):\n",
        "            for k in range(j+1, len(number)):\n",
        "                if number[i] + number[j] + number[k] == 0:\n",
        "                    answer += 1\n",
        "            \n",
        "    return answer"
      ],
      "metadata": {
        "id": "6tQq1Frs1Ltm"
      },
      "execution_count": null,
      "outputs": []
    },
    {
      "cell_type": "code",
      "source": [
        "# 다른 사람 풀이 (itertools 모듈 사용)\n",
        "def solution (number) :\n",
        "    from itertools import combinations\n",
        "    cnt = 0\n",
        "    for i in combinations(number,3) :\n",
        "        if sum(i) == 0 :\n",
        "            cnt += 1\n",
        "    return cnt"
      ],
      "metadata": {
        "id": "60__3X3CAkQu"
      },
      "execution_count": null,
      "outputs": []
    },
    {
      "cell_type": "markdown",
      "source": [
        "## 월간 코드 챌린지 시즌1"
      ],
      "metadata": {
        "id": "ZycS6hJjdk_C"
      }
    },
    {
      "cell_type": "markdown",
      "source": [
        "### 내적\n",
        "길이가 같은 두 1차원 정수 배열 a, b가 매개변수로 주어집니다. a와 b의 내적을 return 하도록 solution 함수를 완성해주세요.\n",
        "\n",
        "이때, a와 b의 내적은 a[0]*b[0] + a[1]*b[1] + ... + a[n-1]*b[n-1] 입니다. (n은 a, b의 길이)"
      ],
      "metadata": {
        "id": "dXtK5jpx100i"
      }
    },
    {
      "cell_type": "code",
      "source": [
        "def solution(a, b):\n",
        "    answer = sum([a[i]*b[i] for i in range(len(a))])\n",
        "    return answer"
      ],
      "metadata": {
        "id": "aTTDCUap2FGR"
      },
      "execution_count": null,
      "outputs": []
    },
    {
      "cell_type": "code",
      "source": [
        "# 다른 사람 풀이\n",
        "def solution(a, b):\n",
        "    return sum([x*y for x, y in zip(a,b)]) # zip 활용"
      ],
      "metadata": {
        "id": "GHjEjSiw2IMD"
      },
      "execution_count": null,
      "outputs": []
    },
    {
      "cell_type": "markdown",
      "source": [
        "### 3진법 뒤집기\n",
        "자연수 n이 매개변수로 주어집니다. n을 3진법 상에서 앞뒤로 뒤집은 후, 이를 다시 10진법으로 표현한 수를 return 하도록 solution 함수를 완성해주세요."
      ],
      "metadata": {
        "id": "pqYIWeyokASx"
      }
    },
    {
      "cell_type": "code",
      "source": [
        "def solution(n):\n",
        "\n",
        "    base_reversed = ''\n",
        "    while n > 0:\n",
        "        n, mod = divmod(n, 3)\n",
        "        base_reversed += str(mod)\n",
        "        \n",
        "    answer = int(base_reversed, 3)\n",
        "        \n",
        "    return answer"
      ],
      "metadata": {
        "id": "wTq87-o3kC2D"
      },
      "execution_count": null,
      "outputs": []
    },
    {
      "cell_type": "code",
      "source": [
        "# 다른 사람 풀이\n",
        "def solution(n):\n",
        "    tmp = ''\n",
        "    while n:\n",
        "        tmp += str(n % 3)\n",
        "        n = n // 3\n",
        "\n",
        "    answer = int(tmp, 3)\n",
        "    return answer"
      ],
      "metadata": {
        "id": "5iKuJttVxoma"
      },
      "execution_count": null,
      "outputs": []
    },
    {
      "cell_type": "markdown",
      "source": [
        "## 월간 코드 챌린지 시즌2"
      ],
      "metadata": {
        "id": "EAfNj_RzdhgR"
      }
    },
    {
      "cell_type": "markdown",
      "source": [
        "### 음양 더하기\n",
        "어떤 정수들이 있습니다. 이 정수들의 절댓값을 차례대로 담은 정수 배열 absolutes와 이 정수들의 부호를 차례대로 담은 불리언 배열 signs가 매개변수로 주어집니다. 실제 정수들의 합을 구하여 return 하도록 solution 함수를 완성해주세요."
      ],
      "metadata": {
        "id": "stIx1mWiRqtd"
      }
    },
    {
      "cell_type": "code",
      "source": [
        "def solution(absolutes, signs):\n",
        "\n",
        "    for i in range(len(signs)):\n",
        "        if signs[i] == False:\n",
        "            absolutes[i] = absolutes[i] * -1\n",
        "\n",
        "    answer = sum(absolutes)\n",
        "    return answer"
      ],
      "metadata": {
        "id": "y87FWyyBRu2-"
      },
      "execution_count": null,
      "outputs": []
    },
    {
      "cell_type": "code",
      "source": [
        "# 다른 사람 풀이\n",
        "def solution(absolutes, signs):\n",
        "    answer = 0\n",
        "    \n",
        "    for i in range(len(absolutes)):\n",
        "        if (signs[i] == True):\n",
        "            answer += absolutes[i]\n",
        "        else:\n",
        "            answer -= absolutes[i]\n",
        "            \n",
        "    return answer"
      ],
      "metadata": {
        "id": "nworR9SkUvc6"
      },
      "execution_count": null,
      "outputs": []
    },
    {
      "cell_type": "markdown",
      "source": [
        "### 제일 작은 수 제거하기\n",
        "정수를 저장한 배열, arr 에서 가장 작은 수를 제거한 배열을 리턴하는 함수, solution을 완성해주세요. 단, 리턴하려는 배열이 빈 배열인 경우엔 배열에 -1을 채워 리턴하세요. 예를들어 arr이 [4,3,2,1]인 경우는 [4,3,2]를 리턴 하고, [10]면 [-1]을 리턴 합니다."
      ],
      "metadata": {
        "id": "YrkvXIK7U2zO"
      }
    },
    {
      "cell_type": "code",
      "source": [
        "def solution(arr):\n",
        "    answer = []\n",
        "\n",
        "    arr.remove(min(arr))\n",
        "    answer = arr\n",
        "    \n",
        "    if len(arr) == 0:\n",
        "        answer = [-1]\n",
        "\n",
        "    return answer"
      ],
      "metadata": {
        "id": "okP4mlQDU5vH"
      },
      "execution_count": null,
      "outputs": []
    },
    {
      "cell_type": "markdown",
      "source": [
        "### 약수의 개수와 덧셈\n",
        "두 정수 left와 right가 매개변수로 주어집니다. left부터 right까지의 모든 수들 중에서, 약수의 개수가 짝수인 수는 더하고, 약수의 개수가 홀수인 수는 뺀 수를 return 하도록 solution 함수를 완성해주세요."
      ],
      "metadata": {
        "id": "EKPoWxDQ3krY"
      }
    },
    {
      "cell_type": "code",
      "source": [
        "def solution(left, right):\n",
        "    answer = 0\n",
        "    for i in range(left, right+1):\n",
        "        element = [j for j in range(1, i+1) if i % j == 0]\n",
        "        if len(element) % 2 == 0:\n",
        "            answer += i\n",
        "        else:\n",
        "            answer -= i\n",
        "    return answer"
      ],
      "metadata": {
        "id": "78tXy0Ts3znE"
      },
      "execution_count": null,
      "outputs": []
    },
    {
      "cell_type": "code",
      "source": [
        "# 다른 사람 풀이\n",
        "def solution(left, right):\n",
        "    answer = 0\n",
        "    for i in range(left,right+1):\n",
        "        if int(i**0.5)==i**0.5:\n",
        "            answer -= i\n",
        "        else:\n",
        "            answer += i\n",
        "    return answer\n"
      ],
      "metadata": {
        "id": "5yRApt1F6jIJ"
      },
      "execution_count": null,
      "outputs": []
    },
    {
      "cell_type": "markdown",
      "source": [
        "### 문자열 다루기 기본\n",
        "문자열 s의 길이가 4 혹은 6이고, 숫자로만 구성돼있는지 확인해주는 함수, solution을 완성하세요. 예를 들어 s가 \"a234\"이면 False를 리턴하고 \"1234\"라면 True를 리턴하면 됩니다."
      ],
      "metadata": {
        "id": "5BKL4uQr1k31"
      }
    },
    {
      "cell_type": "code",
      "source": [
        "def solution(s):\n",
        "    answer = False\n",
        "    if (len(s) == 4 or len(s) == 6) and s.isdigit():\n",
        "        answer = True\n",
        "    return answer"
      ],
      "metadata": {
        "id": "uP1kGrFy16yG"
      },
      "execution_count": null,
      "outputs": []
    },
    {
      "cell_type": "markdown",
      "source": [
        "## 월간 코드 챌린지 시즌3"
      ],
      "metadata": {
        "id": "BN3AnCPaddbN"
      }
    },
    {
      "cell_type": "markdown",
      "source": [
        "### 나머지가 1이 되는 수 찾기\n",
        "자연수 n이 매개변수로 주어집니다. n을 x로 나눈 나머지가 1이 되도록 하는 가장 작은 자연수 x를 return 하도록 solution 함수를 완성해주세요. 답이 항상 존재함은 증명될 수 있습니다."
      ],
      "metadata": {
        "id": "iIz-pK6IgkyW"
      }
    },
    {
      "cell_type": "code",
      "source": [
        "def solution(n):\n",
        "    answer = 0\n",
        "    for i in range(1, n):\n",
        "        if n % i == 1:\n",
        "            answer = i\n",
        "            break\n",
        "    return answer"
      ],
      "metadata": {
        "id": "xP6tze2kdf81"
      },
      "execution_count": null,
      "outputs": []
    },
    {
      "cell_type": "markdown",
      "source": [
        "### 없는 숫자 더하기\n",
        "0부터 9까지의 숫자 중 일부가 들어있는 정수 배열 numbers가 매개변수로 주어집니다. numbers에서 찾을 수 없는 0부터 9까지의 숫자를 모두 찾아 더한 수를 return 하도록 solution 함수를 완성해주세요."
      ],
      "metadata": {
        "id": "lJ_Q61WnWFU0"
      }
    },
    {
      "cell_type": "code",
      "source": [
        "def solution(numbers):\n",
        "\n",
        "    zero_to_nine = [0, 1, 2, 3, 4, 5, 6, 7, 8, 9]\n",
        "    answer = sum([i for i in zero_to_nine if i not in numbers])\n",
        "    return answer"
      ],
      "metadata": {
        "id": "jrgyCpPQWGj6"
      },
      "execution_count": null,
      "outputs": []
    },
    {
      "cell_type": "code",
      "source": [
        "# 다른 사람 풀이\n",
        "solution = lambda x: sum(range(10)) - sum(x)"
      ],
      "metadata": {
        "id": "9GhHKSqMWuDT"
      },
      "execution_count": null,
      "outputs": []
    },
    {
      "cell_type": "markdown",
      "source": [
        "## 위클리 챌린지"
      ],
      "metadata": {
        "id": "liunW_b62CpE"
      }
    },
    {
      "cell_type": "markdown",
      "source": [
        "### 부족한 금액 계산하기\n",
        "새로 생긴 놀이기구는 인기가 매우 많아 줄이 끊이질 않습니다. 이 놀이기구의 원래 이용료는 price원 인데, 놀이기구를 N 번 째 이용한다면 원래 이용료의 N배를 받기로 하였습니다. 즉, 처음 이용료가 100이었다면 2번째에는 200, 3번째에는 300으로 요금이 인상됩니다.\n",
        "놀이기구를 count번 타게 되면 현재 자신이 가지고 있는 금액에서 얼마가 모자라는지를 return 하도록 solution 함수를 완성하세요.\n",
        "단, 금액이 부족하지 않으면 0을 return 하세요."
      ],
      "metadata": {
        "id": "8HT7VYfR2EOR"
      }
    },
    {
      "cell_type": "code",
      "source": [
        "def solution(price, money, count):\n",
        "\n",
        "    total_price = sum([price * i for i in range(1, count+1)])\n",
        "\n",
        "    if total_price >= money:\n",
        "        answer = total_price - money\n",
        "    else:\n",
        "        answer = 0\n",
        "        \n",
        "\n",
        "    return answer"
      ],
      "metadata": {
        "id": "tHrMRVlJ2D3O"
      },
      "execution_count": null,
      "outputs": []
    },
    {
      "cell_type": "code",
      "source": [
        "# 다른 사람 풀이\n",
        "def solution(price, money, count):\n",
        "    return max(0,price*(count+1)*count//2-money)"
      ],
      "metadata": {
        "id": "pcEck6bp3jqQ"
      },
      "execution_count": null,
      "outputs": []
    },
    {
      "cell_type": "markdown",
      "source": [
        "## 스택/큐"
      ],
      "metadata": {
        "id": "pyC6v9wGBSMK"
      }
    },
    {
      "cell_type": "markdown",
      "source": [
        "### 같은 숫자는 싫어\n",
        "배열 arr가 주어집니다. 배열 arr의 각 원소는 숫자 0부터 9까지로 이루어져 있습니다. 이때, 배열 arr에서 연속적으로 나타나는 숫자는 하나만 남기고 전부 제거하려고 합니다. 단, 제거된 후 남은 수들을 반환할 때는 배열 arr의 원소들의 순서를 유지해야 합니다. 예를 들면,\n",
        "- arr = [1, 1, 3, 3, 0, 1, 1] 이면 [1, 3, 0, 1] 을 return 합니다.\n",
        "- arr = [4, 4, 4, 3, 3] 이면 [4, 3] 을 return 합니다.\n",
        "\n",
        "배열 arr에서 연속적으로 나타나는 숫자는 제거하고 남은 수들을 return 하는 solution 함수를 완성해 주세요."
      ],
      "metadata": {
        "id": "Z3etqe52BTne"
      }
    },
    {
      "cell_type": "code",
      "source": [
        "def solution(arr):\n",
        "    answer = [arr[0]]\n",
        "    for i in arr:\n",
        "        if i == answer[-1]:\n",
        "            continue\n",
        "        else:\n",
        "            answer.append(i)\n",
        "    return answer"
      ],
      "metadata": {
        "id": "jNfgUVNuBTVT"
      },
      "execution_count": null,
      "outputs": []
    },
    {
      "cell_type": "code",
      "source": [
        "# 다른 사람 풀이\n",
        "def no_continuous(s):\n",
        "    result = []\n",
        "    for c in s:\n",
        "        if len(result) == 0 or result[-1] != c:\n",
        "            result.append(c)\n",
        "\n",
        "    return result"
      ],
      "metadata": {
        "id": "3uSFPW7qC4B6"
      },
      "execution_count": null,
      "outputs": []
    },
    {
      "cell_type": "code",
      "source": [
        "def no_continuous(s):\n",
        "    a = []\n",
        "    for i in s:\n",
        "        if a[-1:] == [i]: continue # 비어있는 배열에 [-1:] 가능 (그냥 [-1]은 인덱싱 오류 발생)\n",
        "        a.append(i)\n",
        "    return a"
      ],
      "metadata": {
        "id": "AfBQJSq5C-2h"
      },
      "execution_count": null,
      "outputs": []
    },
    {
      "cell_type": "markdown",
      "source": [
        "## Summer/Winter Coding(~2018)"
      ],
      "metadata": {
        "id": "0cN4RMBHBb4Q"
      }
    },
    {
      "cell_type": "markdown",
      "source": [
        "### 예산\n",
        "S사에서는 각 부서에 필요한 물품을 지원해 주기 위해 부서별로 물품을 구매하는데 필요한 금액을 조사했습니다. 그러나, 전체 예산이 정해져 있기 때문에 모든 부서의 물품을 구매해 줄 수는 없습니다. 그래서 최대한 많은 부서의 물품을 구매해 줄 수 있도록 하려고 합니다.\n",
        "\n",
        "물품을 구매해 줄 때는 각 부서가 신청한 금액만큼을 모두 지원해 줘야 합니다. 예를 들어 1,000원을 신청한 부서에는 정확히 1,000원을 지원해야 하며, 1,000원보다 적은 금액을 지원해 줄 수는 없습니다.\n",
        "\n",
        "부서별로 신청한 금액이 들어있는 배열 d와 예산 budget이 매개변수로 주어질 때, 최대 몇 개의 부서에 물품을 지원할 수 있는지 return 하도록 solution 함수를 완성해주세요."
      ],
      "metadata": {
        "id": "Jh_QPEK9BeVN"
      }
    },
    {
      "cell_type": "code",
      "source": [
        "def solution(d, budget):\n",
        "    answer = 0\n",
        "    d.sort()\n",
        "    for i in range(len(d)):\n",
        "        if d[i] <= budget:\n",
        "            budget -= d[i]\n",
        "            answer += 1\n",
        "        else:\n",
        "            break\n",
        "        \n",
        "    return answer"
      ],
      "metadata": {
        "id": "hJJVaD-iBdxa"
      },
      "execution_count": null,
      "outputs": []
    },
    {
      "cell_type": "code",
      "source": [
        "# 다른 사람 풀이\n",
        "def solution(d, budget):\n",
        "    d.sort()\n",
        "    while budget < sum(d):\n",
        "        d.pop()\n",
        "    return len(d)"
      ],
      "metadata": {
        "id": "wfxksL2F5oxo"
      },
      "execution_count": null,
      "outputs": []
    },
    {
      "cell_type": "markdown",
      "source": [
        "## 2021 카카오 채용연게형 인턴십\n",
        "네오와 프로도가 숫자놀이를 하고 있습니다. 네오가 프로도에게 숫자를 건넬 때 일부 자릿수를 영단어로 바꾼 카드를 건네주면 프로도는 원래 숫자를 찾는 게임입니다.\n",
        "\n",
        "다음은 숫자의 일부 자릿수를 영단어로 바꾸는 예시입니다.\n",
        "- 1478 → \"one4seveneight\"\n",
        "- 234567 → \"23four5six7\"\n",
        "- 10203 → \"1zerotwozero3\"\n",
        "\n",
        "이렇게 숫자의 일부 자릿수가 영단어로 바뀌어졌거나, 혹은 바뀌지 않고 그대로인 문자열 s가 매개변수로 주어집니다. s가 의미하는 원래 숫자를 return 하도록 solution 함수를 완성해주세요."
      ],
      "metadata": {
        "id": "TMPbyjoQG62m"
      }
    },
    {
      "cell_type": "code",
      "source": [
        "def solution(s):\n",
        "    for num, eng in enumerate([\"zero\", \"one\", \"two\", \"three\", \"four\", \"five\", \"six\", \"seven\", \"eight\", \"nine\"]):\n",
        "        s = s.replace(eng, str(num))\n",
        "    return int(s)"
      ],
      "metadata": {
        "id": "P8I6dHiKHBzs"
      },
      "execution_count": null,
      "outputs": []
    }
  ]
}