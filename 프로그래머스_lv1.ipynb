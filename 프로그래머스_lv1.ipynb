{
  "nbformat": 4,
  "nbformat_minor": 0,
  "metadata": {
    "colab": {
      "provenance": [],
      "toc_visible": true,
      "authorship_tag": "ABX9TyMNC26NTFvEAzTgnrLe7yw6",
      "include_colab_link": true
    },
    "kernelspec": {
      "name": "python3",
      "display_name": "Python 3"
    },
    "language_info": {
      "name": "python"
    }
  },
  "cells": [
    {
      "cell_type": "markdown",
      "metadata": {
        "id": "view-in-github",
        "colab_type": "text"
      },
      "source": [
        "<a href=\"https://colab.research.google.com/github/jungsuryu/study-algorithms-data_structure/blob/main/%ED%94%84%EB%A1%9C%EA%B7%B8%EB%9E%98%EB%A8%B8%EC%8A%A4_lv1.ipynb\" target=\"_parent\"><img src=\"https://colab.research.google.com/assets/colab-badge.svg\" alt=\"Open In Colab\"/></a>"
      ]
    },
    {
      "cell_type": "markdown",
      "source": [
        "## 연습문제"
      ],
      "metadata": {
        "id": "y_iMKTwAQqlN"
      }
    },
    {
      "cell_type": "markdown",
      "source": [
        "### 짝수와 홀수"
      ],
      "metadata": {
        "id": "Szhgu4tsQvNZ"
      }
    },
    {
      "cell_type": "code",
      "execution_count": null,
      "metadata": {
        "id": "LPafd_k7Qiwu"
      },
      "outputs": [],
      "source": [
        "def solution(num):\n",
        "    answer = 'Even' if num % 2 == 0 else 'Odd'\n",
        "\n",
        "    return answer"
      ]
    },
    {
      "cell_type": "markdown",
      "source": [
        "### 평균 구하기"
      ],
      "metadata": {
        "id": "pZmOs6nQSNR0"
      }
    },
    {
      "cell_type": "code",
      "source": [
        "def solution(arr):\n",
        "    answer = sum(arr) / len(arr)\n",
        "    return answer"
      ],
      "metadata": {
        "id": "euR-dVBjSOEL"
      },
      "execution_count": null,
      "outputs": []
    },
    {
      "cell_type": "markdown",
      "source": [
        "### 약수의 합"
      ],
      "metadata": {
        "id": "GPx8DI21SYdx"
      }
    },
    {
      "cell_type": "code",
      "source": [
        "def solution(n):\n",
        "    answer = 0\n",
        "    elements = set()\n",
        "    for i in range(1, int(n**0.5)+1):\n",
        "        if n % i == 0:\n",
        "            elements.update([i, n//i])\n",
        "    answer = sum(list(elements))\n",
        "    return answer\n",
        "    # 다른 사람 풀이\n",
        "    # return num + sum([i for i in range(1, (num // 2) + 1) if num % i == 0])"
      ],
      "metadata": {
        "id": "kayHehE_SZYJ"
      },
      "execution_count": null,
      "outputs": []
    },
    {
      "cell_type": "markdown",
      "source": [
        "### 자릿수 더하기"
      ],
      "metadata": {
        "id": "sVpNbJ6adXKd"
      }
    },
    {
      "cell_type": "code",
      "source": [
        "def solution(n):\n",
        "    answer = sum([int(i) for i in str(n)])\n",
        "\n",
        "    return answer"
      ],
      "metadata": {
        "id": "hZBUTCz8dYcf"
      },
      "execution_count": null,
      "outputs": []
    },
    {
      "cell_type": "markdown",
      "source": [
        "## 월간 코드 챌린지 시즌1"
      ],
      "metadata": {
        "id": "ZycS6hJjdk_C"
      }
    },
    {
      "cell_type": "markdown",
      "source": [
        "## 월간 코드 챌린지 시즌2"
      ],
      "metadata": {
        "id": "EAfNj_RzdhgR"
      }
    },
    {
      "cell_type": "markdown",
      "source": [
        "## 월간 코드 챌린지 시즌3"
      ],
      "metadata": {
        "id": "BN3AnCPaddbN"
      }
    },
    {
      "cell_type": "code",
      "source": [],
      "metadata": {
        "id": "xP6tze2kdf81"
      },
      "execution_count": null,
      "outputs": []
    }
  ]
}