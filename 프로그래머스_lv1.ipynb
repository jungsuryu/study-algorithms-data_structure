{
  "nbformat": 4,
  "nbformat_minor": 0,
  "metadata": {
    "colab": {
      "provenance": [],
      "toc_visible": true,
      "authorship_tag": "ABX9TyNtRTz1XDM7SwMpLrNRss4m",
      "include_colab_link": true
    },
    "kernelspec": {
      "name": "python3",
      "display_name": "Python 3"
    },
    "language_info": {
      "name": "python"
    }
  },
  "cells": [
    {
      "cell_type": "markdown",
      "metadata": {
        "id": "view-in-github",
        "colab_type": "text"
      },
      "source": [
        "<a href=\"https://colab.research.google.com/github/jungsuryu/study-algorithms-data_structure/blob/main/%ED%94%84%EB%A1%9C%EA%B7%B8%EB%9E%98%EB%A8%B8%EC%8A%A4_lv1.ipynb\" target=\"_parent\"><img src=\"https://colab.research.google.com/assets/colab-badge.svg\" alt=\"Open In Colab\"/></a>"
      ]
    },
    {
      "cell_type": "markdown",
      "source": [
        "## 4/7 ~ (new!)"
      ],
      "metadata": {
        "id": "WfrJ6CfkImfn"
      }
    },
    {
      "cell_type": "markdown",
      "source": [
        "## 연습문제"
      ],
      "metadata": {
        "id": "O_qSqms_IqYQ"
      }
    },
    {
      "cell_type": "markdown",
      "source": [
        "### 명예의 전당(1)\n",
        "\"명예의 전당\"이라는 TV 프로그램에서는 매일 1명의 가수가 노래를 부르고, 시청자들의 문자 투표수로 가수에게 점수를 부여합니다. 매일 출연한 가수의 점수가 지금까지 출연 가수들의 점수 중 상위 k번째 이내이면 해당 가수의 점수를 명예의 전당이라는 목록에 올려 기념합니다. 즉 프로그램 시작 이후 초기에 k일까지는 모든 출연 가수의 점수가 명예의 전당에 오르게 됩니다. k일 다음부터는 출연 가수의 점수가 기존의 명예의 전당 목록의 k번째 순위의 가수 점수보다 더 높으면, 출연 가수의 점수가 명예의 전당에 오르게 되고 기존의 k번째 순위의 점수는 명예의 전당에서 내려오게 됩니다.\n",
        "\n",
        "이 프로그램에서는 매일 \"명예의 전당\"의 최하위 점수를 발표합니다. 예를 들어, k = 3이고, 7일 동안 진행된 가수의 점수가 [10, 100, 20, 150, 1, 100, 200]이라면, 명예의 전당에서 발표된 점수는 아래의 그림과 같이 [10, 10, 10, 20, 20, 100, 100]입니다.\n",
        "\n",
        "명예의 전당 목록의 점수의 개수 k, 1일부터 마지막 날까지 출연한 가수들의 점수인 score가 주어졌을 때, 매일 발표된 명예의 전당의 최하위 점수를 return하는 solution 함수를 완성해주세요."
      ],
      "metadata": {
        "id": "4-fI7xX2Ir-9"
      }
    },
    {
      "cell_type": "code",
      "source": [
        "def solution(k, score):\n",
        "    answer = []\n",
        "    top_k = []\n",
        "    for times in range(len(score)):\n",
        "        if len(top_k) < k:\n",
        "            top_k.append(score[times])\n",
        "            answer.append(min(top_k))\n",
        "        elif len(top_k) == k:\n",
        "            if score[times] >= min(top_k):\n",
        "                top_k.remove(min(top_k))\n",
        "                top_k.append(score[times])\n",
        "                answer.append(min(top_k))\n",
        "            else:\n",
        "                answer.append(min(top_k))\n",
        "        \n",
        "    return answer"
      ],
      "metadata": {
        "id": "-wVb6k74IzeW"
      },
      "execution_count": null,
      "outputs": []
    },
    {
      "cell_type": "code",
      "source": [
        "# 다른 사람 풀이\n",
        "def solution(k, score):\n",
        "    q = []\n",
        "    answer = []\n",
        "    for s in score:\n",
        "        q.append(s)\n",
        "        if (len(q) > k):\n",
        "            q.remove(min(q))\n",
        "        answer.append(min(q))\n",
        "\n",
        "    return answer"
      ],
      "metadata": {
        "id": "U8f7ADJoJBaC"
      },
      "execution_count": null,
      "outputs": []
    },
    {
      "cell_type": "markdown",
      "source": [
        "## 2019 KAKAO BLIND RECRUITMENT"
      ],
      "metadata": {
        "id": "2fq8dlQrJIzM"
      }
    },
    {
      "cell_type": "markdown",
      "source": [
        "### 실패율"
      ],
      "metadata": {
        "id": "cp23QxCzJMdb"
      }
    },
    {
      "cell_type": "markdown",
      "source": [
        "## 연습문제"
      ],
      "metadata": {
        "id": "y_iMKTwAQqlN"
      }
    },
    {
      "cell_type": "markdown",
      "source": [
        "### 짝수와 홀수"
      ],
      "metadata": {
        "id": "Szhgu4tsQvNZ"
      }
    },
    {
      "cell_type": "code",
      "execution_count": null,
      "metadata": {
        "id": "LPafd_k7Qiwu"
      },
      "outputs": [],
      "source": [
        "def solution(num):\n",
        "    answer = 'Even' if num % 2 == 0 else 'Odd'\n",
        "\n",
        "    return answer"
      ]
    },
    {
      "cell_type": "markdown",
      "source": [
        "### 평균 구하기"
      ],
      "metadata": {
        "id": "pZmOs6nQSNR0"
      }
    },
    {
      "cell_type": "code",
      "source": [
        "def solution(arr):\n",
        "    answer = sum(arr) / len(arr)\n",
        "    return answer"
      ],
      "metadata": {
        "id": "euR-dVBjSOEL"
      },
      "execution_count": null,
      "outputs": []
    },
    {
      "cell_type": "markdown",
      "source": [
        "### 약수의 합"
      ],
      "metadata": {
        "id": "GPx8DI21SYdx"
      }
    },
    {
      "cell_type": "code",
      "source": [
        "def solution(n):\n",
        "    answer = 0\n",
        "    elements = set()\n",
        "    for i in range(1, int(n**0.5)+1):\n",
        "        if n % i == 0:\n",
        "            elements.update([i, n//i])\n",
        "    answer = sum(list(elements))\n",
        "    return answer\n",
        "    # 다른 사람 풀이\n",
        "    # return num + sum([i for i in range(1, (num // 2) + 1) if num % i == 0])"
      ],
      "metadata": {
        "id": "kayHehE_SZYJ"
      },
      "execution_count": null,
      "outputs": []
    },
    {
      "cell_type": "markdown",
      "source": [
        "### 자릿수 더하기"
      ],
      "metadata": {
        "id": "sVpNbJ6adXKd"
      }
    },
    {
      "cell_type": "code",
      "source": [
        "def solution(n):\n",
        "    answer = sum([int(i) for i in str(n)])\n",
        "\n",
        "    return answer"
      ],
      "metadata": {
        "id": "hZBUTCz8dYcf"
      },
      "execution_count": null,
      "outputs": []
    },
    {
      "cell_type": "markdown",
      "source": [
        "### x만큼 간격이 있는 n개의 숫자\n",
        "함수 solution은 정수 x와 자연수 n을 입력 받아, x부터 시작해 x씩 증가하는 숫자를 n개 지니는 리스트를 리턴해야 합니다. 다음 제한 조건을 보고, 조건을 만족하는 함수, solution을 완성해주세요."
      ],
      "metadata": {
        "id": "DbJ4WhttdxbD"
      }
    },
    {
      "cell_type": "code",
      "source": [
        "def solution(x, n):\n",
        "    answer = [x*i for i in range(1, n+1)]\n",
        "\n",
        "    return answer"
      ],
      "metadata": {
        "id": "usb4PKL9d1cG"
      },
      "execution_count": null,
      "outputs": []
    },
    {
      "cell_type": "markdown",
      "source": [
        "### 자연수 뒤집어 배열로 만들기\n",
        "자연수 n을 뒤집어 각 자리 숫자를 원소로 가지는 배열 형태로 리턴해주세요. 예를들어 n이 12345이면 [5,4,3,2,1]을 리턴합니다."
      ],
      "metadata": {
        "id": "IWN-VnO7eRWR"
      }
    },
    {
      "cell_type": "code",
      "source": [
        "def solution(n):\n",
        "    n = str(n)[::-1]\n",
        "    answer = [int(i) for i in str(n)]\n",
        "    # answer = [int(i) for i in str(n)][::-1]\n",
        "    return answer"
      ],
      "metadata": {
        "id": "SWVcIsJKeWl8"
      },
      "execution_count": null,
      "outputs": []
    },
    {
      "cell_type": "code",
      "source": [
        "# 다른 사람 풀이\n",
        "def digit_reverse(n):\n",
        "    return list(map(int, reversed(str(n))))"
      ],
      "metadata": {
        "id": "hz2ieZ7-fBVS"
      },
      "execution_count": null,
      "outputs": []
    },
    {
      "cell_type": "markdown",
      "source": [
        "### 정수 제곱근 판별\n",
        "임의의 양의 정수 n에 대해, n이 어떤 양의 정수 x의 제곱인지 아닌지 판단하려 합니다.\n",
        "n이 양의 정수 x의 제곱이라면 x+1의 제곱을 리턴하고, n이 양의 정수 x의 제곱이 아니라면 -1을 리턴하는 함수를 완성하세요."
      ],
      "metadata": {
        "id": "aQNIiKYgfYUX"
      }
    },
    {
      "cell_type": "code",
      "source": [
        "def solution(n):\n",
        "\n",
        "    sqrt_n = int(n ** 0.5)\n",
        "    if n ** 0.5 == sqrt_n:\n",
        "        answer = (sqrt_n+1)**2\n",
        "    else:\n",
        "        answer = -1\n",
        "    return answer"
      ],
      "metadata": {
        "id": "2xqcUGsNfbo8"
      },
      "execution_count": null,
      "outputs": []
    },
    {
      "cell_type": "markdown",
      "source": [
        "### 문자열 내 p와 y의 개수\n",
        "대문자와 소문자가 섞여있는 문자열 s가 주어집니다. s에 'p'의 개수와 'y'의 개수를 비교해 같으면 True, 다르면 False를 return 하는 solution를 완성하세요. 'p', 'y' 모두 하나도 없는 경우는 항상 True를 리턴합니다. 단, 개수를 비교할 때 대문자와 소문자는 구별하지 않습니다.\n",
        "예를 들어 s가 \"pPoooyY\"면 true를 return하고 \"Pyy\"라면 false를 return합니다."
      ],
      "metadata": {
        "id": "IXyicppOf-w6"
      }
    },
    {
      "cell_type": "code",
      "source": [
        "def solution(s):\n",
        "    answer = True\n",
        "    \n",
        "    s = s.lower()\n",
        "    p_count = s.count('p')\n",
        "    y_count = s.count('y')\n",
        "    \n",
        "    if p_count != y_count:\n",
        "        answer = False  \n",
        "\n",
        "    return answer"
      ],
      "metadata": {
        "id": "nJbYOyPFgC4W"
      },
      "execution_count": null,
      "outputs": []
    },
    {
      "cell_type": "code",
      "source": [
        "# 다른 사람 코드\n",
        "def solution(s):\n",
        "  return s.lower().count('p') == s.lower().count('y')"
      ],
      "metadata": {
        "id": "Gj3DvnBwgdAk"
      },
      "execution_count": null,
      "outputs": []
    },
    {
      "cell_type": "markdown",
      "source": [
        "### 정수 내림차순으로 배치하기"
      ],
      "metadata": {
        "id": "eXZIhoquG7Kd"
      }
    },
    {
      "cell_type": "code",
      "source": [
        "def solution(n):\n",
        "\n",
        "    list_s = sorted([i for i in str(n)], reverse=True)\n",
        "    answer = int(''.join(list_s))\n",
        "\n",
        "    return answer"
      ],
      "metadata": {
        "id": "9glNk1QXG9n-"
      },
      "execution_count": null,
      "outputs": []
    },
    {
      "cell_type": "markdown",
      "source": [
        "### 문자열을 정수로 바꾸기"
      ],
      "metadata": {
        "id": "Bxq-mQVvJKUF"
      }
    },
    {
      "cell_type": "code",
      "source": [
        "def solution(s):\n",
        "    answer = int(s)\n",
        "    \n",
        "    return answer"
      ],
      "metadata": {
        "id": "Re9klqtiJLar"
      },
      "execution_count": null,
      "outputs": []
    },
    {
      "cell_type": "markdown",
      "source": [
        "### 하샤드 수\n",
        "양의 정수 x가 하샤드 수이려면 x의 자릿수의 합으로 x가 나누어져야 합니다. 예를 들어 18의 자릿수 합은 1+8=9이고, 18은 9로 나누어 떨어지므로 18은 하샤드 수입니다. 자연수 x를 입력받아 x가 하샤드 수인지 아닌지 검사하는 함수, solution을 완성해주세요."
      ],
      "metadata": {
        "id": "2WrDRH-AJvyt"
      }
    },
    {
      "cell_type": "code",
      "source": [
        "def solution(x):\n",
        "    answer = False\n",
        "    sum_arr = sum([int(i) for i in str(x)])\n",
        "    if x % sum_arr == 0:\n",
        "        answer = True\n",
        "    return answer"
      ],
      "metadata": {
        "id": "ZoNyBn4CJyC4"
      },
      "execution_count": null,
      "outputs": []
    },
    {
      "cell_type": "markdown",
      "source": [
        "### 두 정수 사이의 합\n"
      ],
      "metadata": {
        "id": "X9JXFpIyKOU2"
      }
    },
    {
      "cell_type": "code",
      "source": [
        "def solution(a, b):\n",
        "    answer = 0\n",
        "    for i in range(min(a, b), max(a, b)+1):\n",
        "        answer += i\n",
        "    return answer"
      ],
      "metadata": {
        "id": "G0d23QPOKjOd"
      },
      "execution_count": null,
      "outputs": []
    },
    {
      "cell_type": "markdown",
      "source": [
        "### 콜라츠 추측\n",
        "1937년 Collatz란 사람에 의해 제기된 이 추측은, 주어진 수가 1이 될 때까지 다음 작업을 반복하면, 모든 수를 1로 만들 수 있다는 추측입니다. 작업은 다음과 같습니다.\n",
        "\n",
        "- 입력된 수가 짝수라면 2로 나눕니다. \n",
        "- 입력된 수가 홀수라면 3을 곱하고 1을 더합니다. \n",
        "- 결과로 나온 수에 같은 작업을 1이 될 때까지 반복합니다. \n",
        "\n",
        "예를 들어, 주어진 수가 6이라면 6 → 3 → 10 → 5 → 16 → 8 → 4 → 2 → 1 이 되어 총 8번 만에 1이 됩니다. 위 작업을 몇 번이나 반복해야 하는지 반환하는 함수, solution을 완성해 주세요. 단, 주어진 수가 1인 경우에는 0을, 작업을 500번 반복할 때까지 1이 되지 않는다면 –1을 반환해 주세요."
      ],
      "metadata": {
        "id": "8Lnl03elKl6u"
      }
    },
    {
      "cell_type": "code",
      "source": [
        "def solution(num):\n",
        "    answer = 0\n",
        "    \n",
        "    while num != 1:\n",
        "        if answer >= 500:\n",
        "            answer = -1\n",
        "            break\n",
        "            \n",
        "        if num % 2 == 0:\n",
        "            num = num // 2\n",
        "            answer += 1\n",
        "        else:\n",
        "            num = num * 3 + 1\n",
        "            answer += 1\n",
        "            \n",
        "    return answer"
      ],
      "metadata": {
        "id": "zYbMi9efKzZI"
      },
      "execution_count": null,
      "outputs": []
    },
    {
      "cell_type": "markdown",
      "source": [
        "### 서울에서 김서방 찾기\n",
        "String형 배열 seoul의 element중 \"Kim\"의 위치 x를 찾아, \"김서방은 x에 있다\"는 String을 반환하는 함수, solution을 완성하세요. seoul에 \"Kim\"은 오직 한 번만 나타나며 잘못된 값이 입력되는 경우는 없습니다."
      ],
      "metadata": {
        "id": "TkphCa1gOCic"
      }
    },
    {
      "cell_type": "code",
      "source": [
        "def solution(seoul):\n",
        "    # answer = '김서방은 ' + str(seoul.index('Kim')) + '에 있다'\n",
        "    answer = f'김서방은 {seoul.index(\"Kim\")}에 있다'\n",
        "    return answer"
      ],
      "metadata": {
        "id": "FO7sHJEVOFoi"
      },
      "execution_count": null,
      "outputs": []
    },
    {
      "cell_type": "markdown",
      "source": [
        "### 핸드폰 번호 가리기\n",
        "프로그래머스 모바일은 개인정보 보호를 위해 고지서를 보낼 때 고객들의 전화번호의 일부를 가립니다.\n",
        "전화번호가 문자열 phone_number로 주어졌을 때, 전화번호의 뒷 4자리를 제외한 나머지 숫자를 전부 *으로 가린 문자열을 리턴하는 함수, solution을 완성해주세요.\n"
      ],
      "metadata": {
        "id": "oRwvlLUUPW48"
      }
    },
    {
      "cell_type": "code",
      "source": [
        "def solution(phone_number):\n",
        "    answer = len(phone_number[:-4]) * '*' + phone_number[-4:]\n",
        "    return answer"
      ],
      "metadata": {
        "id": "rpVvptOaPZk4"
      },
      "execution_count": null,
      "outputs": []
    },
    {
      "cell_type": "markdown",
      "source": [
        "### 나누어 떨어지는 숫자 배열\n",
        "array의 각 element 중 divisor로 나누어 떨어지는 값을 오름차순으로 정렬한 배열을 반환하는 함수, solution을 작성해주세요.\n",
        "divisor로 나누어 떨어지는 element가 하나도 없다면 배열에 -1을 담아 반환하세요."
      ],
      "metadata": {
        "id": "_KMCPnz_RPck"
      }
    },
    {
      "cell_type": "code",
      "source": [
        "def solution(arr, divisor):\n",
        "    answer = sorted([i for i in arr if i % divisor == 0])\n",
        "    if not answer:\n",
        "        answer.append(-1)\n",
        "    \n",
        "    return answer"
      ],
      "metadata": {
        "id": "ajjGu1xzRSe7"
      },
      "execution_count": null,
      "outputs": []
    },
    {
      "cell_type": "markdown",
      "source": [
        "### 가운데 글자 가져오기"
      ],
      "metadata": {
        "id": "MXoRMHn7W18R"
      }
    },
    {
      "cell_type": "code",
      "source": [
        "def solution(s):\n",
        "\n",
        "    half = int(len(s)//2)\n",
        "    if len(s) % 2 == 0:\n",
        "        answer = s[half-1:half+1]\n",
        "    else:\n",
        "        answer = s[half]\n",
        "    return answer"
      ],
      "metadata": {
        "id": "aF-suN9LRSXe"
      },
      "execution_count": null,
      "outputs": []
    },
    {
      "cell_type": "code",
      "source": [
        "# 다른 사람 풀이\n",
        "def string_middle(str):\n",
        "    a = len(str)\n",
        "    if a % 2 == 0 :\n",
        "        a = (a-2) / 2\n",
        "    else :\n",
        "        a = (a-1) / 2\n",
        "    return str[int(a) : -int(a)]"
      ],
      "metadata": {
        "id": "OqNNMWEo0EoI"
      },
      "execution_count": null,
      "outputs": []
    },
    {
      "cell_type": "code",
      "source": [
        "def string_middle(str):\n",
        "    return str[(len(str)-1)//2 : len(str)//2 + 1]"
      ],
      "metadata": {
        "id": "8ln1lbyw0K47"
      },
      "execution_count": null,
      "outputs": []
    },
    {
      "cell_type": "markdown",
      "source": [
        "### 수박수박수박수박수박수?\n",
        "길이가 n이고, \"수박수박수박수....\"와 같은 패턴을 유지하는 문자열을 리턴하는 함수, solution을 완성하세요. 예를들어 n이 4이면 \"수박수박\"을 리턴하고 3이라면 \"수박수\"를 리턴하면 됩니다."
      ],
      "metadata": {
        "id": "tHCL_-a00occ"
      }
    },
    {
      "cell_type": "code",
      "source": [
        "def solution(n):\n",
        "    answer = ''\n",
        "    \n",
        "    while len(answer) != n:\n",
        "        if len(answer) % 2 == 0:\n",
        "            answer += '수'\n",
        "        else:\n",
        "            answer += '박'\n",
        "        \n",
        "    return answer"
      ],
      "metadata": {
        "id": "XPHXZrBk0rP6"
      },
      "execution_count": null,
      "outputs": []
    },
    {
      "cell_type": "code",
      "source": [
        "# 다른 사람 풀이\n",
        "def water_melon(n):\n",
        "    str = \"수박\"*(n//2+1)\n",
        "    return str[:n]"
      ],
      "metadata": {
        "id": "wbriDY9u1gwa"
      },
      "execution_count": null,
      "outputs": []
    },
    {
      "cell_type": "code",
      "source": [
        "# 다른 사람 풀이\n",
        "def water_melon(n):\n",
        "    return \"수박\" * (n//2) + \"수\" * (n%2)"
      ],
      "metadata": {
        "id": "Y_ia4oDb1vfT"
      },
      "execution_count": null,
      "outputs": []
    },
    {
      "cell_type": "markdown",
      "source": [
        "### 문자열 내림차순으로 배치하기\n",
        "문자열 s에 나타나는 문자를 큰것부터 작은 순으로 정렬해 새로운 문자열을 리턴하는 함수, solution을 완성해주세요.\n",
        "s는 영문 대소문자로만 구성되어 있으며, 대문자는 소문자보다 작은 것으로 간주합니다."
      ],
      "metadata": {
        "id": "kjghCUcS2OSl"
      }
    },
    {
      "cell_type": "code",
      "source": [
        "def solution(s):\n",
        "    answer = ''\n",
        "    sort_s = sorted(s)\n",
        "    return answer.join(sort_s[::-1])"
      ],
      "metadata": {
        "id": "jvw3ppJ62Q9b"
      },
      "execution_count": null,
      "outputs": []
    },
    {
      "cell_type": "code",
      "source": [
        "# 다른 사람 풀이\n",
        "def solution(s):\n",
        "    return ''.join(sorted(s, reverse=True))"
      ],
      "metadata": {
        "id": "KuFgfk-H3eff"
      },
      "execution_count": null,
      "outputs": []
    },
    {
      "cell_type": "markdown",
      "source": [
        "### 행렬의 덧셈\n",
        "행렬의 덧셈은 행과 열의 크기가 같은 두 행렬의 같은 행, 같은 열의 값을 서로 더한 결과가 됩니다. 2개의 행렬 arr1과 arr2를 입력받아, 행렬 덧셈의 결과를 반환하는 함수, solution을 완성해주세요."
      ],
      "metadata": {
        "id": "8K6PlzWu8L7v"
      }
    },
    {
      "cell_type": "code",
      "source": [
        "def solution(arr1, arr2):\n",
        "    answer = [[]]\n",
        "    for i in range(len(arr1)):\n",
        "        for j in range(len(arr1[0])):\n",
        "            arr1[i][j] += arr2[i][j]\n",
        "    return arr1"
      ],
      "metadata": {
        "id": "VZKzufoK8Nhu"
      },
      "execution_count": null,
      "outputs": []
    },
    {
      "cell_type": "code",
      "source": [
        "import numpy as np\n",
        "def solution(arr1, arr2):\n",
        "    a1_np = np.array(arr1)\n",
        "    a2_np = np.array(arr2)\n",
        "    result = a1_np + a2_np\n",
        "    return result.tolist()"
      ],
      "metadata": {
        "id": "2eZPRHuQ8iMu"
      },
      "execution_count": null,
      "outputs": []
    },
    {
      "cell_type": "code",
      "source": [
        "# 다른 사람 풀이\n",
        "def sumMatrix(A,B):\n",
        "    answer = [[c + d for c, d in zip(a,b)] for a, b in zip(A,B)]\n",
        "    return answer"
      ],
      "metadata": {
        "id": "UUuXbMix8snm"
      },
      "execution_count": null,
      "outputs": []
    },
    {
      "cell_type": "markdown",
      "source": [
        "### 직사각형 별찍기\n"
      ],
      "metadata": {
        "id": "SiQQx2Ou8uwm"
      }
    },
    {
      "cell_type": "code",
      "source": [
        "a, b = map(int, input().strip().split(' '))\n",
        "\n",
        "for _ in range(b):\n",
        "    print('*' * a)"
      ],
      "metadata": {
        "id": "Kg6B5a2m8x3-"
      },
      "execution_count": null,
      "outputs": []
    },
    {
      "cell_type": "code",
      "source": [
        "# 다른 사람 풀이\n",
        "a, b = map(int, input().strip().split(' '))\n",
        "answer = ('*'*a +'\\n')*b\n",
        "print(answer)"
      ],
      "metadata": {
        "id": "vRtu3Ypn9ce3"
      },
      "execution_count": null,
      "outputs": []
    },
    {
      "cell_type": "markdown",
      "source": [
        "### 최대공약수와 최소공배수\n",
        "두 수를 입력받아 두 수의 최대공약수와 최소공배수를 반환하는 함수, solution을 완성해 보세요. 배열의 맨 앞에 최대공약수, 그다음 최소공배수를 넣어 반환하면 됩니다. 예를 들어 두 수 3, 12의 최대공약수는 3, 최소공배수는 12이므로 solution(3, 12)는 [3, 12]를 반환해야 합니다."
      ],
      "metadata": {
        "id": "z4Mtp3na9fJH"
      }
    },
    {
      "cell_type": "code",
      "source": [
        "def solution(n, m):\n",
        "    max_common = 0\n",
        "    for i in range(min(n, m), 0, -1):\n",
        "        if n % i == 0 and m % i == 0:\n",
        "            max_common = i\n",
        "            break\n",
        "            \n",
        "    for j in range(max(n, m), n*m+1):\n",
        "        if j % n == 0 and j % m == 0:\n",
        "            min_common = j\n",
        "            break\n",
        "            \n",
        "    return [max_common, min_common]"
      ],
      "metadata": {
        "id": "jei1MSPD9h2a"
      },
      "execution_count": null,
      "outputs": []
    },
    {
      "cell_type": "markdown",
      "source": [
        "### 이상한 문자 만들기\n",
        "문자열 s는 한 개 이상의 단어로 구성되어 있습니다. 각 단어는 하나 이상의 공백문자로 구분되어 있습니다. 각 단어의 짝수번째 알파벳은 대문자로, 홀수번째 알파벳은 소문자로 바꾼 문자열을 리턴하는 함수, solution을 완성하세요."
      ],
      "metadata": {
        "id": "0OPSvIR_xvy-"
      }
    },
    {
      "cell_type": "code",
      "source": [
        "def solution(s):\n",
        "    answer = ''\n",
        "    words = []\n",
        "    words = s.split(' ')\n",
        "    \n",
        "    for word in words:\n",
        "        for l in range(len(word)):\n",
        "            if l % 2 == 0:\n",
        "                answer += word[l].upper()\n",
        "            else:\n",
        "                answer += word[l].lower()\n",
        "        answer += ' '\n",
        "    \n",
        "    return answer[:-1]"
      ],
      "metadata": {
        "id": "ePqraLrNBMT1"
      },
      "execution_count": null,
      "outputs": []
    },
    {
      "cell_type": "code",
      "source": [
        "# 다른 사람 풀이\n",
        "def toWeirdCase(s):\n",
        "    return \" \".join(map(lambda x: \"\".join([a.lower() if i % 2 else a.upper() for i, a in enumerate(x)]), s.split(\" \")))"
      ],
      "metadata": {
        "id": "DmyfwiS2BPan"
      },
      "execution_count": null,
      "outputs": []
    },
    {
      "cell_type": "markdown",
      "source": [
        "### 시저 암호\n",
        "어떤 문장의 각 알파벳을 일정한 거리만큼 밀어서 다른 알파벳으로 바꾸는 암호화 방식을 시저 암호라고 합니다. 예를 들어 \"AB\"는 1만큼 밀면 \"BC\"가 되고, 3만큼 밀면 \"DE\"가 됩니다. \"z\"는 1만큼 밀면 \"a\"가 됩니다. 문자열 s와 거리 n을 입력받아 s를 n만큼 민 암호문을 만드는 함수, solution을 완성해 보세요."
      ],
      "metadata": {
        "id": "T-iM8ZFg58Xo"
      }
    },
    {
      "cell_type": "code",
      "source": [
        "def solution(s, n):\n",
        "    alpha_upper = 'ABCDEFGHIJKLMNOPQRSTUVWXYZ'\n",
        "    alpha_lower = 'abcdefghijklmnopqrstuvwxyz'\n",
        "\n",
        "    answer = ''\n",
        "\n",
        "    for i in s:\n",
        "        if i in alpha_upper:\n",
        "            if alpha_upper.index(i)+n >= len(alpha_upper):\n",
        "                answer += alpha_upper[alpha_upper.index(i)+n-26]\n",
        "            else:\n",
        "                answer += alpha_upper[alpha_upper.index(i)+n]\n",
        "        elif i in alpha_lower:\n",
        "            if alpha_lower.index(i)+n >= len(alpha_lower):\n",
        "                answer += alpha_lower[alpha_lower.index(i)+n-26]\n",
        "            else:\n",
        "                answer += alpha_lower[alpha_lower.index(i)+n]\n",
        "        elif i == ' ':\n",
        "            answer += ' '\n",
        "            \n",
        "    return answer"
      ],
      "metadata": {
        "id": "xxV41_eT5_wJ"
      },
      "execution_count": null,
      "outputs": []
    },
    {
      "cell_type": "code",
      "source": [
        "# 다른 사람 풀이\n",
        "def caesar(s, n):\n",
        "    s = list(s) # 문자열을 리스트로 변환 후\n",
        "    for i in range(len(s)):\n",
        "        if s[i].isupper(): # 대문자라면\n",
        "            s[i]=chr((ord(s[i])-ord('A')+ n)%26+ord('A'))\n",
        "        elif s[i].islower(): # 소문자라면\n",
        "            s[i]=chr((ord(s[i])-ord('a')+ n)%26+ord('a'))\n",
        "\n",
        "    return \"\".join(s)"
      ],
      "metadata": {
        "id": "1WlzbzxpAM9f"
      },
      "execution_count": null,
      "outputs": []
    },
    {
      "cell_type": "markdown",
      "source": [
        "파이썬 ord 함수, chr 함수:\n",
        "\n",
        "1) ord (문자): 하나의 문자를 인자로 받고 해당 문자에 해당하는 유니코드 정수 반환 (ex. ord('a') -> 97)\n",
        "\n",
        "2) chr (정수): 하나의 정수를 인자로 받고 해당 정수에 해당하는 유니코드 문자 반환 (ex. chr(97) -> 'a')\n",
        "- 인자(정수)의 유효 범위는 0 ~ 1,114,111 (16진수 0x10 FFFF)까지"
      ],
      "metadata": {
        "id": "vJX9xnewAqlk"
      }
    },
    {
      "cell_type": "code",
      "source": [
        "# 다른 사람 풀이\n",
        "def caesar(s, n):\n",
        "    lower_list = \"abcdefghijklmnopqrstuvwxyz\"\n",
        "    upper_list = \"ABCDEFGHIJKLMNOPQRSTUVWXYZ\"\n",
        "\n",
        "    result = []\n",
        "\n",
        "    for i in s:\n",
        "        if i is \" \":\n",
        "            result.append(\" \")\n",
        "        elif i.islower() is True: # 소문자라면\n",
        "            new_ = lower_list.find(i) + n\n",
        "            result.append(lower_list[new_ % 26]) # 나머지를 인덱스로 사용..\n",
        "        else:\n",
        "            new_ = upper_list.find(i) + n\n",
        "            result.append(upper_list[new_ % 26])\n",
        "    return \"\".join(result)\n"
      ],
      "metadata": {
        "id": "81XMrC3RAf91"
      },
      "execution_count": null,
      "outputs": []
    },
    {
      "cell_type": "markdown",
      "source": [
        "### 삼총사\n",
        "한국중학교에 다니는 학생들은 각자 정수 번호를 갖고 있습니다. 이 학교 학생 3명의 정수 번호를 더했을 때 0이 되면 3명의 학생은 삼총사라고 합니다. 예를 들어, 5명의 학생이 있고, 각각의 정수 번호가 순서대로 -2, 3, 0, 2, -5일 때, 첫 번째, 세 번째, 네 번째 학생의 정수 번호를 더하면 0이므로 세 학생은 삼총사입니다. 또한, 두 번째, 네 번째, 다섯 번째 학생의 정수 번호를 더해도 0이므로 세 학생도 삼총사입니다. 따라서 이 경우 한국중학교에서는 두 가지 방법으로 삼총사를 만들 수 있습니다.\n",
        "\n",
        "한국중학교 학생들의 번호를 나타내는 정수 배열 number가 매개변수로 주어질 때, 학생들 중 삼총사를 만들 수 있는 방법의 수를 return 하도록 solution 함수를 완성하세요.\n"
      ],
      "metadata": {
        "id": "ZaYJgb8L1M48"
      }
    },
    {
      "cell_type": "code",
      "source": [
        "def solution(number):\n",
        "    answer = 0\n",
        "    for i in range(len(number)-2):\n",
        "        for j in range(i+1, len(number)-1):\n",
        "            for k in range(j+1, len(number)):\n",
        "                if number[i] + number[j] + number[k] == 0:\n",
        "                    answer += 1\n",
        "            \n",
        "    return answer"
      ],
      "metadata": {
        "id": "6tQq1Frs1Ltm"
      },
      "execution_count": null,
      "outputs": []
    },
    {
      "cell_type": "code",
      "source": [
        "# 다른 사람 풀이 (itertools 모듈 사용)\n",
        "def solution (number) :\n",
        "    from itertools import combinations\n",
        "    cnt = 0\n",
        "    for i in combinations(number,3) :\n",
        "        if sum(i) == 0 :\n",
        "            cnt += 1\n",
        "    return cnt"
      ],
      "metadata": {
        "id": "60__3X3CAkQu"
      },
      "execution_count": null,
      "outputs": []
    },
    {
      "cell_type": "markdown",
      "source": [
        "### 문자열 내 마음대로 정렬하기\n",
        "문자열로 구성된 리스트 strings와, 정수 n이 주어졌을 때, 각 문자열의 인덱스 n번째 글자를 기준으로 오름차순 정렬하려 합니다. 예를 들어 strings가 [\"sun\", \"bed\", \"car\"]이고 n이 1이면 각 단어의 인덱스 1의 문자 \"u\", \"e\", \"a\"로 strings를 정렬합니다."
      ],
      "metadata": {
        "id": "7oe0eGDk7Ua7"
      }
    },
    {
      "cell_type": "code",
      "source": [
        "def solution(strings, n):\n",
        "    answer = sorted(strings, key=lambda x: (x[n], x))\n",
        "    return answer"
      ],
      "metadata": {
        "id": "hTyd80Ok7X4B"
      },
      "execution_count": null,
      "outputs": []
    },
    {
      "cell_type": "markdown",
      "source": [
        "### 크기가 작은 부분문자열\n",
        "숫자로 이루어진 문자열 t와 p가 주어질 때, t에서 p와 길이가 같은 부분문자열 중에서, 이 부분문자열이 나타내는 수가 p가 나타내는 수보다 작거나 같은 것이 나오는 횟수를 return하는 함수 solution을 완성하세요.\n",
        "\n",
        "예를 들어, t=\"3141592\"이고 p=\"271\" 인 경우, t의 길이가 3인 부분 문자열은 314, 141, 415, 159, 592입니다. 이 문자열이 나타내는 수 중 271보다 작거나 같은 수는 141, 159 2개 입니다."
      ],
      "metadata": {
        "id": "U14CrYcwPr43"
      }
    },
    {
      "cell_type": "code",
      "source": [
        "def solution(t, p):\n",
        "    answer = 0\n",
        "    for i in range(len(t)-len(p)+1):\n",
        "        if int(t[i:i+len(p)]) <= int(p):\n",
        "            answer += 1\n",
        "    return answer"
      ],
      "metadata": {
        "id": "mpv65m08PuRA"
      },
      "execution_count": null,
      "outputs": []
    },
    {
      "cell_type": "markdown",
      "source": [
        "### 콜라 문제\n",
        "오래전 유행했던 콜라 문제가 있습니다. 콜라 문제의 지문은 다음과 같습니다.\n",
        "\n",
        "- 정답은 아무에게도 말하지 마세요.\n",
        "- 콜라 빈 병 2개를 가져다주면 콜라 1병을 주는 마트가 있다. 빈 병 20개를 가져다주면 몇 병을 받을 수 있는가?\n",
        "- 단, 보유 중인 빈 병이 2개 미만이면, 콜라를 받을 수 없다.\n",
        "\n",
        "문제를 풀던 상빈이는 콜라 문제의 완벽한 해답을 찾았습니다. 상빈이가 푼 방법은 아래 그림과 같습니다. 우선 콜라 빈 병 20병을 가져가서 10병을 받습니다. 받은 10병을 모두 마신 뒤, 가져가서 5병을 받습니다. 5병 중 4병을 모두 마신 뒤 가져가서 2병을 받고, 또 2병을 모두 마신 뒤 가져가서 1병을 받습니다. 받은 1병과 5병을 받았을 때 남은 1병을 모두 마신 뒤 가져가면 1병을 또 받을 수 있습니다. 이 경우 상빈이는 총 10 + 5 + 2 + 1 + 1 = 19병의 콜라를 받을 수 있습니다.\n",
        "\n",
        "![image.png](data:image/png;base64,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)\n",
        "\n",
        "문제를 열심히 풀던 상빈이는 일반화된 콜라 문제를 생각했습니다. 이 문제는 빈 병 a개를 가져다주면 콜라 b병을 주는 마트가 있을 때, 빈 병 n개를 가져다주면 몇 병을 받을 수 있는지 계산하는 문제입니다. 기존 콜라 문제와 마찬가지로, 보유 중인 빈 병이 a개 미만이면, 추가적으로 빈 병을 받을 순 없습니다. 상빈이는 열심히 고심했지만, 일반화된 콜라 문제의 답을 찾을 수 없었습니다. 상빈이를 도와, 일반화된 콜라 문제를 해결하는 프로그램을 만들어 주세요.\n",
        "\n",
        "콜라를 받기 위해 마트에 주어야 하는 병 수 a, 빈 병 a개를 가져다 주면 마트가 주는 콜라 병 수 b, 상빈이가 가지고 있는 빈 병의 개수 n이 매개변수로 주어집니다. 상빈이가 받을 수 있는 콜라의 병 수를 return 하도록 solution 함수를 작성해주세요."
      ],
      "metadata": {
        "id": "p1AQ2Lc1Qg-b"
      }
    },
    {
      "cell_type": "code",
      "source": [
        "def solution(a, b, n):\n",
        "    answer = 0\n",
        "    total_get = 0\n",
        "\n",
        "    while n >= a:\n",
        "        get = (n // a) * b\n",
        "        left = n % a\n",
        "        total_get += get\n",
        "        n = get + left\n",
        "        \n",
        "    return total_get"
      ],
      "metadata": {
        "id": "fHZ53DUHQw5d"
      },
      "execution_count": null,
      "outputs": []
    },
    {
      "cell_type": "markdown",
      "source": [
        "### 푸드 파이트 대회\n",
        "수웅이는 매달 주어진 음식을 빨리 먹는 푸드 파이트 대회를 개최합니다. 이 대회에서 선수들은 1대 1로 대결하며, 매 대결마다 음식의 종류와 양이 바뀝니다. 대결은 준비된 음식들을 일렬로 배치한 뒤, 한 선수는 제일 왼쪽에 있는 음식부터 오른쪽으로, 다른 선수는 제일 오른쪽에 있는 음식부터 왼쪽으로 순서대로 먹는 방식으로 진행됩니다. 중앙에는 물을 배치하고, 물을 먼저 먹는 선수가 승리하게 됩니다.\n",
        "\n",
        "이때, 대회의 공정성을 위해 두 선수가 먹는 음식의 종류와 양이 같아야 하며, 음식을 먹는 순서도 같아야 합니다. 또한, 이번 대회부터는 칼로리가 낮은 음식을 먼저 먹을 수 있게 배치하여 선수들이 음식을 더 잘 먹을 수 있게 하려고 합니다. 이번 대회를 위해 수웅이는 음식을 주문했는데, 대회의 조건을 고려하지 않고 음식을 주문하여 몇 개의 음식은 대회에 사용하지 못하게 되었습니다.\n",
        "\n",
        "예를 들어, 3가지의 음식이 준비되어 있으며, 칼로리가 적은 순서대로 1번 음식을 3개, 2번 음식을 4개, 3번 음식을 6개 준비했으며, 물을 편의상 0번 음식이라고 칭한다면, 두 선수는 1번 음식 1개, 2번 음식 2개, 3번 음식 3개씩을 먹게 되므로 음식의 배치는 \"1223330333221\"이 됩니다. 따라서 1번 음식 1개는 대회에 사용하지 못합니다.\n",
        "\n",
        "수웅이가 준비한 음식의 양을 칼로리가 적은 순서대로 나타내는 정수 배열 food가 주어졌을 때, 대회를 위한 음식의 배치를 나타내는 문자열을 return 하는 solution 함수를 완성해주세요.\n"
      ],
      "metadata": {
        "id": "imIO7i-CFDOT"
      }
    },
    {
      "cell_type": "code",
      "source": [
        "def solution(food):\n",
        "    answer = ''\n",
        "    for_one = ''\n",
        "    for i in range(1, len(food)):\n",
        "        if food[i] % 2 ==0:\n",
        "            add_food = int(food[i]/2)\n",
        "            for_one += str(i) * add_food\n",
        "        else:\n",
        "            add_food = int((food[i]-1)/2)\n",
        "            for_one += str(i) * add_food\n",
        "    \n",
        "    answer = for_one + '0' + for_one[::-1]\n",
        "\n",
        "    return answer"
      ],
      "metadata": {
        "id": "ktksi2XZJVfV"
      },
      "execution_count": null,
      "outputs": []
    },
    {
      "cell_type": "code",
      "source": [
        "# 다른 사람 풀이\n",
        "def solution(food):\n",
        "    answer =\"0\"\n",
        "    for i in range(len(food)-1, 0,-1):\n",
        "        c = int(food[i]/2)\n",
        "        while c>0:\n",
        "            answer = str(i) + answer + str(i)\n",
        "            c -= 1\n",
        "    return answer"
      ],
      "metadata": {
        "id": "25-LOuh8JY-0"
      },
      "execution_count": null,
      "outputs": []
    },
    {
      "cell_type": "markdown",
      "source": [
        "### 2016년\n",
        "2016년 1월 1일은 금요일입니다. 2016년 a월 b일은 무슨 요일일까요? 두 수 a ,b를 입력받아 2016년 a월 b일이 무슨 요일인지 리턴하는 함수, solution을 완성하세요. 요일의 이름은 일요일부터 토요일까지 각각 SUN,MON,TUE,WED,THU,FRI,SAT\n",
        "입니다. 예를 들어 a=5, b=24라면 5월 24일은 화요일이므로 문자열 \"TUE\"를 반환하세요."
      ],
      "metadata": {
        "id": "-5T-PE3JJokv"
      }
    },
    {
      "cell_type": "code",
      "source": [
        "def solution(a, b):\n",
        "    answer = ''\n",
        "    day = ['THU', 'FRI', 'SAT', 'SUN', 'MON', 'TUE', 'WED']\n",
        "    num_days = [31, 29, 31, 30, 31, 30, 31, 31, 30, 31, 30, 31]\n",
        "    \n",
        "    day_sum = sum(num_days[:a-1]) + b\n",
        "    answer = day[day_sum % 7]\n",
        "    \n",
        "    return answer"
      ],
      "metadata": {
        "id": "MnBH76JxJqvg"
      },
      "execution_count": null,
      "outputs": []
    },
    {
      "cell_type": "markdown",
      "source": [
        "### 가장 가까운 같은 글자\n",
        "문자열 s가 주어졌을 때, s의 각 위치마다 자신보다 앞에 나왔으면서, 자신과 가장 가까운 곳에 있는 같은 글자가 어디 있는지 알고 싶습니다.\n",
        "예를 들어, s=\"banana\"라고 할 때,  각 글자들을 왼쪽부터 오른쪽으로 읽어 나가면서 다음과 같이 진행할 수 있습니다.\n",
        "- b는 처음 나왔기 때문에 자신의 앞에 같은 글자가 없습니다. 이는 -1로 표현합니다.\n",
        "- a는 처음 나왔기 때문에 자신의 앞에 같은 글자가 없습니다. 이는 -1로 표현합니다.\n",
        "- n은 처음 나왔기 때문에 자신의 앞에 같은 글자가 없습니다. 이는 -1로 표현합니다.\n",
        "- a는 자신보다 두 칸 앞에 a가 있습니다. 이는 2로 표현합니다.\n",
        "- n도 자신보다 두 칸 앞에 n이 있습니다. 이는 2로 표현합니다.\n",
        "- a는 자신보다 두 칸, 네 칸 앞에 a가 있습니다. 이 중 가까운 것은 두 칸 앞이고, 이는 2로 표현합니다.\n",
        "\n",
        "따라서 최종 결과물은 [-1, -1, -1, 2, 2, 2]가 됩니다.\n",
        "\n",
        "문자열 s이 주어질 때, 위와 같이 정의된 연산을 수행하는 함수 solution을 완성해주세요."
      ],
      "metadata": {
        "id": "KpPNluFayIG4"
      }
    },
    {
      "cell_type": "code",
      "source": [
        "def solution(s):\n",
        "    answer = []\n",
        "    word = ''\n",
        "    for i in range(len(s)):\n",
        "        word += s[i]\n",
        "        if s[i] not in word[:i]:\n",
        "            answer.append(-1)\n",
        "        else:\n",
        "            answer.append(i - word[:i].rfind(s[i]))\n",
        "    return answer"
      ],
      "metadata": {
        "id": "zblMCX0DyRmB"
      },
      "execution_count": null,
      "outputs": []
    },
    {
      "cell_type": "markdown",
      "source": [
        "### 소수 찾기\n",
        "1부터 입력받은 숫자 n 사이에 있는 소수의 개수를 반환하는 함수, solution을 만들어 보세요.\n",
        "소수는 1과 자기 자신으로만 나누어지는 수를 의미합니다.\n",
        "(1은 소수가 아닙니다.)"
      ],
      "metadata": {
        "id": "3IW41r0MqOMh"
      }
    },
    {
      "cell_type": "code",
      "source": [
        "def solution(n):\n",
        "    answer = 0\n",
        "\n",
        "    for i in range(2, n+1):\n",
        "        for j in range(2, int(i**0.5)+1):\n",
        "            if i % j == 0:\n",
        "                break\n",
        "        else:\n",
        "            answer += 1\n",
        "                \n",
        "    return answer"
      ],
      "metadata": {
        "id": "MW4-tNdnqQex"
      },
      "execution_count": null,
      "outputs": []
    },
    {
      "cell_type": "code",
      "source": [
        "# 다른 사람 풀이\n",
        "def solution(n):\n",
        "    num=set(range(2,n+1))\n",
        "    for i in range(2,n+1):\n",
        "        if i in num:\n",
        "            num-=set(range(2*i,n+1,i))\n",
        "    return len(num)"
      ],
      "metadata": {
        "id": "OehWi2XC0-gc"
      },
      "execution_count": null,
      "outputs": []
    },
    {
      "cell_type": "markdown",
      "source": [
        "### 과일 장수\n",
        "과일 장수가 사과 상자를 포장하고 있습니다. 사과는 상태에 따라 1점부터 k점까지의 점수로 분류하며, k점이 최상품의 사과이고 1점이 최하품의 사과입니다. 사과 한 상자의 가격은 다음과 같이 결정됩니다.\n",
        "- 한 상자에 사과를 m개씩 담아 포장합니다.\n",
        "- 상자에 담긴 사과 중 가장 낮은 점수가 p (1 ≤ p ≤ k)점인 경우, 사과 한 상자의 가격은 p * m 입니다.\n",
        "\n",
        "과일 장수가 가능한 많은 사과를 팔았을 때, 얻을 수 있는 최대 이익을 계산하고자 합니다.(사과는 상자 단위로만 판매하며, 남는 사과는 버립니다)\n",
        "\n",
        "예를 들어, k = 3, m = 4, 사과 7개의 점수가 [1, 2, 3, 1, 2, 3, 1]이라면, 다음과 같이 [2, 3, 2, 3]으로 구성된 사과 상자 1개를 만들어 판매하여 최대 이익을 얻을 수 있습니다.\n",
        "- (최저 사과 점수) x (한 상자에 담긴 사과 개수) x (상자의 개수) = 2 x 4 x 1 = 8\n",
        "\n",
        "사과의 최대 점수 k, 한 상자에 들어가는 사과의 수 m, 사과들의 점수 score가 주어졌을 때, 과일 장수가 얻을 수 있는 최대 이익을 return하는 solution 함수를 완성해주세요."
      ],
      "metadata": {
        "id": "WJ-BUaTQFzUa"
      }
    },
    {
      "cell_type": "code",
      "source": [
        "def solution(k, m, score):\n",
        "    answer = 0\n",
        "    box = []\n",
        "    apple_quality = sorted(score, reverse=True)\n",
        "    \n",
        "    for ex in range((len(score)//m)):\n",
        "        box.append(apple_quality[m * ex: m * (ex+1)])\n",
        "    \n",
        "    for i in box:\n",
        "        answer += min(i) * m\n",
        "\n",
        "    return answer"
      ],
      "metadata": {
        "id": "xWG6WYNgF_IC"
      },
      "execution_count": null,
      "outputs": []
    },
    {
      "cell_type": "code",
      "source": [
        "# 다른 사람 풀이\n",
        "def solution(k, m, score):\n",
        "    return sum(sorted(score)[len(score)%m::m])*m"
      ],
      "metadata": {
        "id": "A_2hZVI_IdWA"
      },
      "execution_count": null,
      "outputs": []
    },
    {
      "cell_type": "markdown",
      "source": [
        "## 월간 코드 챌린지 시즌1"
      ],
      "metadata": {
        "id": "ZycS6hJjdk_C"
      }
    },
    {
      "cell_type": "markdown",
      "source": [
        "### 내적\n",
        "길이가 같은 두 1차원 정수 배열 a, b가 매개변수로 주어집니다. a와 b의 내적을 return 하도록 solution 함수를 완성해주세요.\n",
        "\n",
        "이때, a와 b의 내적은 a[0]*b[0] + a[1]*b[1] + ... + a[n-1]*b[n-1] 입니다. (n은 a, b의 길이)"
      ],
      "metadata": {
        "id": "dXtK5jpx100i"
      }
    },
    {
      "cell_type": "code",
      "source": [
        "def solution(a, b):\n",
        "    answer = sum([a[i]*b[i] for i in range(len(a))])\n",
        "    return answer"
      ],
      "metadata": {
        "id": "aTTDCUap2FGR"
      },
      "execution_count": null,
      "outputs": []
    },
    {
      "cell_type": "code",
      "source": [
        "# 다른 사람 풀이\n",
        "def solution(a, b):\n",
        "    return sum([x*y for x, y in zip(a,b)]) # zip 활용"
      ],
      "metadata": {
        "id": "GHjEjSiw2IMD"
      },
      "execution_count": null,
      "outputs": []
    },
    {
      "cell_type": "markdown",
      "source": [
        "### 3진법 뒤집기\n",
        "자연수 n이 매개변수로 주어집니다. n을 3진법 상에서 앞뒤로 뒤집은 후, 이를 다시 10진법으로 표현한 수를 return 하도록 solution 함수를 완성해주세요."
      ],
      "metadata": {
        "id": "pqYIWeyokASx"
      }
    },
    {
      "cell_type": "code",
      "source": [
        "def solution(n):\n",
        "\n",
        "    base_reversed = ''\n",
        "    while n > 0:\n",
        "        n, mod = divmod(n, 3)\n",
        "        base_reversed += str(mod)\n",
        "        \n",
        "    answer = int(base_reversed, 3)\n",
        "        \n",
        "    return answer"
      ],
      "metadata": {
        "id": "wTq87-o3kC2D"
      },
      "execution_count": null,
      "outputs": []
    },
    {
      "cell_type": "code",
      "source": [
        "# 다른 사람 풀이\n",
        "def solution(n):\n",
        "    tmp = ''\n",
        "    while n:\n",
        "        tmp += str(n % 3)\n",
        "        n = n // 3\n",
        "\n",
        "    answer = int(tmp, 3)\n",
        "    return answer"
      ],
      "metadata": {
        "id": "5iKuJttVxoma"
      },
      "execution_count": null,
      "outputs": []
    },
    {
      "cell_type": "markdown",
      "source": [
        "### 두 개 뽑아서 더하기\n",
        "정수 배열 numbers가 주어집니다. numbers에서 서로 다른 인덱스에 있는 두 개의 수를 뽑아 더해서 만들 수 있는 모든 수를 배열에 오름차순으로 담아 return 하도록 solution 함수를 완성해주세요."
      ],
      "metadata": {
        "id": "NypvsxFnOE4m"
      }
    },
    {
      "cell_type": "code",
      "source": [
        "def solution(numbers):\n",
        "    answer = []\n",
        "    for i in range(len(numbers)-1):\n",
        "        for j in range(i+1, len(numbers)):\n",
        "            answer.append(numbers[i]+numbers[j])\n",
        "    \n",
        "    \n",
        "    return sorted(list(set(answer)))"
      ],
      "metadata": {
        "id": "FqeBzc79OH20"
      },
      "execution_count": null,
      "outputs": []
    },
    {
      "cell_type": "markdown",
      "source": [
        "## 월간 코드 챌린지 시즌2"
      ],
      "metadata": {
        "id": "EAfNj_RzdhgR"
      }
    },
    {
      "cell_type": "markdown",
      "source": [
        "### 음양 더하기\n",
        "어떤 정수들이 있습니다. 이 정수들의 절댓값을 차례대로 담은 정수 배열 absolutes와 이 정수들의 부호를 차례대로 담은 불리언 배열 signs가 매개변수로 주어집니다. 실제 정수들의 합을 구하여 return 하도록 solution 함수를 완성해주세요."
      ],
      "metadata": {
        "id": "stIx1mWiRqtd"
      }
    },
    {
      "cell_type": "code",
      "source": [
        "def solution(absolutes, signs):\n",
        "\n",
        "    for i in range(len(signs)):\n",
        "        if signs[i] == False:\n",
        "            absolutes[i] = absolutes[i] * -1\n",
        "\n",
        "    answer = sum(absolutes)\n",
        "    return answer"
      ],
      "metadata": {
        "id": "y87FWyyBRu2-"
      },
      "execution_count": null,
      "outputs": []
    },
    {
      "cell_type": "code",
      "source": [
        "# 다른 사람 풀이\n",
        "def solution(absolutes, signs):\n",
        "    answer = 0\n",
        "    \n",
        "    for i in range(len(absolutes)):\n",
        "        if (signs[i] == True):\n",
        "            answer += absolutes[i]\n",
        "        else:\n",
        "            answer -= absolutes[i]\n",
        "            \n",
        "    return answer"
      ],
      "metadata": {
        "id": "nworR9SkUvc6"
      },
      "execution_count": null,
      "outputs": []
    },
    {
      "cell_type": "markdown",
      "source": [
        "### 제일 작은 수 제거하기\n",
        "정수를 저장한 배열, arr 에서 가장 작은 수를 제거한 배열을 리턴하는 함수, solution을 완성해주세요. 단, 리턴하려는 배열이 빈 배열인 경우엔 배열에 -1을 채워 리턴하세요. 예를들어 arr이 [4,3,2,1]인 경우는 [4,3,2]를 리턴 하고, [10]면 [-1]을 리턴 합니다."
      ],
      "metadata": {
        "id": "YrkvXIK7U2zO"
      }
    },
    {
      "cell_type": "code",
      "source": [
        "def solution(arr):\n",
        "    answer = []\n",
        "\n",
        "    arr.remove(min(arr))\n",
        "    answer = arr\n",
        "    \n",
        "    if len(arr) == 0:\n",
        "        answer = [-1]\n",
        "\n",
        "    return answer"
      ],
      "metadata": {
        "id": "okP4mlQDU5vH"
      },
      "execution_count": null,
      "outputs": []
    },
    {
      "cell_type": "markdown",
      "source": [
        "### 약수의 개수와 덧셈\n",
        "두 정수 left와 right가 매개변수로 주어집니다. left부터 right까지의 모든 수들 중에서, 약수의 개수가 짝수인 수는 더하고, 약수의 개수가 홀수인 수는 뺀 수를 return 하도록 solution 함수를 완성해주세요."
      ],
      "metadata": {
        "id": "EKPoWxDQ3krY"
      }
    },
    {
      "cell_type": "code",
      "source": [
        "def solution(left, right):\n",
        "    answer = 0\n",
        "    for i in range(left, right+1):\n",
        "        element = [j for j in range(1, i+1) if i % j == 0]\n",
        "        if len(element) % 2 == 0:\n",
        "            answer += i\n",
        "        else:\n",
        "            answer -= i\n",
        "    return answer"
      ],
      "metadata": {
        "id": "78tXy0Ts3znE"
      },
      "execution_count": null,
      "outputs": []
    },
    {
      "cell_type": "code",
      "source": [
        "# 다른 사람 풀이\n",
        "def solution(left, right):\n",
        "    answer = 0\n",
        "    for i in range(left,right+1):\n",
        "        if int(i**0.5)==i**0.5:\n",
        "            answer -= i\n",
        "        else:\n",
        "            answer += i\n",
        "    return answer\n"
      ],
      "metadata": {
        "id": "5yRApt1F6jIJ"
      },
      "execution_count": null,
      "outputs": []
    },
    {
      "cell_type": "markdown",
      "source": [
        "### 문자열 다루기 기본\n",
        "문자열 s의 길이가 4 혹은 6이고, 숫자로만 구성돼있는지 확인해주는 함수, solution을 완성하세요. 예를 들어 s가 \"a234\"이면 False를 리턴하고 \"1234\"라면 True를 리턴하면 됩니다."
      ],
      "metadata": {
        "id": "5BKL4uQr1k31"
      }
    },
    {
      "cell_type": "code",
      "source": [
        "def solution(s):\n",
        "    answer = False\n",
        "    if (len(s) == 4 or len(s) == 6) and s.isdigit():\n",
        "        answer = True\n",
        "    return answer"
      ],
      "metadata": {
        "id": "uP1kGrFy16yG"
      },
      "execution_count": null,
      "outputs": []
    },
    {
      "cell_type": "markdown",
      "source": [
        "## 월간 코드 챌린지 시즌3"
      ],
      "metadata": {
        "id": "BN3AnCPaddbN"
      }
    },
    {
      "cell_type": "markdown",
      "source": [
        "### 나머지가 1이 되는 수 찾기\n",
        "자연수 n이 매개변수로 주어집니다. n을 x로 나눈 나머지가 1이 되도록 하는 가장 작은 자연수 x를 return 하도록 solution 함수를 완성해주세요. 답이 항상 존재함은 증명될 수 있습니다."
      ],
      "metadata": {
        "id": "iIz-pK6IgkyW"
      }
    },
    {
      "cell_type": "code",
      "source": [
        "def solution(n):\n",
        "    answer = 0\n",
        "    for i in range(1, n):\n",
        "        if n % i == 1:\n",
        "            answer = i\n",
        "            break\n",
        "    return answer"
      ],
      "metadata": {
        "id": "xP6tze2kdf81"
      },
      "execution_count": null,
      "outputs": []
    },
    {
      "cell_type": "markdown",
      "source": [
        "### 없는 숫자 더하기\n",
        "0부터 9까지의 숫자 중 일부가 들어있는 정수 배열 numbers가 매개변수로 주어집니다. numbers에서 찾을 수 없는 0부터 9까지의 숫자를 모두 찾아 더한 수를 return 하도록 solution 함수를 완성해주세요."
      ],
      "metadata": {
        "id": "lJ_Q61WnWFU0"
      }
    },
    {
      "cell_type": "code",
      "source": [
        "def solution(numbers):\n",
        "\n",
        "    zero_to_nine = [0, 1, 2, 3, 4, 5, 6, 7, 8, 9]\n",
        "    answer = sum([i for i in zero_to_nine if i not in numbers])\n",
        "    return answer"
      ],
      "metadata": {
        "id": "jrgyCpPQWGj6"
      },
      "execution_count": null,
      "outputs": []
    },
    {
      "cell_type": "code",
      "source": [
        "# 다른 사람 풀이\n",
        "solution = lambda x: sum(range(10)) - sum(x)"
      ],
      "metadata": {
        "id": "9GhHKSqMWuDT"
      },
      "execution_count": null,
      "outputs": []
    },
    {
      "cell_type": "markdown",
      "source": [
        "## 위클리 챌린지"
      ],
      "metadata": {
        "id": "liunW_b62CpE"
      }
    },
    {
      "cell_type": "markdown",
      "source": [
        "### 부족한 금액 계산하기\n",
        "새로 생긴 놀이기구는 인기가 매우 많아 줄이 끊이질 않습니다. 이 놀이기구의 원래 이용료는 price원 인데, 놀이기구를 N 번 째 이용한다면 원래 이용료의 N배를 받기로 하였습니다. 즉, 처음 이용료가 100이었다면 2번째에는 200, 3번째에는 300으로 요금이 인상됩니다.\n",
        "놀이기구를 count번 타게 되면 현재 자신이 가지고 있는 금액에서 얼마가 모자라는지를 return 하도록 solution 함수를 완성하세요.\n",
        "단, 금액이 부족하지 않으면 0을 return 하세요."
      ],
      "metadata": {
        "id": "8HT7VYfR2EOR"
      }
    },
    {
      "cell_type": "code",
      "source": [
        "def solution(price, money, count):\n",
        "\n",
        "    total_price = sum([price * i for i in range(1, count+1)])\n",
        "\n",
        "    if total_price >= money:\n",
        "        answer = total_price - money\n",
        "    else:\n",
        "        answer = 0\n",
        "        \n",
        "\n",
        "    return answer"
      ],
      "metadata": {
        "id": "tHrMRVlJ2D3O"
      },
      "execution_count": null,
      "outputs": []
    },
    {
      "cell_type": "code",
      "source": [
        "# 다른 사람 풀이\n",
        "def solution(price, money, count):\n",
        "    return max(0,price*(count+1)*count//2-money)"
      ],
      "metadata": {
        "id": "pcEck6bp3jqQ"
      },
      "execution_count": null,
      "outputs": []
    },
    {
      "cell_type": "markdown",
      "source": [
        "## 스택/큐"
      ],
      "metadata": {
        "id": "pyC6v9wGBSMK"
      }
    },
    {
      "cell_type": "markdown",
      "source": [
        "### 같은 숫자는 싫어\n",
        "배열 arr가 주어집니다. 배열 arr의 각 원소는 숫자 0부터 9까지로 이루어져 있습니다. 이때, 배열 arr에서 연속적으로 나타나는 숫자는 하나만 남기고 전부 제거하려고 합니다. 단, 제거된 후 남은 수들을 반환할 때는 배열 arr의 원소들의 순서를 유지해야 합니다. 예를 들면,\n",
        "- arr = [1, 1, 3, 3, 0, 1, 1] 이면 [1, 3, 0, 1] 을 return 합니다.\n",
        "- arr = [4, 4, 4, 3, 3] 이면 [4, 3] 을 return 합니다.\n",
        "\n",
        "배열 arr에서 연속적으로 나타나는 숫자는 제거하고 남은 수들을 return 하는 solution 함수를 완성해 주세요."
      ],
      "metadata": {
        "id": "Z3etqe52BTne"
      }
    },
    {
      "cell_type": "code",
      "source": [
        "def solution(arr):\n",
        "    answer = [arr[0]]\n",
        "    for i in arr:\n",
        "        if i == answer[-1]:\n",
        "            continue\n",
        "        else:\n",
        "            answer.append(i)\n",
        "    return answer"
      ],
      "metadata": {
        "id": "jNfgUVNuBTVT"
      },
      "execution_count": null,
      "outputs": []
    },
    {
      "cell_type": "code",
      "source": [
        "# 다른 사람 풀이\n",
        "def no_continuous(s):\n",
        "    result = []\n",
        "    for c in s:\n",
        "        if len(result) == 0 or result[-1] != c:\n",
        "            result.append(c)\n",
        "\n",
        "    return result"
      ],
      "metadata": {
        "id": "3uSFPW7qC4B6"
      },
      "execution_count": null,
      "outputs": []
    },
    {
      "cell_type": "code",
      "source": [
        "def no_continuous(s):\n",
        "    a = []\n",
        "    for i in s:\n",
        "        if a[-1:] == [i]: continue # 비어있는 배열에 [-1:] 가능 (그냥 [-1]은 인덱싱 오류 발생)\n",
        "        a.append(i)\n",
        "    return a"
      ],
      "metadata": {
        "id": "AfBQJSq5C-2h"
      },
      "execution_count": null,
      "outputs": []
    },
    {
      "cell_type": "markdown",
      "source": [
        "## 완전탐색"
      ],
      "metadata": {
        "id": "EOnT6AG4BBIU"
      }
    },
    {
      "cell_type": "markdown",
      "source": [
        "### 최소직사각형\n",
        "명함 지갑을 만드는 회사에서 지갑의 크기를 정하려고 합니다. 다양한 모양과 크기의 명함들을 모두 수납할 수 있으면서, 작아서 들고 다니기 편한 지갑을 만들어야 합니다. 이러한 요건을 만족하는 지갑을 만들기 위해 디자인팀은 모든 명함의 가로 길이와 세로 길이를 조사했습니다.\n",
        "아래 표는 4가지 명함의 가로 길이와 세로 길이를 나타냅니다.\n",
        "\n",
        "(명함번호, 가로길이, 세로길이)\n",
        "\n",
        "(1, 60, 50)\n",
        "(2, 30, 70)\n",
        "(3, 60, 30)\n",
        "(4, 80, 40)\n",
        "\n",
        "가장 긴 가로 길이와 세로 길이가 각각 80, 70이기 때문에 80(가로) x 70(세로) 크기의 지갑을 만들면 모든 명함들을 수납할 수 있습니다. 하지만 2번 명함을 가로로 눕혀 수납한다면 80(가로) x 50(세로) 크기의 지갑으로 모든 명함들을 수납할 수 있습니다. 이때의 지갑 크기는 4000(=80 x 50)입니다.\n",
        "모든 명함의 가로 길이와 세로 길이를 나타내는 2차원 배열 sizes가 매개변수로 주어집니다. 모든 명함을 수납할 수 있는 가장 작은 지갑을 만들 때, 지갑의 크기를 return 하도록 solution 함수를 완성해주세요."
      ],
      "metadata": {
        "id": "bR18dW3nBCe3"
      }
    },
    {
      "cell_type": "code",
      "source": [
        "def solution(sizes):\n",
        "    answer = 0\n",
        "    aligned_sizes = [[min(w,h), max(w,h)] for w,h in sizes]\n",
        "    max_width = max([i[0] for i in aligned_sizes])\n",
        "    max_height = max([i[1] for i in aligned_sizes])\n",
        "    \n",
        "    answer = max_width * max_height\n",
        "\n",
        "    return answer"
      ],
      "metadata": {
        "id": "WeEhI8bKBEan"
      },
      "execution_count": null,
      "outputs": []
    },
    {
      "cell_type": "code",
      "source": [
        "# 다른 사람 풀이\n",
        "def solution(sizes):\n",
        "    return max(max(x) for x in sizes) * max(min(x) for x in sizes)"
      ],
      "metadata": {
        "id": "WM2fKvVTO-g4"
      },
      "execution_count": null,
      "outputs": []
    },
    {
      "cell_type": "code",
      "source": [
        "# 다른 사람 풀이\n",
        "def solution(sizes):\n",
        "    row = 0\n",
        "    col = 0\n",
        "    for a, b in sizes:\n",
        "        if a < b:\n",
        "            a, b = b, a\n",
        "        row = max(row, a)\n",
        "        col = max(col, b)\n",
        "    return row * col"
      ],
      "metadata": {
        "id": "dUjGPsTVPJTE"
      },
      "execution_count": null,
      "outputs": []
    },
    {
      "cell_type": "markdown",
      "source": [
        "### 모의고사\n",
        "수포자는 수학을 포기한 사람의 준말입니다. 수포자 삼인방은 모의고사에 수학 문제를 전부 찍으려 합니다. 수포자는 1번 문제부터 마지막 문제까지 다음과 같이 찍습니다.\n",
        "\n",
        "1번 수포자가 찍는 방식: 1, 2, 3, 4, 5, 1, 2, 3, 4, 5, ...\n",
        "\n",
        "2번 수포자가 찍는 방식: 2, 1, 2, 3, 2, 4, 2, 5, 2, 1, 2, 3, 2, 4, 2, 5, ...\n",
        "\n",
        "3번 수포자가 찍는 방식: 3, 3, 1, 1, 2, 2, 4, 4, 5, 5, 3, 3, 1, 1, 2, 2, 4, 4, 5, 5, ...\n",
        "\n",
        "1번 문제부터 마지막 문제까지의 정답이 순서대로 들은 배열 answers가 주어졌을 때, 가장 많은 문제를 맞힌 사람이 누구인지 배열에 담아 return 하도록 solution 함수를 작성해주세요."
      ],
      "metadata": {
        "id": "4B4s71NIdBH0"
      }
    },
    {
      "cell_type": "code",
      "source": [
        "def solution(answers):\n",
        "    answer = [0, 0, 0]\n",
        "\n",
        "    stu_one = '12345'*len(answers)\n",
        "    stu_two = '21232425'*len(answers)\n",
        "    stu_three = '3311224455'*len(answers)\n",
        "    \n",
        "    for i in range(len(answers)):\n",
        "        if answers[i] == int(stu_one[i]):\n",
        "            answer[0] += 1\n",
        "        if answers[i] == int(stu_two[i]):\n",
        "            answer[1] += 1\n",
        "        if answers[i] == int(stu_three[i]):\n",
        "            answer[2] += 1\n",
        "\n",
        "    score = []\n",
        "    for i in range(len(answer)):\n",
        "        if answer[i] == max(answer):\n",
        "            score.append(i+1)\n",
        "\n",
        "\n",
        "    return score"
      ],
      "metadata": {
        "id": "jOAnJBhxdHLc"
      },
      "execution_count": null,
      "outputs": []
    },
    {
      "cell_type": "code",
      "source": [
        "# 다른 사람 풀이\n",
        "def solution(answers):\n",
        "\n",
        "    pattern1 = [1,2,3,4,5]\n",
        "    pattern2 = [2,1,2,3,2,4,2,5]\n",
        "    pattern3 = [3,3,1,1,2,2,4,4,5,5]\n",
        "\n",
        "    score = [0, 0, 0]\n",
        "    \n",
        "    result = []\n",
        "\n",
        "    for idx, answer in enumerate(answers):\n",
        "        if answer == pattern1[idx%len(pattern1)]:\n",
        "            score[0] += 1\n",
        "        if answer == pattern2[idx%len(pattern2)]:\n",
        "            score[1] += 1\n",
        "        if answer == pattern3[idx%len(pattern3)]:\n",
        "            score[2] += 1\n",
        "\n",
        "    for idx, s in enumerate(score):\n",
        "        if s == max(score):\n",
        "            result.append(idx+1)\n",
        "\n",
        "    return result"
      ],
      "metadata": {
        "id": "DzM9YKQiLSxe"
      },
      "execution_count": null,
      "outputs": []
    },
    {
      "cell_type": "markdown",
      "source": [
        "## 정렬"
      ],
      "metadata": {
        "id": "3d8K9DVe86JH"
      }
    },
    {
      "cell_type": "markdown",
      "source": [
        "### K번째 수\n",
        "배열 array의 i번째 숫자부터 j번째 숫자까지 자르고 정렬했을 때, k번째에 있는 수를 구하려 합니다.\n",
        "예를 들어 array가 [1, 5, 2, 6, 3, 7, 4], i = 2, j = 5, k = 3이라면\n",
        "1. array의 2번째부터 5번째까지 자르면 [5, 2, 6, 3]입니다.\n",
        "2. 1에서 나온 배열을 정렬하면 [2, 3, 5, 6]입니다.\n",
        "3. 2에서 나온 배열의 3번째 숫자는 5입니다.\n",
        "\n",
        "배열 array, [i, j, k]를 원소로 가진 2차원 배열 commands가 매개변수로 주어질 때, commands의 모든 원소에 대해 앞서 설명한 연산을 적용했을 때 나온 결과를 배열에 담아 return 하도록 solution 함수를 작성해주세요."
      ],
      "metadata": {
        "id": "f-AIZUzJ89QR"
      }
    },
    {
      "cell_type": "code",
      "source": [
        "def solution(array, commands):\n",
        "    answer = []\n",
        "    for i in commands:\n",
        "        num = sorted(array[i[0]-1:i[1]])[i[2]-1]\n",
        "        answer.append(num)\n",
        "    return answer"
      ],
      "metadata": {
        "id": "6E7dzQ9S9DTJ"
      },
      "execution_count": null,
      "outputs": []
    },
    {
      "cell_type": "code",
      "source": [
        "# 다른 사람 풀이\n",
        "def solution(array, commands):\n",
        "    return list(map(lambda x:sorted(array[x[0]-1:x[1]])[x[2]-1], commands))"
      ],
      "metadata": {
        "id": "9F7VJbo-95oM"
      },
      "execution_count": null,
      "outputs": []
    },
    {
      "cell_type": "markdown",
      "source": [
        "## 해시"
      ],
      "metadata": {
        "id": "tZKXFch_nAfR"
      }
    },
    {
      "cell_type": "markdown",
      "source": [
        "### 포켓몬\n",
        "당신은 폰켓몬을 잡기 위한 오랜 여행 끝에, 홍 박사님의 연구실에 도착했습니다. 홍 박사님은 당신에게 자신의 연구실에 있는 총 N 마리의 폰켓몬 중에서 N/2마리를 가져가도 좋다고 했습니다.\n",
        "홍 박사님 연구실의 폰켓몬은 종류에 따라 번호를 붙여 구분합니다. 따라서 같은 종류의 폰켓몬은 같은 번호를 가지고 있습니다. 예를 들어 연구실에 총 4마리의 폰켓몬이 있고, 각 폰켓몬의 종류 번호가 [3번, 1번, 2번, 3번]이라면 이는 3번 폰켓몬 두 마리, 1번 폰켓몬 한 마리, 2번 폰켓몬 한 마리가 있음을 나타냅니다. 이때, 4마리의 폰켓몬 중 2마리를 고르는 방법은 다음과 같이 6가지가 있습니다.\n",
        "1. 첫 번째(3번), 두 번째(1번) 폰켓몬을 선택\n",
        "2. 첫 번째(3번), 세 번째(2번) 폰켓몬을 선택\n",
        "3. 첫 번째(3번), 네 번째(3번) 폰켓몬을 선택\n",
        "4. 두 번째(1번), 세 번째(2번) 폰켓몬을 선택\n",
        "5. 두 번째(1번), 네 번째(3번) 폰켓몬을 선택\n",
        "6. 세 번째(2번), 네 번째(3번) 폰켓몬을 선택\n",
        "\n",
        "이때, 첫 번째(3번) 폰켓몬과 네 번째(3번) 폰켓몬을 선택하는 방법은 한 종류(3번 폰켓몬 두 마리)의 폰켓몬만 가질 수 있지만, 다른 방법들은 모두 두 종류의 폰켓몬을 가질 수 있습니다. 따라서 위 예시에서 가질 수 있는 폰켓몬 종류 수의 최댓값은 2가 됩니다.\n",
        "당신은 최대한 다양한 종류의 폰켓몬을 가지길 원하기 때문에, 최대한 많은 종류의 폰켓몬을 포함해서 N/2마리를 선택하려 합니다. N마리 폰켓몬의 종류 번호가 담긴 배열 nums가 매개변수로 주어질 때, N/2마리의 폰켓몬을 선택하는 방법 중, 가장 많은 종류의 폰켓몬을 선택하는 방법을 찾아, 그때의 폰켓몬 종류 번호의 개수를 return 하도록 solution 함수를 완성해주세요."
      ],
      "metadata": {
        "id": "P-YzGkHLnB0p"
      }
    },
    {
      "cell_type": "code",
      "source": [
        "def solution(nums):\n",
        "    answer = 0\n",
        "    unique_nums = set(nums)\n",
        "\n",
        "    if len(unique_nums) <= int(len(nums)/2):\n",
        "        answer = len(unique_nums)\n",
        "    else:\n",
        "        answer = int(len(nums)/2)\n",
        "        \n",
        "    return answer"
      ],
      "metadata": {
        "id": "5uhxGdJpnBJh"
      },
      "execution_count": null,
      "outputs": []
    },
    {
      "cell_type": "code",
      "source": [
        "# 다른 사람 풀이\n",
        "def solution(ls):\n",
        "    return min(len(ls)/2, len(set(ls)))"
      ],
      "metadata": {
        "id": "boBBMIGmqIr0"
      },
      "execution_count": null,
      "outputs": []
    },
    {
      "cell_type": "markdown",
      "source": [
        "## Summer/Winter Coding(~2018)"
      ],
      "metadata": {
        "id": "0cN4RMBHBb4Q"
      }
    },
    {
      "cell_type": "markdown",
      "source": [
        "### 예산\n",
        "S사에서는 각 부서에 필요한 물품을 지원해 주기 위해 부서별로 물품을 구매하는데 필요한 금액을 조사했습니다. 그러나, 전체 예산이 정해져 있기 때문에 모든 부서의 물품을 구매해 줄 수는 없습니다. 그래서 최대한 많은 부서의 물품을 구매해 줄 수 있도록 하려고 합니다.\n",
        "\n",
        "물품을 구매해 줄 때는 각 부서가 신청한 금액만큼을 모두 지원해 줘야 합니다. 예를 들어 1,000원을 신청한 부서에는 정확히 1,000원을 지원해야 하며, 1,000원보다 적은 금액을 지원해 줄 수는 없습니다.\n",
        "\n",
        "부서별로 신청한 금액이 들어있는 배열 d와 예산 budget이 매개변수로 주어질 때, 최대 몇 개의 부서에 물품을 지원할 수 있는지 return 하도록 solution 함수를 완성해주세요."
      ],
      "metadata": {
        "id": "Jh_QPEK9BeVN"
      }
    },
    {
      "cell_type": "code",
      "source": [
        "def solution(d, budget):\n",
        "    answer = 0\n",
        "    d.sort()\n",
        "    for i in range(len(d)):\n",
        "        if d[i] <= budget:\n",
        "            budget -= d[i]\n",
        "            answer += 1\n",
        "        else:\n",
        "            break\n",
        "        \n",
        "    return answer"
      ],
      "metadata": {
        "id": "hJJVaD-iBdxa"
      },
      "execution_count": null,
      "outputs": []
    },
    {
      "cell_type": "code",
      "source": [
        "# 다른 사람 풀이\n",
        "def solution(d, budget):\n",
        "    d.sort()\n",
        "    while budget < sum(d):\n",
        "        d.pop()\n",
        "    return len(d)"
      ],
      "metadata": {
        "id": "wfxksL2F5oxo"
      },
      "execution_count": null,
      "outputs": []
    },
    {
      "cell_type": "markdown",
      "source": [
        "### 소수 만들기\n",
        "주어진 숫자 중 3개의 수를 더했을 때 소수가 되는 경우의 개수를 구하려고 합니다. 숫자들이 들어있는 배열 nums가 매개변수로 주어질 때, nums에 있는 숫자들 중 서로 다른 3개를 골라 더했을 때 소수가 되는 경우의 개수를 return 하도록 solution 함수를 완성해주세요.\n"
      ],
      "metadata": {
        "id": "5o949erCL-yd"
      }
    },
    {
      "cell_type": "code",
      "source": [
        "def prime(n):\n",
        "    for i in range(2, int(n**0.5)+1):\n",
        "        if n % i == 0:\n",
        "            return False\n",
        "    return True\n",
        "\n",
        "def solution(nums):\n",
        "    answer = 0\n",
        "    \n",
        "    for i in range(len(nums)-2):\n",
        "        for j in range(i+1, len(nums)-1):\n",
        "            for k in range(j+1, len(nums)):\n",
        "                if prime(nums[i]+nums[j]+nums[k]):\n",
        "                    answer += 1\n",
        "\n",
        "    return answer"
      ],
      "metadata": {
        "id": "s9hcGOpNMChe"
      },
      "execution_count": null,
      "outputs": []
    },
    {
      "cell_type": "code",
      "source": [
        "# 다른 사람 풀이\n",
        "def solution(nums):\n",
        "    from itertools import combinations as cb\n",
        "    answer = 0\n",
        "    for a in cb(nums, 3):\n",
        "        cand = sum(a)\n",
        "        for j in range(2, cand):\n",
        "            if cand%j==0:\n",
        "                break\n",
        "        else:\n",
        "            answer += 1\n",
        "    return answer"
      ],
      "metadata": {
        "id": "L64LGnFSFrqU"
      },
      "execution_count": null,
      "outputs": []
    },
    {
      "cell_type": "markdown",
      "source": [
        "## 2021 카카오 채용연게형 인턴십\n",
        "네오와 프로도가 숫자놀이를 하고 있습니다. 네오가 프로도에게 숫자를 건넬 때 일부 자릿수를 영단어로 바꾼 카드를 건네주면 프로도는 원래 숫자를 찾는 게임입니다.\n",
        "\n",
        "다음은 숫자의 일부 자릿수를 영단어로 바꾸는 예시입니다.\n",
        "- 1478 → \"one4seveneight\"\n",
        "- 234567 → \"23four5six7\"\n",
        "- 10203 → \"1zerotwozero3\"\n",
        "\n",
        "이렇게 숫자의 일부 자릿수가 영단어로 바뀌어졌거나, 혹은 바뀌지 않고 그대로인 문자열 s가 매개변수로 주어집니다. s가 의미하는 원래 숫자를 return 하도록 solution 함수를 완성해주세요."
      ],
      "metadata": {
        "id": "TMPbyjoQG62m"
      }
    },
    {
      "cell_type": "code",
      "source": [
        "def solution(s):\n",
        "    for num, eng in enumerate([\"zero\", \"one\", \"two\", \"three\", \"four\", \"five\", \"six\", \"seven\", \"eight\", \"nine\"]):\n",
        "        s = s.replace(eng, str(num))\n",
        "    return int(s)"
      ],
      "metadata": {
        "id": "P8I6dHiKHBzs"
      },
      "execution_count": null,
      "outputs": []
    },
    {
      "cell_type": "markdown",
      "source": [
        "## 2018 KAKAO BLIND RECRUITMENT"
      ],
      "metadata": {
        "id": "E8EN9WfkPuDh"
      }
    },
    {
      "cell_type": "markdown",
      "source": [
        "### [1차] 비밀지도\n",
        "네오는 평소 프로도가 비상금을 숨겨놓는 장소를 알려줄 비밀지도를 손에 넣었다. 그런데 이 비밀지도는 숫자로 암호화되어 있어 위치를 확인하기 위해서는 암호를 해독해야 한다. 다행히 지도 암호를 해독할 방법을 적어놓은 메모도 함께 발견했다.\n",
        "\n",
        "1. 지도는 한 변의 길이가 n인 정사각형 배열 형태로, 각 칸은 \"공백\"(\" \") 또는 \"벽\"(\"#\") 두 종류로 이루어져 있다.\n",
        "2. 전체 지도는 두 장의 지도를 겹쳐서 얻을 수 있다. 각각 \"지도 1\"과 \"지도 2\"라고 하자. 지도 1 또는 지도 2 중 어느 하나라도 벽인 부분은 전체 지도에서도 벽이다. 지도 1과 지도 2에서 모두 공백인 부분은 전체 지도에서도 공백이다.\n",
        "3. \"지도 1\"과 \"지도 2\"는 각각 정수 배열로 암호화되어 있다.\n",
        "4. 암호화된 배열은 지도의 각 가로줄에서 벽 부분을 1, 공백 부분을 0으로 부호화했을 때 얻어지는 이진수에 해당하는 값의 배열이다.\n",
        "\n",
        "![image.png](data:image/png;base64,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)\n",
        "\n",
        "네오가 프로도의 비상금을 손에 넣을 수 있도록, 비밀지도의 암호를 해독하는 작업을 도와줄 프로그램을 작성하라."
      ],
      "metadata": {
        "id": "pJuYk8HUPxB4"
      }
    },
    {
      "cell_type": "code",
      "source": [
        "def solution(n, arr1, arr2):\n",
        "    answer = []\n",
        "    \n",
        "    binary1 = []\n",
        "    binary2 = []\n",
        "    for i in arr1:\n",
        "        if len(bin(i).replace('0b', ''))==n:\n",
        "            binary1.append(bin(i).replace('0b', ''))\n",
        "        else:\n",
        "            binary1.append(bin(i).replace('0b', '').zfill(n))\n",
        "    for i in arr2:\n",
        "        if len(bin(i).replace('0b', ''))==n:\n",
        "            binary2.append(bin(i).replace('0b', ''))\n",
        "        else:\n",
        "            binary2.append(bin(i).replace('0b', '').zfill(n))\n",
        "\n",
        "\n",
        "    for i in range(len(binary1)):\n",
        "        line = ''\n",
        "        for j in range(n):\n",
        "            if binary1[i][j] == '0' and binary2[i][j] == '0':\n",
        "                line += ' '\n",
        "            else:\n",
        "                line += '#'\n",
        "        answer.append(line)\n",
        "\n",
        "\n",
        "    return answer"
      ],
      "metadata": {
        "id": "4BC4bXyRPwk7"
      },
      "execution_count": null,
      "outputs": []
    },
    {
      "cell_type": "code",
      "source": [
        "# 다른 사람 풀이\n",
        "def solution(n, arr1, arr2):\n",
        "    answer = []\n",
        "    for i,j in zip(arr1,arr2): # 두 리스트에서 같은 원소끼리 다룰 땐 zip을 써보자...\n",
        "        a12 = str(bin(i|j)[2:]) # | 연산자: 자릿수가 하나라도 1이면 1 출력, 아니면 0 출력\n",
        "        a12=a12.rjust(n,'0')\n",
        "        a12=a12.replace('1','#')\n",
        "        a12=a12.replace('0',' ')\n",
        "        answer.append(a12)\n",
        "    return answer"
      ],
      "metadata": {
        "id": "1qk35jlk6R7H"
      },
      "execution_count": null,
      "outputs": []
    }
  ]
}